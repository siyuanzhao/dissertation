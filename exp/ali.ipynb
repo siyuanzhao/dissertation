{
 "cells": [
  {
   "cell_type": "code",
   "execution_count": 1,
   "metadata": {
    "collapsed": true
   },
   "outputs": [],
   "source": [
    "import pandas as pd"
   ]
  },
  {
   "cell_type": "code",
   "execution_count": 31,
   "metadata": {
    "collapsed": false
   },
   "outputs": [],
   "source": [
    "post_df = pd.read_csv('PSA2KKZ-12-12-2017-22-25-35-Posttest.csv')"
   ]
  },
  {
   "cell_type": "code",
   "execution_count": 32,
   "metadata": {
    "collapsed": false
   },
   "outputs": [
    {
     "data": {
      "text/html": [
       "<div>\n",
       "<table border=\"1\" class=\"dataframe\">\n",
       "  <thead>\n",
       "    <tr style=\"text-align: right;\">\n",
       "      <th></th>\n",
       "      <th>User ID</th>\n",
       "      <th>Number All Problems in Posttest</th>\n",
       "      <th>Number Complete Problems in Posttest</th>\n",
       "      <th>Number Correct Problems in Posttest</th>\n",
       "      <th>Assigment Completed</th>\n",
       "      <th>Condition</th>\n",
       "    </tr>\n",
       "  </thead>\n",
       "  <tbody>\n",
       "    <tr>\n",
       "      <th>0</th>\n",
       "      <td>407038</td>\n",
       "      <td>2</td>\n",
       "      <td>2.0</td>\n",
       "      <td>1.0</td>\n",
       "      <td>1.0</td>\n",
       "      <td>control</td>\n",
       "    </tr>\n",
       "    <tr>\n",
       "      <th>1</th>\n",
       "      <td>247285</td>\n",
       "      <td>2</td>\n",
       "      <td>NaN</td>\n",
       "      <td>NaN</td>\n",
       "      <td>NaN</td>\n",
       "      <td>control</td>\n",
       "    </tr>\n",
       "    <tr>\n",
       "      <th>2</th>\n",
       "      <td>404316</td>\n",
       "      <td>2</td>\n",
       "      <td>2.0</td>\n",
       "      <td>0.0</td>\n",
       "      <td>1.0</td>\n",
       "      <td>control</td>\n",
       "    </tr>\n",
       "    <tr>\n",
       "      <th>3</th>\n",
       "      <td>414017</td>\n",
       "      <td>2</td>\n",
       "      <td>2.0</td>\n",
       "      <td>1.0</td>\n",
       "      <td>1.0</td>\n",
       "      <td>control</td>\n",
       "    </tr>\n",
       "    <tr>\n",
       "      <th>4</th>\n",
       "      <td>407148</td>\n",
       "      <td>2</td>\n",
       "      <td>NaN</td>\n",
       "      <td>NaN</td>\n",
       "      <td>NaN</td>\n",
       "      <td>control</td>\n",
       "    </tr>\n",
       "  </tbody>\n",
       "</table>\n",
       "</div>"
      ],
      "text/plain": [
       "   User ID  Number All Problems in Posttest  \\\n",
       "0   407038                                2   \n",
       "1   247285                                2   \n",
       "2   404316                                2   \n",
       "3   414017                                2   \n",
       "4   407148                                2   \n",
       "\n",
       "   Number Complete Problems in Posttest  Number Correct Problems in Posttest  \\\n",
       "0                                   2.0                                  1.0   \n",
       "1                                   NaN                                  NaN   \n",
       "2                                   2.0                                  0.0   \n",
       "3                                   2.0                                  1.0   \n",
       "4                                   NaN                                  NaN   \n",
       "\n",
       "   Assigment Completed Condition  \n",
       "0                  1.0   control  \n",
       "1                  NaN   control  \n",
       "2                  1.0   control  \n",
       "3                  1.0   control  \n",
       "4                  NaN   control  "
      ]
     },
     "execution_count": 32,
     "metadata": {},
     "output_type": "execute_result"
    }
   ],
   "source": [
    "post_df.head()"
   ]
  },
  {
   "cell_type": "code",
   "execution_count": 40,
   "metadata": {
    "collapsed": false
   },
   "outputs": [
    {
     "data": {
      "text/plain": [
       "2.0    142\n",
       "1.0     94\n",
       "0.0     93\n",
       "Name: Number Correct Problems in Posttest, dtype: int64"
      ]
     },
     "execution_count": 40,
     "metadata": {},
     "output_type": "execute_result"
    }
   ],
   "source": [
    "post_df['Number Correct Problems in Posttest'].value_counts()"
   ]
  },
  {
   "cell_type": "code",
   "execution_count": 36,
   "metadata": {
    "collapsed": false
   },
   "outputs": [
    {
     "data": {
      "text/plain": [
       "462"
      ]
     },
     "execution_count": 36,
     "metadata": {},
     "output_type": "execute_result"
    }
   ],
   "source": [
    "len(post_df)"
   ]
  },
  {
   "cell_type": "code",
   "execution_count": 33,
   "metadata": {
    "collapsed": true
   },
   "outputs": [],
   "source": [
    "feature_df = pd.read_csv('PSA2KKZ-12-12-2017-22-25-35-PriorStudentFeatureLevel.csv')"
   ]
  },
  {
   "cell_type": "code",
   "execution_count": 34,
   "metadata": {
    "collapsed": false
   },
   "outputs": [
    {
     "data": {
      "text/plain": [
       "Index([u'User ID', u'Prior Problem Count', u'Prior Correct Count',\n",
       "       u'Prior Percent Correct', u'Class ID', u'Class Section ID',\n",
       "       u'Class Grade', u'Teacher ID', u'Guessed Gender', u'Birthyear',\n",
       "       u'Location ID', u'Role Type', u'Location Type', u'School ID',\n",
       "       u'District ID', u'State ID', u'Prior Assignments Assigned',\n",
       "       u'Prior Assignment Count', u'Prior Completion Count',\n",
       "       u'Prior Percent Completion', u'Prior Class Percent Completion',\n",
       "       u'Z-Scored Mastery Speed', u'Prior Homework Assigned',\n",
       "       u'Prior Homework Count', u'Prior Homework Completion Count',\n",
       "       u'Prior Homework Percent Completion',\n",
       "       u'Prior Class Homework Percent Completion',\n",
       "       u'Z-Scored HW Mastery Speed'],\n",
       "      dtype='object')"
      ]
     },
     "execution_count": 34,
     "metadata": {},
     "output_type": "execute_result"
    }
   ],
   "source": [
    "feature_df.columns"
   ]
  },
  {
   "cell_type": "code",
   "execution_count": 38,
   "metadata": {
    "collapsed": false
   },
   "outputs": [
    {
     "data": {
      "text/plain": [
       "1902"
      ]
     },
     "execution_count": 38,
     "metadata": {},
     "output_type": "execute_result"
    }
   ],
   "source": [
    "len(feature_df['User ID'].unique())"
   ]
  },
  {
   "cell_type": "code",
   "execution_count": 35,
   "metadata": {
    "collapsed": false
   },
   "outputs": [
    {
     "data": {
      "text/html": [
       "<div>\n",
       "<table border=\"1\" class=\"dataframe\">\n",
       "  <thead>\n",
       "    <tr style=\"text-align: right;\">\n",
       "      <th></th>\n",
       "      <th>User ID</th>\n",
       "      <th>Prior Problem Count</th>\n",
       "      <th>Prior Correct Count</th>\n",
       "      <th>Prior Percent Correct</th>\n",
       "      <th>Class ID</th>\n",
       "      <th>Class Section ID</th>\n",
       "      <th>Class Grade</th>\n",
       "      <th>Teacher ID</th>\n",
       "      <th>Guessed Gender</th>\n",
       "      <th>Birthyear</th>\n",
       "      <th>...</th>\n",
       "      <th>Prior Completion Count</th>\n",
       "      <th>Prior Percent Completion</th>\n",
       "      <th>Prior Class Percent Completion</th>\n",
       "      <th>Z-Scored Mastery Speed</th>\n",
       "      <th>Prior Homework Assigned</th>\n",
       "      <th>Prior Homework Count</th>\n",
       "      <th>Prior Homework Completion Count</th>\n",
       "      <th>Prior Homework Percent Completion</th>\n",
       "      <th>Prior Class Homework Percent Completion</th>\n",
       "      <th>Z-Scored HW Mastery Speed</th>\n",
       "    </tr>\n",
       "  </thead>\n",
       "  <tbody>\n",
       "    <tr>\n",
       "      <th>0</th>\n",
       "      <td>152644</td>\n",
       "      <td>390.0</td>\n",
       "      <td>205.0</td>\n",
       "      <td>0.525641</td>\n",
       "      <td>45643</td>\n",
       "      <td>90692.0</td>\n",
       "      <td>\"Junior\"</td>\n",
       "      <td>55469</td>\n",
       "      <td>\"Female\"</td>\n",
       "      <td>\"1999\"</td>\n",
       "      <td>...</td>\n",
       "      <td>8.0</td>\n",
       "      <td>0.727273</td>\n",
       "      <td>0.825000</td>\n",
       "      <td>-0.367860</td>\n",
       "      <td>NaN</td>\n",
       "      <td>NaN</td>\n",
       "      <td>NaN</td>\n",
       "      <td>NaN</td>\n",
       "      <td>NaN</td>\n",
       "      <td>NaN</td>\n",
       "    </tr>\n",
       "    <tr>\n",
       "      <th>1</th>\n",
       "      <td>152918</td>\n",
       "      <td>418.0</td>\n",
       "      <td>269.0</td>\n",
       "      <td>0.643541</td>\n",
       "      <td>45643</td>\n",
       "      <td>90692.0</td>\n",
       "      <td>\"Junior\"</td>\n",
       "      <td>55469</td>\n",
       "      <td>\"Uknown\"</td>\n",
       "      <td>\"1999\"</td>\n",
       "      <td>...</td>\n",
       "      <td>8.0</td>\n",
       "      <td>0.727273</td>\n",
       "      <td>0.825000</td>\n",
       "      <td>-0.691456</td>\n",
       "      <td>NaN</td>\n",
       "      <td>NaN</td>\n",
       "      <td>NaN</td>\n",
       "      <td>NaN</td>\n",
       "      <td>NaN</td>\n",
       "      <td>NaN</td>\n",
       "    </tr>\n",
       "    <tr>\n",
       "      <th>2</th>\n",
       "      <td>169659</td>\n",
       "      <td>6012.0</td>\n",
       "      <td>5162.0</td>\n",
       "      <td>0.858616</td>\n",
       "      <td>43305</td>\n",
       "      <td>84738.0</td>\n",
       "      <td>\"7\"</td>\n",
       "      <td>156298</td>\n",
       "      <td>\"Male\"</td>\n",
       "      <td>\"\"</td>\n",
       "      <td>...</td>\n",
       "      <td>7.0</td>\n",
       "      <td>1.000000</td>\n",
       "      <td>0.968254</td>\n",
       "      <td>-0.405616</td>\n",
       "      <td>NaN</td>\n",
       "      <td>NaN</td>\n",
       "      <td>NaN</td>\n",
       "      <td>NaN</td>\n",
       "      <td>NaN</td>\n",
       "      <td>NaN</td>\n",
       "    </tr>\n",
       "    <tr>\n",
       "      <th>3</th>\n",
       "      <td>175885</td>\n",
       "      <td>2560.0</td>\n",
       "      <td>2135.0</td>\n",
       "      <td>0.833984</td>\n",
       "      <td>43510</td>\n",
       "      <td>85247.0</td>\n",
       "      <td>\"N/A\"</td>\n",
       "      <td>238140</td>\n",
       "      <td>\"Male\"</td>\n",
       "      <td>\"2002\"</td>\n",
       "      <td>...</td>\n",
       "      <td>0.0</td>\n",
       "      <td>0.000000</td>\n",
       "      <td>0.956044</td>\n",
       "      <td>-1.178511</td>\n",
       "      <td>NaN</td>\n",
       "      <td>NaN</td>\n",
       "      <td>NaN</td>\n",
       "      <td>NaN</td>\n",
       "      <td>NaN</td>\n",
       "      <td>NaN</td>\n",
       "    </tr>\n",
       "    <tr>\n",
       "      <th>4</th>\n",
       "      <td>220423</td>\n",
       "      <td>314.0</td>\n",
       "      <td>170.0</td>\n",
       "      <td>0.541401</td>\n",
       "      <td>43895</td>\n",
       "      <td>86203.0</td>\n",
       "      <td>\"N/A\"</td>\n",
       "      <td>109523</td>\n",
       "      <td>\"Male\"</td>\n",
       "      <td>\"1998\"</td>\n",
       "      <td>...</td>\n",
       "      <td>13.0</td>\n",
       "      <td>1.000000</td>\n",
       "      <td>0.971014</td>\n",
       "      <td>0.135642</td>\n",
       "      <td>NaN</td>\n",
       "      <td>NaN</td>\n",
       "      <td>NaN</td>\n",
       "      <td>NaN</td>\n",
       "      <td>NaN</td>\n",
       "      <td>NaN</td>\n",
       "    </tr>\n",
       "  </tbody>\n",
       "</table>\n",
       "<p>5 rows × 28 columns</p>\n",
       "</div>"
      ],
      "text/plain": [
       "   User ID  Prior Problem Count  Prior Correct Count  Prior Percent Correct  \\\n",
       "0   152644                390.0                205.0               0.525641   \n",
       "1   152918                418.0                269.0               0.643541   \n",
       "2   169659               6012.0               5162.0               0.858616   \n",
       "3   175885               2560.0               2135.0               0.833984   \n",
       "4   220423                314.0                170.0               0.541401   \n",
       "\n",
       "   Class ID  Class Section ID Class Grade  Teacher ID Guessed Gender  \\\n",
       "0     45643           90692.0    \"Junior\"       55469       \"Female\"   \n",
       "1     45643           90692.0    \"Junior\"       55469       \"Uknown\"   \n",
       "2     43305           84738.0         \"7\"      156298         \"Male\"   \n",
       "3     43510           85247.0       \"N/A\"      238140         \"Male\"   \n",
       "4     43895           86203.0       \"N/A\"      109523         \"Male\"   \n",
       "\n",
       "  Birthyear            ...              Prior Completion Count  \\\n",
       "0    \"1999\"            ...                                 8.0   \n",
       "1    \"1999\"            ...                                 8.0   \n",
       "2        \"\"            ...                                 7.0   \n",
       "3    \"2002\"            ...                                 0.0   \n",
       "4    \"1998\"            ...                                13.0   \n",
       "\n",
       "  Prior Percent Completion Prior Class Percent Completion  \\\n",
       "0                 0.727273                       0.825000   \n",
       "1                 0.727273                       0.825000   \n",
       "2                 1.000000                       0.968254   \n",
       "3                 0.000000                       0.956044   \n",
       "4                 1.000000                       0.971014   \n",
       "\n",
       "   Z-Scored Mastery Speed  Prior Homework Assigned  Prior Homework Count  \\\n",
       "0               -0.367860                      NaN                   NaN   \n",
       "1               -0.691456                      NaN                   NaN   \n",
       "2               -0.405616                      NaN                   NaN   \n",
       "3               -1.178511                      NaN                   NaN   \n",
       "4                0.135642                      NaN                   NaN   \n",
       "\n",
       "   Prior Homework Completion Count  Prior Homework Percent Completion  \\\n",
       "0                              NaN                                NaN   \n",
       "1                              NaN                                NaN   \n",
       "2                              NaN                                NaN   \n",
       "3                              NaN                                NaN   \n",
       "4                              NaN                                NaN   \n",
       "\n",
       "   Prior Class Homework Percent Completion  Z-Scored HW Mastery Speed  \n",
       "0                                      NaN                        NaN  \n",
       "1                                      NaN                        NaN  \n",
       "2                                      NaN                        NaN  \n",
       "3                                      NaN                        NaN  \n",
       "4                                      NaN                        NaN  \n",
       "\n",
       "[5 rows x 28 columns]"
      ]
     },
     "execution_count": 35,
     "metadata": {},
     "output_type": "execute_result"
    }
   ],
   "source": [
    "feature_df.head()"
   ]
  },
  {
   "cell_type": "code",
   "execution_count": 46,
   "metadata": {
    "collapsed": false
   },
   "outputs": [],
   "source": [
    "joined_df = post_df.join(feature_df, on='User ID', lsuffix='a', rsuffix='b')"
   ]
  },
  {
   "cell_type": "code",
   "execution_count": 47,
   "metadata": {
    "collapsed": false
   },
   "outputs": [
    {
     "data": {
      "text/plain": [
       "462"
      ]
     },
     "execution_count": 47,
     "metadata": {},
     "output_type": "execute_result"
    }
   ],
   "source": [
    "len(joined_df)"
   ]
  },
  {
   "cell_type": "code",
   "execution_count": 48,
   "metadata": {
    "collapsed": true
   },
   "outputs": [],
   "source": [
    "student_df = pd.read_csv('PSA2KKZ-12-12-2017-22-25-35-StudentLevelWithScaffolds.csv')"
   ]
  },
  {
   "cell_type": "code",
   "execution_count": 53,
   "metadata": {
    "collapsed": false
   },
   "outputs": [],
   "source": [
    "for ite in student_df.columns.tolist():\n",
    "    if 'condition' in ite:\n",
    "        print ite"
   ]
  }
 ],
 "metadata": {
  "kernelspec": {
   "display_name": "Python 2",
   "language": "python",
   "name": "python2"
  },
  "language_info": {
   "codemirror_mode": {
    "name": "ipython",
    "version": 2
   },
   "file_extension": ".py",
   "mimetype": "text/x-python",
   "name": "python",
   "nbconvert_exporter": "python",
   "pygments_lexer": "ipython2",
   "version": "2.7.12"
  }
 },
 "nbformat": 4,
 "nbformat_minor": 2
}
