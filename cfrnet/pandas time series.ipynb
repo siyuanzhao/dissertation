{
 "cells": [
  {
   "cell_type": "code",
   "execution_count": 1,
   "metadata": {
    "collapsed": true
   },
   "outputs": [],
   "source": [
    "import pandas as pd"
   ]
  },
  {
   "cell_type": "code",
   "execution_count": 27,
   "metadata": {
    "collapsed": true
   },
   "outputs": [],
   "source": [
    "import numpy as np"
   ]
  },
  {
   "cell_type": "code",
   "execution_count": 2,
   "metadata": {
    "collapsed": true
   },
   "outputs": [],
   "source": [
    "df = pd.read_csv('sample.csv')"
   ]
  },
  {
   "cell_type": "code",
   "execution_count": 3,
   "metadata": {
    "collapsed": false
   },
   "outputs": [
    {
     "data": {
      "text/html": [
       "<div>\n",
       "<table border=\"1\" class=\"dataframe\">\n",
       "  <thead>\n",
       "    <tr style=\"text-align: right;\">\n",
       "      <th></th>\n",
       "      <th>client</th>\n",
       "      <th>time</th>\n",
       "      <th>v1</th>\n",
       "      <th>v2</th>\n",
       "    </tr>\n",
       "  </thead>\n",
       "  <tbody>\n",
       "    <tr>\n",
       "      <th>0</th>\n",
       "      <td>1</td>\n",
       "      <td>1</td>\n",
       "      <td>7</td>\n",
       "      <td>1</td>\n",
       "    </tr>\n",
       "    <tr>\n",
       "      <th>1</th>\n",
       "      <td>1</td>\n",
       "      <td>2</td>\n",
       "      <td>3</td>\n",
       "      <td>8</td>\n",
       "    </tr>\n",
       "    <tr>\n",
       "      <th>2</th>\n",
       "      <td>1</td>\n",
       "      <td>3</td>\n",
       "      <td>2</td>\n",
       "      <td>7</td>\n",
       "    </tr>\n",
       "    <tr>\n",
       "      <th>3</th>\n",
       "      <td>1</td>\n",
       "      <td>4</td>\n",
       "      <td>7</td>\n",
       "      <td>3</td>\n",
       "    </tr>\n",
       "    <tr>\n",
       "      <th>4</th>\n",
       "      <td>1</td>\n",
       "      <td>5</td>\n",
       "      <td>7</td>\n",
       "      <td>6</td>\n",
       "    </tr>\n",
       "  </tbody>\n",
       "</table>\n",
       "</div>"
      ],
      "text/plain": [
       "   client  time  v1  v2\n",
       "0       1     1   7   1\n",
       "1       1     2   3   8\n",
       "2       1     3   2   7\n",
       "3       1     4   7   3\n",
       "4       1     5   7   6"
      ]
     },
     "execution_count": 3,
     "metadata": {},
     "output_type": "execute_result"
    }
   ],
   "source": [
    "df.head()"
   ]
  },
  {
   "cell_type": "code",
   "execution_count": 4,
   "metadata": {
    "collapsed": true
   },
   "outputs": [],
   "source": [
    "df.set_index('time', inplace=True)"
   ]
  },
  {
   "cell_type": "code",
   "execution_count": 5,
   "metadata": {
    "collapsed": true
   },
   "outputs": [],
   "source": [
    "g = df.groupby('client')"
   ]
  },
  {
   "cell_type": "code",
   "execution_count": null,
   "metadata": {
    "collapsed": false
   },
   "outputs": [],
   "source": [
    "for name,group in g:\n",
    "    print name\n",
    "    print group[[\"v1\", \"v2\"]]\n",
    "    print '*'*10"
   ]
  },
  {
   "cell_type": "code",
   "execution_count": 24,
   "metadata": {
    "collapsed": false
   },
   "outputs": [
    {
     "data": {
      "text/plain": [
       "array([[7, 1],\n",
       "       [3, 8],\n",
       "       [2, 7],\n",
       "       [7, 3],\n",
       "       [7, 6]])"
      ]
     },
     "execution_count": 24,
     "metadata": {},
     "output_type": "execute_result"
    }
   ],
   "source": [
    "g.get_group(1).iloc[:, 1:].as_matrix()"
   ]
  },
  {
   "cell_type": "code",
   "execution_count": 16,
   "metadata": {
    "collapsed": false
   },
   "outputs": [],
   "source": [
    "l = df['client'].unique().tolist()\n",
    "l = [1,2,3,4,5,6,7]"
   ]
  },
  {
   "cell_type": "code",
   "execution_count": 17,
   "metadata": {
    "collapsed": true
   },
   "outputs": [],
   "source": [
    "chunks = [l[x:x+3] for x in xrange(0, len(l), 3)]"
   ]
  },
  {
   "cell_type": "code",
   "execution_count": 18,
   "metadata": {
    "collapsed": false
   },
   "outputs": [
    {
     "name": "stdout",
     "output_type": "stream",
     "text": [
      "[[1, 2, 3], [4, 5, 6], [7]]\n"
     ]
    }
   ],
   "source": [
    "print chunks"
   ]
  },
  {
   "cell_type": "code",
   "execution_count": 32,
   "metadata": {
    "collapsed": false
   },
   "outputs": [],
   "source": [
    "for c in chunks:\n",
    "    l = []\n",
    "    max_len = 0\n",
    "    for ite in c:\n",
    "        cnt = g.get_group(ite).iloc[:, 1:].as_matrix().shape[0]\n",
    "        if max_len < cnt:\n",
    "            max_len = cnt\n",
    "    for ite in c:\n",
    "        m = g.get_group(ite).iloc[:, 1:].as_matrix()\n",
    "        diff = max_len - m.shape[0]\n",
    "        l.append(np.pad(m, ((0,diff), (0,0)), mode='constant', constant_values=0))\n",
    "        #l.append(g.get_group(ite).iloc[:, 1:].as_matrix())\n",
    "    break"
   ]
  },
  {
   "cell_type": "code",
   "execution_count": 29,
   "metadata": {
    "collapsed": false
   },
   "outputs": [
    {
     "name": "stdout",
     "output_type": "stream",
     "text": [
      "[array([[7, 1],\n",
      "       [3, 8],\n",
      "       [2, 7],\n",
      "       [7, 3],\n",
      "       [7, 6]]), array([[6, 7],\n",
      "       [8, 5],\n",
      "       [1, 7],\n",
      "       [2, 8],\n",
      "       [9, 1],\n",
      "       [1, 1]]), array([[7, 1],\n",
      "       [3, 8],\n",
      "       [2, 7]])]\n"
     ]
    }
   ],
   "source": [
    "print l"
   ]
  },
  {
   "cell_type": "code",
   "execution_count": 33,
   "metadata": {
    "collapsed": false
   },
   "outputs": [],
   "source": [
    "batch = np.stack(l, axis=0)"
   ]
  },
  {
   "cell_type": "code",
   "execution_count": 36,
   "metadata": {
    "collapsed": false
   },
   "outputs": [
    {
     "data": {
      "text/plain": [
       "(3, 6, 2)"
      ]
     },
     "execution_count": 36,
     "metadata": {},
     "output_type": "execute_result"
    }
   ],
   "source": [
    "batch.shape"
   ]
  },
  {
   "cell_type": "code",
   "execution_count": 52,
   "metadata": {
    "collapsed": false
   },
   "outputs": [],
   "source": [
    "pl_df = pd.read_csv('../LSTM-autoencoder/22_problem_logs_seq.csv')"
   ]
  },
  {
   "cell_type": "code",
   "execution_count": 53,
   "metadata": {
    "collapsed": false,
    "scrolled": true
   },
   "outputs": [
    {
     "data": {
      "text/html": [
       "<div>\n",
       "<table border=\"1\" class=\"dataframe\">\n",
       "  <thead>\n",
       "    <tr style=\"text-align: right;\">\n",
       "      <th></th>\n",
       "      <th>id</th>\n",
       "      <th>assignment_id</th>\n",
       "      <th>user_id</th>\n",
       "      <th>assistment_id</th>\n",
       "      <th>problem_id</th>\n",
       "      <th>original</th>\n",
       "      <th>correct</th>\n",
       "      <th>answer_id</th>\n",
       "      <th>answer_text</th>\n",
       "      <th>first_action</th>\n",
       "      <th>...</th>\n",
       "      <th>actions</th>\n",
       "      <th>tutor_strategy_id</th>\n",
       "      <th>tutor_mode</th>\n",
       "      <th>assignment_type</th>\n",
       "      <th>teacher_comment</th>\n",
       "      <th>network_state</th>\n",
       "      <th>path_info</th>\n",
       "      <th>discrete_score</th>\n",
       "      <th>updated_at</th>\n",
       "      <th>sequence_id</th>\n",
       "    </tr>\n",
       "  </thead>\n",
       "  <tbody>\n",
       "    <tr>\n",
       "      <th>0</th>\n",
       "      <td>83251979</td>\n",
       "      <td>390779</td>\n",
       "      <td>131019</td>\n",
       "      <td>97389</td>\n",
       "      <td>186155</td>\n",
       "      <td>1</td>\n",
       "      <td>1.0</td>\n",
       "      <td>NaN</td>\n",
       "      <td>64</td>\n",
       "      <td>0.0</td>\n",
       "      <td>...</td>\n",
       "      <td>--- \\n- - start\\n  - 1317738211496\\n- - answer...</td>\n",
       "      <td>136294.0</td>\n",
       "      <td>tutor</td>\n",
       "      <td>ClassAssignment</td>\n",
       "      <td>NaN</td>\n",
       "      <td>NaN</td>\n",
       "      <td>NaN</td>\n",
       "      <td>NaN</td>\n",
       "      <td>NaN</td>\n",
       "      <td>11833</td>\n",
       "    </tr>\n",
       "    <tr>\n",
       "      <th>1</th>\n",
       "      <td>83252617</td>\n",
       "      <td>390779</td>\n",
       "      <td>131019</td>\n",
       "      <td>97411</td>\n",
       "      <td>186221</td>\n",
       "      <td>1</td>\n",
       "      <td>1.0</td>\n",
       "      <td>NaN</td>\n",
       "      <td>65</td>\n",
       "      <td>0.0</td>\n",
       "      <td>...</td>\n",
       "      <td>--- \\n- - start\\n  - 1317738254825\\n- - answer...</td>\n",
       "      <td>136338.0</td>\n",
       "      <td>tutor</td>\n",
       "      <td>ClassAssignment</td>\n",
       "      <td>NaN</td>\n",
       "      <td>NaN</td>\n",
       "      <td>NaN</td>\n",
       "      <td>NaN</td>\n",
       "      <td>NaN</td>\n",
       "      <td>11833</td>\n",
       "    </tr>\n",
       "    <tr>\n",
       "      <th>2</th>\n",
       "      <td>83253196</td>\n",
       "      <td>390779</td>\n",
       "      <td>131019</td>\n",
       "      <td>97495</td>\n",
       "      <td>186473</td>\n",
       "      <td>1</td>\n",
       "      <td>1.0</td>\n",
       "      <td>NaN</td>\n",
       "      <td>452</td>\n",
       "      <td>0.0</td>\n",
       "      <td>...</td>\n",
       "      <td>--- \\n- - start\\n  - 1317738290513\\n- - answer...</td>\n",
       "      <td>136506.0</td>\n",
       "      <td>tutor</td>\n",
       "      <td>ClassAssignment</td>\n",
       "      <td>NaN</td>\n",
       "      <td>NaN</td>\n",
       "      <td>NaN</td>\n",
       "      <td>NaN</td>\n",
       "      <td>NaN</td>\n",
       "      <td>11833</td>\n",
       "    </tr>\n",
       "    <tr>\n",
       "      <th>3</th>\n",
       "      <td>83253881</td>\n",
       "      <td>390782</td>\n",
       "      <td>131019</td>\n",
       "      <td>32139</td>\n",
       "      <td>49282</td>\n",
       "      <td>1</td>\n",
       "      <td>0.0</td>\n",
       "      <td>NaN</td>\n",
       "      <td>145</td>\n",
       "      <td>0.0</td>\n",
       "      <td>...</td>\n",
       "      <td>--- \\n- - start\\n  - 1317738340042\\n- - answer...</td>\n",
       "      <td>23057.0</td>\n",
       "      <td>tutor</td>\n",
       "      <td>ClassAssignment</td>\n",
       "      <td>NaN</td>\n",
       "      <td>NaN</td>\n",
       "      <td>NaN</td>\n",
       "      <td>NaN</td>\n",
       "      <td>NaN</td>\n",
       "      <td>5924</td>\n",
       "    </tr>\n",
       "    <tr>\n",
       "      <th>4</th>\n",
       "      <td>83255489</td>\n",
       "      <td>390782</td>\n",
       "      <td>131019</td>\n",
       "      <td>32120</td>\n",
       "      <td>49263</td>\n",
       "      <td>1</td>\n",
       "      <td>1.0</td>\n",
       "      <td>NaN</td>\n",
       "      <td>199</td>\n",
       "      <td>0.0</td>\n",
       "      <td>...</td>\n",
       "      <td>--- \\n- - start\\n  - 1317738468101\\n- - answer...</td>\n",
       "      <td>23038.0</td>\n",
       "      <td>tutor</td>\n",
       "      <td>ClassAssignment</td>\n",
       "      <td>NaN</td>\n",
       "      <td>NaN</td>\n",
       "      <td>NaN</td>\n",
       "      <td>NaN</td>\n",
       "      <td>NaN</td>\n",
       "      <td>5924</td>\n",
       "    </tr>\n",
       "  </tbody>\n",
       "</table>\n",
       "<p>5 rows × 27 columns</p>\n",
       "</div>"
      ],
      "text/plain": [
       "         id  assignment_id  user_id  assistment_id  problem_id  original  \\\n",
       "0  83251979         390779   131019          97389      186155         1   \n",
       "1  83252617         390779   131019          97411      186221         1   \n",
       "2  83253196         390779   131019          97495      186473         1   \n",
       "3  83253881         390782   131019          32139       49282         1   \n",
       "4  83255489         390782   131019          32120       49263         1   \n",
       "\n",
       "   correct  answer_id answer_text  first_action     ...      \\\n",
       "0      1.0        NaN          64           0.0     ...       \n",
       "1      1.0        NaN          65           0.0     ...       \n",
       "2      1.0        NaN         452           0.0     ...       \n",
       "3      0.0        NaN         145           0.0     ...       \n",
       "4      1.0        NaN         199           0.0     ...       \n",
       "\n",
       "                                             actions  tutor_strategy_id  \\\n",
       "0  --- \\n- - start\\n  - 1317738211496\\n- - answer...           136294.0   \n",
       "1  --- \\n- - start\\n  - 1317738254825\\n- - answer...           136338.0   \n",
       "2  --- \\n- - start\\n  - 1317738290513\\n- - answer...           136506.0   \n",
       "3  --- \\n- - start\\n  - 1317738340042\\n- - answer...            23057.0   \n",
       "4  --- \\n- - start\\n  - 1317738468101\\n- - answer...            23038.0   \n",
       "\n",
       "   tutor_mode  assignment_type teacher_comment  network_state  path_info  \\\n",
       "0       tutor  ClassAssignment             NaN            NaN        NaN   \n",
       "1       tutor  ClassAssignment             NaN            NaN        NaN   \n",
       "2       tutor  ClassAssignment             NaN            NaN        NaN   \n",
       "3       tutor  ClassAssignment             NaN            NaN        NaN   \n",
       "4       tutor  ClassAssignment             NaN            NaN        NaN   \n",
       "\n",
       "  discrete_score  updated_at sequence_id  \n",
       "0            NaN         NaN       11833  \n",
       "1            NaN         NaN       11833  \n",
       "2            NaN         NaN       11833  \n",
       "3            NaN         NaN        5924  \n",
       "4            NaN         NaN        5924  \n",
       "\n",
       "[5 rows x 27 columns]"
      ]
     },
     "execution_count": 53,
     "metadata": {},
     "output_type": "execute_result"
    }
   ],
   "source": [
    "pl_df.head()"
   ]
  },
  {
   "cell_type": "code",
   "execution_count": 54,
   "metadata": {
    "collapsed": false
   },
   "outputs": [
    {
     "data": {
      "text/plain": [
       "Index([u'id', u'assignment_id', u'user_id', u'assistment_id', u'problem_id',\n",
       "       u'original', u'correct', u'answer_id', u'answer_text', u'first_action',\n",
       "       u'hint_count', u'bottom_hint', u'attempt_count', u'start_time',\n",
       "       u'end_time', u'first_response_time', u'overlap_time', u'actions',\n",
       "       u'tutor_strategy_id', u'tutor_mode', u'assignment_type',\n",
       "       u'teacher_comment', u'network_state', u'path_info', u'discrete_score',\n",
       "       u'updated_at', u'sequence_id'],\n",
       "      dtype='object')"
      ]
     },
     "execution_count": 54,
     "metadata": {},
     "output_type": "execute_result"
    }
   ],
   "source": [
    "pl_df.columns"
   ]
  },
  {
   "cell_type": "code",
   "execution_count": 56,
   "metadata": {
    "collapsed": false
   },
   "outputs": [
    {
     "data": {
      "text/plain": [
       "390470"
      ]
     },
     "execution_count": 56,
     "metadata": {},
     "output_type": "execute_result"
    }
   ],
   "source": [
    "len(pl_df)"
   ]
  },
  {
   "cell_type": "code",
   "execution_count": 55,
   "metadata": {
    "collapsed": false
   },
   "outputs": [
    {
     "data": {
      "text/plain": [
       "9157"
      ]
     },
     "execution_count": 55,
     "metadata": {},
     "output_type": "execute_result"
    }
   ],
   "source": [
    "len(pl_df['sequence_id'].unique())"
   ]
  },
  {
   "cell_type": "code",
   "execution_count": 82,
   "metadata": {
    "collapsed": false
   },
   "outputs": [],
   "source": [
    "counts = pd.value_counts(pl_df['sequence_id'])\n",
    "mask = pl_df['sequence_id'].isin(counts[counts > 500].index)"
   ]
  },
  {
   "cell_type": "code",
   "execution_count": 80,
   "metadata": {
    "collapsed": true
   },
   "outputs": [],
   "source": [
    "new_df = pd.DataFrame()"
   ]
  },
  {
   "cell_type": "code",
   "execution_count": 83,
   "metadata": {
    "collapsed": false
   },
   "outputs": [],
   "source": [
    "pl_df['sequence_id'][~mask] = \"-\"\n",
    "new_df = pd.get_dummies(pl_df['sequence_id'])"
   ]
  },
  {
   "cell_type": "code",
   "execution_count": 84,
   "metadata": {
    "collapsed": false
   },
   "outputs": [
    {
     "data": {
      "text/html": [
       "<div>\n",
       "<table border=\"1\" class=\"dataframe\">\n",
       "  <thead>\n",
       "    <tr style=\"text-align: right;\">\n",
       "      <th></th>\n",
       "      <th>5582</th>\n",
       "      <th>5611</th>\n",
       "      <th>5613</th>\n",
       "      <th>5623</th>\n",
       "      <th>5625</th>\n",
       "      <th>5893</th>\n",
       "      <th>5897</th>\n",
       "      <th>5898</th>\n",
       "      <th>5918</th>\n",
       "      <th>5920</th>\n",
       "      <th>...</th>\n",
       "      <th>377658</th>\n",
       "      <th>377938</th>\n",
       "      <th>377942</th>\n",
       "      <th>381617</th>\n",
       "      <th>403378</th>\n",
       "      <th>459531</th>\n",
       "      <th>497963</th>\n",
       "      <th>581687</th>\n",
       "      <th>701680</th>\n",
       "      <th>-</th>\n",
       "    </tr>\n",
       "  </thead>\n",
       "  <tbody>\n",
       "    <tr>\n",
       "      <th>0</th>\n",
       "      <td>0</td>\n",
       "      <td>0</td>\n",
       "      <td>0</td>\n",
       "      <td>0</td>\n",
       "      <td>0</td>\n",
       "      <td>0</td>\n",
       "      <td>0</td>\n",
       "      <td>0</td>\n",
       "      <td>0</td>\n",
       "      <td>0</td>\n",
       "      <td>...</td>\n",
       "      <td>0</td>\n",
       "      <td>0</td>\n",
       "      <td>0</td>\n",
       "      <td>0</td>\n",
       "      <td>0</td>\n",
       "      <td>0</td>\n",
       "      <td>0</td>\n",
       "      <td>0</td>\n",
       "      <td>0</td>\n",
       "      <td>1</td>\n",
       "    </tr>\n",
       "    <tr>\n",
       "      <th>1</th>\n",
       "      <td>0</td>\n",
       "      <td>0</td>\n",
       "      <td>0</td>\n",
       "      <td>0</td>\n",
       "      <td>0</td>\n",
       "      <td>0</td>\n",
       "      <td>0</td>\n",
       "      <td>0</td>\n",
       "      <td>0</td>\n",
       "      <td>0</td>\n",
       "      <td>...</td>\n",
       "      <td>0</td>\n",
       "      <td>0</td>\n",
       "      <td>0</td>\n",
       "      <td>0</td>\n",
       "      <td>0</td>\n",
       "      <td>0</td>\n",
       "      <td>0</td>\n",
       "      <td>0</td>\n",
       "      <td>0</td>\n",
       "      <td>1</td>\n",
       "    </tr>\n",
       "    <tr>\n",
       "      <th>2</th>\n",
       "      <td>0</td>\n",
       "      <td>0</td>\n",
       "      <td>0</td>\n",
       "      <td>0</td>\n",
       "      <td>0</td>\n",
       "      <td>0</td>\n",
       "      <td>0</td>\n",
       "      <td>0</td>\n",
       "      <td>0</td>\n",
       "      <td>0</td>\n",
       "      <td>...</td>\n",
       "      <td>0</td>\n",
       "      <td>0</td>\n",
       "      <td>0</td>\n",
       "      <td>0</td>\n",
       "      <td>0</td>\n",
       "      <td>0</td>\n",
       "      <td>0</td>\n",
       "      <td>0</td>\n",
       "      <td>0</td>\n",
       "      <td>1</td>\n",
       "    </tr>\n",
       "    <tr>\n",
       "      <th>3</th>\n",
       "      <td>0</td>\n",
       "      <td>0</td>\n",
       "      <td>0</td>\n",
       "      <td>0</td>\n",
       "      <td>0</td>\n",
       "      <td>0</td>\n",
       "      <td>0</td>\n",
       "      <td>0</td>\n",
       "      <td>0</td>\n",
       "      <td>0</td>\n",
       "      <td>...</td>\n",
       "      <td>0</td>\n",
       "      <td>0</td>\n",
       "      <td>0</td>\n",
       "      <td>0</td>\n",
       "      <td>0</td>\n",
       "      <td>0</td>\n",
       "      <td>0</td>\n",
       "      <td>0</td>\n",
       "      <td>0</td>\n",
       "      <td>1</td>\n",
       "    </tr>\n",
       "    <tr>\n",
       "      <th>4</th>\n",
       "      <td>0</td>\n",
       "      <td>0</td>\n",
       "      <td>0</td>\n",
       "      <td>0</td>\n",
       "      <td>0</td>\n",
       "      <td>0</td>\n",
       "      <td>0</td>\n",
       "      <td>0</td>\n",
       "      <td>0</td>\n",
       "      <td>0</td>\n",
       "      <td>...</td>\n",
       "      <td>0</td>\n",
       "      <td>0</td>\n",
       "      <td>0</td>\n",
       "      <td>0</td>\n",
       "      <td>0</td>\n",
       "      <td>0</td>\n",
       "      <td>0</td>\n",
       "      <td>0</td>\n",
       "      <td>0</td>\n",
       "      <td>1</td>\n",
       "    </tr>\n",
       "  </tbody>\n",
       "</table>\n",
       "<p>5 rows × 179 columns</p>\n",
       "</div>"
      ],
      "text/plain": [
       "   5582  5611  5613  5623  5625  5893  5897  5898  5918  5920 ...  377658  \\\n",
       "0     0     0     0     0     0     0     0     0     0     0 ...       0   \n",
       "1     0     0     0     0     0     0     0     0     0     0 ...       0   \n",
       "2     0     0     0     0     0     0     0     0     0     0 ...       0   \n",
       "3     0     0     0     0     0     0     0     0     0     0 ...       0   \n",
       "4     0     0     0     0     0     0     0     0     0     0 ...       0   \n",
       "\n",
       "   377938  377942  381617  403378  459531  497963  581687  701680  -  \n",
       "0       0       0       0       0       0       0       0       0  1  \n",
       "1       0       0       0       0       0       0       0       0  1  \n",
       "2       0       0       0       0       0       0       0       0  1  \n",
       "3       0       0       0       0       0       0       0       0  1  \n",
       "4       0       0       0       0       0       0       0       0  1  \n",
       "\n",
       "[5 rows x 179 columns]"
      ]
     },
     "execution_count": 84,
     "metadata": {},
     "output_type": "execute_result"
    }
   ],
   "source": [
    "new_df.head()"
   ]
  },
  {
   "cell_type": "code",
   "execution_count": 85,
   "metadata": {
    "collapsed": true
   },
   "outputs": [],
   "source": [
    "# u'correct , u'bottom_hint, u'hint_count, u'attempt_count, u'first_response_time\n",
    "new_df['correct'] = pl_df['correct']\n",
    "new_df['bottom_hint'] = pl_df['bottom_hint']\n",
    "new_df['hint_count'] = pl_df['hint_count']\n",
    "new_df['attempt_count'] = pl_df['attempt_count']\n",
    "new_df['first_response_time'] = pl_df['first_response_time']"
   ]
  },
  {
   "cell_type": "code",
   "execution_count": 109,
   "metadata": {
    "collapsed": true
   },
   "outputs": [],
   "source": [
    "new_df['user_id'] = pl_df['user_id']"
   ]
  },
  {
   "cell_type": "code",
   "execution_count": 114,
   "metadata": {
    "collapsed": true
   },
   "outputs": [],
   "source": [
    "new_df['id'] = pl_df['id']"
   ]
  },
  {
   "cell_type": "code",
   "execution_count": 88,
   "metadata": {
    "collapsed": false
   },
   "outputs": [],
   "source": [
    "new_df['bottom_hint'].fillna(0, inplace=True)"
   ]
  },
  {
   "cell_type": "code",
   "execution_count": 103,
   "metadata": {
    "collapsed": true
   },
   "outputs": [],
   "source": [
    "norm = lambda x: (x - x.min()) / (x.max() - x.min())"
   ]
  },
  {
   "cell_type": "code",
   "execution_count": 135,
   "metadata": {
    "collapsed": true
   },
   "outputs": [],
   "source": [
    "del new_df['first_response_time']"
   ]
  },
  {
   "cell_type": "code",
   "execution_count": 105,
   "metadata": {
    "collapsed": false
   },
   "outputs": [],
   "source": [
    "new_df.insert(len(new_df.columns), 'NofFRT', pl_df.groupby('sequence_id')['first_response_time'].transform(norm))"
   ]
  },
  {
   "cell_type": "code",
   "execution_count": 136,
   "metadata": {
    "collapsed": false
   },
   "outputs": [
    {
     "data": {
      "text/html": [
       "<div>\n",
       "<table border=\"1\" class=\"dataframe\">\n",
       "  <thead>\n",
       "    <tr style=\"text-align: right;\">\n",
       "      <th></th>\n",
       "      <th>5582</th>\n",
       "      <th>5611</th>\n",
       "      <th>5613</th>\n",
       "      <th>5623</th>\n",
       "      <th>5625</th>\n",
       "      <th>5893</th>\n",
       "      <th>5897</th>\n",
       "      <th>5898</th>\n",
       "      <th>5918</th>\n",
       "      <th>5920</th>\n",
       "      <th>...</th>\n",
       "      <th>581687</th>\n",
       "      <th>701680</th>\n",
       "      <th>-</th>\n",
       "      <th>correct</th>\n",
       "      <th>bottom_hint</th>\n",
       "      <th>hint_count</th>\n",
       "      <th>attempt_count</th>\n",
       "      <th>NofFRT</th>\n",
       "      <th>user_id</th>\n",
       "      <th>id</th>\n",
       "    </tr>\n",
       "  </thead>\n",
       "  <tbody>\n",
       "    <tr>\n",
       "      <th>0</th>\n",
       "      <td>0</td>\n",
       "      <td>0</td>\n",
       "      <td>0</td>\n",
       "      <td>0</td>\n",
       "      <td>0</td>\n",
       "      <td>0</td>\n",
       "      <td>0</td>\n",
       "      <td>0</td>\n",
       "      <td>0</td>\n",
       "      <td>0</td>\n",
       "      <td>...</td>\n",
       "      <td>0</td>\n",
       "      <td>0</td>\n",
       "      <td>1</td>\n",
       "      <td>1.0</td>\n",
       "      <td>0.0</td>\n",
       "      <td>0.0</td>\n",
       "      <td>1</td>\n",
       "      <td>0.004730</td>\n",
       "      <td>131019</td>\n",
       "      <td>83251979</td>\n",
       "    </tr>\n",
       "    <tr>\n",
       "      <th>1</th>\n",
       "      <td>0</td>\n",
       "      <td>0</td>\n",
       "      <td>0</td>\n",
       "      <td>0</td>\n",
       "      <td>0</td>\n",
       "      <td>0</td>\n",
       "      <td>0</td>\n",
       "      <td>0</td>\n",
       "      <td>0</td>\n",
       "      <td>0</td>\n",
       "      <td>...</td>\n",
       "      <td>0</td>\n",
       "      <td>0</td>\n",
       "      <td>1</td>\n",
       "      <td>1.0</td>\n",
       "      <td>0.0</td>\n",
       "      <td>0.0</td>\n",
       "      <td>1</td>\n",
       "      <td>0.004712</td>\n",
       "      <td>131019</td>\n",
       "      <td>83252617</td>\n",
       "    </tr>\n",
       "    <tr>\n",
       "      <th>2</th>\n",
       "      <td>0</td>\n",
       "      <td>0</td>\n",
       "      <td>0</td>\n",
       "      <td>0</td>\n",
       "      <td>0</td>\n",
       "      <td>0</td>\n",
       "      <td>0</td>\n",
       "      <td>0</td>\n",
       "      <td>0</td>\n",
       "      <td>0</td>\n",
       "      <td>...</td>\n",
       "      <td>0</td>\n",
       "      <td>0</td>\n",
       "      <td>1</td>\n",
       "      <td>1.0</td>\n",
       "      <td>0.0</td>\n",
       "      <td>0.0</td>\n",
       "      <td>1</td>\n",
       "      <td>0.004712</td>\n",
       "      <td>131019</td>\n",
       "      <td>83253196</td>\n",
       "    </tr>\n",
       "    <tr>\n",
       "      <th>3</th>\n",
       "      <td>0</td>\n",
       "      <td>0</td>\n",
       "      <td>0</td>\n",
       "      <td>0</td>\n",
       "      <td>0</td>\n",
       "      <td>0</td>\n",
       "      <td>0</td>\n",
       "      <td>0</td>\n",
       "      <td>0</td>\n",
       "      <td>0</td>\n",
       "      <td>...</td>\n",
       "      <td>0</td>\n",
       "      <td>0</td>\n",
       "      <td>1</td>\n",
       "      <td>0.0</td>\n",
       "      <td>0.0</td>\n",
       "      <td>0.0</td>\n",
       "      <td>2</td>\n",
       "      <td>0.004769</td>\n",
       "      <td>131019</td>\n",
       "      <td>83253881</td>\n",
       "    </tr>\n",
       "    <tr>\n",
       "      <th>4</th>\n",
       "      <td>0</td>\n",
       "      <td>0</td>\n",
       "      <td>0</td>\n",
       "      <td>0</td>\n",
       "      <td>0</td>\n",
       "      <td>0</td>\n",
       "      <td>0</td>\n",
       "      <td>0</td>\n",
       "      <td>0</td>\n",
       "      <td>0</td>\n",
       "      <td>...</td>\n",
       "      <td>0</td>\n",
       "      <td>0</td>\n",
       "      <td>1</td>\n",
       "      <td>1.0</td>\n",
       "      <td>0.0</td>\n",
       "      <td>0.0</td>\n",
       "      <td>1</td>\n",
       "      <td>0.004753</td>\n",
       "      <td>131019</td>\n",
       "      <td>83255489</td>\n",
       "    </tr>\n",
       "  </tbody>\n",
       "</table>\n",
       "<p>5 rows × 186 columns</p>\n",
       "</div>"
      ],
      "text/plain": [
       "   5582  5611  5613  5623  5625  5893  5897  5898  5918  5920    ...     \\\n",
       "0     0     0     0     0     0     0     0     0     0     0    ...      \n",
       "1     0     0     0     0     0     0     0     0     0     0    ...      \n",
       "2     0     0     0     0     0     0     0     0     0     0    ...      \n",
       "3     0     0     0     0     0     0     0     0     0     0    ...      \n",
       "4     0     0     0     0     0     0     0     0     0     0    ...      \n",
       "\n",
       "   581687  701680  -  correct  bottom_hint  hint_count  attempt_count  \\\n",
       "0       0       0  1      1.0          0.0         0.0              1   \n",
       "1       0       0  1      1.0          0.0         0.0              1   \n",
       "2       0       0  1      1.0          0.0         0.0              1   \n",
       "3       0       0  1      0.0          0.0         0.0              2   \n",
       "4       0       0  1      1.0          0.0         0.0              1   \n",
       "\n",
       "     NofFRT  user_id        id  \n",
       "0  0.004730   131019  83251979  \n",
       "1  0.004712   131019  83252617  \n",
       "2  0.004712   131019  83253196  \n",
       "3  0.004769   131019  83253881  \n",
       "4  0.004753   131019  83255489  \n",
       "\n",
       "[5 rows x 186 columns]"
      ]
     },
     "execution_count": 136,
     "metadata": {},
     "output_type": "execute_result"
    }
   ],
   "source": [
    "new_df.head()"
   ]
  },
  {
   "cell_type": "code",
   "execution_count": 156,
   "metadata": {
    "collapsed": false
   },
   "outputs": [],
   "source": [
    "new_df['correct'].fillna(0, inplace=True)\n",
    "new_df['NofFRT'].fillna(1, inplace=True)\n",
    "new_df['hint_count'].fillna(1, inplace=True)"
   ]
  },
  {
   "cell_type": "code",
   "execution_count": 160,
   "metadata": {
    "collapsed": false
   },
   "outputs": [
    {
     "data": {
      "text/plain": [
       "False"
      ]
     },
     "execution_count": 160,
     "metadata": {},
     "output_type": "execute_result"
    }
   ],
   "source": [
    "new_df.isnull().values.any()"
   ]
  },
  {
   "cell_type": "code",
   "execution_count": 112,
   "metadata": {
    "collapsed": false
   },
   "outputs": [
    {
     "data": {
      "text/plain": [
       "384"
      ]
     },
     "execution_count": 112,
     "metadata": {},
     "output_type": "execute_result"
    }
   ],
   "source": [
    "len(new_df['user_id'].unique())"
   ]
  },
  {
   "cell_type": "code",
   "execution_count": 157,
   "metadata": {
    "collapsed": true
   },
   "outputs": [],
   "source": [
    "new_df.to_csv('../LSTM-autoencoder/train_data.csv', index=False)"
   ]
  },
  {
   "cell_type": "code",
   "execution_count": 138,
   "metadata": {
    "collapsed": false
   },
   "outputs": [],
   "source": [
    "train_df = pd.read_csv('../LSTM-autoencoder/train_data.csv')"
   ]
  },
  {
   "cell_type": "code",
   "execution_count": 130,
   "metadata": {
    "collapsed": false
   },
   "outputs": [
    {
     "data": {
      "text/plain": [
       "0    83251979\n",
       "1    83252617\n",
       "2    83253196\n",
       "3    83253881\n",
       "4    83255489\n",
       "Name: id, dtype: int64"
      ]
     },
     "execution_count": 130,
     "metadata": {},
     "output_type": "execute_result"
    }
   ],
   "source": [
    "train_df['id'].head()"
   ]
  },
  {
   "cell_type": "code",
   "execution_count": 141,
   "metadata": {
    "collapsed": false
   },
   "outputs": [],
   "source": [
    "id_df = train_df.set_index('id')\n",
    "train_g = id_df.groupby('user_id')"
   ]
  },
  {
   "cell_type": "code",
   "execution_count": 151,
   "metadata": {
    "collapsed": false
   },
   "outputs": [
    {
     "data": {
      "text/plain": [
       "array([[0, 0, 0, 0, 0]])"
      ]
     },
     "execution_count": 151,
     "metadata": {},
     "output_type": "execute_result"
    }
   ],
   "source": [
    "train_g.get_group(131019).iloc[:1, :5].as_matrix()"
   ]
  },
  {
   "cell_type": "code",
   "execution_count": null,
   "metadata": {
    "collapsed": true
   },
   "outputs": [],
   "source": [
    "    print group"
   ]
  },
  {
   "cell_type": "code",
   "execution_count": 125,
   "metadata": {
    "collapsed": false
   },
   "outputs": [
    {
     "data": {
      "text/plain": [
       "187"
      ]
     },
     "execution_count": 125,
     "metadata": {},
     "output_type": "execute_result"
    }
   ],
   "source": [
    "len(train_df.columns)"
   ]
  },
  {
   "cell_type": "code",
   "execution_count": 69,
   "metadata": {
    "collapsed": false
   },
   "outputs": [
    {
     "data": {
      "text/plain": [
       "178"
      ]
     },
     "execution_count": 69,
     "metadata": {},
     "output_type": "execute_result"
    }
   ],
   "source": [
    "len(counts[counts > 500])"
   ]
  },
  {
   "cell_type": "code",
   "execution_count": null,
   "metadata": {
    "collapsed": true
   },
   "outputs": [],
   "source": []
  },
  {
   "cell_type": "code",
   "execution_count": 39,
   "metadata": {
    "collapsed": true
   },
   "outputs": [],
   "source": [
    "pl_df.set_index('id', inplace=True)"
   ]
  },
  {
   "cell_type": "code",
   "execution_count": 40,
   "metadata": {
    "collapsed": true
   },
   "outputs": [],
   "source": [
    "pl_g = pl_df.groupby('user_id')"
   ]
  },
  {
   "cell_type": "code",
   "execution_count": 45,
   "metadata": {
    "collapsed": false,
    "scrolled": true
   },
   "outputs": [
    {
     "name": "stdout",
     "output_type": "stream",
     "text": [
      "5357\n",
      "1213\n",
      "19\n"
     ]
    }
   ],
   "source": [
    "max_len = 0\n",
    "cnt_list = []\n",
    "for name,group in pl_g:\n",
    "    cnt = len(group)\n",
    "    if cnt > max_len:\n",
    "        max_len = cnt\n",
    "    cnt_list.append(cnt)\n",
    "print max_len\n",
    "print sum(cnt_list)/len(cnt_list)\n",
    "print min(cnt_list)"
   ]
  },
  {
   "cell_type": "code",
   "execution_count": 47,
   "metadata": {
    "collapsed": false
   },
   "outputs": [
    {
     "data": {
      "text/plain": [
       "744.0"
      ]
     },
     "execution_count": 47,
     "metadata": {},
     "output_type": "execute_result"
    }
   ],
   "source": [
    "np.median(np.array(cnt_list))"
   ]
  },
  {
   "cell_type": "code",
   "execution_count": 48,
   "metadata": {
    "collapsed": true
   },
   "outputs": [],
   "source": [
    "user_list = pl_df['user_id'].unique().tolist()"
   ]
  },
  {
   "cell_type": "code",
   "execution_count": 49,
   "metadata": {
    "collapsed": true
   },
   "outputs": [],
   "source": [
    "batch_size = 30\n",
    "chunks = [user_list[x:x+batch_size] for x in xrange(0, len(user_list), batch_size)]"
   ]
  },
  {
   "cell_type": "code",
   "execution_count": 51,
   "metadata": {
    "collapsed": true
   },
   "outputs": [],
   "source": [
    "for c in chunks:\n",
    "    l = []\n",
    "    for ite in c:\n",
    "        m = pl_g.get_group(ite).iloc[:, 1:].as_matrix()\n",
    "        if max_len >= m.shape[0]:\n",
    "            diff = max_len - m.shape[0]\n",
    "            l.append(np.pad(m, ((0,diff), (0,0)), mode='constant', constant_values=0))\n",
    "        else:\n",
    "            l.append(m[-1*max_len:, :])\n",
    "        #l.append(g.get_group(ite).iloc[:, 1:].as_matrix())\n",
    "    \n",
    "    batch = np.stack(l, axis=0)\n",
    "    break"
   ]
  },
  {
   "cell_type": "code",
   "execution_count": 161,
   "metadata": {
    "collapsed": true
   },
   "outputs": [],
   "source": [
    "# play around with pandas\n",
    "sample = pd.DataFrame(np.ones((3,3)), columns=['a', 'b', 'c'])"
   ]
  },
  {
   "cell_type": "code",
   "execution_count": 180,
   "metadata": {
    "collapsed": false
   },
   "outputs": [],
   "source": [
    "sample['a'] = sample['a'].apply(lambda x: x+1)"
   ]
  },
  {
   "cell_type": "code",
   "execution_count": 183,
   "metadata": {
    "collapsed": false
   },
   "outputs": [
    {
     "data": {
      "text/html": [
       "<div>\n",
       "<table border=\"1\" class=\"dataframe\">\n",
       "  <thead>\n",
       "    <tr style=\"text-align: right;\">\n",
       "      <th></th>\n",
       "      <th>a</th>\n",
       "      <th>b</th>\n",
       "      <th>c</th>\n",
       "    </tr>\n",
       "  </thead>\n",
       "  <tbody>\n",
       "    <tr>\n",
       "      <th>0</th>\n",
       "      <td>2.0</td>\n",
       "      <td>1.0</td>\n",
       "      <td>1.0</td>\n",
       "    </tr>\n",
       "    <tr>\n",
       "      <th>1</th>\n",
       "      <td>2.0</td>\n",
       "      <td>1.0</td>\n",
       "      <td>1.0</td>\n",
       "    </tr>\n",
       "  </tbody>\n",
       "</table>\n",
       "</div>"
      ],
      "text/plain": [
       "     a    b    c\n",
       "0  2.0  1.0  1.0\n",
       "1  2.0  1.0  1.0"
      ]
     },
     "execution_count": 183,
     "metadata": {},
     "output_type": "execute_result"
    }
   ],
   "source": [
    "sample.iloc[1:, :].reset_index(drop=True)"
   ]
  },
  {
   "cell_type": "code",
   "execution_count": 184,
   "metadata": {
    "collapsed": false
   },
   "outputs": [
    {
     "name": "stdout",
     "output_type": "stream",
     "text": [
      "   a  b\n",
      "0  1  0\n",
      "1  0  1\n",
      "2  1  0\n",
      "3  0  1\n",
      "7  1  0\n"
     ]
    }
   ],
   "source": [
    "values = pd.Series([\"a\",\"b\",\"a\",\"b\",\"c\",\"d\",\"e\",\"a\"])\n",
    "counts = pd.value_counts(values)\n",
    "mask = values.isin(counts[counts > 1].index)\n",
    "print pd.get_dummies(values[mask])"
   ]
  },
  {
   "cell_type": "code",
   "execution_count": 188,
   "metadata": {
    "collapsed": false
   },
   "outputs": [
    {
     "data": {
      "text/plain": [
       "0     True\n",
       "1     True\n",
       "2     True\n",
       "3     True\n",
       "4    False\n",
       "5    False\n",
       "6    False\n",
       "7     True\n",
       "dtype: bool"
      ]
     },
     "execution_count": 188,
     "metadata": {},
     "output_type": "execute_result"
    }
   ],
   "source": [
    "mask"
   ]
  }
 ],
 "metadata": {
  "kernelspec": {
   "display_name": "Python 2",
   "language": "python",
   "name": "python2"
  },
  "language_info": {
   "codemirror_mode": {
    "name": "ipython",
    "version": 2
   },
   "file_extension": ".py",
   "mimetype": "text/x-python",
   "name": "python",
   "nbconvert_exporter": "python",
   "pygments_lexer": "ipython2",
   "version": "2.7.12"
  }
 },
 "nbformat": 4,
 "nbformat_minor": 2
}
