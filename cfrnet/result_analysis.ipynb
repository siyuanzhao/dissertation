{
 "cells": [
  {
   "cell_type": "code",
   "execution_count": 1,
   "metadata": {
    "collapsed": true
   },
   "outputs": [],
   "source": [
    "import pandas as pd\n",
    "import numpy as np\n",
    "from scipy import stats\n",
    "import os\n",
    "from numpy import std, mean, sqrt"
   ]
  },
  {
   "cell_type": "code",
   "execution_count": 2,
   "metadata": {
    "collapsed": false
   },
   "outputs": [],
   "source": [
    "def load_data(ps):\n",
    "    # test data\n",
    "    test_df = pd.read_csv('data/'+str(ps)+'_test_exp.csv', header=None)\n",
    "    test_df.rename(columns={2: 'condition', 3: 'completion'}, inplace=True)\n",
    "    print 'The avg completion rate in treatment {}'.format(test_df[test_df['condition'] == 1]['completion'].mean())\n",
    "    print 'The avg completion rate in control {}'.format(test_df[test_df['condition'] == 0]['completion'].mean())\n",
    "    return test_df"
   ]
  },
  {
   "cell_type": "markdown",
   "metadata": {},
   "source": [
    "### Post-model analysis"
   ]
  },
  {
   "cell_type": "code",
   "execution_count": 3,
   "metadata": {
    "collapsed": true
   },
   "outputs": [],
   "source": [
    "def post_analysis(file_name, test_df):\n",
    "    #test_df = load_data(ps)\n",
    "    res_df = pd.read_csv(file_name, header=None)\n",
    "    res_df = res_df.rename(columns={0: 'f', 1: 'cf'})\n",
    "    concated_test_df = pd.concat([test_df, res_df], axis=1)\n",
    "    concated_test_df['treatment_effect'] = np.where(concated_test_df['condition']==1, concated_test_df['f']-concated_test_df['cf'], \\\n",
    "                                           concated_test_df['cf']-concated_test_df['f'])\n",
    "    concated_test_df['potential_treatment_outcome'] = np.where(concated_test_df['condition']==1, concated_test_df['f'], \\\n",
    "                                           concated_test_df['cf'])\n",
    "    concated_test_df['potential_control_outcome'] = np.where(concated_test_df['condition']==0, concated_test_df['f'], \\\n",
    "                                           concated_test_df['cf'])\n",
    "    # recommended condition\n",
    "    concated_test_df['recommended_condition'] = np.where(concated_test_df['treatment_effect']>0, 1, 0)\n",
    "    return concated_test_df"
   ]
  },
  {
   "cell_type": "code",
   "execution_count": 4,
   "metadata": {
    "collapsed": true
   },
   "outputs": [],
   "source": [
    "def cohen_d(x,y):\n",
    "    nx = len(x)\n",
    "    ny = len(y)\n",
    "    dof = nx + ny - 2\n",
    "    print 'x group: # {} \\t mean {} \\t std {}'.format(nx, mean(x), std(x, ddof=1))\n",
    "    print 'y group: # {} \\t mean {} \\t std {}'.format(ny, mean(y), std(y, ddof=1))\n",
    "    return (mean(x) - mean(y)) / sqrt(((nx-1)*std(x, ddof=1) ** 2 + (ny-1)*std(y, ddof=1) ** 2) / dof)"
   ]
  },
  {
   "cell_type": "code",
   "execution_count": 11,
   "metadata": {
    "collapsed": false
   },
   "outputs": [],
   "source": [
    "def calculate_completion(file_name, test_df):\n",
    "    concated_df = post_analysis(file_name, test_df)\n",
    "    \n",
    "    matched_df = concated_df[((concated_df['condition'] == 1) & (concated_df['recommended_condition'] == 1)) | ((concated_df['condition'] == 0) & (concated_df['recommended_condition'] == 0))]\n",
    "    unmatched_df = concated_df[((concated_df['condition'] == 1) & (concated_df['recommended_condition'] == 0)) | ((concated_df['condition'] == 0) & (concated_df['recommended_condition'] == 1))]\n",
    "    def print_out(x, y, x_name, y_name):\n",
    "        print stats.ttest_ind(x,y)\n",
    "        print x_name\n",
    "        print len(x)\n",
    "        print y_name\n",
    "        print len(y)\n",
    "        print 'Effect size: '\n",
    "        print cohen_d(x.tolist(), y.tolist())\n",
    "        print '*'*10\n",
    "\n",
    "    print 'Comparison between matched and unmatched'\n",
    "    print_out(matched_df['completion'], unmatched_df['completion'], 'Matched group: ', 'Unmatched group: ')\n",
    "    \n",
    "    print 'Comparison between matched and actual treatment'\n",
    "    print_out(matched_df['completion'], concated_df[concated_df['condition']==1]['completion'],\\\n",
    "              'Matched group', 'Actual treatment group')\n",
    "    \n",
    "    print 'Comparison between matched treatment and actual treatment'\n",
    "    print_out(matched_df[matched_df['condition']==1]['completion'],\\\n",
    "              concated_df[concated_df['condition']==1]['completion'], 'Matched treatment group', 'Actual treatment group')\n",
    "    \n",
    "    return concated_df[['condition', 'recommended_condition', 'completion', 'potential_treatment_outcome', 'potential_control_outcome', 'treatment_effect']]"
   ]
  },
  {
   "cell_type": "code",
   "execution_count": 12,
   "metadata": {
    "collapsed": false
   },
   "outputs": [
    {
     "name": "stdout",
     "output_type": "stream",
     "text": [
      "results/archived/263115/results_20180220_143942-509542/y_pred.test_1.csv\n",
      "The avg completion rate in treatment 0.886075949367\n",
      "The avg completion rate in control 0.885714285714\n",
      "Comparison between matched and unmatched\n",
      "Ttest_indResult(statistic=1.8417487106980484, pvalue=0.0675271817243208)\n",
      "Matched group: \n",
      "75\n",
      "Unmatched group: \n",
      "74\n",
      "Effect size: \n",
      "x group: # 75 \t mean 0.933333333333 \t std 0.251123601167\n",
      "y group: # 74 \t mean 0.837837837838 \t std 0.371115572112\n",
      "0.30177066308267425\n",
      "**********\n",
      "Comparison between matched and actual treatment\n",
      "Ttest_indResult(statistic=1.01643253057439, pvalue=0.31103862126915677)\n",
      "Matched group\n",
      "75\n",
      "Actual treatment group\n",
      "79\n",
      "Effect size: \n",
      "x group: # 75 \t mean 0.933333333333 \t std 0.251123601167\n",
      "y group: # 79 \t mean 0.886075949367 \t std 0.319749171413\n",
      "0.1638682210798815\n",
      "**********\n",
      "Comparison between matched treatment and actual treatment\n",
      "Ttest_indResult(statistic=1.4148101794404826, pvalue=0.15994874017655095)\n",
      "Matched treatment group\n",
      "33\n",
      "Actual treatment group\n",
      "79\n",
      "Effect size: \n",
      "x group: # 33 \t mean 0.969696969697 \t std 0.174077655956\n",
      "y group: # 79 \t mean 0.886075949367 \t std 0.319749171413\n",
      "0.29324908899697116\n",
      "**********\n"
     ]
    }
   ],
   "source": [
    "test_ps = 263115\n",
    "test_folder_path = 'results/archived/263115/'\n",
    "name = 'results_20180220_143942-509542'\n",
    "def generate_final_table(test_ps, test_folder_path, folder_name):\n",
    "    file_name = test_folder_path + folder_name + '/y_pred.test_1.csv'\n",
    "    print file_name\n",
    "    test_df = load_data(test_ps)\n",
    "    post_df = calculate_completion(file_name, test_df)\n",
    "    post_df.to_csv(str(test_ps)+'-final-table.csv', index=False)\n",
    "generate_final_table(test_ps, test_folder_path, name)"
   ]
  },
  {
   "cell_type": "code",
   "execution_count": 13,
   "metadata": {
    "collapsed": false
   },
   "outputs": [
    {
     "name": "stdout",
     "output_type": "stream",
     "text": [
      "results/archived/263052/results_20180220_105747-063679/y_pred.test_1.csv\n",
      "The avg completion rate in treatment 0.657142857143\n",
      "The avg completion rate in control 0.633928571429\n",
      "Comparison between matched and unmatched\n",
      "Ttest_indResult(statistic=2.157769164128804, pvalue=0.03205432159553306)\n",
      "Matched group: \n",
      "103\n",
      "Unmatched group: \n",
      "114\n",
      "Effect size: \n",
      "x group: # 103 \t mean 0.718446601942 \t std 0.451956004456\n",
      "y group: # 114 \t mean 0.578947368421 \t std 0.495907799775\n",
      "0.2933349502638108\n",
      "**********\n",
      "Comparison between matched and actual treatment\n",
      "Ttest_indResult(statistic=0.9511757831233874, pvalue=0.3426297980370282)\n",
      "Matched group\n",
      "103\n",
      "Actual treatment group\n",
      "105\n",
      "Effect size: \n",
      "x group: # 103 \t mean 0.718446601942 \t std 0.451956004456\n",
      "y group: # 105 \t mean 0.657142857143 \t std 0.476940800805\n",
      "0.13191044645790248\n",
      "**********\n",
      "Comparison between matched treatment and actual treatment\n",
      "Ttest_indResult(statistic=3.899506422829131, pvalue=0.00014220551792667189)\n",
      "Matched treatment group\n",
      "55\n",
      "Actual treatment group\n",
      "105\n",
      "Effect size: \n",
      "x group: # 55 \t mean 0.927272727273 \t std 0.262081797702\n",
      "y group: # 105 \t mean 0.657142857143 \t std 0.476940800805\n",
      "0.6490731393321911\n",
      "**********\n"
     ]
    }
   ],
   "source": [
    "test_ps = 263052\n",
    "test_folder_path = 'results/archived/263052/'\n",
    "name = 'results_20180220_105747-063679'\n",
    "generate_final_table(test_ps, test_folder_path, name)"
   ]
  },
  {
   "cell_type": "code",
   "execution_count": null,
   "metadata": {
    "collapsed": false
   },
   "outputs": [],
   "source": [
    "# compute all results under a folder\n",
    "ps = 263115\n",
    "folder_path = 'results/archived/263115/'\n",
    "test_df = load_data(ps)\n",
    "for root, dirs, files in os.walk(folder_path):\n",
    "    for name in dirs:\n",
    "        if 'results' in name:\n",
    "            print 'folder name: {}'.format(name)\n",
    "            file_name = folder_path + name + '/y_pred.test_1.csv'\n",
    "            try:\n",
    "                calculate_completion(file_name, test_df)\n",
    "            except:\n",
    "                print 'Hello'\n",
    "            print '*'*10"
   ]
  }
 ],
 "metadata": {
  "kernelspec": {
   "display_name": "Python 2",
   "language": "python",
   "name": "python2"
  },
  "language_info": {
   "codemirror_mode": {
    "name": "ipython",
    "version": 2
   },
   "file_extension": ".py",
   "mimetype": "text/x-python",
   "name": "python",
   "nbconvert_exporter": "python",
   "pygments_lexer": "ipython2",
   "version": "2.7.12"
  }
 },
 "nbformat": 4,
 "nbformat_minor": 2
}
