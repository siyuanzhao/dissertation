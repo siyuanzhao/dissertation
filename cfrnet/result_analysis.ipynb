{
 "cells": [
  {
   "cell_type": "code",
   "execution_count": 65,
   "metadata": {
    "collapsed": false
   },
   "outputs": [],
   "source": [
    "import pandas as pd\n",
    "import numpy as np\n",
    "from scipy import stats\n",
    "import os\n",
    "from numpy import std, mean, sqrt\n",
    "import cPickle as pickle"
   ]
  },
  {
   "cell_type": "code",
   "execution_count": 2,
   "metadata": {
    "collapsed": false
   },
   "outputs": [],
   "source": [
    "def load_data(ps, ftype='test'):\n",
    "    # load either test data or train data\n",
    "    test_df = pd.read_csv('data/'+str(ps)+'_'+ftype+'_exp.csv', header=None)\n",
    "    test_df.rename(columns={2: 'condition', 3: 'completion'}, inplace=True)\n",
    "    print 'The avg completion rate in treatment {}'.format(test_df[test_df['condition'] == 1]['completion'].mean())\n",
    "    print 'The avg completion rate in control {}'.format(test_df[test_df['condition'] == 0]['completion'].mean())\n",
    "    return test_df"
   ]
  },
  {
   "cell_type": "markdown",
   "metadata": {},
   "source": [
    "### Post-model analysis"
   ]
  },
  {
   "cell_type": "code",
   "execution_count": 3,
   "metadata": {
    "collapsed": true
   },
   "outputs": [],
   "source": [
    "def post_analysis(res_df, test_df):\n",
    "    #test_df = load_data(ps)\n",
    "    #res_df = pd.read_csv(file_name, header=None)\n",
    "    res_df = res_df.rename(columns={0: 'f', 1: 'cf'})\n",
    "    concated_test_df = pd.concat([test_df, res_df], axis=1)\n",
    "    concated_test_df['treatment_effect'] = np.where(concated_test_df['condition']==1, concated_test_df['f']-concated_test_df['cf'], \\\n",
    "                                           concated_test_df['cf']-concated_test_df['f'])\n",
    "    concated_test_df['potential_treatment_outcome'] = np.where(concated_test_df['condition']==1, concated_test_df['f'], \\\n",
    "                                           concated_test_df['cf'])\n",
    "    concated_test_df['potential_control_outcome'] = np.where(concated_test_df['condition']==0, concated_test_df['f'], \\\n",
    "                                           concated_test_df['cf'])\n",
    "    # recommended condition\n",
    "    concated_test_df['recommended_condition'] = np.where(concated_test_df['treatment_effect']>0, 1, 0)\n",
    "    return concated_test_df"
   ]
  },
  {
   "cell_type": "code",
   "execution_count": 4,
   "metadata": {
    "collapsed": true
   },
   "outputs": [],
   "source": [
    "def cohen_d(x,y):\n",
    "    nx = len(x)\n",
    "    ny = len(y)\n",
    "    dof = nx + ny - 2\n",
    "    print 'x group: # {} \\t mean {} \\t std {}'.format(nx, mean(x), std(x, ddof=1))\n",
    "    print 'y group: # {} \\t mean {} \\t std {}'.format(ny, mean(y), std(y, ddof=1))\n",
    "    return (mean(x) - mean(y)) / sqrt(((nx-1)*std(x, ddof=1) ** 2 + (ny-1)*std(y, ddof=1) ** 2) / dof)"
   ]
  },
  {
   "cell_type": "code",
   "execution_count": 45,
   "metadata": {
    "collapsed": false
   },
   "outputs": [],
   "source": [
    "def calculate_completion(res_df, data_df, verbose=1, i_subset=None):\n",
    "    concated_df = post_analysis(res_df, data_df)\n",
    "    if i_subset is not None:\n",
    "        concated_df = concated_df.iloc[concated_df.index.get_indexer(i_subset)]\n",
    "    matched_df = concated_df[((concated_df['condition'] == 1) & (concated_df['recommended_condition'] == 1)) | ((concated_df['condition'] == 0) & (concated_df['recommended_condition'] == 0))]\n",
    "    unmatched_df = concated_df[((concated_df['condition'] == 1) & (concated_df['recommended_condition'] == 0)) | ((concated_df['condition'] == 0) & (concated_df['recommended_condition'] == 1))]\n",
    "    def print_out(x, y, x_name, y_name):\n",
    "        print stats.ttest_ind(x,y)\n",
    "        print x_name\n",
    "        print len(x)\n",
    "        print y_name\n",
    "        print len(y)\n",
    "        print 'Effect size: '\n",
    "        print cohen_d(x.tolist(), y.tolist())\n",
    "        print '*'*10\n",
    "        nx = len(x)\n",
    "        ny = len(y)\n",
    "    if verbose:\n",
    "        print 'Comparison between treatment and control'\n",
    "        print_out(concated_df[concated_df['condition']==1]['completion'],\\\n",
    "                  concated_df[concated_df['condition']==0]['completion'],\\\n",
    "                  'Treatment group', 'Control group')\n",
    "        \n",
    "        print 'Comparison between matched and unmatched'\n",
    "        print_out(matched_df['completion'], unmatched_df['completion'], 'Matched group: ', 'Unmatched group: ')\n",
    "\n",
    "        print 'Comparison between matched and actual treatment'\n",
    "        print_out(matched_df['completion'], concated_df[concated_df['condition']==1]['completion'],\\\n",
    "                  'Matched group', 'Actual treatment group')\n",
    "\n",
    "        print 'Comparison between matched and actual control'\n",
    "        print_out(matched_df['completion'],\\\n",
    "                  concated_df[concated_df['condition']==0]['completion'], 'Matched group', 'Actual control group')\n",
    "    \n",
    "    cr = matched_df['completion'].mean()\n",
    "    return concated_df[['condition', 'recommended_condition', 'completion',\\\n",
    "                        'potential_treatment_outcome', 'potential_control_outcome',\\\n",
    "                        'treatment_effect']], cr"
   ]
  },
  {
   "cell_type": "code",
   "execution_count": 46,
   "metadata": {
    "collapsed": true
   },
   "outputs": [],
   "source": [
    "def generate_final_table(test_ps, test_folder_path, folder_name, i_out):\n",
    "    file_name = test_folder_path + folder_name + '/result.test.npz'\n",
    "    # load test data\n",
    "    data_df = load_data(test_ps)\n",
    "    # load predictions on test\n",
    "    result = load_result_file(file_name)\n",
    "    preds = pd.DataFrame(result['pred'][:,:,0,i_out])\n",
    "    post_df, _ = calculate_completion(preds, data_df)\n",
    "    post_df.to_csv(test_folder_path + '/'+str(test_ps)+'-final-table.csv', index=False)"
   ]
  },
  {
   "cell_type": "code",
   "execution_count": 7,
   "metadata": {
    "collapsed": true
   },
   "outputs": [],
   "source": [
    "def load_result_file(file):\n",
    "    arr = np.load(file)\n",
    "\n",
    "    D = dict([(k, arr[k]) for k in arr.keys()])\n",
    "\n",
    "    return D"
   ]
  },
  {
   "cell_type": "code",
   "execution_count": 8,
   "metadata": {
    "collapsed": true
   },
   "outputs": [],
   "source": [
    "def is_number(s):\n",
    "    try:\n",
    "        float(s)\n",
    "        return True\n",
    "    except ValueError:\n",
    "        return False"
   ]
  },
  {
   "cell_type": "code",
   "execution_count": 9,
   "metadata": {
    "collapsed": true
   },
   "outputs": [],
   "source": [
    "def find_best_config(folder_path):\n",
    "    sorted_config_file = folder_path + '/configs_sorted.txt'\n",
    "    config_dict = {}\n",
    "    with open(sorted_config_file) as f:\n",
    "        for line in f:\n",
    "            for ite in line.split(','):\n",
    "                ite = ite.strip()\n",
    "                pair = ite.split('=')\n",
    "                config_dict[pair[0]] = float(pair[1])\n",
    "            break\n",
    "    return config_dict"
   ]
  },
  {
   "cell_type": "code",
   "execution_count": 10,
   "metadata": {
    "collapsed": true
   },
   "outputs": [],
   "source": [
    "def load_evaluation(eval_file):\n",
    "    eval_results, configs = pickle.load(open(eval_file, \"rb\"))\n",
    "    i_sel = np.argmin(eval_results['valid']['policy_risk'], 2)\n",
    "    "
   ]
  },
  {
   "cell_type": "code",
   "execution_count": 107,
   "metadata": {
    "collapsed": false
   },
   "outputs": [
    {
     "name": "stdout",
     "output_type": "stream",
     "text": [
      "The avg completion rate in treatment 0.85652173913\n",
      "The avg completion rate in control 0.900432900433\n",
      "0.8372093023255814\n",
      "13\n",
      "The avg completion rate in treatment 0.903765690377\n",
      "The avg completion rate in control 0.864035087719\n",
      "Comparison between treatment and control\n",
      "Ttest_indResult(statistic=1.341792109212716, pvalue=0.18031826042837046)\n",
      "Treatment group\n",
      "239\n",
      "Control group\n",
      "228\n",
      "Effect size: \n",
      "x group: # 239 \t mean 0.903765690377 \t std 0.295531218606\n",
      "y group: # 228 \t mean 0.864035087719 \t std 0.343505431023\n",
      "0.12421593131805926\n",
      "**********\n",
      "Comparison between matched and unmatched\n",
      "Ttest_indResult(statistic=0.8168869816015373, pvalue=0.4144113304332846)\n",
      "Matched group: \n",
      "232\n",
      "Unmatched group: \n",
      "235\n",
      "Effect size: \n",
      "x group: # 232 \t mean 0.896551724138 \t std 0.305201951303\n",
      "y group: # 235 \t mean 0.872340425532 \t std 0.334422660856\n",
      "0.07560360277524651\n",
      "**********\n",
      "Comparison between matched and actual treatment\n",
      "Ttest_indResult(statistic=-0.2606171899770463, pvalue=0.7945021194891249)\n",
      "Matched group\n",
      "232\n",
      "Actual treatment group\n",
      "239\n",
      "Effect size: \n",
      "x group: # 232 \t mean 0.896551724138 \t std 0.305201951303\n",
      "y group: # 239 \t mean 0.903765690377 \t std 0.295531218606\n",
      "-0.02401986534777855\n",
      "**********\n",
      "Comparison between matched and actual control\n",
      "Ttest_indResult(statistic=1.0737095547432307, pvalue=0.28351824351505467)\n",
      "Matched group\n",
      "232\n",
      "Actual control group\n",
      "228\n",
      "Effect size: \n",
      "x group: # 232 \t mean 0.896551724138 \t std 0.305201951303\n",
      "y group: # 228 \t mean 0.864035087719 \t std 0.343505431023\n",
      "0.10012771786371522\n",
      "**********\n"
     ]
    }
   ],
   "source": [
    "ps = 303899\n",
    "folder_path = 'results/sea/'+str(ps)+'/'\n",
    "config_dict = find_best_config(folder_path)\n",
    "data_df = load_data(ps, 'train')\n",
    "cr_max = 0\n",
    "result_name = ''\n",
    "max_i_out = 0\n",
    "for root, dirs, files in os.walk(folder_path):\n",
    "    for name in dirs:\n",
    "        if 'results_2' in name:\n",
    "            config_file = folder_path + name + '/config.txt'\n",
    "            res_config = {}\n",
    "            with open(config_file) as f:\n",
    "                for line in f:\n",
    "                    line = line.strip()\n",
    "                    pair = line.split(':')\n",
    "                    if is_number(pair[1]):\n",
    "                        res_config[pair[0]] = float(pair[1])\n",
    "            found = True\n",
    "            # check if matched the best config\n",
    "            for key in config_dict.keys():\n",
    "                if res_config[key] != config_dict[key]:\n",
    "                    found = False\n",
    "                    break\n",
    "            if found:\n",
    "                result_name = name\n",
    "                result_file = folder_path + name + '/result.npz'\n",
    "                result = load_result_file(result_file)\n",
    "                preds = result['pred']\n",
    "                n_units, _, n_rep, n_outputs = preds.shape\n",
    "                i_subset = result['val'][0].tolist()\n",
    "                for i_out in range(n_outputs):\n",
    "                    try:\n",
    "                        _, cr = calculate_completion(pd.DataFrame(preds[:,:,0,i_out]), data_df, 0, i_subset)\n",
    "                        if cr > cr_max:\n",
    "                            cr_max = cr\n",
    "                            max_i_out = i_out\n",
    "                    except Exception as e: \n",
    "                        print(e)\n",
    "                        break\n",
    "\n",
    "# once the best config is found then compute the results on testing data\n",
    "print cr_max\n",
    "print max_i_out\n",
    "# print result_name\n",
    "# print max_i_out\n",
    "generate_final_table(ps, folder_path, result_name, max_i_out)"
   ]
  },
  {
   "cell_type": "markdown",
   "metadata": {},
   "source": [
    "### using rebar to calculate standard error"
   ]
  },
  {
   "cell_type": "code",
   "execution_count": 84,
   "metadata": {
    "collapsed": true
   },
   "outputs": [],
   "source": [
    "def calculate_confidence_interval(x, y):\n",
    "    nx = len(x)\n",
    "    ny = len(y)\n",
    "    dof = nx + ny - 2\n",
    "    print 'x group: # {} \\t mean {} \\t std {}'.format(nx, mean(x), std(x, ddof=1))\n",
    "    print 'y group: # {} \\t mean {} \\t std {}'.format(ny, mean(y), std(y, ddof=1))\n",
    "    # standard error\n",
    "    se = np.sqrt(np.var(x) / nx + np.var(y) / ny)\n",
    "    # confidence interval\n",
    "    print stats.t.interval(0.95, dof, loc=mean(y)-mean(x), scale=se)"
   ]
  },
  {
   "cell_type": "code",
   "execution_count": 108,
   "metadata": {
    "collapsed": false
   },
   "outputs": [
    {
     "name": "stdout",
     "output_type": "stream",
     "text": [
      "results/sea/303899/\n",
      "results_20180404_223710-765816\n",
      "The avg completion rate in treatment 0.903765690377\n",
      "The avg completion rate in control 0.864035087719\n"
     ]
    }
   ],
   "source": [
    "print folder_path\n",
    "print result_name\n",
    "file_name = folder_path + result_name + '/result.test.npz'\n",
    "# load test data\n",
    "data_df = load_data(ps)\n",
    "# load predictions on test\n",
    "result = load_result_file(file_name)\n",
    "preds = pd.DataFrame(result['pred'][:,:,0,i_out])\n",
    "concated_df = post_analysis(preds, data_df)"
   ]
  },
  {
   "cell_type": "code",
   "execution_count": 109,
   "metadata": {
    "collapsed": false
   },
   "outputs": [
    {
     "name": "stdout",
     "output_type": "stream",
     "text": [
      "x group: # 228 \t mean 0.864035087719 \t std 0.343505431023\n",
      "y group: # 239 \t mean 0.903765690377 \t std 0.295531218606\n",
      "(-0.018535266035555754, 0.09799647135009734)\n"
     ]
    }
   ],
   "source": [
    "x = concated_df[concated_df['condition'] == 0]['completion']\n",
    "y = concated_df[concated_df['condition'] == 1]['completion']\n",
    "calculate_confidence_interval(x, y)"
   ]
  },
  {
   "cell_type": "code",
   "execution_count": 110,
   "metadata": {
    "collapsed": false
   },
   "outputs": [
    {
     "name": "stdout",
     "output_type": "stream",
     "text": [
      "x group: # 228 \t mean -0.0198218512692 \t std 0.341787613751\n",
      "y group: # 239 \t mean 0.0170406060114 \t std 0.314552417479\n",
      "(-0.022818120552162827, 0.09654303511336602)\n",
      "(-0.06119618920356391, -0.03290342184036615)\n"
     ]
    }
   ],
   "source": [
    "# rebar\n",
    "concated_df['rebar'] = concated_df['completion'] - \\\n",
    "    ((concated_df['potential_control_outcome']+concated_df['potential_treatment_outcome'])/2)\n",
    "#concated_df['rebar'] = concated_df['completion'] - concated_df['potential_control_outcome']\n",
    "x = concated_df[concated_df['condition'] == 0]['rebar']\n",
    "y = concated_df[concated_df['condition'] == 1]['rebar']\n",
    "calculate_confidence_interval(x, y)\n",
    "print stats.t.interval(0.95, len(concated_df)-1, loc=mean(concated_df['treatment_effect']), scale=stats.sem(concated_df['treatment_effect']))"
   ]
  },
  {
   "cell_type": "code",
   "execution_count": 106,
   "metadata": {
    "collapsed": false
   },
   "outputs": [
    {
     "name": "stdout",
     "output_type": "stream",
     "text": [
      "-0.06510247\n",
      "-0.06510247\n"
     ]
    }
   ],
   "source": [
    "print mean(concated_df['treatment_effect'])\n",
    "print concated_df['treatment_effect'].mean()"
   ]
  },
  {
   "cell_type": "code",
   "execution_count": 104,
   "metadata": {
    "collapsed": false
   },
   "outputs": [
    {
     "data": {
      "text/html": [
       "<div>\n",
       "<style scoped>\n",
       "    .dataframe tbody tr th:only-of-type {\n",
       "        vertical-align: middle;\n",
       "    }\n",
       "\n",
       "    .dataframe tbody tr th {\n",
       "        vertical-align: top;\n",
       "    }\n",
       "\n",
       "    .dataframe thead th {\n",
       "        text-align: right;\n",
       "    }\n",
       "</style>\n",
       "<table border=\"1\" class=\"dataframe\">\n",
       "  <thead>\n",
       "    <tr style=\"text-align: right;\">\n",
       "      <th></th>\n",
       "      <th>0</th>\n",
       "      <th>1</th>\n",
       "      <th>condition</th>\n",
       "      <th>completion</th>\n",
       "      <th>4</th>\n",
       "      <th>5</th>\n",
       "      <th>6</th>\n",
       "      <th>7</th>\n",
       "      <th>8</th>\n",
       "      <th>9</th>\n",
       "      <th>...</th>\n",
       "      <th>18</th>\n",
       "      <th>19</th>\n",
       "      <th>20</th>\n",
       "      <th>f</th>\n",
       "      <th>cf</th>\n",
       "      <th>treatment_effect</th>\n",
       "      <th>potential_treatment_outcome</th>\n",
       "      <th>potential_control_outcome</th>\n",
       "      <th>recommended_condition</th>\n",
       "      <th>rebar</th>\n",
       "    </tr>\n",
       "  </thead>\n",
       "  <tbody>\n",
       "    <tr>\n",
       "      <th>0</th>\n",
       "      <td>2280</td>\n",
       "      <td>119747</td>\n",
       "      <td>1</td>\n",
       "      <td>1</td>\n",
       "      <td>0</td>\n",
       "      <td>0.653171</td>\n",
       "      <td>0.977011</td>\n",
       "      <td>0.000000</td>\n",
       "      <td>0.000000</td>\n",
       "      <td>0.000000</td>\n",
       "      <td>...</td>\n",
       "      <td>0.524691</td>\n",
       "      <td>0.000000</td>\n",
       "      <td>0.000000</td>\n",
       "      <td>0.019668</td>\n",
       "      <td>0.922546</td>\n",
       "      <td>-0.902878</td>\n",
       "      <td>0.019668</td>\n",
       "      <td>0.922546</td>\n",
       "      <td>0</td>\n",
       "      <td>0.528893</td>\n",
       "    </tr>\n",
       "    <tr>\n",
       "      <th>1</th>\n",
       "      <td>2282</td>\n",
       "      <td>125427</td>\n",
       "      <td>1</td>\n",
       "      <td>1</td>\n",
       "      <td>0</td>\n",
       "      <td>0.713937</td>\n",
       "      <td>0.875000</td>\n",
       "      <td>-0.631573</td>\n",
       "      <td>0.875000</td>\n",
       "      <td>-0.631573</td>\n",
       "      <td>...</td>\n",
       "      <td>0.043210</td>\n",
       "      <td>0.098592</td>\n",
       "      <td>0.033333</td>\n",
       "      <td>0.003810</td>\n",
       "      <td>0.163985</td>\n",
       "      <td>-0.160174</td>\n",
       "      <td>0.003810</td>\n",
       "      <td>0.163985</td>\n",
       "      <td>0</td>\n",
       "      <td>0.916102</td>\n",
       "    </tr>\n",
       "    <tr>\n",
       "      <th>2</th>\n",
       "      <td>2285</td>\n",
       "      <td>125676</td>\n",
       "      <td>0</td>\n",
       "      <td>1</td>\n",
       "      <td>0</td>\n",
       "      <td>0.699490</td>\n",
       "      <td>0.888889</td>\n",
       "      <td>-0.020667</td>\n",
       "      <td>0.923077</td>\n",
       "      <td>-0.028615</td>\n",
       "      <td>...</td>\n",
       "      <td>0.098765</td>\n",
       "      <td>0.169014</td>\n",
       "      <td>0.033333</td>\n",
       "      <td>0.164135</td>\n",
       "      <td>0.003812</td>\n",
       "      <td>-0.160324</td>\n",
       "      <td>0.003812</td>\n",
       "      <td>0.164135</td>\n",
       "      <td>0</td>\n",
       "      <td>0.916026</td>\n",
       "    </tr>\n",
       "    <tr>\n",
       "      <th>3</th>\n",
       "      <td>2286</td>\n",
       "      <td>125816</td>\n",
       "      <td>0</td>\n",
       "      <td>1</td>\n",
       "      <td>0</td>\n",
       "      <td>0.702575</td>\n",
       "      <td>0.900000</td>\n",
       "      <td>-0.180614</td>\n",
       "      <td>0.857143</td>\n",
       "      <td>-0.196454</td>\n",
       "      <td>...</td>\n",
       "      <td>0.166667</td>\n",
       "      <td>0.253521</td>\n",
       "      <td>0.133333</td>\n",
       "      <td>0.987260</td>\n",
       "      <td>0.997491</td>\n",
       "      <td>0.010231</td>\n",
       "      <td>0.997491</td>\n",
       "      <td>0.987260</td>\n",
       "      <td>1</td>\n",
       "      <td>0.007624</td>\n",
       "    </tr>\n",
       "    <tr>\n",
       "      <th>4</th>\n",
       "      <td>2287</td>\n",
       "      <td>125820</td>\n",
       "      <td>1</td>\n",
       "      <td>1</td>\n",
       "      <td>0</td>\n",
       "      <td>0.699217</td>\n",
       "      <td>1.000000</td>\n",
       "      <td>0.065645</td>\n",
       "      <td>1.000000</td>\n",
       "      <td>0.144419</td>\n",
       "      <td>...</td>\n",
       "      <td>0.339506</td>\n",
       "      <td>0.352113</td>\n",
       "      <td>0.000000</td>\n",
       "      <td>0.997447</td>\n",
       "      <td>0.986313</td>\n",
       "      <td>0.011134</td>\n",
       "      <td>0.997447</td>\n",
       "      <td>0.986313</td>\n",
       "      <td>1</td>\n",
       "      <td>0.008120</td>\n",
       "    </tr>\n",
       "  </tbody>\n",
       "</table>\n",
       "<p>5 rows × 28 columns</p>\n",
       "</div>"
      ],
      "text/plain": [
       "      0       1  condition  completion  4         5         6         7  \\\n",
       "0  2280  119747          1           1  0  0.653171  0.977011  0.000000   \n",
       "1  2282  125427          1           1  0  0.713937  0.875000 -0.631573   \n",
       "2  2285  125676          0           1  0  0.699490  0.888889 -0.020667   \n",
       "3  2286  125816          0           1  0  0.702575  0.900000 -0.180614   \n",
       "4  2287  125820          1           1  0  0.699217  1.000000  0.065645   \n",
       "\n",
       "          8         9    ...           18        19        20         f  \\\n",
       "0  0.000000  0.000000    ...     0.524691  0.000000  0.000000  0.019668   \n",
       "1  0.875000 -0.631573    ...     0.043210  0.098592  0.033333  0.003810   \n",
       "2  0.923077 -0.028615    ...     0.098765  0.169014  0.033333  0.164135   \n",
       "3  0.857143 -0.196454    ...     0.166667  0.253521  0.133333  0.987260   \n",
       "4  1.000000  0.144419    ...     0.339506  0.352113  0.000000  0.997447   \n",
       "\n",
       "         cf  treatment_effect  potential_treatment_outcome  \\\n",
       "0  0.922546         -0.902878                     0.019668   \n",
       "1  0.163985         -0.160174                     0.003810   \n",
       "2  0.003812         -0.160324                     0.003812   \n",
       "3  0.997491          0.010231                     0.997491   \n",
       "4  0.986313          0.011134                     0.997447   \n",
       "\n",
       "   potential_control_outcome  recommended_condition     rebar  \n",
       "0                   0.922546                      0  0.528893  \n",
       "1                   0.163985                      0  0.916102  \n",
       "2                   0.164135                      0  0.916026  \n",
       "3                   0.987260                      1  0.007624  \n",
       "4                   0.986313                      1  0.008120  \n",
       "\n",
       "[5 rows x 28 columns]"
      ]
     },
     "execution_count": 104,
     "metadata": {},
     "output_type": "execute_result"
    }
   ],
   "source": [
    "concated_df.head()"
   ]
  },
  {
   "cell_type": "code",
   "execution_count": null,
   "metadata": {
    "collapsed": false
   },
   "outputs": [],
   "source": [
    "# test on evaluation.npz\n",
    "result_file = 'results/sea/263052/results_20180331_081922-987867/result.test.npz'\n",
    "data_df = load_data(263052, 'test')\n",
    "result = load_result_file(result_file)\n",
    "preds = result['pred']\n",
    "n_units, _, n_rep, n_outputs = preds.shape\n",
    "#i_subset = result['val'][0].tolist()\n",
    "i_subset = None\n",
    "for i_out in range(n_outputs):\n",
    "    _, cr = calculate_completion(pd.DataFrame(preds[:,:,0,i_out]), data_df, 0, i_subset)\n",
    "    if cr > cr_max:\n",
    "        cr_max = cr\n",
    "        result_name = name\n",
    "        max_i_out = i_out\n",
    "    print cr"
   ]
  },
  {
   "cell_type": "code",
   "execution_count": 51,
   "metadata": {
    "collapsed": false
   },
   "outputs": [
    {
     "name": "stdout",
     "output_type": "stream",
     "text": [
      "The avg completion rate in treatment 0.609523809524\n",
      "The avg completion rate in control 0.652173913043\n",
      "Comparison between treatment and control\n",
      "Ttest_indResult(statistic=-0.615850962007453, pvalue=0.5387110562047797)\n",
      "Treatment group\n",
      "105\n",
      "Control group\n",
      "92\n",
      "Effect size: \n",
      "x group: # 105 \t mean 0.609523809524 \t std 0.490196940314\n",
      "y group: # 92 \t mean 0.652173913043 \t std 0.478890260404\n",
      "-0.08794682673762517\n",
      "**********\n",
      "Comparison between matched and unmatched\n",
      "Ttest_indResult(statistic=0.9113742153493164, pvalue=0.3632234923111105)\n",
      "Matched group: \n",
      "92\n",
      "Unmatched group: \n",
      "105\n",
      "Effect size: \n",
      "x group: # 92 \t mean 0.663043478261 \t std 0.475259880626\n",
      "y group: # 105 \t mean 0.6 \t std 0.492247592485\n",
      "0.13014913535118489\n",
      "**********\n",
      "Comparison between matched and actual treatment\n",
      "Ttest_indResult(statistic=0.7754729588346174, pvalue=0.4389996567455109)\n",
      "Matched group\n",
      "92\n",
      "Actual treatment group\n",
      "105\n",
      "Effect size: \n",
      "x group: # 92 \t mean 0.663043478261 \t std 0.475259880626\n",
      "y group: # 105 \t mean 0.609523809524 \t std 0.490196940314\n",
      "0.11074170563610532\n",
      "**********\n",
      "Comparison between matched and actual control\n",
      "Ttest_indResult(statistic=0.15452587867156034, pvalue=0.8773663332522615)\n",
      "Matched group\n",
      "92\n",
      "Actual control group\n",
      "92\n",
      "Effect size: \n",
      "x group: # 92 \t mean 0.663043478261 \t std 0.475259880626\n",
      "y group: # 92 \t mean 0.652173913043 \t std 0.478890260404\n",
      "0.02278359782788915\n",
      "**********\n"
     ]
    }
   ],
   "source": [
    "generate_final_table(263052, 'results/saved/263052/', 'SEA-results_20180220_105747-063679', -1)"
   ]
  }
 ],
 "metadata": {
  "kernelspec": {
   "display_name": "Python 2",
   "language": "python",
   "name": "python2"
  },
  "language_info": {
   "codemirror_mode": {
    "name": "ipython",
    "version": 2
   },
   "file_extension": ".py",
   "mimetype": "text/x-python",
   "name": "python",
   "nbconvert_exporter": "python",
   "pygments_lexer": "ipython2",
   "version": "2.7.12"
  }
 },
 "nbformat": 4,
 "nbformat_minor": 2
}
