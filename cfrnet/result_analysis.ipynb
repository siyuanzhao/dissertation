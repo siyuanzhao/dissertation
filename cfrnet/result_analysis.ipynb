{
 "cells": [
  {
   "cell_type": "code",
   "execution_count": 1,
   "metadata": {
    "collapsed": true
   },
   "outputs": [],
   "source": [
    "import pandas as pd\n",
    "import numpy as np\n",
    "from scipy import stats\n",
    "import os\n",
    "from numpy import std, mean, sqrt"
   ]
  },
  {
   "cell_type": "code",
   "execution_count": 2,
   "metadata": {
    "collapsed": false
   },
   "outputs": [],
   "source": [
    "def load_data(ps):\n",
    "    # test data\n",
    "    test_df = pd.read_csv('data/'+str(ps)+'_test_exp.csv', header=None)\n",
    "    test_df.rename(columns={2: 'condition', 3: 'completion'}, inplace=True)\n",
    "    print 'The avg completion rate in treatment {}'.format(test_df[test_df['condition'] == 1]['completion'].mean())\n",
    "    print 'The avg completion rate in control {}'.format(test_df[test_df['condition'] == 0]['completion'].mean())\n",
    "    return test_df"
   ]
  },
  {
   "cell_type": "markdown",
   "metadata": {},
   "source": [
    "### Post-model analysis"
   ]
  },
  {
   "cell_type": "code",
   "execution_count": 3,
   "metadata": {
    "collapsed": true
   },
   "outputs": [],
   "source": [
    "def post_analysis(file_name, test_df):\n",
    "    #test_df = load_data(ps)\n",
    "    res_df = pd.read_csv(file_name, header=None)\n",
    "    res_df = res_df.rename(columns={0: 'f', 1: 'cf'})\n",
    "    concated_test_df = pd.concat([test_df, res_df], axis=1)\n",
    "    concated_test_df['treatment_effect'] = np.where(concated_test_df['condition']==1, concated_test_df['f']-concated_test_df['cf'], \\\n",
    "                                           concated_test_df['cf']-concated_test_df['f'])\n",
    "\n",
    "    # recommended condition\n",
    "    concated_test_df['recommended_condition'] = np.where(concated_test_df['treatment_effect']>0, 1, 0)\n",
    "    return concated_test_df"
   ]
  },
  {
   "cell_type": "code",
   "execution_count": 12,
   "metadata": {
    "collapsed": true
   },
   "outputs": [],
   "source": [
    "def cohen_d(x,y):\n",
    "    nx = len(x)\n",
    "    ny = len(y)\n",
    "    dof = nx + ny - 2\n",
    "    print 'Matched group: # {} \\t mean {} \\t std {}'.format(nx, mean(x), std(x, ddof=1))\n",
    "    print 'Unmatched group: # {} \\t mean {} \\t std {}'.format(ny, mean(y), std(y, ddof=1))\n",
    "    return (mean(x) - mean(y)) / sqrt(((nx-1)*std(x, ddof=1) ** 2 + (ny-1)*std(y, ddof=1) ** 2) / dof)"
   ]
  },
  {
   "cell_type": "code",
   "execution_count": 13,
   "metadata": {
    "collapsed": false
   },
   "outputs": [],
   "source": [
    "def calculate_completion(file_name, test_df):\n",
    "    concated_df = post_analysis(file_name, test_df)\n",
    "    \n",
    "    matched_df = concated_df[((concated_df['condition'] == 1) & (concated_df['recommended_condition'] == 1)) | ((concated_df['condition'] == 0) & (concated_df['recommended_condition'] == 0))]\n",
    "    unmatched_df = concated_df[((concated_df['condition'] == 1) & (concated_df['recommended_condition'] == 0)) | ((concated_df['condition'] == 0) & (concated_df['recommended_condition'] == 1))]\n",
    "\n",
    "    print stats.ttest_ind(matched_df['completion'], unmatched_df['completion'])\n",
    "    print 'Matched group: '\n",
    "    print matched_df['completion'].sum()*1.0/len(matched_df)\n",
    "    print len(matched_df)\n",
    "    print 'Unmatched group: '\n",
    "    print unmatched_df['completion'].sum()*1.0/len(unmatched_df)\n",
    "    print len(unmatched_df)\n",
    "    print 'Effect size: '\n",
    "    print cohen_d(matched_df['completion'].tolist(), unmatched_df['completion'].tolist())\n",
    "    return concated_df[['condition', 'recommended_condition', 'completion']]"
   ]
  },
  {
   "cell_type": "code",
   "execution_count": null,
   "metadata": {
    "collapsed": false
   },
   "outputs": [],
   "source": [
    "ps = 263115\n",
    "folder_path = 'results/archived/263115/'\n",
    "test_df = load_data(ps)\n",
    "for root, dirs, files in os.walk(folder_path):\n",
    "    for name in dirs:\n",
    "        if 'results' in name:\n",
    "            print 'folder name: {}'.format(name)\n",
    "            file_name = folder_path + name + '/y_pred.test_1.csv'\n",
    "            try:\n",
    "                calculate_completion(file_name, test_df)\n",
    "            except:\n",
    "                print 'Hello'\n",
    "            print '*'*10"
   ]
  },
  {
   "cell_type": "code",
   "execution_count": 14,
   "metadata": {
    "collapsed": false
   },
   "outputs": [
    {
     "name": "stdout",
     "output_type": "stream",
     "text": [
      "results/archived/263115/results_20180220_143942-509542/y_pred.test_1.csv\n",
      "The avg completion rate in treatment 0.886075949367\n",
      "The avg completion rate in control 0.885714285714\n",
      "Ttest_indResult(statistic=1.8417487106980484, pvalue=0.0675271817243208)\n",
      "Matched group: \n",
      "0.9333333333333333\n",
      "75\n",
      "Unmatched group: \n",
      "0.8378378378378378\n",
      "74\n",
      "Effect size: \n",
      "Matched group: # 75 \t mean 0.933333333333 \t std 0.251123601167\n",
      "Unmatched group: # 74 \t mean 0.837837837838 \t std 0.371115572112\n",
      "0.30177066308267425\n"
     ]
    }
   ],
   "source": [
    "test_ps = 263115\n",
    "test_folder_path = 'results/archived/263115/'\n",
    "name = 'results_20180220_143942-509542'\n",
    "def generate_final_table(test_ps, test_folder_path, folder_name):\n",
    "    file_name = test_folder_path + folder_name + '/y_pred.test_1.csv'\n",
    "    print file_name\n",
    "    test_df = load_data(test_ps)\n",
    "    post_df = calculate_completion(file_name, test_df)\n",
    "    post_df.to_csv(str(test_ps)+'-final-table.csv', index=False)\n",
    "generate_final_table(test_ps, test_folder_path, name)"
   ]
  },
  {
   "cell_type": "code",
   "execution_count": 15,
   "metadata": {
    "collapsed": false
   },
   "outputs": [
    {
     "name": "stdout",
     "output_type": "stream",
     "text": [
      "results/archived/263052/results_20180220_105747-063679/y_pred.test_1.csv\n",
      "The avg completion rate in treatment 0.657142857143\n",
      "The avg completion rate in control 0.633928571429\n",
      "Ttest_indResult(statistic=2.157769164128804, pvalue=0.03205432159553306)\n",
      "Matched group: \n",
      "0.7184466019417476\n",
      "103\n",
      "Unmatched group: \n",
      "0.5789473684210527\n",
      "114\n",
      "Effect size: \n",
      "Matched group: # 103 \t mean 0.718446601942 \t std 0.451956004456\n",
      "Unmatched group: # 114 \t mean 0.578947368421 \t std 0.495907799775\n",
      "0.2933349502638108\n"
     ]
    }
   ],
   "source": [
    "test_ps = 263052\n",
    "test_folder_path = 'results/archived/263052/'\n",
    "name = 'results_20180220_105747-063679'\n",
    "generate_final_table(test_ps, test_folder_path, name)"
   ]
  },
  {
   "cell_type": "code",
   "execution_count": null,
   "metadata": {
    "collapsed": false
   },
   "outputs": [],
   "source": [
    "concated_df[['condition', 'recommended_condition', 'completion']].head()"
   ]
  },
  {
   "cell_type": "code",
   "execution_count": null,
   "metadata": {
    "collapsed": true
   },
   "outputs": [],
   "source": [
    "def calculate_treatment_effects(file_name):\n",
    "    res_df = pd.read_csv(file_name, header=None)\n",
    "    res_df = res_df.rename(columns={0: 'f', 1: 'cf'})\n",
    "    concated_test_df = pd.concat([test_df, res_df], axis=1)\n",
    "    concated_test_df['treatment_effect'] = np.where(concated_test_df[2]==1, concated_test_df['f']-concated_test_df['cf'], \\\n",
    "                                           concated_test_df['cf']-concated_test_df['f'])\n",
    "\n",
    "    print 'avg treatment effect is {}'.format(np.mean(concated_test_df['treatment_effect']))\n",
    "    a = concated_test_df['treatment_effect']\n",
    "    print 'confidence interval is {}'.format(st.t.interval(0.95, len(a)-1, loc=np.mean(a), scale=st.sem(a)))"
   ]
  }
 ],
 "metadata": {
  "kernelspec": {
   "display_name": "Python 2",
   "language": "python",
   "name": "python2"
  },
  "language_info": {
   "codemirror_mode": {
    "name": "ipython",
    "version": 2
   },
   "file_extension": ".py",
   "mimetype": "text/x-python",
   "name": "python",
   "nbconvert_exporter": "python",
   "pygments_lexer": "ipython2",
   "version": "2.7.12"
  }
 },
 "nbformat": 4,
 "nbformat_minor": 2
}
