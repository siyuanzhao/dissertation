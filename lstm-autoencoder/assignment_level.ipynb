{
 "cells": [
  {
   "cell_type": "code",
   "execution_count": 1,
   "metadata": {
    "collapsed": true
   },
   "outputs": [],
   "source": [
    "import pandas as pd\n",
    "\n",
    "import random\n",
    "import numpy as np"
   ]
  },
  {
   "cell_type": "code",
   "execution_count": 3,
   "metadata": {
    "collapsed": false
   },
   "outputs": [],
   "source": [
    "df = pd.read_csv('/home/siyuan/git/22-Experiments/ThisOne.csv')"
   ]
  },
  {
   "cell_type": "code",
   "execution_count": 4,
   "metadata": {
    "collapsed": false
   },
   "outputs": [
    {
     "data": {
      "text/html": [
       "<div>\n",
       "<style scoped>\n",
       "    .dataframe tbody tr th:only-of-type {\n",
       "        vertical-align: middle;\n",
       "    }\n",
       "\n",
       "    .dataframe tbody tr th {\n",
       "        vertical-align: top;\n",
       "    }\n",
       "\n",
       "    .dataframe thead th {\n",
       "        text-align: right;\n",
       "    }\n",
       "</style>\n",
       "<table border=\"1\" class=\"dataframe\">\n",
       "  <thead>\n",
       "    <tr style=\"text-align: right;\">\n",
       "      <th></th>\n",
       "      <th>problem_set</th>\n",
       "      <th>problem_set_name</th>\n",
       "      <th>User ID</th>\n",
       "      <th>condition</th>\n",
       "      <th>ExperiencedCondition</th>\n",
       "      <th>Saw Video</th>\n",
       "      <th>Class ID</th>\n",
       "      <th>Class Section ID</th>\n",
       "      <th>Class Grade</th>\n",
       "      <th>Teacher ID</th>\n",
       "      <th>...</th>\n",
       "      <th>Z-Scored Mastery Speed</th>\n",
       "      <th>Prior Homework Assigned</th>\n",
       "      <th>Prior Homework Count</th>\n",
       "      <th>Prior Homework Completion Count</th>\n",
       "      <th>Prior Homework Percent Completion</th>\n",
       "      <th>Prior Class Homework Percent Completion</th>\n",
       "      <th>Z-Scored HW Mastery Speed</th>\n",
       "      <th>complete</th>\n",
       "      <th>log(count)</th>\n",
       "      <th>problem_count</th>\n",
       "    </tr>\n",
       "  </thead>\n",
       "  <tbody>\n",
       "    <tr>\n",
       "      <th>0</th>\n",
       "      <td>226210</td>\n",
       "      <td>Multiplying Mixed Numbers 5.NF.B.4a EX</td>\n",
       "      <td>172777</td>\n",
       "      <td>E</td>\n",
       "      <td>False</td>\n",
       "      <td>NaN</td>\n",
       "      <td>31189</td>\n",
       "      <td>NaN</td>\n",
       "      <td>\"8\"</td>\n",
       "      <td>42999</td>\n",
       "      <td>...</td>\n",
       "      <td>NaN</td>\n",
       "      <td>NaN</td>\n",
       "      <td>NaN</td>\n",
       "      <td>NaN</td>\n",
       "      <td>NaN</td>\n",
       "      <td>NaN</td>\n",
       "      <td>NaN</td>\n",
       "      <td>1</td>\n",
       "      <td>0.602060</td>\n",
       "      <td>4</td>\n",
       "    </tr>\n",
       "    <tr>\n",
       "      <th>1</th>\n",
       "      <td>226210</td>\n",
       "      <td>Multiplying Mixed Numbers 5.NF.B.4a EX</td>\n",
       "      <td>175658</td>\n",
       "      <td>E</td>\n",
       "      <td>True</td>\n",
       "      <td>NaN</td>\n",
       "      <td>30642</td>\n",
       "      <td>54689.0</td>\n",
       "      <td>\"7\"</td>\n",
       "      <td>68444</td>\n",
       "      <td>...</td>\n",
       "      <td>0.0</td>\n",
       "      <td>NaN</td>\n",
       "      <td>NaN</td>\n",
       "      <td>NaN</td>\n",
       "      <td>NaN</td>\n",
       "      <td>NaN</td>\n",
       "      <td>NaN</td>\n",
       "      <td>0</td>\n",
       "      <td>NaN</td>\n",
       "      <td>22</td>\n",
       "    </tr>\n",
       "    <tr>\n",
       "      <th>2</th>\n",
       "      <td>226210</td>\n",
       "      <td>Multiplying Mixed Numbers 5.NF.B.4a EX</td>\n",
       "      <td>175669</td>\n",
       "      <td>E</td>\n",
       "      <td>True</td>\n",
       "      <td>NaN</td>\n",
       "      <td>29270</td>\n",
       "      <td>51191.0</td>\n",
       "      <td>\"6\"</td>\n",
       "      <td>59965</td>\n",
       "      <td>...</td>\n",
       "      <td>NaN</td>\n",
       "      <td>NaN</td>\n",
       "      <td>NaN</td>\n",
       "      <td>NaN</td>\n",
       "      <td>NaN</td>\n",
       "      <td>NaN</td>\n",
       "      <td>NaN</td>\n",
       "      <td>1</td>\n",
       "      <td>1.041393</td>\n",
       "      <td>11</td>\n",
       "    </tr>\n",
       "    <tr>\n",
       "      <th>3</th>\n",
       "      <td>226210</td>\n",
       "      <td>Multiplying Mixed Numbers 5.NF.B.4a EX</td>\n",
       "      <td>176151</td>\n",
       "      <td>E</td>\n",
       "      <td>True</td>\n",
       "      <td>NaN</td>\n",
       "      <td>29270</td>\n",
       "      <td>51191.0</td>\n",
       "      <td>\"6\"</td>\n",
       "      <td>59965</td>\n",
       "      <td>...</td>\n",
       "      <td>NaN</td>\n",
       "      <td>NaN</td>\n",
       "      <td>NaN</td>\n",
       "      <td>NaN</td>\n",
       "      <td>NaN</td>\n",
       "      <td>NaN</td>\n",
       "      <td>NaN</td>\n",
       "      <td>1</td>\n",
       "      <td>1.000000</td>\n",
       "      <td>10</td>\n",
       "    </tr>\n",
       "    <tr>\n",
       "      <th>4</th>\n",
       "      <td>226210</td>\n",
       "      <td>Multiplying Mixed Numbers 5.NF.B.4a EX</td>\n",
       "      <td>176165</td>\n",
       "      <td>E</td>\n",
       "      <td>True</td>\n",
       "      <td>NaN</td>\n",
       "      <td>29270</td>\n",
       "      <td>51191.0</td>\n",
       "      <td>\"6\"</td>\n",
       "      <td>59965</td>\n",
       "      <td>...</td>\n",
       "      <td>0.0</td>\n",
       "      <td>NaN</td>\n",
       "      <td>NaN</td>\n",
       "      <td>NaN</td>\n",
       "      <td>NaN</td>\n",
       "      <td>NaN</td>\n",
       "      <td>NaN</td>\n",
       "      <td>0</td>\n",
       "      <td>NaN</td>\n",
       "      <td>6</td>\n",
       "    </tr>\n",
       "  </tbody>\n",
       "</table>\n",
       "<p>5 rows × 33 columns</p>\n",
       "</div>"
      ],
      "text/plain": [
       "   problem_set                        problem_set_name  User ID condition  \\\n",
       "0       226210  Multiplying Mixed Numbers 5.NF.B.4a EX   172777         E   \n",
       "1       226210  Multiplying Mixed Numbers 5.NF.B.4a EX   175658         E   \n",
       "2       226210  Multiplying Mixed Numbers 5.NF.B.4a EX   175669         E   \n",
       "3       226210  Multiplying Mixed Numbers 5.NF.B.4a EX   176151         E   \n",
       "4       226210  Multiplying Mixed Numbers 5.NF.B.4a EX   176165         E   \n",
       "\n",
       "   ExperiencedCondition  Saw Video  Class ID  Class Section ID Class Grade  \\\n",
       "0                 False        NaN     31189               NaN         \"8\"   \n",
       "1                  True        NaN     30642           54689.0         \"7\"   \n",
       "2                  True        NaN     29270           51191.0         \"6\"   \n",
       "3                  True        NaN     29270           51191.0         \"6\"   \n",
       "4                  True        NaN     29270           51191.0         \"6\"   \n",
       "\n",
       "   Teacher ID      ...       Z-Scored Mastery Speed Prior Homework Assigned  \\\n",
       "0       42999      ...                          NaN                     NaN   \n",
       "1       68444      ...                          0.0                     NaN   \n",
       "2       59965      ...                          NaN                     NaN   \n",
       "3       59965      ...                          NaN                     NaN   \n",
       "4       59965      ...                          0.0                     NaN   \n",
       "\n",
       "   Prior Homework Count  Prior Homework Completion Count  \\\n",
       "0                   NaN                              NaN   \n",
       "1                   NaN                              NaN   \n",
       "2                   NaN                              NaN   \n",
       "3                   NaN                              NaN   \n",
       "4                   NaN                              NaN   \n",
       "\n",
       "   Prior Homework Percent Completion  Prior Class Homework Percent Completion  \\\n",
       "0                                NaN                                      NaN   \n",
       "1                                NaN                                      NaN   \n",
       "2                                NaN                                      NaN   \n",
       "3                                NaN                                      NaN   \n",
       "4                                NaN                                      NaN   \n",
       "\n",
       "   Z-Scored HW Mastery Speed  complete  log(count)  problem_count  \n",
       "0                        NaN         1    0.602060              4  \n",
       "1                        NaN         0         NaN             22  \n",
       "2                        NaN         1    1.041393             11  \n",
       "3                        NaN         1    1.000000             10  \n",
       "4                        NaN         0         NaN              6  \n",
       "\n",
       "[5 rows x 33 columns]"
      ]
     },
     "execution_count": 4,
     "metadata": {},
     "output_type": "execute_result"
    }
   ],
   "source": [
    "df.head()"
   ]
  },
  {
   "cell_type": "code",
   "execution_count": 5,
   "metadata": {
    "collapsed": false
   },
   "outputs": [
    {
     "data": {
      "text/plain": [
       "8297"
      ]
     },
     "execution_count": 5,
     "metadata": {},
     "output_type": "execute_result"
    }
   ],
   "source": [
    "len(df['User ID'].unique())"
   ]
  },
  {
   "cell_type": "code",
   "execution_count": 6,
   "metadata": {
    "collapsed": true
   },
   "outputs": [],
   "source": [
    "with open('all_this_one_students_list', 'w') as f:\n",
    "    f.write((',').join(map(lambda x: str(x), df['User ID'].unique().tolist())))"
   ]
  },
  {
   "cell_type": "code",
   "execution_count": 2,
   "metadata": {
    "collapsed": false
   },
   "outputs": [
    {
     "name": "stderr",
     "output_type": "stream",
     "text": [
      "/usr/local/lib/python2.7/site-packages/IPython/core/interactiveshell.py:2717: DtypeWarning: Columns (21,23,25) have mixed types. Specify dtype option on import or set low_memory=False.\n",
      "  interactivity=interactivity, compiler=compiler, result=result)\n"
     ]
    }
   ],
   "source": [
    "pl_df = pd.read_csv('this_one_problem_logs_seq.csv')"
   ]
  },
  {
   "cell_type": "code",
   "execution_count": 3,
   "metadata": {
    "collapsed": true
   },
   "outputs": [],
   "source": [
    "pl_df= pl_df[pl_df['original']==1].reset_index()"
   ]
  },
  {
   "cell_type": "code",
   "execution_count": 4,
   "metadata": {
    "collapsed": false
   },
   "outputs": [
    {
     "name": "stdout",
     "output_type": "stream",
     "text": [
      "7691474\n",
      "7691474\n"
     ]
    }
   ],
   "source": [
    "print len(pl_df)\n",
    "print len(pl_df[pl_df['original']==1])"
   ]
  },
  {
   "cell_type": "code",
   "execution_count": 5,
   "metadata": {
    "collapsed": false
   },
   "outputs": [
    {
     "data": {
      "text/plain": [
       "190591"
      ]
     },
     "execution_count": 5,
     "metadata": {},
     "output_type": "execute_result"
    }
   ],
   "source": [
    "len(pl_df['problem_id'].unique())"
   ]
  },
  {
   "cell_type": "code",
   "execution_count": 10,
   "metadata": {
    "collapsed": true
   },
   "outputs": [],
   "source": [
    "with open('all_this_one_problem_list', 'w') as f:\n",
    "    f.write((',').join(map(lambda x: str(x), pl_df['problem_id'].unique().tolist())))"
   ]
  },
  {
   "cell_type": "code",
   "execution_count": 11,
   "metadata": {
    "collapsed": true
   },
   "outputs": [],
   "source": [
    "with open('all_this_one_assignment_list', 'w') as f:\n",
    "    f.write((',').join(map(lambda x: '('+str(x)+')', pl_df['assignment_id'].unique().tolist())))"
   ]
  },
  {
   "cell_type": "code",
   "execution_count": 6,
   "metadata": {
    "collapsed": false
   },
   "outputs": [
    {
     "data": {
      "text/html": [
       "<div>\n",
       "<table border=\"1\" class=\"dataframe\">\n",
       "  <thead>\n",
       "    <tr style=\"text-align: right;\">\n",
       "      <th></th>\n",
       "      <th>index</th>\n",
       "      <th>id</th>\n",
       "      <th>assignment_id</th>\n",
       "      <th>user_id</th>\n",
       "      <th>assistment_id</th>\n",
       "      <th>problem_id</th>\n",
       "      <th>original</th>\n",
       "      <th>correct</th>\n",
       "      <th>answer_id</th>\n",
       "      <th>answer_text</th>\n",
       "      <th>...</th>\n",
       "      <th>actions</th>\n",
       "      <th>tutor_strategy_id</th>\n",
       "      <th>tutor_mode</th>\n",
       "      <th>assignment_type</th>\n",
       "      <th>teacher_comment</th>\n",
       "      <th>network_state</th>\n",
       "      <th>path_info</th>\n",
       "      <th>discrete_score</th>\n",
       "      <th>updated_at</th>\n",
       "      <th>sequence_id</th>\n",
       "    </tr>\n",
       "  </thead>\n",
       "  <tbody>\n",
       "    <tr>\n",
       "      <th>0</th>\n",
       "      <td>2</td>\n",
       "      <td>15808280</td>\n",
       "      <td>218551</td>\n",
       "      <td>75064</td>\n",
       "      <td>12375</td>\n",
       "      <td>12375</td>\n",
       "      <td>1</td>\n",
       "      <td>0.0</td>\n",
       "      <td>NaN</td>\n",
       "      <td>NaN</td>\n",
       "      <td>...</td>\n",
       "      <td>--- \\n- - start\\n  - 1237387856717\\n- - hint\\n...</td>\n",
       "      <td>4199.0</td>\n",
       "      <td>tutor</td>\n",
       "      <td>ClassAssignment</td>\n",
       "      <td>NaN</td>\n",
       "      <td>NaN</td>\n",
       "      <td>NaN</td>\n",
       "      <td>NaN</td>\n",
       "      <td>NaN</td>\n",
       "      <td>5110</td>\n",
       "    </tr>\n",
       "    <tr>\n",
       "      <th>1</th>\n",
       "      <td>3</td>\n",
       "      <td>17558128</td>\n",
       "      <td>218522</td>\n",
       "      <td>75064</td>\n",
       "      <td>12375</td>\n",
       "      <td>12375</td>\n",
       "      <td>1</td>\n",
       "      <td>0.0</td>\n",
       "      <td>NaN</td>\n",
       "      <td>NaN</td>\n",
       "      <td>...</td>\n",
       "      <td>--- \\n- - start\\n  - 1241017133750\\n- - hint\\n...</td>\n",
       "      <td>4199.0</td>\n",
       "      <td>tutor</td>\n",
       "      <td>ClassAssignment</td>\n",
       "      <td>NaN</td>\n",
       "      <td>NaN</td>\n",
       "      <td>NaN</td>\n",
       "      <td>NaN</td>\n",
       "      <td>NaN</td>\n",
       "      <td>2427</td>\n",
       "    </tr>\n",
       "    <tr>\n",
       "      <th>2</th>\n",
       "      <td>11</td>\n",
       "      <td>18415148</td>\n",
       "      <td>218537</td>\n",
       "      <td>75064</td>\n",
       "      <td>30116</td>\n",
       "      <td>43004</td>\n",
       "      <td>1</td>\n",
       "      <td>0.0</td>\n",
       "      <td>NaN</td>\n",
       "      <td>number of parts</td>\n",
       "      <td>...</td>\n",
       "      <td>--- \\n- - start\\n  - 1242156805143\\n- - answer...</td>\n",
       "      <td>18202.0</td>\n",
       "      <td>tutor</td>\n",
       "      <td>ClassAssignment</td>\n",
       "      <td>NaN</td>\n",
       "      <td>NaN</td>\n",
       "      <td>NaN</td>\n",
       "      <td>NaN</td>\n",
       "      <td>NaN</td>\n",
       "      <td>5443</td>\n",
       "    </tr>\n",
       "    <tr>\n",
       "      <th>3</th>\n",
       "      <td>12</td>\n",
       "      <td>149640236</td>\n",
       "      <td>883404</td>\n",
       "      <td>75064</td>\n",
       "      <td>1516</td>\n",
       "      <td>1516</td>\n",
       "      <td>1</td>\n",
       "      <td>0.0</td>\n",
       "      <td>NaN</td>\n",
       "      <td>0</td>\n",
       "      <td>...</td>\n",
       "      <td>--- \\n- - start\\n  - 1385418910996\\n  - \"15502...</td>\n",
       "      <td>16756.0</td>\n",
       "      <td>tutor</td>\n",
       "      <td>ClassAssignment</td>\n",
       "      <td>NaN</td>\n",
       "      <td>CONNECTED</td>\n",
       "      <td>NaN</td>\n",
       "      <td>NaN</td>\n",
       "      <td>NaN</td>\n",
       "      <td>8728</td>\n",
       "    </tr>\n",
       "    <tr>\n",
       "      <th>4</th>\n",
       "      <td>16</td>\n",
       "      <td>149640353</td>\n",
       "      <td>883404</td>\n",
       "      <td>75064</td>\n",
       "      <td>912</td>\n",
       "      <td>912</td>\n",
       "      <td>1</td>\n",
       "      <td>1.0</td>\n",
       "      <td>NaN</td>\n",
       "      <td>a &gt; b</td>\n",
       "      <td>...</td>\n",
       "      <td>--- \\n- - start\\n  - 1385419086157\\n  - \"15502...</td>\n",
       "      <td>NaN</td>\n",
       "      <td>tutor</td>\n",
       "      <td>ClassAssignment</td>\n",
       "      <td>NaN</td>\n",
       "      <td>CONNECTED</td>\n",
       "      <td>NaN</td>\n",
       "      <td>NaN</td>\n",
       "      <td>NaN</td>\n",
       "      <td>8728</td>\n",
       "    </tr>\n",
       "  </tbody>\n",
       "</table>\n",
       "<p>5 rows × 28 columns</p>\n",
       "</div>"
      ],
      "text/plain": [
       "   index         id  assignment_id  user_id  assistment_id  problem_id  \\\n",
       "0      2   15808280         218551    75064          12375       12375   \n",
       "1      3   17558128         218522    75064          12375       12375   \n",
       "2     11   18415148         218537    75064          30116       43004   \n",
       "3     12  149640236         883404    75064           1516        1516   \n",
       "4     16  149640353         883404    75064            912         912   \n",
       "\n",
       "   original  correct  answer_id      answer_text     ...       \\\n",
       "0         1      0.0        NaN              NaN     ...        \n",
       "1         1      0.0        NaN              NaN     ...        \n",
       "2         1      0.0        NaN  number of parts     ...        \n",
       "3         1      0.0        NaN                0     ...        \n",
       "4         1      1.0        NaN            a > b     ...        \n",
       "\n",
       "                                             actions  tutor_strategy_id  \\\n",
       "0  --- \\n- - start\\n  - 1237387856717\\n- - hint\\n...             4199.0   \n",
       "1  --- \\n- - start\\n  - 1241017133750\\n- - hint\\n...             4199.0   \n",
       "2  --- \\n- - start\\n  - 1242156805143\\n- - answer...            18202.0   \n",
       "3  --- \\n- - start\\n  - 1385418910996\\n  - \"15502...            16756.0   \n",
       "4  --- \\n- - start\\n  - 1385419086157\\n  - \"15502...                NaN   \n",
       "\n",
       "   tutor_mode  assignment_type teacher_comment network_state  path_info  \\\n",
       "0       tutor  ClassAssignment             NaN           NaN        NaN   \n",
       "1       tutor  ClassAssignment             NaN           NaN        NaN   \n",
       "2       tutor  ClassAssignment             NaN           NaN        NaN   \n",
       "3       tutor  ClassAssignment             NaN     CONNECTED        NaN   \n",
       "4       tutor  ClassAssignment             NaN     CONNECTED        NaN   \n",
       "\n",
       "   discrete_score updated_at  sequence_id  \n",
       "0             NaN        NaN         5110  \n",
       "1             NaN        NaN         2427  \n",
       "2             NaN        NaN         5443  \n",
       "3             NaN        NaN         8728  \n",
       "4             NaN        NaN         8728  \n",
       "\n",
       "[5 rows x 28 columns]"
      ]
     },
     "execution_count": 6,
     "metadata": {},
     "output_type": "execute_result"
    }
   ],
   "source": [
    "pl_df.head()"
   ]
  },
  {
   "cell_type": "code",
   "execution_count": 7,
   "metadata": {
    "collapsed": false
   },
   "outputs": [],
   "source": [
    "problem_set = 303899\n",
    "ps_df = pd.read_csv('~/git/22-Experiments/'+str(problem_set)+'_exp.csv', header=None)\n",
    "train_df = pl_df[(pl_df['user_id'].isin(ps_df[1].unique().tolist())) & (pl_df['original']==1)].reset_index()"
   ]
  },
  {
   "cell_type": "code",
   "execution_count": 8,
   "metadata": {
    "collapsed": false
   },
   "outputs": [
    {
     "data": {
      "text/plain": [
       "928"
      ]
     },
     "execution_count": 8,
     "metadata": {},
     "output_type": "execute_result"
    }
   ],
   "source": [
    "len(train_df['user_id'].unique())"
   ]
  },
  {
   "cell_type": "code",
   "execution_count": 9,
   "metadata": {
    "collapsed": false
   },
   "outputs": [
    {
     "data": {
      "text/plain": [
       "80950"
      ]
     },
     "execution_count": 9,
     "metadata": {},
     "output_type": "execute_result"
    }
   ],
   "source": [
    "len(train_df['problem_id'].unique())"
   ]
  },
  {
   "cell_type": "code",
   "execution_count": null,
   "metadata": {
    "collapsed": false
   },
   "outputs": [],
   "source": [
    "len(train_df['assignment_id'].unique().tolist())"
   ]
  },
  {
   "cell_type": "code",
   "execution_count": null,
   "metadata": {
    "collapsed": false
   },
   "outputs": [],
   "source": [
    "with open(str(problem_set)+'_assignment_list_2', 'w') as f:\n",
    "    f.write((',').join(map(lambda x: '('+str(x)+')', train_df['assignment_id'].unique().tolist())))"
   ]
  },
  {
   "cell_type": "code",
   "execution_count": null,
   "metadata": {
    "collapsed": true
   },
   "outputs": [],
   "source": [
    "with open(str(problem_set)+'_problem_list', 'w') as f:\n",
    "    f.write((',').join(map(lambda x: str(x), train_df['problem_id'].unique().tolist())))"
   ]
  }
 ],
 "metadata": {
  "kernelspec": {
   "display_name": "Python 2",
   "language": "python",
   "name": "python2"
  },
  "language_info": {
   "codemirror_mode": {
    "name": "ipython",
    "version": 2
   },
   "file_extension": ".py",
   "mimetype": "text/x-python",
   "name": "python",
   "nbconvert_exporter": "python",
   "pygments_lexer": "ipython2",
   "version": "2.7.12"
  }
 },
 "nbformat": 4,
 "nbformat_minor": 2
}
