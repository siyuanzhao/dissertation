{
 "cells": [
  {
   "cell_type": "code",
   "execution_count": 69,
   "metadata": {
    "collapsed": false
   },
   "outputs": [],
   "source": [
    "import numpy as np\n",
    "import pandas as pd\n",
    "from quantile_norm import quantileNormalize"
   ]
  },
  {
   "cell_type": "code",
   "execution_count": 2,
   "metadata": {
    "collapsed": false
   },
   "outputs": [
    {
     "name": "stderr",
     "output_type": "stream",
     "text": [
      "/usr/local/lib/python2.7/site-packages/IPython/core/interactiveshell.py:2717: DtypeWarning: Columns (21,23,25) have mixed types. Specify dtype option on import or set low_memory=False.\n",
      "  interactivity=interactivity, compiler=compiler, result=result)\n"
     ]
    }
   ],
   "source": [
    "pl_df = pd.read_csv('this_one_problem_logs_seq.csv')"
   ]
  },
  {
   "cell_type": "code",
   "execution_count": 3,
   "metadata": {
    "collapsed": true
   },
   "outputs": [],
   "source": [
    "# read 9 experiments\n",
    "problem_set = 303899\n",
    "ps_df = pd.read_csv('~/git/22-Experiments/'+str(problem_set)+'_exp.csv', header=None)"
   ]
  },
  {
   "cell_type": "code",
   "execution_count": 40,
   "metadata": {
    "collapsed": true
   },
   "outputs": [],
   "source": [
    "train_df = pl_df[pl_df['user_id'].isin(ps_df[1].unique().tolist())].reset_index()"
   ]
  },
  {
   "cell_type": "code",
   "execution_count": 41,
   "metadata": {
    "collapsed": true
   },
   "outputs": [],
   "source": [
    "train_df = train_df[train_df['original'] == 1]"
   ]
  },
  {
   "cell_type": "code",
   "execution_count": 6,
   "metadata": {
    "collapsed": false
   },
   "outputs": [
    {
     "data": {
      "text/plain": [
       "944921"
      ]
     },
     "execution_count": 6,
     "metadata": {},
     "output_type": "execute_result"
    }
   ],
   "source": [
    "len(train_df)"
   ]
  },
  {
   "cell_type": "code",
   "execution_count": 42,
   "metadata": {
    "collapsed": false
   },
   "outputs": [
    {
     "data": {
      "text/plain": [
       "928"
      ]
     },
     "execution_count": 42,
     "metadata": {},
     "output_type": "execute_result"
    }
   ],
   "source": [
    "len(train_df['user_id'].unique())"
   ]
  },
  {
   "cell_type": "code",
   "execution_count": 43,
   "metadata": {
    "collapsed": false
   },
   "outputs": [
    {
     "name": "stdout",
     "output_type": "stream",
     "text": [
      "583\n"
     ]
    }
   ],
   "source": [
    "sub_counts = pd.value_counts(train_df['sequence_id'])\n",
    "\n",
    "ps_cnt = len(sub_counts[sub_counts > 400])\n",
    "print ps_cnt"
   ]
  },
  {
   "cell_type": "code",
   "execution_count": 44,
   "metadata": {
    "collapsed": true
   },
   "outputs": [],
   "source": [
    "mask = train_df['sequence_id'].isin(sub_counts[sub_counts > 400].index)\n",
    "train_df['sequence_id'][~mask] = \"-\"\n",
    "sub_df = train_df"
   ]
  },
  {
   "cell_type": "code",
   "execution_count": 28,
   "metadata": {
    "collapsed": true
   },
   "outputs": [],
   "source": [
    "sub_df = train_df\n",
    "new_df = pd.DataFrame()\n",
    "new_df = pd.get_dummies(sub_df['sequence_id'])\n",
    "# u'correct , u'bottom_hint, u'hint_count, u'attempt_count, u'first_response_time, first_action\n",
    "# binary correctness\n",
    "new_df['correct'] = np.where(sub_df['correct'] < 1, 0, 1)\n",
    "new_df['bottom_hint'] = sub_df['bottom_hint']\n",
    "new_df['hint_count'] = sub_df['hint_count']\n",
    "new_df['attempt_count'] = sub_df['attempt_count']\n",
    "new_df['first_response_time'] = sub_df['first_response_time']\n",
    "# first action\n",
    "new_df['first_action'] = sub_df['first_action']\n",
    "\n",
    "norm = lambda x: (x - x.min()) / (x.max() - x.min()) if x.max() - x.min() else x/(x+1)\n",
    "# normalize within problems\n",
    "new_df.insert(len(new_df.columns), 'NofFRT', sub_df.groupby('sequence_id')['first_response_time'].transform(norm))\n",
    "del new_df['first_response_time']\n",
    "\n",
    "new_df.insert(len(new_df.columns), 'normalized_hint_count', sub_df.groupby('sequence_id')['hint_count'].transform(norm))\n",
    "del new_df['hint_count']\n",
    "\n",
    "new_df.insert(len(new_df.columns), 'normalized_attempt_count', sub_df.groupby('sequence_id')['attempt_count'].transform(norm))\n",
    "del new_df['attempt_count']\n",
    "\n",
    "new_df['user_id'] = sub_df['user_id']\n",
    "new_df['id'] = sub_df['id']"
   ]
  },
  {
   "cell_type": "code",
   "execution_count": 33,
   "metadata": {
    "collapsed": true
   },
   "outputs": [],
   "source": [
    "start_complete_df = pd.read_csv('this_one_assignment_start_complete.csv')"
   ]
  },
  {
   "cell_type": "code",
   "execution_count": 87,
   "metadata": {
    "collapsed": false
   },
   "outputs": [],
   "source": [
    "start_complete_df = start_complete_df.drop_duplicates()"
   ]
  },
  {
   "cell_type": "code",
   "execution_count": 57,
   "metadata": {
    "collapsed": false
   },
   "outputs": [
    {
     "data": {
      "text/html": [
       "<div>\n",
       "<table border=\"1\" class=\"dataframe\">\n",
       "  <thead>\n",
       "    <tr style=\"text-align: right;\">\n",
       "      <th></th>\n",
       "      <th>user_id</th>\n",
       "      <th>assignment_id</th>\n",
       "      <th>assignment_started</th>\n",
       "      <th>assignment_completed</th>\n",
       "    </tr>\n",
       "  </thead>\n",
       "  <tbody>\n",
       "    <tr>\n",
       "      <th>172</th>\n",
       "      <td>52535</td>\n",
       "      <td>759956</td>\n",
       "      <td>1</td>\n",
       "      <td>1</td>\n",
       "    </tr>\n",
       "    <tr>\n",
       "      <th>183</th>\n",
       "      <td>52535</td>\n",
       "      <td>808385</td>\n",
       "      <td>1</td>\n",
       "      <td>1</td>\n",
       "    </tr>\n",
       "    <tr>\n",
       "      <th>193</th>\n",
       "      <td>78952</td>\n",
       "      <td>692338</td>\n",
       "      <td>1</td>\n",
       "      <td>1</td>\n",
       "    </tr>\n",
       "    <tr>\n",
       "      <th>194</th>\n",
       "      <td>78952</td>\n",
       "      <td>692343</td>\n",
       "      <td>1</td>\n",
       "      <td>1</td>\n",
       "    </tr>\n",
       "    <tr>\n",
       "      <th>195</th>\n",
       "      <td>78952</td>\n",
       "      <td>692347</td>\n",
       "      <td>1</td>\n",
       "      <td>1</td>\n",
       "    </tr>\n",
       "  </tbody>\n",
       "</table>\n",
       "</div>"
      ],
      "text/plain": [
       "     user_id  assignment_id  assignment_started  assignment_completed\n",
       "172    52535         759956                   1                     1\n",
       "183    52535         808385                   1                     1\n",
       "193    78952         692338                   1                     1\n",
       "194    78952         692343                   1                     1\n",
       "195    78952         692347                   1                     1"
      ]
     },
     "execution_count": 57,
     "metadata": {},
     "output_type": "execute_result"
    }
   ],
   "source": [
    "start_complete_df[start_complete_df['assignment_completed']==1].head()"
   ]
  },
  {
   "cell_type": "code",
   "execution_count": 37,
   "metadata": {
    "collapsed": false
   },
   "outputs": [
    {
     "data": {
      "text/plain": [
       "0    324506\n",
       "1    324506\n",
       "2    324506\n",
       "3    324506\n",
       "4    324506\n",
       "Name: assignment_id, dtype: int64"
      ]
     },
     "execution_count": 37,
     "metadata": {},
     "output_type": "execute_result"
    }
   ],
   "source": [
    "sub_df['assignment_id'].head()"
   ]
  },
  {
   "cell_type": "code",
   "execution_count": 88,
   "metadata": {
    "collapsed": false
   },
   "outputs": [],
   "source": [
    "join_df = pd.merge(sub_df, start_complete_df, on=['assignment_id', 'user_id'], how='left')"
   ]
  },
  {
   "cell_type": "code",
   "execution_count": 89,
   "metadata": {
    "collapsed": false
   },
   "outputs": [
    {
     "name": "stdout",
     "output_type": "stream",
     "text": [
      "944921\n",
      "944921\n"
     ]
    }
   ],
   "source": [
    "print len(join_df)\n",
    "print len(sub_df)"
   ]
  },
  {
   "cell_type": "code",
   "execution_count": 58,
   "metadata": {
    "collapsed": false
   },
   "outputs": [],
   "source": [
    "type_df = pd.read_csv('this_one_assignment_type.csv')"
   ]
  },
  {
   "cell_type": "code",
   "execution_count": 59,
   "metadata": {
    "collapsed": false
   },
   "outputs": [
    {
     "data": {
      "text/html": [
       "<div>\n",
       "<table border=\"1\" class=\"dataframe\">\n",
       "  <thead>\n",
       "    <tr style=\"text-align: right;\">\n",
       "      <th></th>\n",
       "      <th>sequence_id</th>\n",
       "      <th>root_sequence_id</th>\n",
       "      <th>is_rct</th>\n",
       "      <th>math_certified_items</th>\n",
       "      <th>certified_skill_builder_items</th>\n",
       "      <th>is_flat_skill_builder</th>\n",
       "      <th>textbook_items</th>\n",
       "      <th>certified_problem_solving_items</th>\n",
       "      <th>assignment_id</th>\n",
       "    </tr>\n",
       "  </thead>\n",
       "  <tbody>\n",
       "    <tr>\n",
       "      <th>0</th>\n",
       "      <td>2285</td>\n",
       "      <td>2285</td>\n",
       "      <td>0</td>\n",
       "      <td>0.576923</td>\n",
       "      <td>0.0</td>\n",
       "      <td>0</td>\n",
       "      <td>0.00</td>\n",
       "      <td>0.576923</td>\n",
       "      <td>1117845</td>\n",
       "    </tr>\n",
       "    <tr>\n",
       "      <th>1</th>\n",
       "      <td>2427</td>\n",
       "      <td>2427</td>\n",
       "      <td>0</td>\n",
       "      <td>0.840000</td>\n",
       "      <td>0.0</td>\n",
       "      <td>0</td>\n",
       "      <td>0.84</td>\n",
       "      <td>0.080000</td>\n",
       "      <td>919829</td>\n",
       "    </tr>\n",
       "    <tr>\n",
       "      <th>2</th>\n",
       "      <td>8625</td>\n",
       "      <td>2634</td>\n",
       "      <td>0</td>\n",
       "      <td>0.333333</td>\n",
       "      <td>0.0</td>\n",
       "      <td>0</td>\n",
       "      <td>0.00</td>\n",
       "      <td>0.333333</td>\n",
       "      <td>486542</td>\n",
       "    </tr>\n",
       "    <tr>\n",
       "      <th>3</th>\n",
       "      <td>8625</td>\n",
       "      <td>2634</td>\n",
       "      <td>0</td>\n",
       "      <td>0.333333</td>\n",
       "      <td>0.0</td>\n",
       "      <td>0</td>\n",
       "      <td>0.00</td>\n",
       "      <td>0.333333</td>\n",
       "      <td>1032702</td>\n",
       "    </tr>\n",
       "    <tr>\n",
       "      <th>4</th>\n",
       "      <td>8625</td>\n",
       "      <td>2634</td>\n",
       "      <td>0</td>\n",
       "      <td>0.333333</td>\n",
       "      <td>0.0</td>\n",
       "      <td>0</td>\n",
       "      <td>0.00</td>\n",
       "      <td>0.333333</td>\n",
       "      <td>486542</td>\n",
       "    </tr>\n",
       "  </tbody>\n",
       "</table>\n",
       "</div>"
      ],
      "text/plain": [
       "   sequence_id  root_sequence_id  is_rct  math_certified_items  \\\n",
       "0         2285              2285       0              0.576923   \n",
       "1         2427              2427       0              0.840000   \n",
       "2         8625              2634       0              0.333333   \n",
       "3         8625              2634       0              0.333333   \n",
       "4         8625              2634       0              0.333333   \n",
       "\n",
       "   certified_skill_builder_items  is_flat_skill_builder  textbook_items  \\\n",
       "0                            0.0                      0            0.00   \n",
       "1                            0.0                      0            0.84   \n",
       "2                            0.0                      0            0.00   \n",
       "3                            0.0                      0            0.00   \n",
       "4                            0.0                      0            0.00   \n",
       "\n",
       "   certified_problem_solving_items  assignment_id  \n",
       "0                         0.576923        1117845  \n",
       "1                         0.080000         919829  \n",
       "2                         0.333333         486542  \n",
       "3                         0.333333        1032702  \n",
       "4                         0.333333         486542  "
      ]
     },
     "execution_count": 59,
     "metadata": {},
     "output_type": "execute_result"
    }
   ],
   "source": [
    "type_df.head()"
   ]
  },
  {
   "cell_type": "code",
   "execution_count": 83,
   "metadata": {
    "collapsed": false
   },
   "outputs": [],
   "source": [
    "type_df = type_df.drop_duplicates()"
   ]
  },
  {
   "cell_type": "code",
   "execution_count": 90,
   "metadata": {
    "collapsed": true
   },
   "outputs": [],
   "source": [
    "join2_df = pd.merge(join_df, type_df, on=['assignment_id'], how='left')"
   ]
  },
  {
   "cell_type": "code",
   "execution_count": 61,
   "metadata": {
    "collapsed": false
   },
   "outputs": [
    {
     "data": {
      "text/html": [
       "<div>\n",
       "<table border=\"1\" class=\"dataframe\">\n",
       "  <thead>\n",
       "    <tr style=\"text-align: right;\">\n",
       "      <th></th>\n",
       "      <th>index</th>\n",
       "      <th>id</th>\n",
       "      <th>assignment_id</th>\n",
       "      <th>user_id</th>\n",
       "      <th>assistment_id</th>\n",
       "      <th>problem_id</th>\n",
       "      <th>original</th>\n",
       "      <th>correct</th>\n",
       "      <th>answer_id</th>\n",
       "      <th>answer_text</th>\n",
       "      <th>...</th>\n",
       "      <th>assignment_started</th>\n",
       "      <th>assignment_completed</th>\n",
       "      <th>sequence_id_y</th>\n",
       "      <th>root_sequence_id</th>\n",
       "      <th>is_rct</th>\n",
       "      <th>math_certified_items</th>\n",
       "      <th>certified_skill_builder_items</th>\n",
       "      <th>is_flat_skill_builder</th>\n",
       "      <th>textbook_items</th>\n",
       "      <th>certified_problem_solving_items</th>\n",
       "    </tr>\n",
       "  </thead>\n",
       "  <tbody>\n",
       "    <tr>\n",
       "      <th>0</th>\n",
       "      <td>29314</td>\n",
       "      <td>157998870</td>\n",
       "      <td>1105158</td>\n",
       "      <td>107178</td>\n",
       "      <td>233276</td>\n",
       "      <td>406466</td>\n",
       "      <td>1</td>\n",
       "      <td>0.0</td>\n",
       "      <td>NaN</td>\n",
       "      <td>28800</td>\n",
       "      <td>...</td>\n",
       "      <td>1</td>\n",
       "      <td>1</td>\n",
       "      <td>207868</td>\n",
       "      <td>207868</td>\n",
       "      <td>0</td>\n",
       "      <td>14.857143</td>\n",
       "      <td>11.142857</td>\n",
       "      <td>0</td>\n",
       "      <td>0.0</td>\n",
       "      <td>0.285714</td>\n",
       "    </tr>\n",
       "    <tr>\n",
       "      <th>1</th>\n",
       "      <td>29314</td>\n",
       "      <td>157998870</td>\n",
       "      <td>1105158</td>\n",
       "      <td>107178</td>\n",
       "      <td>233276</td>\n",
       "      <td>406466</td>\n",
       "      <td>1</td>\n",
       "      <td>0.0</td>\n",
       "      <td>NaN</td>\n",
       "      <td>28800</td>\n",
       "      <td>...</td>\n",
       "      <td>1</td>\n",
       "      <td>1</td>\n",
       "      <td>207868</td>\n",
       "      <td>207868</td>\n",
       "      <td>0</td>\n",
       "      <td>14.857143</td>\n",
       "      <td>11.142857</td>\n",
       "      <td>0</td>\n",
       "      <td>0.0</td>\n",
       "      <td>0.285714</td>\n",
       "    </tr>\n",
       "    <tr>\n",
       "      <th>2</th>\n",
       "      <td>29314</td>\n",
       "      <td>157998870</td>\n",
       "      <td>1105158</td>\n",
       "      <td>107178</td>\n",
       "      <td>233276</td>\n",
       "      <td>406466</td>\n",
       "      <td>1</td>\n",
       "      <td>0.0</td>\n",
       "      <td>NaN</td>\n",
       "      <td>28800</td>\n",
       "      <td>...</td>\n",
       "      <td>1</td>\n",
       "      <td>1</td>\n",
       "      <td>207868</td>\n",
       "      <td>207868</td>\n",
       "      <td>0</td>\n",
       "      <td>14.857143</td>\n",
       "      <td>11.142857</td>\n",
       "      <td>0</td>\n",
       "      <td>0.0</td>\n",
       "      <td>0.285714</td>\n",
       "    </tr>\n",
       "    <tr>\n",
       "      <th>3</th>\n",
       "      <td>29314</td>\n",
       "      <td>157998870</td>\n",
       "      <td>1105158</td>\n",
       "      <td>107178</td>\n",
       "      <td>233276</td>\n",
       "      <td>406466</td>\n",
       "      <td>1</td>\n",
       "      <td>0.0</td>\n",
       "      <td>NaN</td>\n",
       "      <td>28800</td>\n",
       "      <td>...</td>\n",
       "      <td>1</td>\n",
       "      <td>1</td>\n",
       "      <td>207868</td>\n",
       "      <td>207868</td>\n",
       "      <td>0</td>\n",
       "      <td>14.857143</td>\n",
       "      <td>11.142857</td>\n",
       "      <td>0</td>\n",
       "      <td>0.0</td>\n",
       "      <td>0.285714</td>\n",
       "    </tr>\n",
       "    <tr>\n",
       "      <th>4</th>\n",
       "      <td>29314</td>\n",
       "      <td>157998870</td>\n",
       "      <td>1105158</td>\n",
       "      <td>107178</td>\n",
       "      <td>233276</td>\n",
       "      <td>406466</td>\n",
       "      <td>1</td>\n",
       "      <td>0.0</td>\n",
       "      <td>NaN</td>\n",
       "      <td>28800</td>\n",
       "      <td>...</td>\n",
       "      <td>1</td>\n",
       "      <td>1</td>\n",
       "      <td>207868</td>\n",
       "      <td>207868</td>\n",
       "      <td>0</td>\n",
       "      <td>14.857143</td>\n",
       "      <td>11.142857</td>\n",
       "      <td>0</td>\n",
       "      <td>0.0</td>\n",
       "      <td>0.285714</td>\n",
       "    </tr>\n",
       "  </tbody>\n",
       "</table>\n",
       "<p>5 rows × 38 columns</p>\n",
       "</div>"
      ],
      "text/plain": [
       "   index         id  assignment_id  user_id  assistment_id  problem_id  \\\n",
       "0  29314  157998870        1105158   107178         233276      406466   \n",
       "1  29314  157998870        1105158   107178         233276      406466   \n",
       "2  29314  157998870        1105158   107178         233276      406466   \n",
       "3  29314  157998870        1105158   107178         233276      406466   \n",
       "4  29314  157998870        1105158   107178         233276      406466   \n",
       "\n",
       "   original  correct  answer_id answer_text               ...                 \\\n",
       "0         1      0.0        NaN       28800               ...                  \n",
       "1         1      0.0        NaN       28800               ...                  \n",
       "2         1      0.0        NaN       28800               ...                  \n",
       "3         1      0.0        NaN       28800               ...                  \n",
       "4         1      0.0        NaN       28800               ...                  \n",
       "\n",
       "   assignment_started  assignment_completed  sequence_id_y  root_sequence_id  \\\n",
       "0                   1                     1         207868            207868   \n",
       "1                   1                     1         207868            207868   \n",
       "2                   1                     1         207868            207868   \n",
       "3                   1                     1         207868            207868   \n",
       "4                   1                     1         207868            207868   \n",
       "\n",
       "  is_rct math_certified_items  certified_skill_builder_items  \\\n",
       "0      0            14.857143                      11.142857   \n",
       "1      0            14.857143                      11.142857   \n",
       "2      0            14.857143                      11.142857   \n",
       "3      0            14.857143                      11.142857   \n",
       "4      0            14.857143                      11.142857   \n",
       "\n",
       "   is_flat_skill_builder textbook_items  certified_problem_solving_items  \n",
       "0                      0            0.0                         0.285714  \n",
       "1                      0            0.0                         0.285714  \n",
       "2                      0            0.0                         0.285714  \n",
       "3                      0            0.0                         0.285714  \n",
       "4                      0            0.0                         0.285714  \n",
       "\n",
       "[5 rows x 38 columns]"
      ]
     },
     "execution_count": 61,
     "metadata": {},
     "output_type": "execute_result"
    }
   ],
   "source": [
    "join2_df.head()"
   ]
  },
  {
   "cell_type": "code",
   "execution_count": 91,
   "metadata": {
    "collapsed": false
   },
   "outputs": [
    {
     "name": "stdout",
     "output_type": "stream",
     "text": [
      "944921\n"
     ]
    }
   ],
   "source": [
    "print len(join2_df)"
   ]
  },
  {
   "cell_type": "code",
   "execution_count": 62,
   "metadata": {
    "collapsed": true
   },
   "outputs": [],
   "source": [
    "pc_df = pd.read_csv('this_one_problem_correctness.csv')"
   ]
  },
  {
   "cell_type": "code",
   "execution_count": 92,
   "metadata": {
    "collapsed": true
   },
   "outputs": [],
   "source": [
    "pc_df = pc_df.drop_duplicates()"
   ]
  },
  {
   "cell_type": "code",
   "execution_count": 63,
   "metadata": {
    "collapsed": false
   },
   "outputs": [
    {
     "data": {
      "text/html": [
       "<div>\n",
       "<table border=\"1\" class=\"dataframe\">\n",
       "  <thead>\n",
       "    <tr style=\"text-align: right;\">\n",
       "      <th></th>\n",
       "      <th>problem_id</th>\n",
       "      <th>correctness</th>\n",
       "      <th>total_count</th>\n",
       "    </tr>\n",
       "  </thead>\n",
       "  <tbody>\n",
       "    <tr>\n",
       "      <th>0</th>\n",
       "      <td>5</td>\n",
       "      <td>0.893976</td>\n",
       "      <td>415</td>\n",
       "    </tr>\n",
       "    <tr>\n",
       "      <th>1</th>\n",
       "      <td>16</td>\n",
       "      <td>0.822165</td>\n",
       "      <td>388</td>\n",
       "    </tr>\n",
       "    <tr>\n",
       "      <th>2</th>\n",
       "      <td>41</td>\n",
       "      <td>0.825623</td>\n",
       "      <td>562</td>\n",
       "    </tr>\n",
       "    <tr>\n",
       "      <th>3</th>\n",
       "      <td>52</td>\n",
       "      <td>0.711217</td>\n",
       "      <td>419</td>\n",
       "    </tr>\n",
       "    <tr>\n",
       "      <th>4</th>\n",
       "      <td>61</td>\n",
       "      <td>0.566910</td>\n",
       "      <td>822</td>\n",
       "    </tr>\n",
       "  </tbody>\n",
       "</table>\n",
       "</div>"
      ],
      "text/plain": [
       "   problem_id  correctness  total_count\n",
       "0           5     0.893976          415\n",
       "1          16     0.822165          388\n",
       "2          41     0.825623          562\n",
       "3          52     0.711217          419\n",
       "4          61     0.566910          822"
      ]
     },
     "execution_count": 63,
     "metadata": {},
     "output_type": "execute_result"
    }
   ],
   "source": [
    "pc_df.head()"
   ]
  },
  {
   "cell_type": "code",
   "execution_count": 95,
   "metadata": {
    "collapsed": true
   },
   "outputs": [],
   "source": [
    "join3_df = pd.merge(join2_df, pc_df, on=['problem_id'], how='left')"
   ]
  },
  {
   "cell_type": "code",
   "execution_count": 65,
   "metadata": {
    "collapsed": false
   },
   "outputs": [
    {
     "data": {
      "text/html": [
       "<div>\n",
       "<table border=\"1\" class=\"dataframe\">\n",
       "  <thead>\n",
       "    <tr style=\"text-align: right;\">\n",
       "      <th></th>\n",
       "      <th>index</th>\n",
       "      <th>id</th>\n",
       "      <th>assignment_id</th>\n",
       "      <th>user_id</th>\n",
       "      <th>assistment_id</th>\n",
       "      <th>problem_id</th>\n",
       "      <th>original</th>\n",
       "      <th>correct</th>\n",
       "      <th>answer_id</th>\n",
       "      <th>answer_text</th>\n",
       "      <th>...</th>\n",
       "      <th>sequence_id_y</th>\n",
       "      <th>root_sequence_id</th>\n",
       "      <th>is_rct</th>\n",
       "      <th>math_certified_items</th>\n",
       "      <th>certified_skill_builder_items</th>\n",
       "      <th>is_flat_skill_builder</th>\n",
       "      <th>textbook_items</th>\n",
       "      <th>certified_problem_solving_items</th>\n",
       "      <th>correctness</th>\n",
       "      <th>total_count</th>\n",
       "    </tr>\n",
       "  </thead>\n",
       "  <tbody>\n",
       "    <tr>\n",
       "      <th>0</th>\n",
       "      <td>29314</td>\n",
       "      <td>157998870</td>\n",
       "      <td>1105158</td>\n",
       "      <td>107178</td>\n",
       "      <td>233276</td>\n",
       "      <td>406466</td>\n",
       "      <td>1</td>\n",
       "      <td>0.0</td>\n",
       "      <td>NaN</td>\n",
       "      <td>28800</td>\n",
       "      <td>...</td>\n",
       "      <td>207868</td>\n",
       "      <td>207868</td>\n",
       "      <td>0</td>\n",
       "      <td>14.857143</td>\n",
       "      <td>11.142857</td>\n",
       "      <td>0</td>\n",
       "      <td>0.0</td>\n",
       "      <td>0.285714</td>\n",
       "      <td>0.569576</td>\n",
       "      <td>1157</td>\n",
       "    </tr>\n",
       "    <tr>\n",
       "      <th>1</th>\n",
       "      <td>29314</td>\n",
       "      <td>157998870</td>\n",
       "      <td>1105158</td>\n",
       "      <td>107178</td>\n",
       "      <td>233276</td>\n",
       "      <td>406466</td>\n",
       "      <td>1</td>\n",
       "      <td>0.0</td>\n",
       "      <td>NaN</td>\n",
       "      <td>28800</td>\n",
       "      <td>...</td>\n",
       "      <td>207868</td>\n",
       "      <td>207868</td>\n",
       "      <td>0</td>\n",
       "      <td>14.857143</td>\n",
       "      <td>11.142857</td>\n",
       "      <td>0</td>\n",
       "      <td>0.0</td>\n",
       "      <td>0.285714</td>\n",
       "      <td>0.569576</td>\n",
       "      <td>1157</td>\n",
       "    </tr>\n",
       "    <tr>\n",
       "      <th>2</th>\n",
       "      <td>29314</td>\n",
       "      <td>157998870</td>\n",
       "      <td>1105158</td>\n",
       "      <td>107178</td>\n",
       "      <td>233276</td>\n",
       "      <td>406466</td>\n",
       "      <td>1</td>\n",
       "      <td>0.0</td>\n",
       "      <td>NaN</td>\n",
       "      <td>28800</td>\n",
       "      <td>...</td>\n",
       "      <td>207868</td>\n",
       "      <td>207868</td>\n",
       "      <td>0</td>\n",
       "      <td>14.857143</td>\n",
       "      <td>11.142857</td>\n",
       "      <td>0</td>\n",
       "      <td>0.0</td>\n",
       "      <td>0.285714</td>\n",
       "      <td>0.569576</td>\n",
       "      <td>1157</td>\n",
       "    </tr>\n",
       "    <tr>\n",
       "      <th>3</th>\n",
       "      <td>29314</td>\n",
       "      <td>157998870</td>\n",
       "      <td>1105158</td>\n",
       "      <td>107178</td>\n",
       "      <td>233276</td>\n",
       "      <td>406466</td>\n",
       "      <td>1</td>\n",
       "      <td>0.0</td>\n",
       "      <td>NaN</td>\n",
       "      <td>28800</td>\n",
       "      <td>...</td>\n",
       "      <td>207868</td>\n",
       "      <td>207868</td>\n",
       "      <td>0</td>\n",
       "      <td>14.857143</td>\n",
       "      <td>11.142857</td>\n",
       "      <td>0</td>\n",
       "      <td>0.0</td>\n",
       "      <td>0.285714</td>\n",
       "      <td>0.569576</td>\n",
       "      <td>1157</td>\n",
       "    </tr>\n",
       "    <tr>\n",
       "      <th>4</th>\n",
       "      <td>29314</td>\n",
       "      <td>157998870</td>\n",
       "      <td>1105158</td>\n",
       "      <td>107178</td>\n",
       "      <td>233276</td>\n",
       "      <td>406466</td>\n",
       "      <td>1</td>\n",
       "      <td>0.0</td>\n",
       "      <td>NaN</td>\n",
       "      <td>28800</td>\n",
       "      <td>...</td>\n",
       "      <td>207868</td>\n",
       "      <td>207868</td>\n",
       "      <td>0</td>\n",
       "      <td>14.857143</td>\n",
       "      <td>11.142857</td>\n",
       "      <td>0</td>\n",
       "      <td>0.0</td>\n",
       "      <td>0.285714</td>\n",
       "      <td>0.569576</td>\n",
       "      <td>1157</td>\n",
       "    </tr>\n",
       "  </tbody>\n",
       "</table>\n",
       "<p>5 rows × 40 columns</p>\n",
       "</div>"
      ],
      "text/plain": [
       "   index         id  assignment_id  user_id  assistment_id  problem_id  \\\n",
       "0  29314  157998870        1105158   107178         233276      406466   \n",
       "1  29314  157998870        1105158   107178         233276      406466   \n",
       "2  29314  157998870        1105158   107178         233276      406466   \n",
       "3  29314  157998870        1105158   107178         233276      406466   \n",
       "4  29314  157998870        1105158   107178         233276      406466   \n",
       "\n",
       "   original  correct  answer_id answer_text     ...       sequence_id_y  \\\n",
       "0         1      0.0        NaN       28800     ...              207868   \n",
       "1         1      0.0        NaN       28800     ...              207868   \n",
       "2         1      0.0        NaN       28800     ...              207868   \n",
       "3         1      0.0        NaN       28800     ...              207868   \n",
       "4         1      0.0        NaN       28800     ...              207868   \n",
       "\n",
       "   root_sequence_id  is_rct  math_certified_items  \\\n",
       "0            207868       0             14.857143   \n",
       "1            207868       0             14.857143   \n",
       "2            207868       0             14.857143   \n",
       "3            207868       0             14.857143   \n",
       "4            207868       0             14.857143   \n",
       "\n",
       "  certified_skill_builder_items is_flat_skill_builder  textbook_items  \\\n",
       "0                     11.142857                     0             0.0   \n",
       "1                     11.142857                     0             0.0   \n",
       "2                     11.142857                     0             0.0   \n",
       "3                     11.142857                     0             0.0   \n",
       "4                     11.142857                     0             0.0   \n",
       "\n",
       "   certified_problem_solving_items correctness  total_count  \n",
       "0                         0.285714    0.569576         1157  \n",
       "1                         0.285714    0.569576         1157  \n",
       "2                         0.285714    0.569576         1157  \n",
       "3                         0.285714    0.569576         1157  \n",
       "4                         0.285714    0.569576         1157  \n",
       "\n",
       "[5 rows x 40 columns]"
      ]
     },
     "execution_count": 65,
     "metadata": {},
     "output_type": "execute_result"
    }
   ],
   "source": [
    "join3_df.head()"
   ]
  },
  {
   "cell_type": "code",
   "execution_count": 96,
   "metadata": {
    "collapsed": false
   },
   "outputs": [
    {
     "name": "stdout",
     "output_type": "stream",
     "text": [
      "944921\n",
      "944921\n"
     ]
    }
   ],
   "source": [
    "print len(join3_df)\n",
    "print len(new_df)"
   ]
  },
  {
   "cell_type": "code",
   "execution_count": 99,
   "metadata": {
    "collapsed": false
   },
   "outputs": [
    {
     "data": {
      "text/html": [
       "<div>\n",
       "<table border=\"1\" class=\"dataframe\">\n",
       "  <thead>\n",
       "    <tr style=\"text-align: right;\">\n",
       "      <th></th>\n",
       "      <th>5897</th>\n",
       "      <th>5898</th>\n",
       "      <th>5915</th>\n",
       "      <th>5918</th>\n",
       "      <th>5920</th>\n",
       "      <th>5921</th>\n",
       "      <th>5922</th>\n",
       "      <th>5933</th>\n",
       "      <th>5945</th>\n",
       "      <th>5946</th>\n",
       "      <th>...</th>\n",
       "      <th>692193</th>\n",
       "      <th>-</th>\n",
       "      <th>correct</th>\n",
       "      <th>bottom_hint</th>\n",
       "      <th>first_action</th>\n",
       "      <th>NofFRT</th>\n",
       "      <th>normalized_hint_count</th>\n",
       "      <th>normalized_attempt_count</th>\n",
       "      <th>user_id</th>\n",
       "      <th>id</th>\n",
       "    </tr>\n",
       "  </thead>\n",
       "  <tbody>\n",
       "    <tr>\n",
       "      <th>994985</th>\n",
       "      <td>0</td>\n",
       "      <td>0</td>\n",
       "      <td>0</td>\n",
       "      <td>0</td>\n",
       "      <td>0</td>\n",
       "      <td>0</td>\n",
       "      <td>0</td>\n",
       "      <td>0</td>\n",
       "      <td>0</td>\n",
       "      <td>0</td>\n",
       "      <td>...</td>\n",
       "      <td>0</td>\n",
       "      <td>0</td>\n",
       "      <td>1</td>\n",
       "      <td>0</td>\n",
       "      <td>0</td>\n",
       "      <td>0.545388</td>\n",
       "      <td>0.0</td>\n",
       "      <td>0.022222</td>\n",
       "      <td>352112</td>\n",
       "      <td>174460390</td>\n",
       "    </tr>\n",
       "    <tr>\n",
       "      <th>994986</th>\n",
       "      <td>0</td>\n",
       "      <td>0</td>\n",
       "      <td>0</td>\n",
       "      <td>0</td>\n",
       "      <td>0</td>\n",
       "      <td>0</td>\n",
       "      <td>0</td>\n",
       "      <td>0</td>\n",
       "      <td>0</td>\n",
       "      <td>0</td>\n",
       "      <td>...</td>\n",
       "      <td>0</td>\n",
       "      <td>0</td>\n",
       "      <td>0</td>\n",
       "      <td>0</td>\n",
       "      <td>0</td>\n",
       "      <td>0.000073</td>\n",
       "      <td>0.0</td>\n",
       "      <td>0.044444</td>\n",
       "      <td>352112</td>\n",
       "      <td>174652383</td>\n",
       "    </tr>\n",
       "    <tr>\n",
       "      <th>994987</th>\n",
       "      <td>0</td>\n",
       "      <td>0</td>\n",
       "      <td>0</td>\n",
       "      <td>0</td>\n",
       "      <td>0</td>\n",
       "      <td>0</td>\n",
       "      <td>0</td>\n",
       "      <td>0</td>\n",
       "      <td>0</td>\n",
       "      <td>0</td>\n",
       "      <td>...</td>\n",
       "      <td>0</td>\n",
       "      <td>0</td>\n",
       "      <td>1</td>\n",
       "      <td>0</td>\n",
       "      <td>0</td>\n",
       "      <td>0.000064</td>\n",
       "      <td>0.0</td>\n",
       "      <td>0.022222</td>\n",
       "      <td>352112</td>\n",
       "      <td>174652391</td>\n",
       "    </tr>\n",
       "    <tr>\n",
       "      <th>994988</th>\n",
       "      <td>0</td>\n",
       "      <td>0</td>\n",
       "      <td>0</td>\n",
       "      <td>0</td>\n",
       "      <td>0</td>\n",
       "      <td>0</td>\n",
       "      <td>0</td>\n",
       "      <td>0</td>\n",
       "      <td>0</td>\n",
       "      <td>0</td>\n",
       "      <td>...</td>\n",
       "      <td>0</td>\n",
       "      <td>0</td>\n",
       "      <td>1</td>\n",
       "      <td>0</td>\n",
       "      <td>0</td>\n",
       "      <td>0.000048</td>\n",
       "      <td>0.0</td>\n",
       "      <td>0.022222</td>\n",
       "      <td>352112</td>\n",
       "      <td>174652403</td>\n",
       "    </tr>\n",
       "    <tr>\n",
       "      <th>994989</th>\n",
       "      <td>0</td>\n",
       "      <td>0</td>\n",
       "      <td>0</td>\n",
       "      <td>0</td>\n",
       "      <td>0</td>\n",
       "      <td>0</td>\n",
       "      <td>0</td>\n",
       "      <td>0</td>\n",
       "      <td>0</td>\n",
       "      <td>0</td>\n",
       "      <td>...</td>\n",
       "      <td>0</td>\n",
       "      <td>0</td>\n",
       "      <td>1</td>\n",
       "      <td>0</td>\n",
       "      <td>0</td>\n",
       "      <td>0.000126</td>\n",
       "      <td>0.0</td>\n",
       "      <td>0.022222</td>\n",
       "      <td>352112</td>\n",
       "      <td>174652406</td>\n",
       "    </tr>\n",
       "  </tbody>\n",
       "</table>\n",
       "<p>5 rows × 592 columns</p>\n",
       "</div>"
      ],
      "text/plain": [
       "        5897  5898  5915  5918  5920  5921  5922  5933  5945  5946    ...      \\\n",
       "994985     0     0     0     0     0     0     0     0     0     0    ...       \n",
       "994986     0     0     0     0     0     0     0     0     0     0    ...       \n",
       "994987     0     0     0     0     0     0     0     0     0     0    ...       \n",
       "994988     0     0     0     0     0     0     0     0     0     0    ...       \n",
       "994989     0     0     0     0     0     0     0     0     0     0    ...       \n",
       "\n",
       "        692193  -  correct  bottom_hint  first_action    NofFRT  \\\n",
       "994985       0  0        1            0             0  0.545388   \n",
       "994986       0  0        0            0             0  0.000073   \n",
       "994987       0  0        1            0             0  0.000064   \n",
       "994988       0  0        1            0             0  0.000048   \n",
       "994989       0  0        1            0             0  0.000126   \n",
       "\n",
       "        normalized_hint_count  normalized_attempt_count  user_id         id  \n",
       "994985                    0.0                  0.022222   352112  174460390  \n",
       "994986                    0.0                  0.044444   352112  174652383  \n",
       "994987                    0.0                  0.022222   352112  174652391  \n",
       "994988                    0.0                  0.022222   352112  174652403  \n",
       "994989                    0.0                  0.022222   352112  174652406  \n",
       "\n",
       "[5 rows x 592 columns]"
      ]
     },
     "execution_count": 99,
     "metadata": {},
     "output_type": "execute_result"
    }
   ],
   "source": [
    "new_df.tail()"
   ]
  },
  {
   "cell_type": "code",
   "execution_count": 98,
   "metadata": {
    "collapsed": false
   },
   "outputs": [
    {
     "data": {
      "text/html": [
       "<div>\n",
       "<table border=\"1\" class=\"dataframe\">\n",
       "  <thead>\n",
       "    <tr style=\"text-align: right;\">\n",
       "      <th></th>\n",
       "      <th>index</th>\n",
       "      <th>id</th>\n",
       "      <th>assignment_id</th>\n",
       "      <th>user_id</th>\n",
       "      <th>assistment_id</th>\n",
       "      <th>problem_id</th>\n",
       "      <th>original</th>\n",
       "      <th>correct</th>\n",
       "      <th>answer_id</th>\n",
       "      <th>answer_text</th>\n",
       "      <th>...</th>\n",
       "      <th>sequence_id_y</th>\n",
       "      <th>root_sequence_id</th>\n",
       "      <th>is_rct</th>\n",
       "      <th>math_certified_items</th>\n",
       "      <th>certified_skill_builder_items</th>\n",
       "      <th>is_flat_skill_builder</th>\n",
       "      <th>textbook_items</th>\n",
       "      <th>certified_problem_solving_items</th>\n",
       "      <th>correctness</th>\n",
       "      <th>total_count</th>\n",
       "    </tr>\n",
       "  </thead>\n",
       "  <tbody>\n",
       "    <tr>\n",
       "      <th>944916</th>\n",
       "      <td>8119264</td>\n",
       "      <td>174460390</td>\n",
       "      <td>1456805</td>\n",
       "      <td>352112</td>\n",
       "      <td>87107</td>\n",
       "      <td>163443</td>\n",
       "      <td>1</td>\n",
       "      <td>1.000000</td>\n",
       "      <td>NaN</td>\n",
       "      <td>-4/3</td>\n",
       "      <td>...</td>\n",
       "      <td>10264.0</td>\n",
       "      <td>10264.0</td>\n",
       "      <td>0.0</td>\n",
       "      <td>83.0</td>\n",
       "      <td>83.0</td>\n",
       "      <td>1.0</td>\n",
       "      <td>0.0</td>\n",
       "      <td>0.0</td>\n",
       "      <td>0.697368</td>\n",
       "      <td>76.0</td>\n",
       "    </tr>\n",
       "    <tr>\n",
       "      <th>944917</th>\n",
       "      <td>8119265</td>\n",
       "      <td>174652383</td>\n",
       "      <td>1456805</td>\n",
       "      <td>352112</td>\n",
       "      <td>87071</td>\n",
       "      <td>163407</td>\n",
       "      <td>1</td>\n",
       "      <td>0.666667</td>\n",
       "      <td>NaN</td>\n",
       "      <td>5/8</td>\n",
       "      <td>...</td>\n",
       "      <td>10264.0</td>\n",
       "      <td>10264.0</td>\n",
       "      <td>0.0</td>\n",
       "      <td>83.0</td>\n",
       "      <td>83.0</td>\n",
       "      <td>1.0</td>\n",
       "      <td>0.0</td>\n",
       "      <td>0.0</td>\n",
       "      <td>0.734940</td>\n",
       "      <td>83.0</td>\n",
       "    </tr>\n",
       "    <tr>\n",
       "      <th>944918</th>\n",
       "      <td>8119266</td>\n",
       "      <td>174652391</td>\n",
       "      <td>1456805</td>\n",
       "      <td>352112</td>\n",
       "      <td>87083</td>\n",
       "      <td>163419</td>\n",
       "      <td>1</td>\n",
       "      <td>1.000000</td>\n",
       "      <td>NaN</td>\n",
       "      <td>-40/83</td>\n",
       "      <td>...</td>\n",
       "      <td>10264.0</td>\n",
       "      <td>10264.0</td>\n",
       "      <td>0.0</td>\n",
       "      <td>83.0</td>\n",
       "      <td>83.0</td>\n",
       "      <td>1.0</td>\n",
       "      <td>0.0</td>\n",
       "      <td>0.0</td>\n",
       "      <td>0.452381</td>\n",
       "      <td>84.0</td>\n",
       "    </tr>\n",
       "    <tr>\n",
       "      <th>944919</th>\n",
       "      <td>8119267</td>\n",
       "      <td>174652403</td>\n",
       "      <td>1456805</td>\n",
       "      <td>352112</td>\n",
       "      <td>87027</td>\n",
       "      <td>163363</td>\n",
       "      <td>1</td>\n",
       "      <td>1.000000</td>\n",
       "      <td>NaN</td>\n",
       "      <td>99/7</td>\n",
       "      <td>...</td>\n",
       "      <td>10264.0</td>\n",
       "      <td>10264.0</td>\n",
       "      <td>0.0</td>\n",
       "      <td>83.0</td>\n",
       "      <td>83.0</td>\n",
       "      <td>1.0</td>\n",
       "      <td>0.0</td>\n",
       "      <td>0.0</td>\n",
       "      <td>0.597222</td>\n",
       "      <td>72.0</td>\n",
       "    </tr>\n",
       "    <tr>\n",
       "      <th>944920</th>\n",
       "      <td>8119268</td>\n",
       "      <td>174652406</td>\n",
       "      <td>1456805</td>\n",
       "      <td>352112</td>\n",
       "      <td>87050</td>\n",
       "      <td>163386</td>\n",
       "      <td>1</td>\n",
       "      <td>1.000000</td>\n",
       "      <td>NaN</td>\n",
       "      <td>-19/40</td>\n",
       "      <td>...</td>\n",
       "      <td>10264.0</td>\n",
       "      <td>10264.0</td>\n",
       "      <td>0.0</td>\n",
       "      <td>83.0</td>\n",
       "      <td>83.0</td>\n",
       "      <td>1.0</td>\n",
       "      <td>0.0</td>\n",
       "      <td>0.0</td>\n",
       "      <td>0.626506</td>\n",
       "      <td>83.0</td>\n",
       "    </tr>\n",
       "  </tbody>\n",
       "</table>\n",
       "<p>5 rows × 40 columns</p>\n",
       "</div>"
      ],
      "text/plain": [
       "          index         id  assignment_id  user_id  assistment_id  problem_id  \\\n",
       "944916  8119264  174460390        1456805   352112          87107      163443   \n",
       "944917  8119265  174652383        1456805   352112          87071      163407   \n",
       "944918  8119266  174652391        1456805   352112          87083      163419   \n",
       "944919  8119267  174652403        1456805   352112          87027      163363   \n",
       "944920  8119268  174652406        1456805   352112          87050      163386   \n",
       "\n",
       "        original   correct  answer_id answer_text     ...       sequence_id_y  \\\n",
       "944916         1  1.000000        NaN        -4/3     ...             10264.0   \n",
       "944917         1  0.666667        NaN         5/8     ...             10264.0   \n",
       "944918         1  1.000000        NaN      -40/83     ...             10264.0   \n",
       "944919         1  1.000000        NaN        99/7     ...             10264.0   \n",
       "944920         1  1.000000        NaN      -19/40     ...             10264.0   \n",
       "\n",
       "        root_sequence_id  is_rct  math_certified_items  \\\n",
       "944916           10264.0     0.0                  83.0   \n",
       "944917           10264.0     0.0                  83.0   \n",
       "944918           10264.0     0.0                  83.0   \n",
       "944919           10264.0     0.0                  83.0   \n",
       "944920           10264.0     0.0                  83.0   \n",
       "\n",
       "       certified_skill_builder_items is_flat_skill_builder  textbook_items  \\\n",
       "944916                          83.0                   1.0             0.0   \n",
       "944917                          83.0                   1.0             0.0   \n",
       "944918                          83.0                   1.0             0.0   \n",
       "944919                          83.0                   1.0             0.0   \n",
       "944920                          83.0                   1.0             0.0   \n",
       "\n",
       "        certified_problem_solving_items correctness  total_count  \n",
       "944916                              0.0    0.697368         76.0  \n",
       "944917                              0.0    0.734940         83.0  \n",
       "944918                              0.0    0.452381         84.0  \n",
       "944919                              0.0    0.597222         72.0  \n",
       "944920                              0.0    0.626506         83.0  \n",
       "\n",
       "[5 rows x 40 columns]"
      ]
     },
     "execution_count": 98,
     "metadata": {},
     "output_type": "execute_result"
    }
   ],
   "source": [
    "join3_df.tail()"
   ]
  },
  {
   "cell_type": "code",
   "execution_count": 100,
   "metadata": {
    "collapsed": true
   },
   "outputs": [],
   "source": [
    "del new_df['user_id']\n",
    "del new_df['id']\n",
    "new_df['assignment_completed'] = join3_df['assignment_completed']\n",
    "new_df['is_flat_skill_builder'] = join3_df['is_flat_skill_builder']\n",
    "new_df['textbook_items'] = join3_df['textbook_items']\n",
    "new_df['certified_problem_solving_items'] = join3_df['certified_problem_solving_items']\n",
    "new_df['correctness'] = join3_df['correctness']\n",
    "new_df['user_id'] = join3_df['user_id']\n",
    "new_df['id'] = join3_df['id']"
   ]
  },
  {
   "cell_type": "code",
   "execution_count": 102,
   "metadata": {
    "collapsed": true
   },
   "outputs": [],
   "source": [
    "new_df['correctness'].fillna(0.5, inplace=True)"
   ]
  },
  {
   "cell_type": "code",
   "execution_count": 109,
   "metadata": {
    "collapsed": true
   },
   "outputs": [],
   "source": [
    "new_df['assignment_completed'].fillna(0, inplace=True)\n",
    "new_df['is_flat_skill_builder'].fillna(0, inplace=True)\n",
    "new_df['textbook_items'].fillna(0, inplace=True)\n",
    "new_df['certified_problem_solving_items'].fillna(0, inplace=True)"
   ]
  },
  {
   "cell_type": "code",
   "execution_count": 111,
   "metadata": {
    "collapsed": true
   },
   "outputs": [],
   "source": [
    "new_df.dropna(inplace=True)"
   ]
  },
  {
   "cell_type": "code",
   "execution_count": 112,
   "metadata": {
    "collapsed": false
   },
   "outputs": [],
   "source": [
    "for col in new_df.columns:\n",
    "    if new_df[col].isnull().values.any():\n",
    "        print col"
   ]
  },
  {
   "cell_type": "code",
   "execution_count": 103,
   "metadata": {
    "collapsed": false
   },
   "outputs": [
    {
     "data": {
      "text/plain": [
       "True"
      ]
     },
     "execution_count": 103,
     "metadata": {},
     "output_type": "execute_result"
    }
   ],
   "source": [
    "new_df.isnull().values.any()"
   ]
  },
  {
   "cell_type": "code",
   "execution_count": 31,
   "metadata": {
    "collapsed": false
   },
   "outputs": [],
   "source": [
    "with open(str(problem_set)+'_ps_list', 'w') as file:\n",
    "    for ite in new_df.columns[:ps_cnt].tolist():\n",
    "        file.write(str(ite) + \"\\n\")"
   ]
  },
  {
   "cell_type": "code",
   "execution_count": 113,
   "metadata": {
    "collapsed": true
   },
   "outputs": [],
   "source": [
    "new_df.to_csv(str(problem_set)+'_extra_pl_train_data.csv', index=False)"
   ]
  }
 ],
 "metadata": {
  "kernelspec": {
   "display_name": "Python 2",
   "language": "python",
   "name": "python2"
  },
  "language_info": {
   "codemirror_mode": {
    "name": "ipython",
    "version": 2
   },
   "file_extension": ".py",
   "mimetype": "text/x-python",
   "name": "python",
   "nbconvert_exporter": "python",
   "pygments_lexer": "ipython2",
   "version": "2.7.12"
  }
 },
 "nbformat": 4,
 "nbformat_minor": 2
}
