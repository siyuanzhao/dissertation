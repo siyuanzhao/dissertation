{
 "cells": [
  {
   "cell_type": "code",
   "execution_count": 1,
   "metadata": {
    "collapsed": true
   },
   "outputs": [],
   "source": [
    "import pandas as pd\n",
    "\n",
    "import random\n",
    "import numpy as np\n",
    "%matplotlib inline\n",
    "import datetime"
   ]
  },
  {
   "cell_type": "code",
   "execution_count": 2,
   "metadata": {
    "collapsed": false
   },
   "outputs": [
    {
     "name": "stderr",
     "output_type": "stream",
     "text": [
      "/usr/local/lib/python2.7/site-packages/IPython/core/interactiveshell.py:2717: DtypeWarning: Columns (21,23,25) have mixed types. Specify dtype option on import or set low_memory=False.\n",
      "  interactivity=interactivity, compiler=compiler, result=result)\n"
     ]
    }
   ],
   "source": [
    "is_this_one = True\n",
    "if is_this_one:\n",
    "    pl_df = pd.read_csv('this_one_problem_logs_seq.csv')\n",
    "    ps_file = 'this_one_ps_index'\n",
    "    data_file = 'this_one_train_data.csv'\n",
    "else:\n",
    "    pl_df = pd.read_csv('2016_problem_logs_seq.csv')\n",
    "    ps_file = '2016_ps_index'\n",
    "    data_file = '2016_train_data.csv'"
   ]
  },
  {
   "cell_type": "code",
   "execution_count": 3,
   "metadata": {
    "collapsed": false
   },
   "outputs": [],
   "source": [
    "pl_df['formatted_start_time'] = pd.to_datetime(pl_df['start_time'])\n",
    "date_before = datetime.date(2016, 7, 1)\n",
    "pl_df = pl_df[pl_df['formatted_start_time'] < date_before].reset_index()"
   ]
  },
  {
   "cell_type": "code",
   "execution_count": 4,
   "metadata": {
    "collapsed": false
   },
   "outputs": [],
   "source": [
    "pl_df = pl_df[pl_df['original'] == 1].reset_index()"
   ]
  },
  {
   "cell_type": "code",
   "execution_count": 5,
   "metadata": {
    "collapsed": false
   },
   "outputs": [
    {
     "name": "stdout",
     "output_type": "stream",
     "text": [
      "The number of rows 7305963\n"
     ]
    }
   ],
   "source": [
    "print 'The number of rows {}'.format(len(pl_df))"
   ]
  },
  {
   "cell_type": "code",
   "execution_count": 6,
   "metadata": {
    "collapsed": false
   },
   "outputs": [
    {
     "name": "stdout",
     "output_type": "stream",
     "text": [
      "the number of students 8268\n"
     ]
    }
   ],
   "source": [
    "print 'the number of students {}'.format(len(pl_df['user_id'].unique()))"
   ]
  },
  {
   "cell_type": "code",
   "execution_count": 7,
   "metadata": {
    "collapsed": false
   },
   "outputs": [
    {
     "name": "stdout",
     "output_type": "stream",
     "text": [
      "the number of unique problem sets 164734\n"
     ]
    }
   ],
   "source": [
    "sub_df = pl_df\n",
    "print 'the number of unique problem sets {}'.format(len(sub_df['sequence_id'].unique()))"
   ]
  },
  {
   "cell_type": "code",
   "execution_count": 22,
   "metadata": {
    "collapsed": false
   },
   "outputs": [
    {
     "name": "stdout",
     "output_type": "stream",
     "text": [
      "619\n"
     ]
    }
   ],
   "source": [
    "sub_counts = pd.value_counts(sub_df['sequence_id'])\n",
    "minmal_cnt = 2000\n",
    "ps_cnt = len(sub_counts[sub_counts > minmal_cnt])\n",
    "print ps_cnt"
   ]
  },
  {
   "cell_type": "code",
   "execution_count": 18,
   "metadata": {
    "collapsed": true
   },
   "outputs": [],
   "source": [
    "with open(ps_file, 'w') as f:\n",
    "    for ite in sub_counts[sub_counts > minmal_cnt].index.tolist():\n",
    "        f.write(str(ite) + '\\n')"
   ]
  },
  {
   "cell_type": "code",
   "execution_count": 11,
   "metadata": {
    "collapsed": false
   },
   "outputs": [
    {
     "name": "stdout",
     "output_type": "stream",
     "text": [
      "the number of rows in sampled data 7305963\n"
     ]
    }
   ],
   "source": [
    "sample_size = 10000\n",
    "if False:\n",
    "    sublist = random.sample(pl_df['user_id'].unique(), sample_size)\n",
    "    sub_df = pd.DataFrame(pl_df[(pl_df['user_id'].isin(sublist))])\n",
    "else:\n",
    "    sub_df = pl_df\n",
    "print 'the number of rows in sampled data {}'.format(len(sub_df))"
   ]
  },
  {
   "cell_type": "code",
   "execution_count": 13,
   "metadata": {
    "collapsed": false
   },
   "outputs": [],
   "source": [
    "def prepare(sub_df, one_hot=True):\n",
    "    new_df = pd.DataFrame()\n",
    "    if one_hot:\n",
    "        mask = sub_df['sequence_id'].isin(sub_counts[sub_counts > minmal_cnt].index)\n",
    "        sub_df['sequence_id'][~mask] = \"-\"\n",
    "        new_df = pd.get_dummies(sub_df['sequence_id'])\n",
    "    # u'correct , u'bottom_hint, u'hint_count, u'attempt_count, u'first_response_time, first_action\n",
    "    new_df['user_id'] = sub_df['user_id']\n",
    "    # binary correctness\n",
    "    new_df['correct'] = np.where(sub_df['correct'] < 1, 0, 1)\n",
    "    new_df['bottom_hint'] = sub_df['bottom_hint']\n",
    "    new_df['hint_count'] = sub_df['hint_count']\n",
    "    new_df['attempt_count'] = sub_df['attempt_count']\n",
    "    new_df['first_response_time'] = sub_df['first_response_time']\n",
    "    # first action\n",
    "    new_df['first_action'] = sub_df['first_action']\n",
    "\n",
    "    #norm = lambda x: (x - x.min()) / (x.max() - x.min()) if x.max() - x.min() else x/(x+1)\n",
    "    # normalize within problems\n",
    "    #new_df.insert(len(new_df.columns), 'NofFRT', sub_df.groupby('sequence_id')['first_response_time'].transform(norm))\n",
    "    new_df.insert(len(new_df.columns), 'NofFRT', sub_df.groupby('sequence_id')['first_response_time'].rank(pct=True))\n",
    "    del new_df['first_response_time']\n",
    "\n",
    "    new_df.insert(len(new_df.columns), 'normalized_hint_count', sub_df.groupby('sequence_id')['hint_count'].rank(pct=True))\n",
    "    del new_df['hint_count']\n",
    "\n",
    "    new_df.insert(len(new_df.columns), 'normalized_attempt_count', sub_df.groupby('sequence_id')['attempt_count'].rank(pct=True))\n",
    "    del new_df['attempt_count']\n",
    "    del new_df['user_id']\n",
    "    new_df['sequence_id'] = sub_df['sequence_id']\n",
    "    new_df['user_id'] = sub_df['user_id']\n",
    "    new_df['id'] = sub_df['id']\n",
    "    return new_df"
   ]
  },
  {
   "cell_type": "code",
   "execution_count": 14,
   "metadata": {
    "collapsed": false
   },
   "outputs": [],
   "source": [
    "new_df = prepare(sub_df, False)"
   ]
  },
  {
   "cell_type": "code",
   "execution_count": 15,
   "metadata": {
    "collapsed": false
   },
   "outputs": [
    {
     "data": {
      "text/html": [
       "<div>\n",
       "<style scoped>\n",
       "    .dataframe tbody tr th:only-of-type {\n",
       "        vertical-align: middle;\n",
       "    }\n",
       "\n",
       "    .dataframe tbody tr th {\n",
       "        vertical-align: top;\n",
       "    }\n",
       "\n",
       "    .dataframe thead th {\n",
       "        text-align: right;\n",
       "    }\n",
       "</style>\n",
       "<table border=\"1\" class=\"dataframe\">\n",
       "  <thead>\n",
       "    <tr style=\"text-align: right;\">\n",
       "      <th></th>\n",
       "      <th>correct</th>\n",
       "      <th>bottom_hint</th>\n",
       "      <th>first_action</th>\n",
       "      <th>NofFRT</th>\n",
       "      <th>normalized_hint_count</th>\n",
       "      <th>normalized_attempt_count</th>\n",
       "      <th>sequence_id</th>\n",
       "      <th>user_id</th>\n",
       "      <th>id</th>\n",
       "    </tr>\n",
       "  </thead>\n",
       "  <tbody>\n",
       "    <tr>\n",
       "      <th>0</th>\n",
       "      <td>0</td>\n",
       "      <td>0</td>\n",
       "      <td>1</td>\n",
       "      <td>0.312193</td>\n",
       "      <td>0.999056</td>\n",
       "      <td>0.483201</td>\n",
       "      <td>5110</td>\n",
       "      <td>75064</td>\n",
       "      <td>15808280</td>\n",
       "    </tr>\n",
       "    <tr>\n",
       "      <th>1</th>\n",
       "      <td>0</td>\n",
       "      <td>0</td>\n",
       "      <td>1</td>\n",
       "      <td>0.600264</td>\n",
       "      <td>0.992414</td>\n",
       "      <td>0.474522</td>\n",
       "      <td>2427</td>\n",
       "      <td>75064</td>\n",
       "      <td>17558128</td>\n",
       "    </tr>\n",
       "    <tr>\n",
       "      <th>2</th>\n",
       "      <td>0</td>\n",
       "      <td>1</td>\n",
       "      <td>0</td>\n",
       "      <td>1.000000</td>\n",
       "      <td>0.666667</td>\n",
       "      <td>0.833333</td>\n",
       "      <td>5443</td>\n",
       "      <td>75064</td>\n",
       "      <td>18415148</td>\n",
       "    </tr>\n",
       "    <tr>\n",
       "      <th>3</th>\n",
       "      <td>0</td>\n",
       "      <td>0</td>\n",
       "      <td>0</td>\n",
       "      <td>0.660795</td>\n",
       "      <td>0.500284</td>\n",
       "      <td>0.484943</td>\n",
       "      <td>8728</td>\n",
       "      <td>75064</td>\n",
       "      <td>149640236</td>\n",
       "    </tr>\n",
       "    <tr>\n",
       "      <th>4</th>\n",
       "      <td>1</td>\n",
       "      <td>0</td>\n",
       "      <td>0</td>\n",
       "      <td>0.853977</td>\n",
       "      <td>0.500284</td>\n",
       "      <td>0.484943</td>\n",
       "      <td>8728</td>\n",
       "      <td>75064</td>\n",
       "      <td>149640353</td>\n",
       "    </tr>\n",
       "  </tbody>\n",
       "</table>\n",
       "</div>"
      ],
      "text/plain": [
       "   correct  bottom_hint  first_action    NofFRT  normalized_hint_count  \\\n",
       "0        0            0             1  0.312193               0.999056   \n",
       "1        0            0             1  0.600264               0.992414   \n",
       "2        0            1             0  1.000000               0.666667   \n",
       "3        0            0             0  0.660795               0.500284   \n",
       "4        1            0             0  0.853977               0.500284   \n",
       "\n",
       "   normalized_attempt_count  sequence_id  user_id         id  \n",
       "0                  0.483201         5110    75064   15808280  \n",
       "1                  0.474522         2427    75064   17558128  \n",
       "2                  0.833333         5443    75064   18415148  \n",
       "3                  0.484943         8728    75064  149640236  \n",
       "4                  0.484943         8728    75064  149640353  "
      ]
     },
     "execution_count": 15,
     "metadata": {},
     "output_type": "execute_result"
    }
   ],
   "source": [
    "new_df.head()"
   ]
  },
  {
   "cell_type": "code",
   "execution_count": 16,
   "metadata": {
    "collapsed": true
   },
   "outputs": [],
   "source": [
    "new_df.to_csv(data_file, index=False)"
   ]
  },
  {
   "cell_type": "code",
   "execution_count": 17,
   "metadata": {
    "collapsed": false
   },
   "outputs": [
    {
     "data": {
      "text/plain": [
       "False"
      ]
     },
     "execution_count": 17,
     "metadata": {},
     "output_type": "execute_result"
    }
   ],
   "source": [
    "new_df.isnull().values.any()"
   ]
  },
  {
   "cell_type": "code",
   "execution_count": null,
   "metadata": {
    "collapsed": false
   },
   "outputs": [],
   "source": [
    "new_df.tail()"
   ]
  },
  {
   "cell_type": "code",
   "execution_count": null,
   "metadata": {
    "collapsed": false
   },
   "outputs": [],
   "source": [
    "with open('this_one_all_ps_list', 'w') as file:\n",
    "    for ite in new_df.columns[:ps_cnt].tolist():\n",
    "        file.write(str(ite) + \"\\n\")"
   ]
  },
  {
   "cell_type": "markdown",
   "metadata": {},
   "source": [
    "### Code below is deprecated. Keep it for reference."
   ]
  },
  {
   "cell_type": "code",
   "execution_count": null,
   "metadata": {
    "collapsed": false
   },
   "outputs": [],
   "source": [
    "len(pl_df.groupby('user_id').filter(lambda x: len(x) > 100))"
   ]
  },
  {
   "cell_type": "code",
   "execution_count": null,
   "metadata": {
    "collapsed": true
   },
   "outputs": [],
   "source": [
    "\n",
    "mask = pl_df['sequence_id'].isin(counts[counts > 500].index)\n",
    "pl_df['sequence_id'][~mask] = \"-\"\n",
    "\n",
    "new_df = pd.DataFrame()\n",
    "new_df = pd.get_dummies(pl_df['sequence_id'])\n",
    "# u'correct , u'bottom_hint, u'hint_count, u'attempt_count, u'first_response_time\n",
    "new_df['correct'] = pl_df['correct']\n",
    "new_df['bottom_hint'] = pl_df['bottom_hint']\n",
    "new_df['hint_count'] = pl_df['hint_count']\n",
    "new_df['attempt_count'] = pl_df['attempt_count']\n",
    "new_df['first_response_time'] = pl_df['first_response_time']\n",
    "new_df['user_id'] = pl_df['user_id']\n",
    "new_df['id'] = pl_df['id']\n",
    "\n",
    "new_df['bottom_hint'].fillna(0, inplace=True)\n",
    "norm = lambda x: (x - x.min()) / (x.max() - x.min())\n",
    "new_df.insert(len(new_df.columns), 'NofFRT', pl_df.groupby('sequence_id')['first_response_time'].transform(norm))\n",
    "del new_df['first_response_time']\n",
    "\n",
    "new_df['correct'].fillna(0, inplace=True)\n",
    "new_df['NofFRT'].fillna(1, inplace=True)\n",
    "new_df['hint_count'].fillna(1, inplace=True)\n",
    "new_df.to_csv('../LSTM-autoencoder/train_data.csv', index=False)"
   ]
  },
  {
   "cell_type": "code",
   "execution_count": null,
   "metadata": {
    "collapsed": true
   },
   "outputs": [],
   "source": [
    "# convert training data\n",
    "train_df = pd.read_csv('22_problem_logs_seq.csv')"
   ]
  },
  {
   "cell_type": "code",
   "execution_count": null,
   "metadata": {
    "collapsed": false
   },
   "outputs": [],
   "source": [
    "train_df.head()"
   ]
  },
  {
   "cell_type": "code",
   "execution_count": null,
   "metadata": {
    "collapsed": true
   },
   "outputs": [],
   "source": [
    "# read ps_list\n",
    "ps_list = []\n",
    "with open('ps_list') as file:\n",
    "    for line in file:\n",
    "        ps_list.append(int(line))"
   ]
  },
  {
   "cell_type": "code",
   "execution_count": null,
   "metadata": {
    "collapsed": false
   },
   "outputs": [],
   "source": [
    "len(ps_list)"
   ]
  },
  {
   "cell_type": "code",
   "execution_count": null,
   "metadata": {
    "collapsed": false
   },
   "outputs": [],
   "source": [
    "encode_list = []\n",
    "for index, row in train_df.iterrows():\n",
    "    encode = np.zeros(len(ps_list)+1)\n",
    "    try:\n",
    "        idx = ps_list.index(row['sequence_id'])\n",
    "        encode[idx] = 1\n",
    "    except ValueError:\n",
    "        encode[len(ps_list)] = 1\n",
    "\n",
    "    encode_list.append(encode)\n",
    "encode_array = np.stack(encode_list, axis=0)"
   ]
  },
  {
   "cell_type": "code",
   "execution_count": null,
   "metadata": {
    "collapsed": false
   },
   "outputs": [],
   "source": [
    "encode_array.shape"
   ]
  },
  {
   "cell_type": "code",
   "execution_count": null,
   "metadata": {
    "collapsed": false
   },
   "outputs": [],
   "source": [
    "final_df = pd.DataFrame(encode_array, columns=ps_list+['-'])"
   ]
  },
  {
   "cell_type": "code",
   "execution_count": null,
   "metadata": {
    "collapsed": false
   },
   "outputs": [],
   "source": [
    "final_df.tail()"
   ]
  },
  {
   "cell_type": "code",
   "execution_count": null,
   "metadata": {
    "collapsed": true
   },
   "outputs": [],
   "source": [
    "# u'correct , u'bottom_hint, u'hint_count, u'attempt_count, u'first_response_time\n",
    "final_df['correct'] = train_df['correct']\n",
    "final_df['bottom_hint'] = train_df['bottom_hint']\n",
    "final_df['hint_count'] = train_df['hint_count']\n",
    "final_df['attempt_count'] = train_df['attempt_count']\n",
    "final_df['first_response_time'] = train_df['first_response_time']\n",
    "\n",
    "norm = lambda x: (x - x.min()) / (x.max() - x.min())\n",
    "final_df.insert(len(final_df.columns), 'NofFRT', train_df.groupby('sequence_id')['first_response_time'].transform(norm))\n",
    "del final_df['first_response_time']\n",
    "\n",
    "final_df['user_id'] = train_df['user_id']\n",
    "final_df['id'] = train_df['id']"
   ]
  },
  {
   "cell_type": "code",
   "execution_count": null,
   "metadata": {
    "collapsed": false
   },
   "outputs": [],
   "source": [
    "final_df['correct'].fillna(0, inplace=True)\n",
    "final_df['NofFRT'].fillna(0.5, inplace=True)\n",
    "final_df['hint_count'].fillna(1, inplace=True)\n",
    "final_df['bottom_hint'].fillna(0, inplace=True)\n",
    "final_df.isnull().values.any()"
   ]
  },
  {
   "cell_type": "code",
   "execution_count": null,
   "metadata": {
    "collapsed": true
   },
   "outputs": [],
   "source": [
    "final_df.to_csv('22_train_data.csv', index=False)"
   ]
  }
 ],
 "metadata": {
  "kernelspec": {
   "display_name": "Python 2",
   "language": "python",
   "name": "python2"
  },
  "language_info": {
   "codemirror_mode": {
    "name": "ipython",
    "version": 2
   },
   "file_extension": ".py",
   "mimetype": "text/x-python",
   "name": "python",
   "nbconvert_exporter": "python",
   "pygments_lexer": "ipython2",
   "version": "2.7.12"
  }
 },
 "nbformat": 4,
 "nbformat_minor": 2
}
