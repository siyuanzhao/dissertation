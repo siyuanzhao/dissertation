{
 "cells": [
  {
   "cell_type": "code",
   "execution_count": 1,
   "metadata": {
    "collapsed": true
   },
   "outputs": [],
   "source": [
    "import pandas as pd\n",
    "\n",
    "import random\n",
    "import numpy as np"
   ]
  },
  {
   "cell_type": "code",
   "execution_count": 2,
   "metadata": {
    "collapsed": false
   },
   "outputs": [
    {
     "name": "stderr",
     "output_type": "stream",
     "text": [
      "/usr/local/lib/python2.7/site-packages/IPython/core/interactiveshell.py:2717: DtypeWarning: Columns (21) have mixed types. Specify dtype option on import or set low_memory=False.\n",
      "  interactivity=interactivity, compiler=compiler, result=result)\n"
     ]
    }
   ],
   "source": [
    "pl_df = pd.read_csv('2016_problem_logs_seq.csv')"
   ]
  },
  {
   "cell_type": "code",
   "execution_count": 3,
   "metadata": {
    "collapsed": false
   },
   "outputs": [
    {
     "data": {
      "text/plain": [
       "10937556"
      ]
     },
     "execution_count": 3,
     "metadata": {},
     "output_type": "execute_result"
    }
   ],
   "source": [
    "len(pl_df)"
   ]
  },
  {
   "cell_type": "code",
   "execution_count": 4,
   "metadata": {
    "collapsed": false
   },
   "outputs": [],
   "source": [
    "pl_df = pl_df[pl_df['original'] == 1]"
   ]
  },
  {
   "cell_type": "code",
   "execution_count": 6,
   "metadata": {
    "collapsed": false
   },
   "outputs": [
    {
     "data": {
      "text/plain": [
       "51747"
      ]
     },
     "execution_count": 6,
     "metadata": {},
     "output_type": "execute_result"
    }
   ],
   "source": [
    "len(pl_df['user_id'].unique())"
   ]
  },
  {
   "cell_type": "code",
   "execution_count": 7,
   "metadata": {
    "collapsed": false
   },
   "outputs": [],
   "source": [
    "sublist = random.sample(pl_df['user_id'].unique(), 25000)"
   ]
  },
  {
   "cell_type": "code",
   "execution_count": 8,
   "metadata": {
    "collapsed": false
   },
   "outputs": [
    {
     "data": {
      "text/plain": [
       "25000"
      ]
     },
     "execution_count": 8,
     "metadata": {},
     "output_type": "execute_result"
    }
   ],
   "source": [
    "len(sublist)"
   ]
  },
  {
   "cell_type": "code",
   "execution_count": 9,
   "metadata": {
    "collapsed": false
   },
   "outputs": [],
   "source": [
    "sub_df = pd.DataFrame(pl_df[(pl_df['user_id'].isin(sublist))])"
   ]
  },
  {
   "cell_type": "code",
   "execution_count": 10,
   "metadata": {
    "collapsed": false
   },
   "outputs": [
    {
     "data": {
      "text/plain": [
       "5033660"
      ]
     },
     "execution_count": 10,
     "metadata": {},
     "output_type": "execute_result"
    }
   ],
   "source": [
    "len(sub_df)"
   ]
  },
  {
   "cell_type": "code",
   "execution_count": 11,
   "metadata": {
    "collapsed": false
   },
   "outputs": [
    {
     "data": {
      "text/plain": [
       "63306"
      ]
     },
     "execution_count": 11,
     "metadata": {},
     "output_type": "execute_result"
    }
   ],
   "source": [
    "len(sub_df['sequence_id'].unique())"
   ]
  },
  {
   "cell_type": "code",
   "execution_count": 12,
   "metadata": {
    "collapsed": false
   },
   "outputs": [
    {
     "data": {
      "text/plain": [
       "2984"
      ]
     },
     "execution_count": 12,
     "metadata": {},
     "output_type": "execute_result"
    }
   ],
   "source": [
    "sub_counts = pd.value_counts(sub_df['sequence_id'])\n",
    "\n",
    "len(sub_counts[sub_counts > 400])"
   ]
  },
  {
   "cell_type": "code",
   "execution_count": 15,
   "metadata": {
    "collapsed": false
   },
   "outputs": [
    {
     "data": {
      "text/plain": [
       "1450"
      ]
     },
     "execution_count": 15,
     "metadata": {},
     "output_type": "execute_result"
    }
   ],
   "source": [
    "len(sub_counts[sub_counts > 700])"
   ]
  },
  {
   "cell_type": "code",
   "execution_count": 16,
   "metadata": {
    "collapsed": false
   },
   "outputs": [
    {
     "name": "stderr",
     "output_type": "stream",
     "text": [
      "/usr/local/lib/python2.7/site-packages/ipykernel/__main__.py:2: SettingWithCopyWarning: \n",
      "A value is trying to be set on a copy of a slice from a DataFrame\n",
      "\n",
      "See the caveats in the documentation: http://pandas.pydata.org/pandas-docs/stable/indexing.html#indexing-view-versus-copy\n",
      "  from ipykernel import kernelapp as app\n"
     ]
    }
   ],
   "source": [
    "mask = sub_df['sequence_id'].isin(sub_counts[sub_counts > 700].index)\n",
    "sub_df['sequence_id'][~mask] = \"-\""
   ]
  },
  {
   "cell_type": "code",
   "execution_count": 18,
   "metadata": {
    "collapsed": false
   },
   "outputs": [
    {
     "data": {
      "text/html": [
       "<div>\n",
       "<table border=\"1\" class=\"dataframe\">\n",
       "  <thead>\n",
       "    <tr style=\"text-align: right;\">\n",
       "      <th></th>\n",
       "      <th>id</th>\n",
       "      <th>assignment_id</th>\n",
       "      <th>user_id</th>\n",
       "      <th>assistment_id</th>\n",
       "      <th>problem_id</th>\n",
       "      <th>original</th>\n",
       "      <th>correct</th>\n",
       "      <th>answer_id</th>\n",
       "      <th>answer_text</th>\n",
       "      <th>first_action</th>\n",
       "      <th>...</th>\n",
       "      <th>actions</th>\n",
       "      <th>tutor_strategy_id</th>\n",
       "      <th>tutor_mode</th>\n",
       "      <th>assignment_type</th>\n",
       "      <th>teacher_comment</th>\n",
       "      <th>network_state</th>\n",
       "      <th>path_info</th>\n",
       "      <th>discrete_score</th>\n",
       "      <th>updated_at</th>\n",
       "      <th>sequence_id</th>\n",
       "    </tr>\n",
       "  </thead>\n",
       "  <tbody>\n",
       "    <tr>\n",
       "      <th>15</th>\n",
       "      <td>176936182</td>\n",
       "      <td>1525286</td>\n",
       "      <td>70190</td>\n",
       "      <td>817748</td>\n",
       "      <td>1197574</td>\n",
       "      <td>1</td>\n",
       "      <td>0.000000</td>\n",
       "      <td>NaN</td>\n",
       "      <td>2</td>\n",
       "      <td>0</td>\n",
       "      <td>...</td>\n",
       "      <td>--- \\n- - start\\n  - 1452622481273\\n  - \"43281...</td>\n",
       "      <td>926032.0</td>\n",
       "      <td>tutor</td>\n",
       "      <td>ClassAssignment</td>\n",
       "      <td>NaN</td>\n",
       "      <td>CONNECTED</td>\n",
       "      <td>/PS4328147</td>\n",
       "      <td>0.0</td>\n",
       "      <td>2016-01-12 13:15:59.921411</td>\n",
       "      <td>-</td>\n",
       "    </tr>\n",
       "    <tr>\n",
       "      <th>16</th>\n",
       "      <td>176936299</td>\n",
       "      <td>1525286</td>\n",
       "      <td>70190</td>\n",
       "      <td>817749</td>\n",
       "      <td>1197575</td>\n",
       "      <td>1</td>\n",
       "      <td>0.666667</td>\n",
       "      <td>NaN</td>\n",
       "      <td>4</td>\n",
       "      <td>0</td>\n",
       "      <td>...</td>\n",
       "      <td>--- \\n- - start\\n  - 1452622559286\\n  - \"43281...</td>\n",
       "      <td>NaN</td>\n",
       "      <td>tutor</td>\n",
       "      <td>ClassAssignment</td>\n",
       "      <td>NaN</td>\n",
       "      <td>CONNECTED</td>\n",
       "      <td>/PS4328147</td>\n",
       "      <td>0.0</td>\n",
       "      <td>2016-01-13 13:45:07.615245</td>\n",
       "      <td>-</td>\n",
       "    </tr>\n",
       "    <tr>\n",
       "      <th>19</th>\n",
       "      <td>177160569</td>\n",
       "      <td>1531489</td>\n",
       "      <td>70190</td>\n",
       "      <td>896253</td>\n",
       "      <td>1296260</td>\n",
       "      <td>1</td>\n",
       "      <td>0.000000</td>\n",
       "      <td>NaN</td>\n",
       "      <td>No</td>\n",
       "      <td>0</td>\n",
       "      <td>...</td>\n",
       "      <td>--- \\n- - start\\n  - 1453151203178\\n  - \"43488...</td>\n",
       "      <td>NaN</td>\n",
       "      <td>tutor</td>\n",
       "      <td>ClassAssignment</td>\n",
       "      <td>NaN</td>\n",
       "      <td>CONNECTED</td>\n",
       "      <td>/PS4348810/PS4348826</td>\n",
       "      <td>0.0</td>\n",
       "      <td>2016-01-18 16:07:41.249183</td>\n",
       "      <td>-</td>\n",
       "    </tr>\n",
       "    <tr>\n",
       "      <th>20</th>\n",
       "      <td>177160581</td>\n",
       "      <td>1531489</td>\n",
       "      <td>70190</td>\n",
       "      <td>896254</td>\n",
       "      <td>1296261</td>\n",
       "      <td>1</td>\n",
       "      <td>0.000000</td>\n",
       "      <td>NaN</td>\n",
       "      <td>2</td>\n",
       "      <td>0</td>\n",
       "      <td>...</td>\n",
       "      <td>--- \\n- - start\\n  - 1453151260958\\n  - \"43488...</td>\n",
       "      <td>NaN</td>\n",
       "      <td>tutor</td>\n",
       "      <td>ClassAssignment</td>\n",
       "      <td>NaN</td>\n",
       "      <td>CONNECTED</td>\n",
       "      <td>/PS4348810/PS4348826</td>\n",
       "      <td>0.0</td>\n",
       "      <td>2016-01-18 16:07:49.112993</td>\n",
       "      <td>-</td>\n",
       "    </tr>\n",
       "    <tr>\n",
       "      <th>21</th>\n",
       "      <td>177160583</td>\n",
       "      <td>1531489</td>\n",
       "      <td>70190</td>\n",
       "      <td>896255</td>\n",
       "      <td>1296262</td>\n",
       "      <td>1</td>\n",
       "      <td>0.000000</td>\n",
       "      <td>NaN</td>\n",
       "      <td>2</td>\n",
       "      <td>0</td>\n",
       "      <td>...</td>\n",
       "      <td>--- \\n- - start\\n  - 1453151268827\\n  - \"43488...</td>\n",
       "      <td>NaN</td>\n",
       "      <td>tutor</td>\n",
       "      <td>ClassAssignment</td>\n",
       "      <td>NaN</td>\n",
       "      <td>CONNECTED</td>\n",
       "      <td>/PS4348810/PS4348826</td>\n",
       "      <td>0.0</td>\n",
       "      <td>2016-01-18 16:07:52.525985</td>\n",
       "      <td>-</td>\n",
       "    </tr>\n",
       "  </tbody>\n",
       "</table>\n",
       "<p>5 rows × 27 columns</p>\n",
       "</div>"
      ],
      "text/plain": [
       "           id  assignment_id  user_id  assistment_id  problem_id  original  \\\n",
       "15  176936182        1525286    70190         817748     1197574         1   \n",
       "16  176936299        1525286    70190         817749     1197575         1   \n",
       "19  177160569        1531489    70190         896253     1296260         1   \n",
       "20  177160581        1531489    70190         896254     1296261         1   \n",
       "21  177160583        1531489    70190         896255     1296262         1   \n",
       "\n",
       "     correct  answer_id answer_text  first_action     ...      \\\n",
       "15  0.000000        NaN           2             0     ...       \n",
       "16  0.666667        NaN           4             0     ...       \n",
       "19  0.000000        NaN          No             0     ...       \n",
       "20  0.000000        NaN           2             0     ...       \n",
       "21  0.000000        NaN           2             0     ...       \n",
       "\n",
       "                                              actions  tutor_strategy_id  \\\n",
       "15  --- \\n- - start\\n  - 1452622481273\\n  - \"43281...           926032.0   \n",
       "16  --- \\n- - start\\n  - 1452622559286\\n  - \"43281...                NaN   \n",
       "19  --- \\n- - start\\n  - 1453151203178\\n  - \"43488...                NaN   \n",
       "20  --- \\n- - start\\n  - 1453151260958\\n  - \"43488...                NaN   \n",
       "21  --- \\n- - start\\n  - 1453151268827\\n  - \"43488...                NaN   \n",
       "\n",
       "    tutor_mode  assignment_type teacher_comment  network_state  \\\n",
       "15       tutor  ClassAssignment             NaN      CONNECTED   \n",
       "16       tutor  ClassAssignment             NaN      CONNECTED   \n",
       "19       tutor  ClassAssignment             NaN      CONNECTED   \n",
       "20       tutor  ClassAssignment             NaN      CONNECTED   \n",
       "21       tutor  ClassAssignment             NaN      CONNECTED   \n",
       "\n",
       "               path_info discrete_score                  updated_at  \\\n",
       "15            /PS4328147            0.0  2016-01-12 13:15:59.921411   \n",
       "16            /PS4328147            0.0  2016-01-13 13:45:07.615245   \n",
       "19  /PS4348810/PS4348826            0.0  2016-01-18 16:07:41.249183   \n",
       "20  /PS4348810/PS4348826            0.0  2016-01-18 16:07:49.112993   \n",
       "21  /PS4348810/PS4348826            0.0  2016-01-18 16:07:52.525985   \n",
       "\n",
       "   sequence_id  \n",
       "15           -  \n",
       "16           -  \n",
       "19           -  \n",
       "20           -  \n",
       "21           -  \n",
       "\n",
       "[5 rows x 27 columns]"
      ]
     },
     "execution_count": 18,
     "metadata": {},
     "output_type": "execute_result"
    }
   ],
   "source": [
    "sub_df[sub_df['discrete_score'] == 0].head()"
   ]
  },
  {
   "cell_type": "code",
   "execution_count": 19,
   "metadata": {
    "collapsed": false
   },
   "outputs": [
    {
     "data": {
      "text/plain": [
       "Index([u'id', u'assignment_id', u'user_id', u'assistment_id', u'problem_id',\n",
       "       u'original', u'correct', u'answer_id', u'answer_text', u'first_action',\n",
       "       u'hint_count', u'bottom_hint', u'attempt_count', u'start_time',\n",
       "       u'end_time', u'first_response_time', u'overlap_time', u'actions',\n",
       "       u'tutor_strategy_id', u'tutor_mode', u'assignment_type',\n",
       "       u'teacher_comment', u'network_state', u'path_info', u'discrete_score',\n",
       "       u'updated_at', u'sequence_id'],\n",
       "      dtype='object')"
      ]
     },
     "execution_count": 19,
     "metadata": {},
     "output_type": "execute_result"
    }
   ],
   "source": [
    "sub_df.columns"
   ]
  },
  {
   "cell_type": "code",
   "execution_count": 43,
   "metadata": {
    "collapsed": true
   },
   "outputs": [],
   "source": [
    "new_df = pd.DataFrame()\n",
    "new_df = pd.get_dummies(sub_df['sequence_id'])\n",
    "# u'correct , u'bottom_hint, u'hint_count, u'attempt_count, u'first_response_time, first_action\n",
    "# binary correctness\n",
    "new_df['correct'] = np.where(sub_df['correct'] < 1, 0, 1)\n",
    "new_df['bottom_hint'] = sub_df['bottom_hint']\n",
    "new_df['hint_count'] = sub_df['hint_count']\n",
    "new_df['attempt_count'] = sub_df['attempt_count']\n",
    "new_df['first_response_time'] = sub_df['first_response_time']\n",
    "# first action\n",
    "new_df['first_action'] = sub_df['first_action']\n",
    "\n",
    "norm = lambda x: (x - x.min()) / (x.max() - x.min()) if x.max() - x.min() else 1\n",
    "# normalize within problems\n",
    "new_df.insert(len(new_df.columns), 'NofFRT', sub_df.groupby('sequence_id')['first_response_time'].transform(norm))\n",
    "del new_df['first_response_time']\n",
    "\n",
    "new_df.insert(len(new_df.columns), 'normalized_hint_count', sub_df.groupby('sequence_id')['hint_count'].transform(norm))\n",
    "del new_df['hint_count']\n",
    "\n",
    "new_df.insert(len(new_df.columns), 'normalized_attempt_count', sub_df.groupby('sequence_id')['attempt_count'].transform(norm))\n",
    "del new_df['attempt_count']\n",
    "\n",
    "new_df['user_id'] = sub_df['user_id']\n",
    "new_df['id'] = sub_df['id']"
   ]
  },
  {
   "cell_type": "code",
   "execution_count": 44,
   "metadata": {
    "collapsed": false
   },
   "outputs": [
    {
     "data": {
      "text/plain": [
       "False"
      ]
     },
     "execution_count": 44,
     "metadata": {},
     "output_type": "execute_result"
    }
   ],
   "source": [
    "new_df.isnull().values.any()"
   ]
  },
  {
   "cell_type": "code",
   "execution_count": 45,
   "metadata": {
    "collapsed": false
   },
   "outputs": [
    {
     "data": {
      "text/html": [
       "<div>\n",
       "<table border=\"1\" class=\"dataframe\">\n",
       "  <thead>\n",
       "    <tr style=\"text-align: right;\">\n",
       "      <th></th>\n",
       "      <th>2285</th>\n",
       "      <th>2427</th>\n",
       "      <th>2646</th>\n",
       "      <th>2650</th>\n",
       "      <th>5110</th>\n",
       "      <th>5331</th>\n",
       "      <th>5343</th>\n",
       "      <th>5582</th>\n",
       "      <th>5624</th>\n",
       "      <th>5625</th>\n",
       "      <th>...</th>\n",
       "      <th>694733</th>\n",
       "      <th>-</th>\n",
       "      <th>correct</th>\n",
       "      <th>bottom_hint</th>\n",
       "      <th>first_action</th>\n",
       "      <th>NofFRT</th>\n",
       "      <th>normalized_hint_count</th>\n",
       "      <th>normalized_attempt_count</th>\n",
       "      <th>user_id</th>\n",
       "      <th>id</th>\n",
       "    </tr>\n",
       "  </thead>\n",
       "  <tbody>\n",
       "    <tr>\n",
       "      <th>10937535</th>\n",
       "      <td>0</td>\n",
       "      <td>0</td>\n",
       "      <td>0</td>\n",
       "      <td>0</td>\n",
       "      <td>0</td>\n",
       "      <td>0</td>\n",
       "      <td>0</td>\n",
       "      <td>0</td>\n",
       "      <td>0</td>\n",
       "      <td>0</td>\n",
       "      <td>...</td>\n",
       "      <td>0</td>\n",
       "      <td>0</td>\n",
       "      <td>1</td>\n",
       "      <td>0</td>\n",
       "      <td>0</td>\n",
       "      <td>0.031843</td>\n",
       "      <td>1.0</td>\n",
       "      <td>0.0</td>\n",
       "      <td>389247</td>\n",
       "      <td>183606214</td>\n",
       "    </tr>\n",
       "    <tr>\n",
       "      <th>10937536</th>\n",
       "      <td>0</td>\n",
       "      <td>0</td>\n",
       "      <td>0</td>\n",
       "      <td>0</td>\n",
       "      <td>0</td>\n",
       "      <td>0</td>\n",
       "      <td>0</td>\n",
       "      <td>0</td>\n",
       "      <td>0</td>\n",
       "      <td>0</td>\n",
       "      <td>...</td>\n",
       "      <td>0</td>\n",
       "      <td>0</td>\n",
       "      <td>0</td>\n",
       "      <td>0</td>\n",
       "      <td>0</td>\n",
       "      <td>0.030833</td>\n",
       "      <td>1.0</td>\n",
       "      <td>0.0</td>\n",
       "      <td>389247</td>\n",
       "      <td>183606230</td>\n",
       "    </tr>\n",
       "    <tr>\n",
       "      <th>10937537</th>\n",
       "      <td>0</td>\n",
       "      <td>0</td>\n",
       "      <td>0</td>\n",
       "      <td>0</td>\n",
       "      <td>0</td>\n",
       "      <td>0</td>\n",
       "      <td>0</td>\n",
       "      <td>0</td>\n",
       "      <td>0</td>\n",
       "      <td>0</td>\n",
       "      <td>...</td>\n",
       "      <td>0</td>\n",
       "      <td>0</td>\n",
       "      <td>1</td>\n",
       "      <td>0</td>\n",
       "      <td>0</td>\n",
       "      <td>0.039927</td>\n",
       "      <td>1.0</td>\n",
       "      <td>0.0</td>\n",
       "      <td>389247</td>\n",
       "      <td>183606247</td>\n",
       "    </tr>\n",
       "    <tr>\n",
       "      <th>10937538</th>\n",
       "      <td>0</td>\n",
       "      <td>0</td>\n",
       "      <td>0</td>\n",
       "      <td>0</td>\n",
       "      <td>0</td>\n",
       "      <td>0</td>\n",
       "      <td>0</td>\n",
       "      <td>0</td>\n",
       "      <td>0</td>\n",
       "      <td>0</td>\n",
       "      <td>...</td>\n",
       "      <td>0</td>\n",
       "      <td>0</td>\n",
       "      <td>1</td>\n",
       "      <td>0</td>\n",
       "      <td>0</td>\n",
       "      <td>0.090496</td>\n",
       "      <td>1.0</td>\n",
       "      <td>0.0</td>\n",
       "      <td>389247</td>\n",
       "      <td>183606261</td>\n",
       "    </tr>\n",
       "    <tr>\n",
       "      <th>10937539</th>\n",
       "      <td>0</td>\n",
       "      <td>0</td>\n",
       "      <td>0</td>\n",
       "      <td>0</td>\n",
       "      <td>0</td>\n",
       "      <td>0</td>\n",
       "      <td>0</td>\n",
       "      <td>0</td>\n",
       "      <td>0</td>\n",
       "      <td>0</td>\n",
       "      <td>...</td>\n",
       "      <td>0</td>\n",
       "      <td>0</td>\n",
       "      <td>0</td>\n",
       "      <td>0</td>\n",
       "      <td>0</td>\n",
       "      <td>0.041199</td>\n",
       "      <td>1.0</td>\n",
       "      <td>0.0</td>\n",
       "      <td>389247</td>\n",
       "      <td>183606296</td>\n",
       "    </tr>\n",
       "  </tbody>\n",
       "</table>\n",
       "<p>5 rows × 1459 columns</p>\n",
       "</div>"
      ],
      "text/plain": [
       "          2285  2427  2646  2650  5110  5331  5343  5582  5624  5625  \\\n",
       "10937535     0     0     0     0     0     0     0     0     0     0   \n",
       "10937536     0     0     0     0     0     0     0     0     0     0   \n",
       "10937537     0     0     0     0     0     0     0     0     0     0   \n",
       "10937538     0     0     0     0     0     0     0     0     0     0   \n",
       "10937539     0     0     0     0     0     0     0     0     0     0   \n",
       "\n",
       "            ...      694733  -  correct  bottom_hint  first_action    NofFRT  \\\n",
       "10937535    ...           0  0        1            0             0  0.031843   \n",
       "10937536    ...           0  0        0            0             0  0.030833   \n",
       "10937537    ...           0  0        1            0             0  0.039927   \n",
       "10937538    ...           0  0        1            0             0  0.090496   \n",
       "10937539    ...           0  0        0            0             0  0.041199   \n",
       "\n",
       "          normalized_hint_count  normalized_attempt_count  user_id         id  \n",
       "10937535                    1.0                       0.0   389247  183606214  \n",
       "10937536                    1.0                       0.0   389247  183606230  \n",
       "10937537                    1.0                       0.0   389247  183606247  \n",
       "10937538                    1.0                       0.0   389247  183606261  \n",
       "10937539                    1.0                       0.0   389247  183606296  \n",
       "\n",
       "[5 rows x 1459 columns]"
      ]
     },
     "execution_count": 45,
     "metadata": {},
     "output_type": "execute_result"
    }
   ],
   "source": [
    "new_df.tail()"
   ]
  },
  {
   "cell_type": "code",
   "execution_count": 46,
   "metadata": {
    "collapsed": false
   },
   "outputs": [],
   "source": [
    "with open('ps_list', 'w') as file:\n",
    "    for ite in new_df.columns[:963].tolist():\n",
    "        file.write(str(ite) + \"\\n\")"
   ]
  },
  {
   "cell_type": "code",
   "execution_count": 47,
   "metadata": {
    "collapsed": true
   },
   "outputs": [],
   "source": [
    "new_df.to_csv('pl_train_data.csv', index=False)"
   ]
  },
  {
   "cell_type": "markdown",
   "metadata": {},
   "source": [
    "### Code below is deprecated. Keep it for reference."
   ]
  },
  {
   "cell_type": "code",
   "execution_count": null,
   "metadata": {
    "collapsed": false
   },
   "outputs": [],
   "source": [
    "len(pl_df.groupby('user_id').filter(lambda x: len(x) > 100))"
   ]
  },
  {
   "cell_type": "code",
   "execution_count": null,
   "metadata": {
    "collapsed": true
   },
   "outputs": [],
   "source": [
    "\n",
    "mask = pl_df['sequence_id'].isin(counts[counts > 500].index)\n",
    "pl_df['sequence_id'][~mask] = \"-\"\n",
    "\n",
    "new_df = pd.DataFrame()\n",
    "new_df = pd.get_dummies(pl_df['sequence_id'])\n",
    "# u'correct , u'bottom_hint, u'hint_count, u'attempt_count, u'first_response_time\n",
    "new_df['correct'] = pl_df['correct']\n",
    "new_df['bottom_hint'] = pl_df['bottom_hint']\n",
    "new_df['hint_count'] = pl_df['hint_count']\n",
    "new_df['attempt_count'] = pl_df['attempt_count']\n",
    "new_df['first_response_time'] = pl_df['first_response_time']\n",
    "new_df['user_id'] = pl_df['user_id']\n",
    "new_df['id'] = pl_df['id']\n",
    "\n",
    "new_df['bottom_hint'].fillna(0, inplace=True)\n",
    "norm = lambda x: (x - x.min()) / (x.max() - x.min())\n",
    "new_df.insert(len(new_df.columns), 'NofFRT', pl_df.groupby('sequence_id')['first_response_time'].transform(norm))\n",
    "del new_df['first_response_time']\n",
    "\n",
    "new_df['correct'].fillna(0, inplace=True)\n",
    "new_df['NofFRT'].fillna(1, inplace=True)\n",
    "new_df['hint_count'].fillna(1, inplace=True)\n",
    "new_df.to_csv('../LSTM-autoencoder/train_data.csv', index=False)"
   ]
  },
  {
   "cell_type": "code",
   "execution_count": 23,
   "metadata": {
    "collapsed": true
   },
   "outputs": [],
   "source": [
    "# convert training data\n",
    "train_df = pd.read_csv('22_problem_logs_seq.csv')"
   ]
  },
  {
   "cell_type": "code",
   "execution_count": 24,
   "metadata": {
    "collapsed": false
   },
   "outputs": [
    {
     "data": {
      "text/html": [
       "<div>\n",
       "<table border=\"1\" class=\"dataframe\">\n",
       "  <thead>\n",
       "    <tr style=\"text-align: right;\">\n",
       "      <th></th>\n",
       "      <th>id</th>\n",
       "      <th>assignment_id</th>\n",
       "      <th>user_id</th>\n",
       "      <th>assistment_id</th>\n",
       "      <th>problem_id</th>\n",
       "      <th>original</th>\n",
       "      <th>correct</th>\n",
       "      <th>answer_id</th>\n",
       "      <th>answer_text</th>\n",
       "      <th>first_action</th>\n",
       "      <th>...</th>\n",
       "      <th>actions</th>\n",
       "      <th>tutor_strategy_id</th>\n",
       "      <th>tutor_mode</th>\n",
       "      <th>assignment_type</th>\n",
       "      <th>teacher_comment</th>\n",
       "      <th>network_state</th>\n",
       "      <th>path_info</th>\n",
       "      <th>discrete_score</th>\n",
       "      <th>updated_at</th>\n",
       "      <th>sequence_id</th>\n",
       "    </tr>\n",
       "  </thead>\n",
       "  <tbody>\n",
       "    <tr>\n",
       "      <th>0</th>\n",
       "      <td>83251979</td>\n",
       "      <td>390779</td>\n",
       "      <td>131019</td>\n",
       "      <td>97389</td>\n",
       "      <td>186155</td>\n",
       "      <td>1</td>\n",
       "      <td>1.0</td>\n",
       "      <td>NaN</td>\n",
       "      <td>64</td>\n",
       "      <td>0.0</td>\n",
       "      <td>...</td>\n",
       "      <td>--- \\n- - start\\n  - 1317738211496\\n- - answer...</td>\n",
       "      <td>136294.0</td>\n",
       "      <td>tutor</td>\n",
       "      <td>ClassAssignment</td>\n",
       "      <td>NaN</td>\n",
       "      <td>NaN</td>\n",
       "      <td>NaN</td>\n",
       "      <td>NaN</td>\n",
       "      <td>NaN</td>\n",
       "      <td>11833</td>\n",
       "    </tr>\n",
       "    <tr>\n",
       "      <th>1</th>\n",
       "      <td>83252617</td>\n",
       "      <td>390779</td>\n",
       "      <td>131019</td>\n",
       "      <td>97411</td>\n",
       "      <td>186221</td>\n",
       "      <td>1</td>\n",
       "      <td>1.0</td>\n",
       "      <td>NaN</td>\n",
       "      <td>65</td>\n",
       "      <td>0.0</td>\n",
       "      <td>...</td>\n",
       "      <td>--- \\n- - start\\n  - 1317738254825\\n- - answer...</td>\n",
       "      <td>136338.0</td>\n",
       "      <td>tutor</td>\n",
       "      <td>ClassAssignment</td>\n",
       "      <td>NaN</td>\n",
       "      <td>NaN</td>\n",
       "      <td>NaN</td>\n",
       "      <td>NaN</td>\n",
       "      <td>NaN</td>\n",
       "      <td>11833</td>\n",
       "    </tr>\n",
       "    <tr>\n",
       "      <th>2</th>\n",
       "      <td>83253196</td>\n",
       "      <td>390779</td>\n",
       "      <td>131019</td>\n",
       "      <td>97495</td>\n",
       "      <td>186473</td>\n",
       "      <td>1</td>\n",
       "      <td>1.0</td>\n",
       "      <td>NaN</td>\n",
       "      <td>452</td>\n",
       "      <td>0.0</td>\n",
       "      <td>...</td>\n",
       "      <td>--- \\n- - start\\n  - 1317738290513\\n- - answer...</td>\n",
       "      <td>136506.0</td>\n",
       "      <td>tutor</td>\n",
       "      <td>ClassAssignment</td>\n",
       "      <td>NaN</td>\n",
       "      <td>NaN</td>\n",
       "      <td>NaN</td>\n",
       "      <td>NaN</td>\n",
       "      <td>NaN</td>\n",
       "      <td>11833</td>\n",
       "    </tr>\n",
       "    <tr>\n",
       "      <th>3</th>\n",
       "      <td>83253881</td>\n",
       "      <td>390782</td>\n",
       "      <td>131019</td>\n",
       "      <td>32139</td>\n",
       "      <td>49282</td>\n",
       "      <td>1</td>\n",
       "      <td>0.0</td>\n",
       "      <td>NaN</td>\n",
       "      <td>145</td>\n",
       "      <td>0.0</td>\n",
       "      <td>...</td>\n",
       "      <td>--- \\n- - start\\n  - 1317738340042\\n- - answer...</td>\n",
       "      <td>23057.0</td>\n",
       "      <td>tutor</td>\n",
       "      <td>ClassAssignment</td>\n",
       "      <td>NaN</td>\n",
       "      <td>NaN</td>\n",
       "      <td>NaN</td>\n",
       "      <td>NaN</td>\n",
       "      <td>NaN</td>\n",
       "      <td>5924</td>\n",
       "    </tr>\n",
       "    <tr>\n",
       "      <th>4</th>\n",
       "      <td>83255489</td>\n",
       "      <td>390782</td>\n",
       "      <td>131019</td>\n",
       "      <td>32120</td>\n",
       "      <td>49263</td>\n",
       "      <td>1</td>\n",
       "      <td>1.0</td>\n",
       "      <td>NaN</td>\n",
       "      <td>199</td>\n",
       "      <td>0.0</td>\n",
       "      <td>...</td>\n",
       "      <td>--- \\n- - start\\n  - 1317738468101\\n- - answer...</td>\n",
       "      <td>23038.0</td>\n",
       "      <td>tutor</td>\n",
       "      <td>ClassAssignment</td>\n",
       "      <td>NaN</td>\n",
       "      <td>NaN</td>\n",
       "      <td>NaN</td>\n",
       "      <td>NaN</td>\n",
       "      <td>NaN</td>\n",
       "      <td>5924</td>\n",
       "    </tr>\n",
       "  </tbody>\n",
       "</table>\n",
       "<p>5 rows × 27 columns</p>\n",
       "</div>"
      ],
      "text/plain": [
       "         id  assignment_id  user_id  assistment_id  problem_id  original  \\\n",
       "0  83251979         390779   131019          97389      186155         1   \n",
       "1  83252617         390779   131019          97411      186221         1   \n",
       "2  83253196         390779   131019          97495      186473         1   \n",
       "3  83253881         390782   131019          32139       49282         1   \n",
       "4  83255489         390782   131019          32120       49263         1   \n",
       "\n",
       "   correct  answer_id answer_text  first_action     ...      \\\n",
       "0      1.0        NaN          64           0.0     ...       \n",
       "1      1.0        NaN          65           0.0     ...       \n",
       "2      1.0        NaN         452           0.0     ...       \n",
       "3      0.0        NaN         145           0.0     ...       \n",
       "4      1.0        NaN         199           0.0     ...       \n",
       "\n",
       "                                             actions  tutor_strategy_id  \\\n",
       "0  --- \\n- - start\\n  - 1317738211496\\n- - answer...           136294.0   \n",
       "1  --- \\n- - start\\n  - 1317738254825\\n- - answer...           136338.0   \n",
       "2  --- \\n- - start\\n  - 1317738290513\\n- - answer...           136506.0   \n",
       "3  --- \\n- - start\\n  - 1317738340042\\n- - answer...            23057.0   \n",
       "4  --- \\n- - start\\n  - 1317738468101\\n- - answer...            23038.0   \n",
       "\n",
       "   tutor_mode  assignment_type teacher_comment  network_state  path_info  \\\n",
       "0       tutor  ClassAssignment             NaN            NaN        NaN   \n",
       "1       tutor  ClassAssignment             NaN            NaN        NaN   \n",
       "2       tutor  ClassAssignment             NaN            NaN        NaN   \n",
       "3       tutor  ClassAssignment             NaN            NaN        NaN   \n",
       "4       tutor  ClassAssignment             NaN            NaN        NaN   \n",
       "\n",
       "  discrete_score  updated_at sequence_id  \n",
       "0            NaN         NaN       11833  \n",
       "1            NaN         NaN       11833  \n",
       "2            NaN         NaN       11833  \n",
       "3            NaN         NaN        5924  \n",
       "4            NaN         NaN        5924  \n",
       "\n",
       "[5 rows x 27 columns]"
      ]
     },
     "execution_count": 24,
     "metadata": {},
     "output_type": "execute_result"
    }
   ],
   "source": [
    "train_df.head()"
   ]
  },
  {
   "cell_type": "code",
   "execution_count": 25,
   "metadata": {
    "collapsed": true
   },
   "outputs": [],
   "source": [
    "# read ps_list\n",
    "ps_list = []\n",
    "with open('ps_list') as file:\n",
    "    for line in file:\n",
    "        ps_list.append(int(line))"
   ]
  },
  {
   "cell_type": "code",
   "execution_count": 41,
   "metadata": {
    "collapsed": false
   },
   "outputs": [
    {
     "data": {
      "text/plain": [
       "1032"
      ]
     },
     "execution_count": 41,
     "metadata": {},
     "output_type": "execute_result"
    }
   ],
   "source": [
    "len(ps_list)"
   ]
  },
  {
   "cell_type": "code",
   "execution_count": 42,
   "metadata": {
    "collapsed": false
   },
   "outputs": [],
   "source": [
    "encode_list = []\n",
    "for index, row in train_df.iterrows():\n",
    "    encode = np.zeros(len(ps_list)+1)\n",
    "    try:\n",
    "        idx = ps_list.index(row['sequence_id'])\n",
    "        encode[idx] = 1\n",
    "    except ValueError:\n",
    "        encode[len(ps_list)] = 1\n",
    "\n",
    "    encode_list.append(encode)\n",
    "encode_array = np.stack(encode_list, axis=0)"
   ]
  },
  {
   "cell_type": "code",
   "execution_count": 43,
   "metadata": {
    "collapsed": false
   },
   "outputs": [
    {
     "data": {
      "text/plain": [
       "(390470, 1033)"
      ]
     },
     "execution_count": 43,
     "metadata": {},
     "output_type": "execute_result"
    }
   ],
   "source": [
    "encode_array.shape"
   ]
  },
  {
   "cell_type": "code",
   "execution_count": 44,
   "metadata": {
    "collapsed": false
   },
   "outputs": [],
   "source": [
    "final_df = pd.DataFrame(encode_array, columns=ps_list+['-'])"
   ]
  },
  {
   "cell_type": "code",
   "execution_count": 48,
   "metadata": {
    "collapsed": false
   },
   "outputs": [
    {
     "data": {
      "text/html": [
       "<div>\n",
       "<table border=\"1\" class=\"dataframe\">\n",
       "  <thead>\n",
       "    <tr style=\"text-align: right;\">\n",
       "      <th></th>\n",
       "      <th>2246</th>\n",
       "      <th>2285</th>\n",
       "      <th>2427</th>\n",
       "      <th>2646</th>\n",
       "      <th>2650</th>\n",
       "      <th>5110</th>\n",
       "      <th>5331</th>\n",
       "      <th>5339</th>\n",
       "      <th>5355</th>\n",
       "      <th>5582</th>\n",
       "      <th>...</th>\n",
       "      <th>694614</th>\n",
       "      <th>694733</th>\n",
       "      <th>-</th>\n",
       "      <th>correct</th>\n",
       "      <th>bottom_hint</th>\n",
       "      <th>hint_count</th>\n",
       "      <th>attempt_count</th>\n",
       "      <th>NofFRT</th>\n",
       "      <th>user_id</th>\n",
       "      <th>id</th>\n",
       "    </tr>\n",
       "  </thead>\n",
       "  <tbody>\n",
       "    <tr>\n",
       "      <th>390465</th>\n",
       "      <td>0.0</td>\n",
       "      <td>0.0</td>\n",
       "      <td>0.0</td>\n",
       "      <td>0.0</td>\n",
       "      <td>0.0</td>\n",
       "      <td>0.0</td>\n",
       "      <td>0.0</td>\n",
       "      <td>0.0</td>\n",
       "      <td>0.0</td>\n",
       "      <td>0.0</td>\n",
       "      <td>...</td>\n",
       "      <td>0.0</td>\n",
       "      <td>0.0</td>\n",
       "      <td>1.0</td>\n",
       "      <td>1.000000</td>\n",
       "      <td>0.0</td>\n",
       "      <td>0.0</td>\n",
       "      <td>1</td>\n",
       "      <td>0.000117</td>\n",
       "      <td>346048</td>\n",
       "      <td>182210277</td>\n",
       "    </tr>\n",
       "    <tr>\n",
       "      <th>390466</th>\n",
       "      <td>0.0</td>\n",
       "      <td>0.0</td>\n",
       "      <td>0.0</td>\n",
       "      <td>0.0</td>\n",
       "      <td>0.0</td>\n",
       "      <td>0.0</td>\n",
       "      <td>0.0</td>\n",
       "      <td>0.0</td>\n",
       "      <td>0.0</td>\n",
       "      <td>0.0</td>\n",
       "      <td>...</td>\n",
       "      <td>0.0</td>\n",
       "      <td>0.0</td>\n",
       "      <td>1.0</td>\n",
       "      <td>1.000000</td>\n",
       "      <td>0.0</td>\n",
       "      <td>0.0</td>\n",
       "      <td>1</td>\n",
       "      <td>0.000188</td>\n",
       "      <td>346048</td>\n",
       "      <td>182210286</td>\n",
       "    </tr>\n",
       "    <tr>\n",
       "      <th>390467</th>\n",
       "      <td>0.0</td>\n",
       "      <td>0.0</td>\n",
       "      <td>0.0</td>\n",
       "      <td>0.0</td>\n",
       "      <td>0.0</td>\n",
       "      <td>0.0</td>\n",
       "      <td>0.0</td>\n",
       "      <td>0.0</td>\n",
       "      <td>0.0</td>\n",
       "      <td>0.0</td>\n",
       "      <td>...</td>\n",
       "      <td>0.0</td>\n",
       "      <td>0.0</td>\n",
       "      <td>1.0</td>\n",
       "      <td>0.333333</td>\n",
       "      <td>0.0</td>\n",
       "      <td>0.0</td>\n",
       "      <td>3</td>\n",
       "      <td>0.000084</td>\n",
       "      <td>346048</td>\n",
       "      <td>182210291</td>\n",
       "    </tr>\n",
       "    <tr>\n",
       "      <th>390468</th>\n",
       "      <td>0.0</td>\n",
       "      <td>0.0</td>\n",
       "      <td>0.0</td>\n",
       "      <td>0.0</td>\n",
       "      <td>0.0</td>\n",
       "      <td>0.0</td>\n",
       "      <td>0.0</td>\n",
       "      <td>0.0</td>\n",
       "      <td>0.0</td>\n",
       "      <td>0.0</td>\n",
       "      <td>...</td>\n",
       "      <td>0.0</td>\n",
       "      <td>0.0</td>\n",
       "      <td>1.0</td>\n",
       "      <td>1.000000</td>\n",
       "      <td>0.0</td>\n",
       "      <td>0.0</td>\n",
       "      <td>1</td>\n",
       "      <td>0.000142</td>\n",
       "      <td>346048</td>\n",
       "      <td>182210328</td>\n",
       "    </tr>\n",
       "    <tr>\n",
       "      <th>390469</th>\n",
       "      <td>0.0</td>\n",
       "      <td>0.0</td>\n",
       "      <td>0.0</td>\n",
       "      <td>0.0</td>\n",
       "      <td>0.0</td>\n",
       "      <td>0.0</td>\n",
       "      <td>0.0</td>\n",
       "      <td>0.0</td>\n",
       "      <td>0.0</td>\n",
       "      <td>0.0</td>\n",
       "      <td>...</td>\n",
       "      <td>0.0</td>\n",
       "      <td>0.0</td>\n",
       "      <td>1.0</td>\n",
       "      <td>1.000000</td>\n",
       "      <td>0.0</td>\n",
       "      <td>0.0</td>\n",
       "      <td>1</td>\n",
       "      <td>0.000024</td>\n",
       "      <td>346048</td>\n",
       "      <td>182210338</td>\n",
       "    </tr>\n",
       "  </tbody>\n",
       "</table>\n",
       "<p>5 rows × 1040 columns</p>\n",
       "</div>"
      ],
      "text/plain": [
       "        2246  2285  2427  2646  2650  5110  5331  5339  5355  5582    ...      \\\n",
       "390465   0.0   0.0   0.0   0.0   0.0   0.0   0.0   0.0   0.0   0.0    ...       \n",
       "390466   0.0   0.0   0.0   0.0   0.0   0.0   0.0   0.0   0.0   0.0    ...       \n",
       "390467   0.0   0.0   0.0   0.0   0.0   0.0   0.0   0.0   0.0   0.0    ...       \n",
       "390468   0.0   0.0   0.0   0.0   0.0   0.0   0.0   0.0   0.0   0.0    ...       \n",
       "390469   0.0   0.0   0.0   0.0   0.0   0.0   0.0   0.0   0.0   0.0    ...       \n",
       "\n",
       "        694614  694733    -   correct  bottom_hint  hint_count  attempt_count  \\\n",
       "390465     0.0     0.0  1.0  1.000000          0.0         0.0              1   \n",
       "390466     0.0     0.0  1.0  1.000000          0.0         0.0              1   \n",
       "390467     0.0     0.0  1.0  0.333333          0.0         0.0              3   \n",
       "390468     0.0     0.0  1.0  1.000000          0.0         0.0              1   \n",
       "390469     0.0     0.0  1.0  1.000000          0.0         0.0              1   \n",
       "\n",
       "          NofFRT  user_id         id  \n",
       "390465  0.000117   346048  182210277  \n",
       "390466  0.000188   346048  182210286  \n",
       "390467  0.000084   346048  182210291  \n",
       "390468  0.000142   346048  182210328  \n",
       "390469  0.000024   346048  182210338  \n",
       "\n",
       "[5 rows x 1040 columns]"
      ]
     },
     "execution_count": 48,
     "metadata": {},
     "output_type": "execute_result"
    }
   ],
   "source": [
    "final_df.tail()"
   ]
  },
  {
   "cell_type": "code",
   "execution_count": 47,
   "metadata": {
    "collapsed": true
   },
   "outputs": [],
   "source": [
    "# u'correct , u'bottom_hint, u'hint_count, u'attempt_count, u'first_response_time\n",
    "final_df['correct'] = train_df['correct']\n",
    "final_df['bottom_hint'] = train_df['bottom_hint']\n",
    "final_df['hint_count'] = train_df['hint_count']\n",
    "final_df['attempt_count'] = train_df['attempt_count']\n",
    "final_df['first_response_time'] = train_df['first_response_time']\n",
    "\n",
    "norm = lambda x: (x - x.min()) / (x.max() - x.min())\n",
    "final_df.insert(len(final_df.columns), 'NofFRT', train_df.groupby('sequence_id')['first_response_time'].transform(norm))\n",
    "del final_df['first_response_time']\n",
    "\n",
    "final_df['user_id'] = train_df['user_id']\n",
    "final_df['id'] = train_df['id']"
   ]
  },
  {
   "cell_type": "code",
   "execution_count": 56,
   "metadata": {
    "collapsed": false
   },
   "outputs": [
    {
     "data": {
      "text/plain": [
       "False"
      ]
     },
     "execution_count": 56,
     "metadata": {},
     "output_type": "execute_result"
    }
   ],
   "source": [
    "final_df['correct'].fillna(0, inplace=True)\n",
    "final_df['NofFRT'].fillna(0.5, inplace=True)\n",
    "final_df['hint_count'].fillna(1, inplace=True)\n",
    "final_df['bottom_hint'].fillna(0, inplace=True)\n",
    "final_df.isnull().values.any()"
   ]
  },
  {
   "cell_type": "code",
   "execution_count": 57,
   "metadata": {
    "collapsed": true
   },
   "outputs": [],
   "source": [
    "final_df.to_csv('22_train_data.csv', index=False)"
   ]
  }
 ],
 "metadata": {
  "kernelspec": {
   "display_name": "Python 2",
   "language": "python",
   "name": "python2"
  },
  "language_info": {
   "codemirror_mode": {
    "name": "ipython",
    "version": 2
   },
   "file_extension": ".py",
   "mimetype": "text/x-python",
   "name": "python",
   "nbconvert_exporter": "python",
   "pygments_lexer": "ipython2",
   "version": "2.7.12"
  }
 },
 "nbformat": 4,
 "nbformat_minor": 2
}
