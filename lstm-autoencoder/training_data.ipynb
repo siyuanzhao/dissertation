{
 "cells": [
  {
   "cell_type": "code",
   "execution_count": 1,
   "metadata": {
    "collapsed": true
   },
   "outputs": [],
   "source": [
    "import numpy as np\n",
    "import pandas as pd"
   ]
  },
  {
   "cell_type": "code",
   "execution_count": 2,
   "metadata": {
    "collapsed": false
   },
   "outputs": [
    {
     "name": "stderr",
     "output_type": "stream",
     "text": [
      "/usr/local/lib/python2.7/site-packages/IPython/core/interactiveshell.py:2717: DtypeWarning: Columns (21,23,25) have mixed types. Specify dtype option on import or set low_memory=False.\n",
      "  interactivity=interactivity, compiler=compiler, result=result)\n"
     ]
    }
   ],
   "source": [
    "pl_df = pd.read_csv('this_one_problem_logs_seq.csv')"
   ]
  },
  {
   "cell_type": "code",
   "execution_count": 8,
   "metadata": {
    "collapsed": false
   },
   "outputs": [
    {
     "data": {
      "text/plain": [
       "0    2009-03-18 10:44:07.266522\n",
       "1    2009-03-18 10:50:23.111935\n",
       "2    2009-03-18 10:51:24.231159\n",
       "3    2009-04-29 11:00:52.685771\n",
       "4    2009-05-11 15:47:47.425749\n",
       "Name: end_time, dtype: object"
      ]
     },
     "execution_count": 8,
     "metadata": {},
     "output_type": "execute_result"
    }
   ],
   "source": [
    "pl_df['end_time'].head()"
   ]
  },
  {
   "cell_type": "code",
   "execution_count": 3,
   "metadata": {
    "collapsed": false
   },
   "outputs": [],
   "source": [
    "# read 9 experiments\n",
    "problem_set = 263052\n",
    "ps_df = pd.read_csv('~/git/22-Experiments/'+str(problem_set)+'_exp.csv', header=None)"
   ]
  },
  {
   "cell_type": "code",
   "execution_count": 4,
   "metadata": {
    "collapsed": false
   },
   "outputs": [
    {
     "name": "stdout",
     "output_type": "stream",
     "text": [
      "382\n",
      "184\n",
      "198\n"
     ]
    }
   ],
   "source": [
    "print len(ps_df[1].unique())\n",
    "print len(ps_df[ps_df[2]==1])\n",
    "print len(ps_df[ps_df[2]==0])"
   ]
  },
  {
   "cell_type": "code",
   "execution_count": 5,
   "metadata": {
    "collapsed": true
   },
   "outputs": [],
   "source": [
    "train_df = pl_df[pl_df['user_id'].isin(ps_df[1].unique().tolist()) & (pl_df['original'] == 1)].reset_index()"
   ]
  },
  {
   "cell_type": "code",
   "execution_count": 6,
   "metadata": {
    "collapsed": false
   },
   "outputs": [
    {
     "name": "stdout",
     "output_type": "stream",
     "text": [
      "928\n"
     ]
    }
   ],
   "source": [
    "print(len(train_df['user_id'].unique()))"
   ]
  },
  {
   "cell_type": "code",
   "execution_count": 7,
   "metadata": {
    "collapsed": false
   },
   "outputs": [],
   "source": [
    "# read ps_list\n",
    "ps_list = []\n",
    "with open(str(problem_set)+'_ps_list') as file:\n",
    "    for line in file:\n",
    "        line = line.strip()\n",
    "        ps_list.append(int(line))"
   ]
  },
  {
   "cell_type": "code",
   "execution_count": 8,
   "metadata": {
    "collapsed": false
   },
   "outputs": [
    {
     "data": {
      "text/plain": [
       "583"
      ]
     },
     "execution_count": 8,
     "metadata": {},
     "output_type": "execute_result"
    }
   ],
   "source": [
    "len(ps_list)"
   ]
  },
  {
   "cell_type": "code",
   "execution_count": 9,
   "metadata": {
    "collapsed": false
   },
   "outputs": [],
   "source": [
    "encode_list = []\n",
    "for index, row in train_df.iterrows():\n",
    "    encode = np.zeros(len(ps_list)+1)\n",
    "    try:\n",
    "        idx = ps_list.index(row['sequence_id'])\n",
    "        encode[idx] = 1\n",
    "    except ValueError:\n",
    "        encode[len(ps_list)] = 1\n",
    "\n",
    "    encode_list.append(encode)\n",
    "encode_array = np.stack(encode_list, axis=0)"
   ]
  },
  {
   "cell_type": "code",
   "execution_count": 14,
   "metadata": {
    "collapsed": false
   },
   "outputs": [
    {
     "data": {
      "text/plain": [
       "False"
      ]
     },
     "execution_count": 14,
     "metadata": {},
     "output_type": "execute_result"
    }
   ],
   "source": [
    "final_df = pd.DataFrame(encode_array, columns=ps_list+['-'], dtype=int)\n",
    "# u'correct , u'bottom_hint, u'hint_count, u'attempt_count, u'first_response_time\n",
    "final_df['correct'] = np.where(train_df['correct'] < 1, 0, 1)\n",
    "final_df['bottom_hint'] = train_df['bottom_hint']\n",
    "final_df['hint_count'] = train_df['hint_count']\n",
    "final_df['attempt_count'] = train_df['attempt_count']\n",
    "final_df['first_response_time'] = train_df['first_response_time']\n",
    "# first action\n",
    "final_df['first_action'] = train_df['first_action']\n",
    "\n",
    "norm = lambda x: (x - x.min()) / (x.max() - x.min()) if x.max() - x.min() else x/(x+1)\n",
    "\n",
    "final_df.insert(len(final_df.columns), 'NofFRT', train_df.groupby('sequence_id')['first_response_time'].transform(norm))\n",
    "del final_df['first_response_time']\n",
    "\n",
    "final_df.insert(len(final_df.columns), 'normalized_hint_count', train_df.groupby('sequence_id')['hint_count'].transform(norm))\n",
    "del final_df['hint_count']\n",
    "\n",
    "final_df.insert(len(final_df.columns), 'normalized_attempt_count', train_df.groupby('sequence_id')['attempt_count'].transform(norm))\n",
    "del final_df['attempt_count']\n",
    "\n",
    "final_df['user_id'] = train_df['user_id']\n",
    "final_df['id'] = train_df['id']\n",
    "final_df['NofFRT'].fillna(0.5, inplace=True)\n",
    "final_df.isnull().values.any()"
   ]
  },
  {
   "cell_type": "code",
   "execution_count": 15,
   "metadata": {
    "collapsed": false
   },
   "outputs": [],
   "source": [
    "final_df.to_csv(str(problem_set)+'_train_data.csv', index=False)"
   ]
  }
 ],
 "metadata": {
  "kernelspec": {
   "display_name": "Python 2",
   "language": "python",
   "name": "python2"
  },
  "language_info": {
   "codemirror_mode": {
    "name": "ipython",
    "version": 2
   },
   "file_extension": ".py",
   "mimetype": "text/x-python",
   "name": "python",
   "nbconvert_exporter": "python",
   "pygments_lexer": "ipython2",
   "version": "2.7.12"
  }
 },
 "nbformat": 4,
 "nbformat_minor": 2
}
