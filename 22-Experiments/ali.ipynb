{
 "cells": [
  {
   "cell_type": "code",
   "execution_count": 1,
   "metadata": {
    "collapsed": true
   },
   "outputs": [],
   "source": [
    "import pandas as pd\n",
    "import csv\n",
    "import numpy as np"
   ]
  },
  {
   "cell_type": "code",
   "execution_count": 6,
   "metadata": {
    "collapsed": true
   },
   "outputs": [],
   "source": [
    "post_file = 'PSA2KNR-02-26-2018-14-43-19-Posttest.csv'\n",
    "feature_file = 'PSA2KNR-02-26-2018-14-43-19-PriorStudentFeatureLevel.csv'\n",
    "problem_set_id = 694197"
   ]
  },
  {
   "cell_type": "code",
   "execution_count": 7,
   "metadata": {
    "collapsed": false
   },
   "outputs": [],
   "source": [
    "post_df = pd.read_csv(post_file)"
   ]
  },
  {
   "cell_type": "code",
   "execution_count": 16,
   "metadata": {
    "collapsed": false
   },
   "outputs": [
    {
     "data": {
      "text/plain": [
       "control      631\n",
       "treatment    621\n",
       "Name: Condition, dtype: int64"
      ]
     },
     "execution_count": 16,
     "metadata": {},
     "output_type": "execute_result"
    }
   ],
   "source": [
    "post_df['Condition'].value_counts()"
   ]
  },
  {
   "cell_type": "code",
   "execution_count": 8,
   "metadata": {
    "collapsed": false
   },
   "outputs": [
    {
     "data": {
      "text/plain": [
       "1.0    437\n",
       "0.0    236\n",
       "2.0    144\n",
       "Name: Number Correct Problems in Posttest, dtype: int64"
      ]
     },
     "execution_count": 8,
     "metadata": {},
     "output_type": "execute_result"
    }
   ],
   "source": [
    "post_df['Number Correct Problems in Posttest'].value_counts()"
   ]
  },
  {
   "cell_type": "code",
   "execution_count": 9,
   "metadata": {
    "collapsed": false
   },
   "outputs": [
    {
     "data": {
      "text/plain": [
       "1252"
      ]
     },
     "execution_count": 9,
     "metadata": {},
     "output_type": "execute_result"
    }
   ],
   "source": [
    "len(post_df)"
   ]
  },
  {
   "cell_type": "code",
   "execution_count": 10,
   "metadata": {
    "collapsed": true
   },
   "outputs": [],
   "source": [
    "feature_df = pd.read_csv(feature_file)"
   ]
  },
  {
   "cell_type": "code",
   "execution_count": 11,
   "metadata": {
    "collapsed": true
   },
   "outputs": [],
   "source": [
    "# merge feature_df and post test together\n",
    "merged_post_df = post_df.merge(feature_df, on='User ID')"
   ]
  },
  {
   "cell_type": "code",
   "execution_count": 17,
   "metadata": {
    "collapsed": false
   },
   "outputs": [
    {
     "name": "stdout",
     "output_type": "stream",
     "text": [
      "1    411\n",
      "0    406\n",
      "Name: condition, dtype: int64\n",
      "avg completion rate 0.887392900857\n",
      "419\n",
      "398\n"
     ]
    }
   ],
   "source": [
    "# user id, condition, yf, ycf, features\n",
    "merged_post_df = merged_post_df.dropna(subset=['Assigment Completed',\\\n",
    "                              'Number Correct Problems in Posttest', 'Number Complete Problems in Posttest'])\n",
    "cfr_df = pd.DataFrame()\n",
    "cfr_df['user_id'] = merged_post_df['User ID']\n",
    "cfr_df['condition'] = np.where((merged_post_df['Condition']=='treatment'), 1, 0)\n",
    "cfr_df['yf'] = merged_post_df['Number Correct Problems in Posttest']\n",
    "\n",
    "cfr_df['ycf'] = np.NaN\n",
    "cols = ['Prior Problem Count', 'Prior Correct Count', 'Prior Assignments Assigned', \\\n",
    "        'Prior Assignment Count', 'Prior Homework Assigned', 'Prior Homework Count', \\\n",
    "        'Prior Completion Count', 'Prior Homework Completion Count', 'Prior Percent Correct',\\\n",
    "        'Prior Percent Completion','Prior Homework Percent Completion']\n",
    "cols_norm = map(lambda x: x+' zscore', cols)\n",
    "for idx, col in enumerate(cols):\n",
    "    merged_post_df[cols_norm[idx]] = merged_post_df.groupby('Class ID')[col].rank(pct=True)\n",
    "\n",
    "features_list = ['Z-Scored Mastery Speed', 'Z-Scored HW Mastery Speed', 'Prior Class Homework Percent Completion', \n",
    "                 'Prior Class Percent Completion'] + cols_norm\n",
    "for ite in features_list:\n",
    "    cfr_df[ite] = merged_post_df[ite]\n",
    "\n",
    "print cfr_df['condition'].value_counts()\n",
    "\n",
    "msk = np.random.rand(len(cfr_df)) < 0.5\n",
    "cfr_df.to_csv(str(problem_set_id) +'_exp.csv', header=False, na_rep='0')\n",
    "print 'avg completion rate {}'.format(cfr_df['yf'].mean())\n",
    "train_df = cfr_df[msk]\n",
    "test_df = cfr_df[~msk]\n",
    "print len(train_df)\n",
    "print len(test_df)\n",
    "train_df.to_csv(str(problem_set_id) +'_train_exp.csv', header=False, na_rep='0')\n",
    "test_df.to_csv(str(problem_set_id) +'_test_exp.csv', header=False, na_rep='0')"
   ]
  },
  {
   "cell_type": "code",
   "execution_count": 13,
   "metadata": {
    "collapsed": false
   },
   "outputs": [
    {
     "name": "stdout",
     "output_type": "stream",
     "text": [
      "454261,442160,445552,387697,466494,448938,387698,454258,454255,454254,454253,454251,339495,339496,339378,422564,423527,443598,442146,443599,423525,414940,414941,455339,414948,434678,414949,414944,414943,406160,443150,406162,406161,470609,406164,443155,445333,406165,448954,445329,387596,454278,455488,436968,406157,454276,406156,414957,406159,454274,414955,414956,454271,339478,445320,448952,420163,415808,448950,406154,445316,445319,415810,461908,409139,409138,457614,339584,393700,441029,409494,441028,441148,441147,441025,441146,339469,441145,441144,441032,441152,388228,441030,419463,431696,431698,431697,339452,441139,441138,441258,339576,441499,441022,441142,441140,456301,409591,423983,393803,355328,441046,393805,441053,393806,441052,448915,419480,435719,441039,441037,441035,441034,448900,423984,418283,453015,449073,405136,449071,419544,418454,418455,415184,419546,419548,421857,418458,421856,415069,440004,421871,421870,444971,421864,439142,418344,418345,415075,444961,415074,421862,444963,415073,415070,444968,421865,438293,423809,418340,415077,451053,388055,419444,419565,419447,419568,419567,419446,336133,418359,415081,415080,418352,419564,288330,430226,419457,336123,383703,419454,431740,393781,393784,405297,400957,400955,400953,419504,421933,340605,461040,400950,421931,421937,455945,455944,421815,455943,421935,406014,406015,409529,431733,393796,419507,409642,409521,409520,461049,409640,400946,419511,400824,438493,462020,400823,400820,461051,421943,419516,421946,409519,438496,438497,400947,409635,409514,406125,409518,431887,409638,431647,409515,419522,421951,421950,419526,444955,444954,444957,444956,421839,421837,400819,400938,451003,419520,406113,432962,368131,406116,392568,438393,443971,443976,444946,444945,444949,360648,438397,449590,441509,449593,441864,441501,334127,334126,418851,451309,454819,334132,334130,334131,427438,381119,449220,293501,424068,449587,449226,449589,424067,381100,421905,381103,421902,421906,424071,431722,431728,460362,418753,455929,421910,455925,381138,415006,381137,421913,454830,415002,426383,449004,449003,426388,381120,454829,381121,454822,454821,421924,421809,421808,421928,404364,441949,404365,441948,396417,381152,438424,438789,381158,288353,293703,460357,381142,335895,335891,403495,449571,431801,440634,449211,449574,449210,449579,245319,381053,449209,442933,437235,361689,440626,392165,440623,427437,446296,450424,442927,441905,435347,409059,409057,335611,409051,340081,394169,448893,448892,448898,390920,448896,424583,448889,448888,450635,450636,438404,409148,422187,409141,409140,381094,409146,387502,387748,340290,434579,443172,443176,387416,443169,420167,387417,436640,404631,436626,293661,443160,445340,333740,445335,446306,445337,434571,436874,404626,435206,443196,448886,387679,387675,387676,387674,414996,414995,414999,443180,414998,339396,448992,443184,448995,409060,454265,339382,387695,387696,454256,361084,414939,420142,423526,430175,406167,414946,454286,414947,414945,414942,381819,435648,448960,443154,406163,448962,445327,448955,389776,414951,414950,414959,406158,414958,454273,414953,454270,414954,442053,448953,448951,406155,445323,445322,387589,448944,445318,445317,414960,454269,454268,454267,430259,430258,458825,339583,441149,441027,441026,441154,419467,441033,441153,441031,341415,441150,387497,387498,430263,431695,412832,387495,387496,379624,441137,293382,387492,439067,441141,441260,457510,436812,339442,409593,420111,466544,441045,448912,442138,419481,419483,419482,419485,419486,419490,441043,432879,440379,421860,415065,339539,418456,419545,418457,418336,418337,418459,419547,421855,418339,419549,418450,415068,418453,431654,431774,449069,419555,415076,444962,419554,421861,421868,415072,415071,421866,326343,418461,419550,415079,418342,419553,416045,423808,455972,431687,434830,431686,431689,449099,433509,421875,415085,421873,421872,419449,446937,416050,423810,431692,418351,431691,434960,419563,418354,430223,336118,339504,339626,336122,152644,380677,419452,393780,426394,392453,461039,400956,461042,455949,400952,455948,439470,421810,421938,421936,368698,451105,438387,409646,406013,409524,409645,393792,406016,431730,406018,409528,431735,409648,409527,393794,409526,409647,406019,419508,461045,419509,461043,406130,409641,461047,400825,400945,421940,419513,400942,400940,438490,419517,451219,421942,455935,421948,382876,455933,450368,406124,409634,409513,406126,409517,409516,409636,406120,406122,406121,444951,400814,443983,419521,400813,419524,444953,444959,444958,381213,400939,451001,400818,400817,400815,406117,406118,392569,394508,335589,443972,438396,415291,421843,444948,368128,444947,421848,438398,302452,441508,392496,431700,449591,417639,449108,293504,424063,431933,471291,449585,418746,421907,424070,431725,461335,431727,441640,418752,455928,455927,451324,451323,451326,421914,415005,454832,415004,454831,438485,415000,438488,293527,432920,415009,426386,426387,415010,454825,405977,421925,419970,404363,450418,381151,436242,381037,438422,345574,413128,436590,435262,392190,293715,449576,449212,449578,449577,381054,449208,381052,449207,418831,412057,412056,415683,459106,406753,440627,440625,449202,449201,440622,441951,440620,449205,449203,450426,361692,450427,450421,392170,397421,409055,409054,409053,409056,446358,448899,409050,381077,409049,448890,448894,448891,409048,448897,448895,381063,412485,441927,386788,283742,415642,441913,449521,409142,422189,461984,409147,409144,381087,450623,450626,381088,450621,405970,293658,153598,443175,443177,390715,470547,435434,293669,404633,454290,293662,333741,443167,443157,387404,443159,340274,367932,398898,404622,448882,444166,448887,448885,448999,390938,415842,414994,404616,414992,404618,339392,428800,409065,448991,409063,443185,448997,448989,340258\n"
     ]
    }
   ],
   "source": [
    "# get unique user ids\n",
    "s = ''\n",
    "for ite in merged_post_df['User ID'].unique().tolist():\n",
    "    s += str(ite) + ','\n",
    "print s[:-1]"
   ]
  },
  {
   "cell_type": "code",
   "execution_count": null,
   "metadata": {
    "collapsed": false
   },
   "outputs": [],
   "source": [
    "print len(merged_post_df)"
   ]
  },
  {
   "cell_type": "code",
   "execution_count": null,
   "metadata": {
    "collapsed": false
   },
   "outputs": [],
   "source": [
    "problem_df = pd.read_csv('PSAYCFH-03-01-2018-10-16-30-ProblemLevel.csv')"
   ]
  },
  {
   "cell_type": "code",
   "execution_count": null,
   "metadata": {
    "collapsed": false
   },
   "outputs": [],
   "source": [
    "problem_df.head()"
   ]
  },
  {
   "cell_type": "code",
   "execution_count": null,
   "metadata": {
    "collapsed": false
   },
   "outputs": [],
   "source": [
    "problem_df['Problem Start Time'].head()"
   ]
  },
  {
   "cell_type": "code",
   "execution_count": null,
   "metadata": {
    "collapsed": true
   },
   "outputs": [],
   "source": [
    "# merge problem table with post test\n",
    "merged_problem_df = problem_df.merge(post_df, on='User ID')"
   ]
  },
  {
   "cell_type": "code",
   "execution_count": null,
   "metadata": {
    "collapsed": false
   },
   "outputs": [],
   "source": [
    "merged_problem_df[['User ID', 'Problem ID', 'Answer Text']].head()"
   ]
  },
  {
   "cell_type": "code",
   "execution_count": null,
   "metadata": {
    "collapsed": false
   },
   "outputs": [],
   "source": [
    "merged_problem_df.loc[0, 'Problem ID']"
   ]
  },
  {
   "cell_type": "code",
   "execution_count": null,
   "metadata": {
    "collapsed": false
   },
   "outputs": [],
   "source": [
    "merged_problem_df[merged_problem_df['Problem ID'] == '\\\"PRA4MUZ\\\"']\\\n",
    "['Answer Text'].unique()"
   ]
  },
  {
   "cell_type": "code",
   "execution_count": null,
   "metadata": {
    "collapsed": false
   },
   "outputs": [],
   "source": [
    "problem_df.columns"
   ]
  },
  {
   "cell_type": "code",
   "execution_count": null,
   "metadata": {
    "collapsed": false
   },
   "outputs": [],
   "source": [
    "joined_df = post_df.join(feature_df, on='User ID', lsuffix='a', rsuffix='b')"
   ]
  },
  {
   "cell_type": "code",
   "execution_count": null,
   "metadata": {
    "collapsed": false
   },
   "outputs": [],
   "source": [
    "len(joined_df)"
   ]
  },
  {
   "cell_type": "code",
   "execution_count": null,
   "metadata": {
    "collapsed": false
   },
   "outputs": [],
   "source": [
    "student_df = pd.read_csv('PSA2KKZ-12-12-2017-22-25-35-StudentLevelWithScaffolds.csv')"
   ]
  },
  {
   "cell_type": "code",
   "execution_count": null,
   "metadata": {
    "collapsed": false
   },
   "outputs": [],
   "source": [
    "student_df.head()"
   ]
  },
  {
   "cell_type": "code",
   "execution_count": null,
   "metadata": {
    "collapsed": false
   },
   "outputs": [],
   "source": [
    "for ite in student_df.columns.tolist():\n",
    "    if 'condition' in ite:\n",
    "        print ite"
   ]
  },
  {
   "cell_type": "code",
   "execution_count": null,
   "metadata": {
    "collapsed": true
   },
   "outputs": [],
   "source": [
    "action_df = pd.read_csv('PSA2KKZ-12-12-2017-22-25-35-ActionLevel.csv')"
   ]
  },
  {
   "cell_type": "code",
   "execution_count": null,
   "metadata": {
    "collapsed": false
   },
   "outputs": [],
   "source": [
    "action_df.head()"
   ]
  },
  {
   "cell_type": "code",
   "execution_count": null,
   "metadata": {
    "collapsed": false
   },
   "outputs": [],
   "source": [
    "len(action_df['User ID'].unique())"
   ]
  },
  {
   "cell_type": "code",
   "execution_count": null,
   "metadata": {
    "collapsed": false
   },
   "outputs": [],
   "source": [
    "problem_df['Path'].tail()"
   ]
  },
  {
   "cell_type": "code",
   "execution_count": null,
   "metadata": {
    "collapsed": false
   },
   "outputs": [],
   "source": [
    "problem_df[problem_df['Problem Number'] == 4723143].head()"
   ]
  },
  {
   "cell_type": "code",
   "execution_count": null,
   "metadata": {
    "collapsed": false
   },
   "outputs": [],
   "source": [
    "pl_df = pd.read_csv('../lstm-autoencoder/303899_sq_train_data.csv')"
   ]
  },
  {
   "cell_type": "code",
   "execution_count": null,
   "metadata": {
    "collapsed": false
   },
   "outputs": [],
   "source": [
    "#pl_df.set_index('id', inplace=True)\n",
    "pl_g = pl_df.groupby('user_id')"
   ]
  },
  {
   "cell_type": "code",
   "execution_count": null,
   "metadata": {
    "collapsed": false
   },
   "outputs": [],
   "source": [
    "cnt = 0\n",
    "for name, group in pl_g:\n",
    "    print group.iloc[:, :-3].head()\n",
    "    print group.head()\n",
    "    #group = group[group.index < group[group['sequence_id'] == 627695].iloc[0,:]]\n",
    "    #group = group[group['id'] < 1]\n",
    "    #print group.index\n",
    "    print len(group)\n",
    "    break"
   ]
  },
  {
   "cell_type": "code",
   "execution_count": null,
   "metadata": {
    "collapsed": false
   },
   "outputs": [],
   "source": [
    "print(len(pl_df.columns))"
   ]
  },
  {
   "cell_type": "code",
   "execution_count": null,
   "metadata": {
    "collapsed": true
   },
   "outputs": [],
   "source": []
  }
 ],
 "metadata": {
  "kernelspec": {
   "display_name": "Python 2",
   "language": "python",
   "name": "python2"
  },
  "language_info": {
   "codemirror_mode": {
    "name": "ipython",
    "version": 2
   },
   "file_extension": ".py",
   "mimetype": "text/x-python",
   "name": "python",
   "nbconvert_exporter": "python",
   "pygments_lexer": "ipython2",
   "version": "2.7.12"
  }
 },
 "nbformat": 4,
 "nbformat_minor": 2
}
