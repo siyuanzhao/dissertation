{
 "cells": [
  {
   "cell_type": "code",
   "execution_count": 1,
   "metadata": {
    "collapsed": true
   },
   "outputs": [],
   "source": [
    "import pandas as pd"
   ]
  },
  {
   "cell_type": "code",
   "execution_count": 15,
   "metadata": {
    "collapsed": true
   },
   "outputs": [],
   "source": [
    "correct_df = pd.read_csv('resultsFromCorrectPeroformanceLatest.csv')\n",
    "incorrect_df = pd.read_csv('resultsFromIncorrectPeroformance.csv')"
   ]
  },
  {
   "cell_type": "code",
   "execution_count": 16,
   "metadata": {
    "collapsed": false
   },
   "outputs": [
    {
     "data": {
      "text/html": [
       "<div>\n",
       "<table border=\"1\" class=\"dataframe\">\n",
       "  <thead>\n",
       "    <tr style=\"text-align: right;\">\n",
       "      <th></th>\n",
       "      <th>skill_id1</th>\n",
       "      <th>skill_id2</th>\n",
       "      <th>probability</th>\n",
       "      <th>instances</th>\n",
       "      <th>skill1_skill1_instances</th>\n",
       "      <th>skill1_skill1_probability</th>\n",
       "      <th>skill2_skill2_instances</th>\n",
       "      <th>skill2_skill2_probability</th>\n",
       "      <th>probability_ratios</th>\n",
       "      <th>sk1Code</th>\n",
       "      <th>sk1Name</th>\n",
       "      <th>sk2Code</th>\n",
       "      <th>sk2Name</th>\n",
       "    </tr>\n",
       "  </thead>\n",
       "  <tbody>\n",
       "    <tr>\n",
       "      <th>0</th>\n",
       "      <td>22</td>\n",
       "      <td>110</td>\n",
       "      <td>0.706466</td>\n",
       "      <td>172</td>\n",
       "      <td>460</td>\n",
       "      <td>0.632012</td>\n",
       "      <td>806</td>\n",
       "      <td>0.727315</td>\n",
       "      <td>1.117804</td>\n",
       "      <td>3.MD.A.1</td>\n",
       "      <td>Elapsed Time</td>\n",
       "      <td>5.MD.A.1-2</td>\n",
       "      <td>Unit Conversion Within a System - Standard</td>\n",
       "    </tr>\n",
       "    <tr>\n",
       "      <th>1</th>\n",
       "      <td>22</td>\n",
       "      <td>124</td>\n",
       "      <td>0.677258</td>\n",
       "      <td>132</td>\n",
       "      <td>460</td>\n",
       "      <td>0.632012</td>\n",
       "      <td>947</td>\n",
       "      <td>0.693979</td>\n",
       "      <td>1.071590</td>\n",
       "      <td>3.MD.A.1</td>\n",
       "      <td>Elapsed Time</td>\n",
       "      <td>5.G.B.4-1</td>\n",
       "      <td>Properties and Classification of Polygons with...</td>\n",
       "    </tr>\n",
       "    <tr>\n",
       "      <th>2</th>\n",
       "      <td>22</td>\n",
       "      <td>125</td>\n",
       "      <td>0.803614</td>\n",
       "      <td>97</td>\n",
       "      <td>460</td>\n",
       "      <td>0.632012</td>\n",
       "      <td>1547</td>\n",
       "      <td>0.787842</td>\n",
       "      <td>1.271517</td>\n",
       "      <td>3.MD.A.1</td>\n",
       "      <td>Elapsed Time</td>\n",
       "      <td>5.G.B.4-2</td>\n",
       "      <td>Properties and Classification of Quadrilaterals</td>\n",
       "    </tr>\n",
       "    <tr>\n",
       "      <th>3</th>\n",
       "      <td>22</td>\n",
       "      <td>131</td>\n",
       "      <td>0.613560</td>\n",
       "      <td>60</td>\n",
       "      <td>460</td>\n",
       "      <td>0.632012</td>\n",
       "      <td>2614</td>\n",
       "      <td>0.598811</td>\n",
       "      <td>0.970804</td>\n",
       "      <td>3.MD.A.1</td>\n",
       "      <td>Elapsed Time</td>\n",
       "      <td>6.RP.A.3c-1</td>\n",
       "      <td>Percent of</td>\n",
       "    </tr>\n",
       "    <tr>\n",
       "      <th>4</th>\n",
       "      <td>22</td>\n",
       "      <td>149</td>\n",
       "      <td>0.704749</td>\n",
       "      <td>63</td>\n",
       "      <td>460</td>\n",
       "      <td>0.632012</td>\n",
       "      <td>177</td>\n",
       "      <td>0.694196</td>\n",
       "      <td>1.115088</td>\n",
       "      <td>3.MD.A.1</td>\n",
       "      <td>Elapsed Time</td>\n",
       "      <td>6.NS.C.6c</td>\n",
       "      <td>Plotting on a Coordinate Plane</td>\n",
       "    </tr>\n",
       "  </tbody>\n",
       "</table>\n",
       "</div>"
      ],
      "text/plain": [
       "   skill_id1  skill_id2  probability  instances  skill1_skill1_instances  \\\n",
       "0         22        110     0.706466        172                      460   \n",
       "1         22        124     0.677258        132                      460   \n",
       "2         22        125     0.803614         97                      460   \n",
       "3         22        131     0.613560         60                      460   \n",
       "4         22        149     0.704749         63                      460   \n",
       "\n",
       "   skill1_skill1_probability  skill2_skill2_instances  \\\n",
       "0                   0.632012                      806   \n",
       "1                   0.632012                      947   \n",
       "2                   0.632012                     1547   \n",
       "3                   0.632012                     2614   \n",
       "4                   0.632012                      177   \n",
       "\n",
       "   skill2_skill2_probability  probability_ratios   sk1Code       sk1Name  \\\n",
       "0                   0.727315            1.117804  3.MD.A.1  Elapsed Time   \n",
       "1                   0.693979            1.071590  3.MD.A.1  Elapsed Time   \n",
       "2                   0.787842            1.271517  3.MD.A.1  Elapsed Time   \n",
       "3                   0.598811            0.970804  3.MD.A.1  Elapsed Time   \n",
       "4                   0.694196            1.115088  3.MD.A.1  Elapsed Time   \n",
       "\n",
       "       sk2Code                                            sk2Name  \n",
       "0   5.MD.A.1-2         Unit Conversion Within a System - Standard  \n",
       "1    5.G.B.4-1  Properties and Classification of Polygons with...  \n",
       "2    5.G.B.4-2    Properties and Classification of Quadrilaterals  \n",
       "3  6.RP.A.3c-1                                         Percent of  \n",
       "4    6.NS.C.6c                     Plotting on a Coordinate Plane  "
      ]
     },
     "execution_count": 16,
     "metadata": {},
     "output_type": "execute_result"
    }
   ],
   "source": [
    "correct_df.head()"
   ]
  },
  {
   "cell_type": "code",
   "execution_count": 17,
   "metadata": {
    "collapsed": false
   },
   "outputs": [
    {
     "data": {
      "text/html": [
       "<div>\n",
       "<table border=\"1\" class=\"dataframe\">\n",
       "  <thead>\n",
       "    <tr style=\"text-align: right;\">\n",
       "      <th></th>\n",
       "      <th>skill_id1</th>\n",
       "      <th>skill_id2</th>\n",
       "      <th>probability</th>\n",
       "      <th>instances</th>\n",
       "      <th>sk1Code</th>\n",
       "      <th>sk1Name</th>\n",
       "      <th>sk2Code</th>\n",
       "      <th>sk2Name</th>\n",
       "    </tr>\n",
       "  </thead>\n",
       "  <tbody>\n",
       "    <tr>\n",
       "      <th>0</th>\n",
       "      <td>22</td>\n",
       "      <td>110</td>\n",
       "      <td>0.711785</td>\n",
       "      <td>172</td>\n",
       "      <td>3.MD.A.1</td>\n",
       "      <td>Elapsed Time</td>\n",
       "      <td>5.MD.A.1-2</td>\n",
       "      <td>Unit Conversion Within a System - Standard</td>\n",
       "    </tr>\n",
       "    <tr>\n",
       "      <th>1</th>\n",
       "      <td>22</td>\n",
       "      <td>124</td>\n",
       "      <td>0.706668</td>\n",
       "      <td>132</td>\n",
       "      <td>3.MD.A.1</td>\n",
       "      <td>Elapsed Time</td>\n",
       "      <td>5.G.B.4-1</td>\n",
       "      <td>Properties and Classification of Polygons with...</td>\n",
       "    </tr>\n",
       "    <tr>\n",
       "      <th>2</th>\n",
       "      <td>22</td>\n",
       "      <td>125</td>\n",
       "      <td>0.781282</td>\n",
       "      <td>97</td>\n",
       "      <td>3.MD.A.1</td>\n",
       "      <td>Elapsed Time</td>\n",
       "      <td>5.G.B.4-2</td>\n",
       "      <td>Properties and Classification of Quadrilaterals</td>\n",
       "    </tr>\n",
       "    <tr>\n",
       "      <th>3</th>\n",
       "      <td>22</td>\n",
       "      <td>131</td>\n",
       "      <td>0.524106</td>\n",
       "      <td>60</td>\n",
       "      <td>3.MD.A.1</td>\n",
       "      <td>Elapsed Time</td>\n",
       "      <td>6.RP.A.3c-1</td>\n",
       "      <td>Percent of</td>\n",
       "    </tr>\n",
       "    <tr>\n",
       "      <th>4</th>\n",
       "      <td>22</td>\n",
       "      <td>149</td>\n",
       "      <td>0.645976</td>\n",
       "      <td>63</td>\n",
       "      <td>3.MD.A.1</td>\n",
       "      <td>Elapsed Time</td>\n",
       "      <td>6.NS.C.6c</td>\n",
       "      <td>Plotting on a Coordinate Plane</td>\n",
       "    </tr>\n",
       "  </tbody>\n",
       "</table>\n",
       "</div>"
      ],
      "text/plain": [
       "   skill_id1  skill_id2  probability  instances   sk1Code       sk1Name  \\\n",
       "0         22        110     0.711785        172  3.MD.A.1  Elapsed Time   \n",
       "1         22        124     0.706668        132  3.MD.A.1  Elapsed Time   \n",
       "2         22        125     0.781282         97  3.MD.A.1  Elapsed Time   \n",
       "3         22        131     0.524106         60  3.MD.A.1  Elapsed Time   \n",
       "4         22        149     0.645976         63  3.MD.A.1  Elapsed Time   \n",
       "\n",
       "       sk2Code                                            sk2Name  \n",
       "0   5.MD.A.1-2         Unit Conversion Within a System - Standard  \n",
       "1    5.G.B.4-1  Properties and Classification of Polygons with...  \n",
       "2    5.G.B.4-2    Properties and Classification of Quadrilaterals  \n",
       "3  6.RP.A.3c-1                                         Percent of  \n",
       "4    6.NS.C.6c                     Plotting on a Coordinate Plane  "
      ]
     },
     "execution_count": 17,
     "metadata": {},
     "output_type": "execute_result"
    }
   ],
   "source": [
    "incorrect_df.head()"
   ]
  },
  {
   "cell_type": "code",
   "execution_count": 18,
   "metadata": {
    "collapsed": false
   },
   "outputs": [],
   "source": [
    "final_df = pd.DataFrame()"
   ]
  },
  {
   "cell_type": "code",
   "execution_count": 21,
   "metadata": {
    "collapsed": false
   },
   "outputs": [],
   "source": [
    "joined_df = pd.merge(correct_df, incorrect_df, on=['skill_id1', 'skill_id2'], how='inner')"
   ]
  },
  {
   "cell_type": "code",
   "execution_count": 22,
   "metadata": {
    "collapsed": false
   },
   "outputs": [
    {
     "data": {
      "text/html": [
       "<div>\n",
       "<table border=\"1\" class=\"dataframe\">\n",
       "  <thead>\n",
       "    <tr style=\"text-align: right;\">\n",
       "      <th></th>\n",
       "      <th>skill_id1</th>\n",
       "      <th>skill_id2</th>\n",
       "      <th>probability_x</th>\n",
       "      <th>instances_x</th>\n",
       "      <th>skill1_skill1_instances</th>\n",
       "      <th>skill1_skill1_probability</th>\n",
       "      <th>skill2_skill2_instances</th>\n",
       "      <th>skill2_skill2_probability</th>\n",
       "      <th>probability_ratios</th>\n",
       "      <th>sk1Code_x</th>\n",
       "      <th>sk1Name_x</th>\n",
       "      <th>sk2Code_x</th>\n",
       "      <th>sk2Name_x</th>\n",
       "      <th>probability_y</th>\n",
       "      <th>instances_y</th>\n",
       "      <th>sk1Code_y</th>\n",
       "      <th>sk1Name_y</th>\n",
       "      <th>sk2Code_y</th>\n",
       "      <th>sk2Name_y</th>\n",
       "    </tr>\n",
       "  </thead>\n",
       "  <tbody>\n",
       "    <tr>\n",
       "      <th>1875</th>\n",
       "      <td>296</td>\n",
       "      <td>284</td>\n",
       "      <td>0.652939</td>\n",
       "      <td>119</td>\n",
       "      <td>1090</td>\n",
       "      <td>0.830249</td>\n",
       "      <td>746</td>\n",
       "      <td>0.722272</td>\n",
       "      <td>0.786437</td>\n",
       "      <td>8.SP.A.1</td>\n",
       "      <td>Scatter Plots</td>\n",
       "      <td>8.G.A.3-1</td>\n",
       "      <td>Translations</td>\n",
       "      <td>0.616294</td>\n",
       "      <td>119</td>\n",
       "      <td>8.SP.A.1</td>\n",
       "      <td>Scatter Plots</td>\n",
       "      <td>8.G.A.3-1</td>\n",
       "      <td>Translations</td>\n",
       "    </tr>\n",
       "    <tr>\n",
       "      <th>1876</th>\n",
       "      <td>296</td>\n",
       "      <td>286</td>\n",
       "      <td>0.191488</td>\n",
       "      <td>101</td>\n",
       "      <td>1090</td>\n",
       "      <td>0.830249</td>\n",
       "      <td>695</td>\n",
       "      <td>0.138630</td>\n",
       "      <td>0.230639</td>\n",
       "      <td>8.SP.A.1</td>\n",
       "      <td>Scatter Plots</td>\n",
       "      <td>8.G.A.3-3</td>\n",
       "      <td>Rotations</td>\n",
       "      <td>0.150790</td>\n",
       "      <td>101</td>\n",
       "      <td>8.SP.A.1</td>\n",
       "      <td>Scatter Plots</td>\n",
       "      <td>8.G.A.3-3</td>\n",
       "      <td>Rotations</td>\n",
       "    </tr>\n",
       "    <tr>\n",
       "      <th>1877</th>\n",
       "      <td>296</td>\n",
       "      <td>287</td>\n",
       "      <td>0.872709</td>\n",
       "      <td>110</td>\n",
       "      <td>1090</td>\n",
       "      <td>0.830249</td>\n",
       "      <td>697</td>\n",
       "      <td>0.863707</td>\n",
       "      <td>1.051141</td>\n",
       "      <td>8.SP.A.1</td>\n",
       "      <td>Scatter Plots</td>\n",
       "      <td>8.G.A.4</td>\n",
       "      <td>Identifying Similar Triangles</td>\n",
       "      <td>0.823042</td>\n",
       "      <td>110</td>\n",
       "      <td>8.SP.A.1</td>\n",
       "      <td>Scatter Plots</td>\n",
       "      <td>8.G.A.4</td>\n",
       "      <td>Identifying Similar Triangles</td>\n",
       "    </tr>\n",
       "    <tr>\n",
       "      <th>1878</th>\n",
       "      <td>296</td>\n",
       "      <td>288</td>\n",
       "      <td>0.709745</td>\n",
       "      <td>366</td>\n",
       "      <td>1090</td>\n",
       "      <td>0.830249</td>\n",
       "      <td>2309</td>\n",
       "      <td>0.718929</td>\n",
       "      <td>0.854857</td>\n",
       "      <td>8.SP.A.1</td>\n",
       "      <td>Scatter Plots</td>\n",
       "      <td>8.G.A.5-1</td>\n",
       "      <td>Angles Formed by Parallel Lines and Transversals</td>\n",
       "      <td>0.678900</td>\n",
       "      <td>366</td>\n",
       "      <td>8.SP.A.1</td>\n",
       "      <td>Scatter Plots</td>\n",
       "      <td>8.G.A.5-1</td>\n",
       "      <td>Angles Formed by Parallel Lines and Transversals</td>\n",
       "    </tr>\n",
       "    <tr>\n",
       "      <th>1879</th>\n",
       "      <td>296</td>\n",
       "      <td>291</td>\n",
       "      <td>0.589736</td>\n",
       "      <td>242</td>\n",
       "      <td>1090</td>\n",
       "      <td>0.830249</td>\n",
       "      <td>1393</td>\n",
       "      <td>0.590473</td>\n",
       "      <td>0.710312</td>\n",
       "      <td>8.SP.A.1</td>\n",
       "      <td>Scatter Plots</td>\n",
       "      <td>8.G.B.7</td>\n",
       "      <td>Pythagorean Theorem</td>\n",
       "      <td>0.557985</td>\n",
       "      <td>242</td>\n",
       "      <td>8.SP.A.1</td>\n",
       "      <td>Scatter Plots</td>\n",
       "      <td>8.G.B.7</td>\n",
       "      <td>Pythagorean Theorem</td>\n",
       "    </tr>\n",
       "  </tbody>\n",
       "</table>\n",
       "</div>"
      ],
      "text/plain": [
       "      skill_id1  skill_id2  probability_x  instances_x  \\\n",
       "1875        296        284       0.652939          119   \n",
       "1876        296        286       0.191488          101   \n",
       "1877        296        287       0.872709          110   \n",
       "1878        296        288       0.709745          366   \n",
       "1879        296        291       0.589736          242   \n",
       "\n",
       "      skill1_skill1_instances  skill1_skill1_probability  \\\n",
       "1875                     1090                   0.830249   \n",
       "1876                     1090                   0.830249   \n",
       "1877                     1090                   0.830249   \n",
       "1878                     1090                   0.830249   \n",
       "1879                     1090                   0.830249   \n",
       "\n",
       "      skill2_skill2_instances  skill2_skill2_probability  probability_ratios  \\\n",
       "1875                      746                   0.722272            0.786437   \n",
       "1876                      695                   0.138630            0.230639   \n",
       "1877                      697                   0.863707            1.051141   \n",
       "1878                     2309                   0.718929            0.854857   \n",
       "1879                     1393                   0.590473            0.710312   \n",
       "\n",
       "     sk1Code_x      sk1Name_x  sk2Code_x  \\\n",
       "1875  8.SP.A.1  Scatter Plots  8.G.A.3-1   \n",
       "1876  8.SP.A.1  Scatter Plots  8.G.A.3-3   \n",
       "1877  8.SP.A.1  Scatter Plots    8.G.A.4   \n",
       "1878  8.SP.A.1  Scatter Plots  8.G.A.5-1   \n",
       "1879  8.SP.A.1  Scatter Plots    8.G.B.7   \n",
       "\n",
       "                                             sk2Name_x  probability_y  \\\n",
       "1875                                      Translations       0.616294   \n",
       "1876                                         Rotations       0.150790   \n",
       "1877                     Identifying Similar Triangles       0.823042   \n",
       "1878  Angles Formed by Parallel Lines and Transversals       0.678900   \n",
       "1879                               Pythagorean Theorem       0.557985   \n",
       "\n",
       "      instances_y sk1Code_y      sk1Name_y  sk2Code_y  \\\n",
       "1875          119  8.SP.A.1  Scatter Plots  8.G.A.3-1   \n",
       "1876          101  8.SP.A.1  Scatter Plots  8.G.A.3-3   \n",
       "1877          110  8.SP.A.1  Scatter Plots    8.G.A.4   \n",
       "1878          366  8.SP.A.1  Scatter Plots  8.G.A.5-1   \n",
       "1879          242  8.SP.A.1  Scatter Plots    8.G.B.7   \n",
       "\n",
       "                                             sk2Name_y  \n",
       "1875                                      Translations  \n",
       "1876                                         Rotations  \n",
       "1877                     Identifying Similar Triangles  \n",
       "1878  Angles Formed by Parallel Lines and Transversals  \n",
       "1879                               Pythagorean Theorem  "
      ]
     },
     "execution_count": 22,
     "metadata": {},
     "output_type": "execute_result"
    }
   ],
   "source": [
    "joined_df.tail()"
   ]
  },
  {
   "cell_type": "code",
   "execution_count": 23,
   "metadata": {
    "collapsed": true
   },
   "outputs": [],
   "source": [
    "final_df['skill_id1'] = joined_df['skill_id1']\n",
    "final_df['skill_id2'] = joined_df['skill_id2']\n",
    "final_df['s1_correct_s2_prob'] = joined_df['probability_x']\n",
    "final_df['s1_incorrect_s2_prob'] = joined_df['probability_y']\n",
    "final_df['sk1_difficulty'] = joined_df['skill1_skill1_probability']\n",
    "final_df['sk2_difficulty'] = joined_df['skill2_skill2_probability']\n",
    "final_df['sk1_code'] = joined_df['sk1Code_x']\n",
    "final_df['sk1_name'] = joined_df['sk1Name_x']\n",
    "final_df['sk2_code'] = joined_df['sk2Code_x']\n",
    "final_df['sk2_name'] = joined_df['sk2Name_x']"
   ]
  },
  {
   "cell_type": "code",
   "execution_count": 31,
   "metadata": {
    "collapsed": true
   },
   "outputs": [],
   "source": [
    "final_df['difficulty_ratio'] = final_df['sk1_difficulty']/final_df['sk2_difficulty']"
   ]
  },
  {
   "cell_type": "code",
   "execution_count": 32,
   "metadata": {
    "collapsed": false
   },
   "outputs": [],
   "source": [
    "final_df['difficulty_ratio'].astype = float"
   ]
  },
  {
   "cell_type": "code",
   "execution_count": 34,
   "metadata": {
    "collapsed": false
   },
   "outputs": [],
   "source": [
    "# Filter the rows such that only ratio values between 0.95 and 1.05 exist\n",
    "filtered_final_df = final_df[(final_df['difficulty_ratio'] >= 0.95) & (final_df['difficulty_ratio'] <= 1.05)]"
   ]
  },
  {
   "cell_type": "code",
   "execution_count": 35,
   "metadata": {
    "collapsed": false
   },
   "outputs": [
    {
     "name": "stderr",
     "output_type": "stream",
     "text": [
      "/usr/local/lib/python2.7/site-packages/ipykernel/__main__.py:2: SettingWithCopyWarning: \n",
      "A value is trying to be set on a copy of a slice from a DataFrame.\n",
      "Try using .loc[row_indexer,col_indexer] = value instead\n",
      "\n",
      "See the caveats in the documentation: http://pandas.pydata.org/pandas-docs/stable/indexing.html#indexing-view-versus-copy\n",
      "  from ipykernel import kernelapp as app\n"
     ]
    }
   ],
   "source": [
    "# Find the difference (B=1| A=1) - (B=1| A=0)\n",
    "filtered_final_df['prob_diff'] = \\\n",
    "filtered_final_df['s1_correct_s2_prob'] - filtered_final_df['s1_incorrect_s2_prob']"
   ]
  },
  {
   "cell_type": "code",
   "execution_count": 36,
   "metadata": {
    "collapsed": false
   },
   "outputs": [
    {
     "data": {
      "text/plain": [
       "221"
      ]
     },
     "execution_count": 36,
     "metadata": {},
     "output_type": "execute_result"
    }
   ],
   "source": [
    "len(filtered_final_df)"
   ]
  },
  {
   "cell_type": "code",
   "execution_count": 37,
   "metadata": {
    "collapsed": false
   },
   "outputs": [
    {
     "data": {
      "text/html": [
       "<div>\n",
       "<table border=\"1\" class=\"dataframe\">\n",
       "  <thead>\n",
       "    <tr style=\"text-align: right;\">\n",
       "      <th></th>\n",
       "      <th>skill_id1</th>\n",
       "      <th>skill_id2</th>\n",
       "      <th>s1_correct_s2_prob</th>\n",
       "      <th>s1_incorrect_s2_prob</th>\n",
       "      <th>sk1_difficulty</th>\n",
       "      <th>sk2_difficulty</th>\n",
       "      <th>sk1_code</th>\n",
       "      <th>sk1_name</th>\n",
       "      <th>sk2_code</th>\n",
       "      <th>sk2_name</th>\n",
       "      <th>difficulty_ratio</th>\n",
       "      <th>prob_diff</th>\n",
       "    </tr>\n",
       "  </thead>\n",
       "  <tbody>\n",
       "    <tr>\n",
       "      <th>8</th>\n",
       "      <td>31</td>\n",
       "      <td>47</td>\n",
       "      <td>0.775560</td>\n",
       "      <td>0.789852</td>\n",
       "      <td>0.832553</td>\n",
       "      <td>0.793122</td>\n",
       "      <td>3.MD.C.7a</td>\n",
       "      <td>Area of Rectangles</td>\n",
       "      <td>4.NBT.B.4-1</td>\n",
       "      <td>Adding Whole Numbers</td>\n",
       "      <td>1.049716</td>\n",
       "      <td>-0.014292</td>\n",
       "    </tr>\n",
       "    <tr>\n",
       "      <th>16</th>\n",
       "      <td>31</td>\n",
       "      <td>156</td>\n",
       "      <td>0.777687</td>\n",
       "      <td>0.786430</td>\n",
       "      <td>0.832553</td>\n",
       "      <td>0.819831</td>\n",
       "      <td>3.MD.C.7a</td>\n",
       "      <td>Area of Rectangles</td>\n",
       "      <td>6.EE.A.1</td>\n",
       "      <td>Evaluating Exponents</td>\n",
       "      <td>1.015518</td>\n",
       "      <td>-0.008743</td>\n",
       "    </tr>\n",
       "    <tr>\n",
       "      <th>19</th>\n",
       "      <td>31</td>\n",
       "      <td>173</td>\n",
       "      <td>0.662704</td>\n",
       "      <td>0.758513</td>\n",
       "      <td>0.832553</td>\n",
       "      <td>0.804749</td>\n",
       "      <td>3.MD.C.7a</td>\n",
       "      <td>Area of Rectangles</td>\n",
       "      <td>6.G.A.1-1</td>\n",
       "      <td>Area of Triangles</td>\n",
       "      <td>1.034550</td>\n",
       "      <td>-0.095809</td>\n",
       "    </tr>\n",
       "    <tr>\n",
       "      <th>25</th>\n",
       "      <td>31</td>\n",
       "      <td>203</td>\n",
       "      <td>0.787486</td>\n",
       "      <td>0.831208</td>\n",
       "      <td>0.832553</td>\n",
       "      <td>0.811007</td>\n",
       "      <td>3.MD.C.7a</td>\n",
       "      <td>Area of Rectangles</td>\n",
       "      <td>7.NS.A.1d-1</td>\n",
       "      <td>Adding Integers</td>\n",
       "      <td>1.026567</td>\n",
       "      <td>-0.043722</td>\n",
       "    </tr>\n",
       "    <tr>\n",
       "      <th>27</th>\n",
       "      <td>31</td>\n",
       "      <td>209</td>\n",
       "      <td>0.815776</td>\n",
       "      <td>0.855266</td>\n",
       "      <td>0.832553</td>\n",
       "      <td>0.840446</td>\n",
       "      <td>3.MD.C.7a</td>\n",
       "      <td>Area of Rectangles</td>\n",
       "      <td>7.NS.A.2c-2</td>\n",
       "      <td>Dividing Integers</td>\n",
       "      <td>0.990609</td>\n",
       "      <td>-0.039490</td>\n",
       "    </tr>\n",
       "  </tbody>\n",
       "</table>\n",
       "</div>"
      ],
      "text/plain": [
       "    skill_id1  skill_id2  s1_correct_s2_prob  s1_incorrect_s2_prob  \\\n",
       "8          31         47            0.775560              0.789852   \n",
       "16         31        156            0.777687              0.786430   \n",
       "19         31        173            0.662704              0.758513   \n",
       "25         31        203            0.787486              0.831208   \n",
       "27         31        209            0.815776              0.855266   \n",
       "\n",
       "    sk1_difficulty  sk2_difficulty   sk1_code            sk1_name  \\\n",
       "8         0.832553        0.793122  3.MD.C.7a  Area of Rectangles   \n",
       "16        0.832553        0.819831  3.MD.C.7a  Area of Rectangles   \n",
       "19        0.832553        0.804749  3.MD.C.7a  Area of Rectangles   \n",
       "25        0.832553        0.811007  3.MD.C.7a  Area of Rectangles   \n",
       "27        0.832553        0.840446  3.MD.C.7a  Area of Rectangles   \n",
       "\n",
       "       sk2_code              sk2_name  difficulty_ratio  prob_diff  \n",
       "8   4.NBT.B.4-1  Adding Whole Numbers          1.049716  -0.014292  \n",
       "16     6.EE.A.1  Evaluating Exponents          1.015518  -0.008743  \n",
       "19    6.G.A.1-1     Area of Triangles          1.034550  -0.095809  \n",
       "25  7.NS.A.1d-1       Adding Integers          1.026567  -0.043722  \n",
       "27  7.NS.A.2c-2     Dividing Integers          0.990609  -0.039490  "
      ]
     },
     "execution_count": 37,
     "metadata": {},
     "output_type": "execute_result"
    }
   ],
   "source": [
    "filtered_final_df.head()"
   ]
  },
  {
   "cell_type": "code",
   "execution_count": 38,
   "metadata": {
    "collapsed": true
   },
   "outputs": [],
   "source": [
    "# Pair all similar links (A->B is compared to B->A)\n",
    "copied_filtered_final_df = pd.DataFrame(filtered_final_df)"
   ]
  },
  {
   "cell_type": "code",
   "execution_count": 46,
   "metadata": {
    "collapsed": true
   },
   "outputs": [],
   "source": [
    "filtered_final_df['skill_id2'].astype = int\n",
    "filtered_final_df['skill_id1'].astype = int\n",
    "copied_filtered_final_df = pd.DataFrame(filtered_final_df)"
   ]
  },
  {
   "cell_type": "code",
   "execution_count": 52,
   "metadata": {
    "collapsed": false
   },
   "outputs": [],
   "source": [
    "idx_list = []\n",
    "\n",
    "for index, row in copied_filtered_final_df.iterrows():\n",
    "    if filtered_final_df[(filtered_final_df['skill_id2'] == row['skill_id1']) & \\\n",
    "        (filtered_final_df['skill_id2'] == row['skill_id1'])].empty:\n",
    "       idx_list.append(index)"
   ]
  },
  {
   "cell_type": "code",
   "execution_count": 55,
   "metadata": {
    "collapsed": false
   },
   "outputs": [
    {
     "data": {
      "text/plain": [
       "221"
      ]
     },
     "execution_count": 55,
     "metadata": {},
     "output_type": "execute_result"
    }
   ],
   "source": [
    "len(copied_filtered_final_df)"
   ]
  },
  {
   "cell_type": "code",
   "execution_count": 57,
   "metadata": {
    "collapsed": false
   },
   "outputs": [
    {
     "data": {
      "text/plain": [
       "221"
      ]
     },
     "execution_count": 57,
     "metadata": {},
     "output_type": "execute_result"
    }
   ],
   "source": [
    "len(filtered_final_df)"
   ]
  },
  {
   "cell_type": "code",
   "execution_count": 60,
   "metadata": {
    "collapsed": false
   },
   "outputs": [],
   "source": [
    "dropped_final_df = filtered_final_df.drop(idx_list)"
   ]
  },
  {
   "cell_type": "code",
   "execution_count": 62,
   "metadata": {
    "collapsed": false
   },
   "outputs": [
    {
     "data": {
      "text/html": [
       "<div>\n",
       "<table border=\"1\" class=\"dataframe\">\n",
       "  <thead>\n",
       "    <tr style=\"text-align: right;\">\n",
       "      <th></th>\n",
       "      <th>skill_id1</th>\n",
       "      <th>skill_id2</th>\n",
       "      <th>s1_correct_s2_prob</th>\n",
       "      <th>s1_incorrect_s2_prob</th>\n",
       "      <th>sk1_difficulty</th>\n",
       "      <th>sk2_difficulty</th>\n",
       "      <th>sk1_code</th>\n",
       "      <th>sk1_name</th>\n",
       "      <th>sk2_code</th>\n",
       "      <th>sk2_name</th>\n",
       "      <th>difficulty_ratio</th>\n",
       "      <th>prob_diff</th>\n",
       "    </tr>\n",
       "  </thead>\n",
       "  <tbody>\n",
       "    <tr>\n",
       "      <th>47</th>\n",
       "      <td>47</td>\n",
       "      <td>87</td>\n",
       "      <td>0.721776</td>\n",
       "      <td>0.743131</td>\n",
       "      <td>0.793122</td>\n",
       "      <td>0.782183</td>\n",
       "      <td>4.NBT.B.4-1</td>\n",
       "      <td>Adding Whole Numbers</td>\n",
       "      <td>5.NBT.A.3b</td>\n",
       "      <td>Comparing Positive Decimals</td>\n",
       "      <td>1.013986</td>\n",
       "      <td>-0.021355</td>\n",
       "    </tr>\n",
       "    <tr>\n",
       "      <th>52</th>\n",
       "      <td>47</td>\n",
       "      <td>125</td>\n",
       "      <td>0.794406</td>\n",
       "      <td>0.803330</td>\n",
       "      <td>0.793122</td>\n",
       "      <td>0.787842</td>\n",
       "      <td>4.NBT.B.4-1</td>\n",
       "      <td>Adding Whole Numbers</td>\n",
       "      <td>5.G.B.4-2</td>\n",
       "      <td>Properties and Classification of Quadrilaterals</td>\n",
       "      <td>1.006702</td>\n",
       "      <td>-0.008925</td>\n",
       "    </tr>\n",
       "    <tr>\n",
       "      <th>58</th>\n",
       "      <td>47</td>\n",
       "      <td>156</td>\n",
       "      <td>0.771511</td>\n",
       "      <td>0.801922</td>\n",
       "      <td>0.793122</td>\n",
       "      <td>0.819831</td>\n",
       "      <td>4.NBT.B.4-1</td>\n",
       "      <td>Adding Whole Numbers</td>\n",
       "      <td>6.EE.A.1</td>\n",
       "      <td>Evaluating Exponents</td>\n",
       "      <td>0.967422</td>\n",
       "      <td>-0.030411</td>\n",
       "    </tr>\n",
       "    <tr>\n",
       "      <th>61</th>\n",
       "      <td>47</td>\n",
       "      <td>173</td>\n",
       "      <td>0.767271</td>\n",
       "      <td>0.752525</td>\n",
       "      <td>0.793122</td>\n",
       "      <td>0.804749</td>\n",
       "      <td>4.NBT.B.4-1</td>\n",
       "      <td>Adding Whole Numbers</td>\n",
       "      <td>6.G.A.1-1</td>\n",
       "      <td>Area of Triangles</td>\n",
       "      <td>0.985553</td>\n",
       "      <td>0.014745</td>\n",
       "    </tr>\n",
       "    <tr>\n",
       "      <th>63</th>\n",
       "      <td>47</td>\n",
       "      <td>188</td>\n",
       "      <td>0.736220</td>\n",
       "      <td>0.747464</td>\n",
       "      <td>0.793122</td>\n",
       "      <td>0.764803</td>\n",
       "      <td>4.NBT.B.4-1</td>\n",
       "      <td>Adding Whole Numbers</td>\n",
       "      <td>6.SP.B.5c-1</td>\n",
       "      <td>Variability - interquartile, range, and mean a...</td>\n",
       "      <td>1.037028</td>\n",
       "      <td>-0.011244</td>\n",
       "    </tr>\n",
       "  </tbody>\n",
       "</table>\n",
       "</div>"
      ],
      "text/plain": [
       "    skill_id1  skill_id2  s1_correct_s2_prob  s1_incorrect_s2_prob  \\\n",
       "47         47         87            0.721776              0.743131   \n",
       "52         47        125            0.794406              0.803330   \n",
       "58         47        156            0.771511              0.801922   \n",
       "61         47        173            0.767271              0.752525   \n",
       "63         47        188            0.736220              0.747464   \n",
       "\n",
       "    sk1_difficulty  sk2_difficulty     sk1_code              sk1_name  \\\n",
       "47        0.793122        0.782183  4.NBT.B.4-1  Adding Whole Numbers   \n",
       "52        0.793122        0.787842  4.NBT.B.4-1  Adding Whole Numbers   \n",
       "58        0.793122        0.819831  4.NBT.B.4-1  Adding Whole Numbers   \n",
       "61        0.793122        0.804749  4.NBT.B.4-1  Adding Whole Numbers   \n",
       "63        0.793122        0.764803  4.NBT.B.4-1  Adding Whole Numbers   \n",
       "\n",
       "       sk2_code                                           sk2_name  \\\n",
       "47   5.NBT.A.3b                        Comparing Positive Decimals   \n",
       "52    5.G.B.4-2    Properties and Classification of Quadrilaterals   \n",
       "58     6.EE.A.1                               Evaluating Exponents   \n",
       "61    6.G.A.1-1                                  Area of Triangles   \n",
       "63  6.SP.B.5c-1  Variability - interquartile, range, and mean a...   \n",
       "\n",
       "    difficulty_ratio  prob_diff  \n",
       "47          1.013986  -0.021355  \n",
       "52          1.006702  -0.008925  \n",
       "58          0.967422  -0.030411  \n",
       "61          0.985553   0.014745  \n",
       "63          1.037028  -0.011244  "
      ]
     },
     "execution_count": 62,
     "metadata": {},
     "output_type": "execute_result"
    }
   ],
   "source": [
    "dropped_final_df.head()"
   ]
  },
  {
   "cell_type": "code",
   "execution_count": 63,
   "metadata": {
    "collapsed": false
   },
   "outputs": [],
   "source": [
    "# Choose the direction with the largest difference\n",
    "copied_final_df = pd.DataFrame(dropped_final_df)"
   ]
  },
  {
   "cell_type": "code",
   "execution_count": 69,
   "metadata": {
    "collapsed": false
   },
   "outputs": [],
   "source": [
    "final_idx_list = []\n",
    "for index, row in copied_final_df.iterrows():\n",
    "    reversed_df = dropped_final_df[(dropped_final_df['skill_id1']==row['skill_id2']) & \\\n",
    "                                  (dropped_final_df['skill_id2']==row['skill_id1'])]\n",
    "    diff = row['prob_diff'] - reversed_df['prob_diff']\n",
    "    if not (diff >= 0.01).empty:\n",
    "        final_idx_list.append(index)"
   ]
  },
  {
   "cell_type": "code",
   "execution_count": 77,
   "metadata": {
    "collapsed": false
   },
   "outputs": [],
   "source": [
    "skilk_link_df = dropped_final_df.ix[final_idx_list]"
   ]
  },
  {
   "cell_type": "code",
   "execution_count": 78,
   "metadata": {
    "collapsed": false
   },
   "outputs": [
    {
     "data": {
      "text/plain": [
       "78"
      ]
     },
     "execution_count": 78,
     "metadata": {},
     "output_type": "execute_result"
    }
   ],
   "source": [
    "len(skilk_link_df)"
   ]
  },
  {
   "cell_type": "code",
   "execution_count": 79,
   "metadata": {
    "collapsed": true
   },
   "outputs": [],
   "source": [
    "import csv\n",
    "skilk_link_df.to_csv('skill_links.csv', quoting=csv.QUOTE_NONNUMERIC)"
   ]
  },
  {
   "cell_type": "code",
   "execution_count": 76,
   "metadata": {
    "collapsed": false
   },
   "outputs": [
    {
     "data": {
      "text/plain": [
       "193"
      ]
     },
     "execution_count": 76,
     "metadata": {},
     "output_type": "execute_result"
    }
   ],
   "source": [
    "len(dropped_final_df)"
   ]
  }
 ],
 "metadata": {
  "kernelspec": {
   "display_name": "Python 2",
   "language": "python",
   "name": "python2"
  },
  "language_info": {
   "codemirror_mode": {
    "name": "ipython",
    "version": 2
   },
   "file_extension": ".py",
   "mimetype": "text/x-python",
   "name": "python",
   "nbconvert_exporter": "python",
   "pygments_lexer": "ipython2",
   "version": "2.7.12"
  }
 },
 "nbformat": 4,
 "nbformat_minor": 1
}
