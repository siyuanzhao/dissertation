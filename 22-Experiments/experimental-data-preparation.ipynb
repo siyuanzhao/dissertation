{
 "cells": [
  {
   "cell_type": "code",
   "execution_count": 1,
   "metadata": {
    "collapsed": true
   },
   "outputs": [],
   "source": [
    "import pandas as pd\n",
    "import numpy as np"
   ]
  },
  {
   "cell_type": "code",
   "execution_count": 2,
   "metadata": {
    "collapsed": false
   },
   "outputs": [
    {
     "data": {
      "text/html": [
       "<div>\n",
       "<style scoped>\n",
       "    .dataframe tbody tr th:only-of-type {\n",
       "        vertical-align: middle;\n",
       "    }\n",
       "\n",
       "    .dataframe tbody tr th {\n",
       "        vertical-align: top;\n",
       "    }\n",
       "\n",
       "    .dataframe thead th {\n",
       "        text-align: right;\n",
       "    }\n",
       "</style>\n",
       "<table border=\"1\" class=\"dataframe\">\n",
       "  <thead>\n",
       "    <tr style=\"text-align: right;\">\n",
       "      <th></th>\n",
       "      <th>problem_set</th>\n",
       "      <th>problem_set_name</th>\n",
       "      <th>User ID</th>\n",
       "      <th>condition</th>\n",
       "      <th>ExperiencedCondition</th>\n",
       "      <th>Saw Video</th>\n",
       "      <th>Class ID</th>\n",
       "      <th>Class Section ID</th>\n",
       "      <th>Class Grade</th>\n",
       "      <th>Teacher ID</th>\n",
       "      <th>...</th>\n",
       "      <th>Z-Scored Mastery Speed</th>\n",
       "      <th>Prior Homework Assigned</th>\n",
       "      <th>Prior Homework Count</th>\n",
       "      <th>Prior Homework Completion Count</th>\n",
       "      <th>Prior Homework Percent Completion</th>\n",
       "      <th>Prior Class Homework Percent Completion</th>\n",
       "      <th>Z-Scored HW Mastery Speed</th>\n",
       "      <th>complete</th>\n",
       "      <th>log(count)</th>\n",
       "      <th>problem_count</th>\n",
       "    </tr>\n",
       "  </thead>\n",
       "  <tbody>\n",
       "    <tr>\n",
       "      <th>0</th>\n",
       "      <td>226210</td>\n",
       "      <td>Multiplying Mixed Numbers 5.NF.B.4a EX</td>\n",
       "      <td>172777</td>\n",
       "      <td>E</td>\n",
       "      <td>False</td>\n",
       "      <td>NaN</td>\n",
       "      <td>31189</td>\n",
       "      <td>NaN</td>\n",
       "      <td>\"8\"</td>\n",
       "      <td>42999</td>\n",
       "      <td>...</td>\n",
       "      <td>NaN</td>\n",
       "      <td>NaN</td>\n",
       "      <td>NaN</td>\n",
       "      <td>NaN</td>\n",
       "      <td>NaN</td>\n",
       "      <td>NaN</td>\n",
       "      <td>NaN</td>\n",
       "      <td>1</td>\n",
       "      <td>0.602060</td>\n",
       "      <td>4</td>\n",
       "    </tr>\n",
       "    <tr>\n",
       "      <th>1</th>\n",
       "      <td>226210</td>\n",
       "      <td>Multiplying Mixed Numbers 5.NF.B.4a EX</td>\n",
       "      <td>175658</td>\n",
       "      <td>E</td>\n",
       "      <td>True</td>\n",
       "      <td>NaN</td>\n",
       "      <td>30642</td>\n",
       "      <td>54689.0</td>\n",
       "      <td>\"7\"</td>\n",
       "      <td>68444</td>\n",
       "      <td>...</td>\n",
       "      <td>0.0</td>\n",
       "      <td>NaN</td>\n",
       "      <td>NaN</td>\n",
       "      <td>NaN</td>\n",
       "      <td>NaN</td>\n",
       "      <td>NaN</td>\n",
       "      <td>NaN</td>\n",
       "      <td>0</td>\n",
       "      <td>NaN</td>\n",
       "      <td>22</td>\n",
       "    </tr>\n",
       "    <tr>\n",
       "      <th>2</th>\n",
       "      <td>226210</td>\n",
       "      <td>Multiplying Mixed Numbers 5.NF.B.4a EX</td>\n",
       "      <td>175669</td>\n",
       "      <td>E</td>\n",
       "      <td>True</td>\n",
       "      <td>NaN</td>\n",
       "      <td>29270</td>\n",
       "      <td>51191.0</td>\n",
       "      <td>\"6\"</td>\n",
       "      <td>59965</td>\n",
       "      <td>...</td>\n",
       "      <td>NaN</td>\n",
       "      <td>NaN</td>\n",
       "      <td>NaN</td>\n",
       "      <td>NaN</td>\n",
       "      <td>NaN</td>\n",
       "      <td>NaN</td>\n",
       "      <td>NaN</td>\n",
       "      <td>1</td>\n",
       "      <td>1.041393</td>\n",
       "      <td>11</td>\n",
       "    </tr>\n",
       "    <tr>\n",
       "      <th>3</th>\n",
       "      <td>226210</td>\n",
       "      <td>Multiplying Mixed Numbers 5.NF.B.4a EX</td>\n",
       "      <td>176151</td>\n",
       "      <td>E</td>\n",
       "      <td>True</td>\n",
       "      <td>NaN</td>\n",
       "      <td>29270</td>\n",
       "      <td>51191.0</td>\n",
       "      <td>\"6\"</td>\n",
       "      <td>59965</td>\n",
       "      <td>...</td>\n",
       "      <td>NaN</td>\n",
       "      <td>NaN</td>\n",
       "      <td>NaN</td>\n",
       "      <td>NaN</td>\n",
       "      <td>NaN</td>\n",
       "      <td>NaN</td>\n",
       "      <td>NaN</td>\n",
       "      <td>1</td>\n",
       "      <td>1.000000</td>\n",
       "      <td>10</td>\n",
       "    </tr>\n",
       "    <tr>\n",
       "      <th>4</th>\n",
       "      <td>226210</td>\n",
       "      <td>Multiplying Mixed Numbers 5.NF.B.4a EX</td>\n",
       "      <td>176165</td>\n",
       "      <td>E</td>\n",
       "      <td>True</td>\n",
       "      <td>NaN</td>\n",
       "      <td>29270</td>\n",
       "      <td>51191.0</td>\n",
       "      <td>\"6\"</td>\n",
       "      <td>59965</td>\n",
       "      <td>...</td>\n",
       "      <td>0.0</td>\n",
       "      <td>NaN</td>\n",
       "      <td>NaN</td>\n",
       "      <td>NaN</td>\n",
       "      <td>NaN</td>\n",
       "      <td>NaN</td>\n",
       "      <td>NaN</td>\n",
       "      <td>0</td>\n",
       "      <td>NaN</td>\n",
       "      <td>6</td>\n",
       "    </tr>\n",
       "  </tbody>\n",
       "</table>\n",
       "<p>5 rows × 33 columns</p>\n",
       "</div>"
      ],
      "text/plain": [
       "   problem_set                        problem_set_name  User ID condition  \\\n",
       "0       226210  Multiplying Mixed Numbers 5.NF.B.4a EX   172777         E   \n",
       "1       226210  Multiplying Mixed Numbers 5.NF.B.4a EX   175658         E   \n",
       "2       226210  Multiplying Mixed Numbers 5.NF.B.4a EX   175669         E   \n",
       "3       226210  Multiplying Mixed Numbers 5.NF.B.4a EX   176151         E   \n",
       "4       226210  Multiplying Mixed Numbers 5.NF.B.4a EX   176165         E   \n",
       "\n",
       "   ExperiencedCondition  Saw Video  Class ID  Class Section ID Class Grade  \\\n",
       "0                 False        NaN     31189               NaN         \"8\"   \n",
       "1                  True        NaN     30642           54689.0         \"7\"   \n",
       "2                  True        NaN     29270           51191.0         \"6\"   \n",
       "3                  True        NaN     29270           51191.0         \"6\"   \n",
       "4                  True        NaN     29270           51191.0         \"6\"   \n",
       "\n",
       "   Teacher ID      ...       Z-Scored Mastery Speed Prior Homework Assigned  \\\n",
       "0       42999      ...                          NaN                     NaN   \n",
       "1       68444      ...                          0.0                     NaN   \n",
       "2       59965      ...                          NaN                     NaN   \n",
       "3       59965      ...                          NaN                     NaN   \n",
       "4       59965      ...                          0.0                     NaN   \n",
       "\n",
       "   Prior Homework Count  Prior Homework Completion Count  \\\n",
       "0                   NaN                              NaN   \n",
       "1                   NaN                              NaN   \n",
       "2                   NaN                              NaN   \n",
       "3                   NaN                              NaN   \n",
       "4                   NaN                              NaN   \n",
       "\n",
       "   Prior Homework Percent Completion  Prior Class Homework Percent Completion  \\\n",
       "0                                NaN                                      NaN   \n",
       "1                                NaN                                      NaN   \n",
       "2                                NaN                                      NaN   \n",
       "3                                NaN                                      NaN   \n",
       "4                                NaN                                      NaN   \n",
       "\n",
       "   Z-Scored HW Mastery Speed  complete  log(count)  problem_count  \n",
       "0                        NaN         1    0.602060              4  \n",
       "1                        NaN         0         NaN             22  \n",
       "2                        NaN         1    1.041393             11  \n",
       "3                        NaN         1    1.000000             10  \n",
       "4                        NaN         0         NaN              6  \n",
       "\n",
       "[5 rows x 33 columns]"
      ]
     },
     "execution_count": 2,
     "metadata": {},
     "output_type": "execute_result"
    }
   ],
   "source": [
    "df = pd.read_csv('ThisOne.csv')\n",
    "df.head()"
   ]
  },
  {
   "cell_type": "code",
   "execution_count": 3,
   "metadata": {
    "collapsed": false
   },
   "outputs": [
    {
     "data": {
      "text/plain": [
       "303899    1917\n",
       "243393    1864\n",
       "293151    1330\n",
       "226210    1204\n",
       "263115     754\n",
       "263015     704\n",
       "237447     695\n",
       "241622     627\n",
       "255116     545\n",
       "246647     540\n",
       "263052     523\n",
       "246627     515\n",
       "259379     497\n",
       "246482     457\n",
       "377658     429\n",
       "263109     428\n",
       "377938     426\n",
       "256017     412\n",
       "250476     402\n",
       "241501     381\n",
       "256027     335\n",
       "263057     136\n",
       "Name: problem_set, dtype: int64"
      ]
     },
     "execution_count": 3,
     "metadata": {},
     "output_type": "execute_result"
    }
   ],
   "source": [
    "df['problem_set'].value_counts()"
   ]
  },
  {
   "cell_type": "code",
   "execution_count": 4,
   "metadata": {
    "collapsed": false
   },
   "outputs": [
    {
     "data": {
      "text/plain": [
       "True     10761\n",
       "False     4360\n",
       "Name: ExperiencedCondition, dtype: int64"
      ]
     },
     "execution_count": 4,
     "metadata": {},
     "output_type": "execute_result"
    }
   ],
   "source": [
    "df['ExperiencedCondition'].value_counts()"
   ]
  },
  {
   "cell_type": "code",
   "execution_count": 5,
   "metadata": {
    "collapsed": false
   },
   "outputs": [
    {
     "name": "stdout",
     "output_type": "stream",
     "text": [
      "7532\n",
      "5336\n"
     ]
    }
   ],
   "source": [
    "print len(df[df['condition']=='E'])\n",
    "print len(df[(df['condition']=='E')&(df['ExperiencedCondition'] == True)])"
   ]
  },
  {
   "cell_type": "code",
   "execution_count": 6,
   "metadata": {
    "collapsed": false
   },
   "outputs": [
    {
     "name": "stdout",
     "output_type": "stream",
     "text": [
      "7589\n",
      "5425\n"
     ]
    }
   ],
   "source": [
    "print len(df[df['condition']=='C'])\n",
    "print len(df[(df['condition']=='C')&(df['ExperiencedCondition'] == True)])"
   ]
  },
  {
   "cell_type": "markdown",
   "metadata": {},
   "source": [
    "### generate training and testing data for each experiment."
   ]
  },
  {
   "cell_type": "code",
   "execution_count": 11,
   "metadata": {
    "collapsed": false
   },
   "outputs": [
    {
     "name": "stdout",
     "output_type": "stream",
     "text": [
      "497\n",
      "1    156\n",
      "0    145\n",
      "Name: condition, dtype: int64\n",
      "avg completion rate 0.445182724252\n",
      "161\n",
      "140\n",
      "Train Data\n",
      "Policy risk for control 0.578313253012\n",
      "Policy risk for treatment 0.487179487179\n",
      "Test Data\n",
      "Policy risk for control 0.661290322581\n",
      "Policy risk for treatment 0.512820512821\n"
     ]
    }
   ],
   "source": [
    "cfr_df = pd.DataFrame()\n",
    "is_video = True\n",
    "problem_set_id = 259379\n",
    "video_text_df = df[df['problem_set'] == problem_set_id]\n",
    "\n",
    "print len(video_text_df)\n",
    "\n",
    "if is_video:\n",
    "    video_text_df = video_text_df[((video_text_df['Saw Video'] == 1) & \\\n",
    "                           (video_text_df['ExperiencedCondition'] == True)&(video_text_df['condition']=='E'))\\\n",
    "              | ((video_text_df['Saw Video'] == 1) &(video_text_df['ExperiencedCondition'] == True)&(video_text_df['condition']=='C'))]\n",
    "    cfr_df['user_id'] = video_text_df['User ID']\n",
    "    cfr_df['condition'] = ((video_text_df['Saw Video'] == 1) & \\\n",
    "                           (video_text_df['ExperiencedCondition'] == True)&(video_text_df['condition']=='E')).astype(int)\n",
    "else:\n",
    "    video_text_df = video_text_df[((video_text_df['ExperiencedCondition'] == True)&(video_text_df['condition']=='E'))\\\n",
    "              | ((video_text_df['ExperiencedCondition'] == True)&(video_text_df['condition']=='C'))]\n",
    "    #print video_text_df.head()\n",
    "    cfr_df['user_id'] = video_text_df['User ID']\n",
    "    cfr_df['condition'] = np.where((video_text_df['condition']=='E')&\\\n",
    "                                   (video_text_df['ExperiencedCondition']==True), 1, 0)\n",
    "\n",
    "cfr_df['yf'] = video_text_df['complete']\n",
    "\n",
    "cfr_df['ycf'] = np.NaN\n",
    "\n",
    "cols = ['Prior Problem Count', 'Prior Correct Count', 'Prior Assignments Assigned', \\\n",
    "        'Prior Assignment Count', 'Prior Homework Assigned', 'Prior Homework Count', \\\n",
    "        'Prior Completion Count', 'Prior Homework Completion Count', 'problem_count']\n",
    "cols_norm = map(lambda x: x+' zscore', cols)\n",
    "for idx, col in enumerate(cols):\n",
    "    video_text_df[cols_norm[idx]] = (video_text_df[col] - video_text_df[col].min())/(video_text_df[col].max() - video_text_df[col].min())\n",
    "\n",
    "features_list = ['Prior Percent Correct', 'Prior Percent Completion', 'Z-Scored Mastery Speed', \n",
    "                 'Prior Homework Percent Completion', \n",
    "                 'Z-Scored HW Mastery Speed', 'Prior Class Homework Percent Completion', \n",
    "                 'Prior Class Percent Completion'] + cols_norm\n",
    "\n",
    "for ite in features_list:\n",
    "    cfr_df[ite] = video_text_df[ite]\n",
    "\n",
    "print cfr_df['condition'].value_counts()\n",
    "\n",
    "msk = np.random.rand(len(cfr_df)) < 0.5\n",
    "\n",
    "cfr_df.to_csv(str(problem_set_id) +'_exp.csv', header=False, na_rep='0')\n",
    "print 'avg completion rate {}'.format(cfr_df['yf'].mean())\n",
    "train_df = cfr_df[msk]\n",
    "test_df = cfr_df[~msk]\n",
    "print len(train_df)\n",
    "print len(test_df)\n",
    "train_df.to_csv(str(problem_set_id) +'_train_exp.csv', header=False, na_rep='0')\n",
    "test_df.to_csv(str(problem_set_id) +'_test_exp.csv', header=False, na_rep='0')\n",
    "print 'Train Data'\n",
    "print 'Policy risk for control {}'.format(1-train_df[train_df['condition']==0]['yf'].mean())\n",
    "print 'Policy risk for treatment {}'.format(1-train_df[train_df['condition']==1]['yf'].mean())\n",
    "print 'Test Data'\n",
    "print 'Policy risk for control {}'.format(1-test_df[test_df['condition']==0]['yf'].mean())\n",
    "print 'Policy risk for treatment {}'.format(1-test_df[test_df['condition']==1]['yf'].mean())"
   ]
  },
  {
   "cell_type": "markdown",
   "metadata": {},
   "source": [
    "### Below is irrelevant. Keep it for future reference."
   ]
  },
  {
   "cell_type": "code",
   "execution_count": 97,
   "metadata": {
    "collapsed": false
   },
   "outputs": [
    {
     "data": {
      "text/html": [
       "<div>\n",
       "<table border=\"1\" class=\"dataframe\">\n",
       "  <thead>\n",
       "    <tr style=\"text-align: right;\">\n",
       "      <th></th>\n",
       "      <th>problem_set</th>\n",
       "      <th>problem_set_name</th>\n",
       "      <th>User ID</th>\n",
       "      <th>condition</th>\n",
       "      <th>ExperiencedCondition</th>\n",
       "      <th>Saw Video</th>\n",
       "      <th>Class ID</th>\n",
       "      <th>Class Section ID</th>\n",
       "      <th>Class Grade</th>\n",
       "      <th>Teacher ID</th>\n",
       "      <th>...</th>\n",
       "      <th>Z-Scored Mastery Speed</th>\n",
       "      <th>Prior Homework Assigned</th>\n",
       "      <th>Prior Homework Count</th>\n",
       "      <th>Prior Homework Completion Count</th>\n",
       "      <th>Prior Homework Percent Completion</th>\n",
       "      <th>Prior Class Homework Percent Completion</th>\n",
       "      <th>Z-Scored HW Mastery Speed</th>\n",
       "      <th>complete</th>\n",
       "      <th>log(count)</th>\n",
       "      <th>problem_count</th>\n",
       "    </tr>\n",
       "  </thead>\n",
       "  <tbody>\n",
       "    <tr>\n",
       "      <th>1223</th>\n",
       "      <td>237447</td>\n",
       "      <td>Understanding Vocabulary About Circles G-C.A.2 EX</td>\n",
       "      <td>96372</td>\n",
       "      <td>C</td>\n",
       "      <td>True</td>\n",
       "      <td>NaN</td>\n",
       "      <td>32278</td>\n",
       "      <td>58828.0</td>\n",
       "      <td>\"10\"</td>\n",
       "      <td>162790</td>\n",
       "      <td>...</td>\n",
       "      <td>-0.449439</td>\n",
       "      <td>38.0</td>\n",
       "      <td>28.0</td>\n",
       "      <td>27.0</td>\n",
       "      <td>0.964286</td>\n",
       "      <td>0.961853</td>\n",
       "      <td>-0.481323</td>\n",
       "      <td>1</td>\n",
       "      <td>1.113943</td>\n",
       "      <td>13</td>\n",
       "    </tr>\n",
       "    <tr>\n",
       "      <th>6288</th>\n",
       "      <td>250476</td>\n",
       "      <td>Basic Logarithm Manipulation F-BF.B.5 EX</td>\n",
       "      <td>96372</td>\n",
       "      <td>E</td>\n",
       "      <td>False</td>\n",
       "      <td>1.0</td>\n",
       "      <td>32278</td>\n",
       "      <td>58828.0</td>\n",
       "      <td>\"10\"</td>\n",
       "      <td>162790</td>\n",
       "      <td>...</td>\n",
       "      <td>-0.322099</td>\n",
       "      <td>50.0</td>\n",
       "      <td>38.0</td>\n",
       "      <td>37.0</td>\n",
       "      <td>0.973684</td>\n",
       "      <td>0.961905</td>\n",
       "      <td>-0.346814</td>\n",
       "      <td>1</td>\n",
       "      <td>0.477121</td>\n",
       "      <td>3</td>\n",
       "    </tr>\n",
       "    <tr>\n",
       "      <th>7233</th>\n",
       "      <td>256017</td>\n",
       "      <td>Intermediate Logarithm Manipulation F-BF.B.5 EX</td>\n",
       "      <td>96372</td>\n",
       "      <td>E</td>\n",
       "      <td>False</td>\n",
       "      <td>1.0</td>\n",
       "      <td>32278</td>\n",
       "      <td>58828.0</td>\n",
       "      <td>\"10\"</td>\n",
       "      <td>162790</td>\n",
       "      <td>...</td>\n",
       "      <td>-0.359399</td>\n",
       "      <td>53.0</td>\n",
       "      <td>40.0</td>\n",
       "      <td>39.0</td>\n",
       "      <td>0.975000</td>\n",
       "      <td>0.958410</td>\n",
       "      <td>-0.387540</td>\n",
       "      <td>0</td>\n",
       "      <td>NaN</td>\n",
       "      <td>3</td>\n",
       "    </tr>\n",
       "    <tr>\n",
       "      <th>7645</th>\n",
       "      <td>256027</td>\n",
       "      <td>Solving ab^ct = d F-LE.A.4a EX</td>\n",
       "      <td>96372</td>\n",
       "      <td>E</td>\n",
       "      <td>False</td>\n",
       "      <td>1.0</td>\n",
       "      <td>32278</td>\n",
       "      <td>58828.0</td>\n",
       "      <td>\"10\"</td>\n",
       "      <td>162790</td>\n",
       "      <td>...</td>\n",
       "      <td>-0.342592</td>\n",
       "      <td>52.0</td>\n",
       "      <td>45.0</td>\n",
       "      <td>44.0</td>\n",
       "      <td>0.977778</td>\n",
       "      <td>0.962929</td>\n",
       "      <td>-0.411135</td>\n",
       "      <td>1</td>\n",
       "      <td>0.477121</td>\n",
       "      <td>3</td>\n",
       "    </tr>\n",
       "    <tr>\n",
       "      <th>7985</th>\n",
       "      <td>259379</td>\n",
       "      <td>Finding Inverse Functions F-BF.B.4 EX</td>\n",
       "      <td>96372</td>\n",
       "      <td>C</td>\n",
       "      <td>False</td>\n",
       "      <td>1.0</td>\n",
       "      <td>32278</td>\n",
       "      <td>58828.0</td>\n",
       "      <td>\"10\"</td>\n",
       "      <td>162790</td>\n",
       "      <td>...</td>\n",
       "      <td>-0.322099</td>\n",
       "      <td>52.0</td>\n",
       "      <td>38.0</td>\n",
       "      <td>37.0</td>\n",
       "      <td>0.973684</td>\n",
       "      <td>0.961754</td>\n",
       "      <td>-0.346814</td>\n",
       "      <td>1</td>\n",
       "      <td>0.477121</td>\n",
       "      <td>3</td>\n",
       "    </tr>\n",
       "    <tr>\n",
       "      <th>8478</th>\n",
       "      <td>263015</td>\n",
       "      <td>Composition of Functions F-BF.A.1c EX</td>\n",
       "      <td>96372</td>\n",
       "      <td>C</td>\n",
       "      <td>False</td>\n",
       "      <td>1.0</td>\n",
       "      <td>32278</td>\n",
       "      <td>58828.0</td>\n",
       "      <td>\"10\"</td>\n",
       "      <td>162790</td>\n",
       "      <td>...</td>\n",
       "      <td>-0.311173</td>\n",
       "      <td>51.0</td>\n",
       "      <td>37.0</td>\n",
       "      <td>36.0</td>\n",
       "      <td>0.972973</td>\n",
       "      <td>0.962264</td>\n",
       "      <td>-0.335079</td>\n",
       "      <td>1</td>\n",
       "      <td>0.477121</td>\n",
       "      <td>3</td>\n",
       "    </tr>\n",
       "    <tr>\n",
       "      <th>9179</th>\n",
       "      <td>263052</td>\n",
       "      <td>Sequences F-BF.A.2 EX</td>\n",
       "      <td>96372</td>\n",
       "      <td>E</td>\n",
       "      <td>True</td>\n",
       "      <td>1.0</td>\n",
       "      <td>32278</td>\n",
       "      <td>58828.0</td>\n",
       "      <td>\"10\"</td>\n",
       "      <td>162790</td>\n",
       "      <td>...</td>\n",
       "      <td>-0.422805</td>\n",
       "      <td>39.0</td>\n",
       "      <td>29.0</td>\n",
       "      <td>28.0</td>\n",
       "      <td>0.965517</td>\n",
       "      <td>0.962815</td>\n",
       "      <td>-0.449915</td>\n",
       "      <td>1</td>\n",
       "      <td>0.698970</td>\n",
       "      <td>5</td>\n",
       "    </tr>\n",
       "  </tbody>\n",
       "</table>\n",
       "<p>7 rows × 33 columns</p>\n",
       "</div>"
      ],
      "text/plain": [
       "      problem_set                                   problem_set_name  User ID  \\\n",
       "1223       237447  Understanding Vocabulary About Circles G-C.A.2 EX    96372   \n",
       "6288       250476           Basic Logarithm Manipulation F-BF.B.5 EX    96372   \n",
       "7233       256017    Intermediate Logarithm Manipulation F-BF.B.5 EX    96372   \n",
       "7645       256027                     Solving ab^ct = d F-LE.A.4a EX    96372   \n",
       "7985       259379              Finding Inverse Functions F-BF.B.4 EX    96372   \n",
       "8478       263015              Composition of Functions F-BF.A.1c EX    96372   \n",
       "9179       263052                              Sequences F-BF.A.2 EX    96372   \n",
       "\n",
       "     condition ExperiencedCondition  Saw Video  Class ID  Class Section ID  \\\n",
       "1223         C                 True        NaN     32278           58828.0   \n",
       "6288         E                False        1.0     32278           58828.0   \n",
       "7233         E                False        1.0     32278           58828.0   \n",
       "7645         E                False        1.0     32278           58828.0   \n",
       "7985         C                False        1.0     32278           58828.0   \n",
       "8478         C                False        1.0     32278           58828.0   \n",
       "9179         E                 True        1.0     32278           58828.0   \n",
       "\n",
       "     Class Grade  Teacher ID      ...       Z-Scored Mastery Speed  \\\n",
       "1223        \"10\"      162790      ...                    -0.449439   \n",
       "6288        \"10\"      162790      ...                    -0.322099   \n",
       "7233        \"10\"      162790      ...                    -0.359399   \n",
       "7645        \"10\"      162790      ...                    -0.342592   \n",
       "7985        \"10\"      162790      ...                    -0.322099   \n",
       "8478        \"10\"      162790      ...                    -0.311173   \n",
       "9179        \"10\"      162790      ...                    -0.422805   \n",
       "\n",
       "     Prior Homework Assigned  Prior Homework Count  \\\n",
       "1223                    38.0                  28.0   \n",
       "6288                    50.0                  38.0   \n",
       "7233                    53.0                  40.0   \n",
       "7645                    52.0                  45.0   \n",
       "7985                    52.0                  38.0   \n",
       "8478                    51.0                  37.0   \n",
       "9179                    39.0                  29.0   \n",
       "\n",
       "      Prior Homework Completion Count  Prior Homework Percent Completion  \\\n",
       "1223                             27.0                           0.964286   \n",
       "6288                             37.0                           0.973684   \n",
       "7233                             39.0                           0.975000   \n",
       "7645                             44.0                           0.977778   \n",
       "7985                             37.0                           0.973684   \n",
       "8478                             36.0                           0.972973   \n",
       "9179                             28.0                           0.965517   \n",
       "\n",
       "      Prior Class Homework Percent Completion  Z-Scored HW Mastery Speed  \\\n",
       "1223                                 0.961853                  -0.481323   \n",
       "6288                                 0.961905                  -0.346814   \n",
       "7233                                 0.958410                  -0.387540   \n",
       "7645                                 0.962929                  -0.411135   \n",
       "7985                                 0.961754                  -0.346814   \n",
       "8478                                 0.962264                  -0.335079   \n",
       "9179                                 0.962815                  -0.449915   \n",
       "\n",
       "      complete  log(count)  problem_count  \n",
       "1223         1    1.113943             13  \n",
       "6288         1    0.477121              3  \n",
       "7233         0         NaN              3  \n",
       "7645         1    0.477121              3  \n",
       "7985         1    0.477121              3  \n",
       "8478         1    0.477121              3  \n",
       "9179         1    0.698970              5  \n",
       "\n",
       "[7 rows x 33 columns]"
      ]
     },
     "execution_count": 97,
     "metadata": {},
     "output_type": "execute_result"
    }
   ],
   "source": [
    "df[df['User ID'] == 96372]"
   ]
  },
  {
   "cell_type": "code",
   "execution_count": 103,
   "metadata": {
    "collapsed": false
   },
   "outputs": [
    {
     "data": {
      "text/plain": [
       "True"
      ]
     },
     "execution_count": 103,
     "metadata": {},
     "output_type": "execute_result"
    }
   ],
   "source": [
    "96372 in df[df['ExperiencedCondition'] == True]['User ID'].unique().tolist()"
   ]
  },
  {
   "cell_type": "code",
   "execution_count": 104,
   "metadata": {
    "collapsed": false
   },
   "outputs": [
    {
     "data": {
      "text/plain": [
       "6605"
      ]
     },
     "execution_count": 104,
     "metadata": {},
     "output_type": "execute_result"
    }
   ],
   "source": [
    "len(df[df['ExperiencedCondition'] == True]['User ID'].unique().tolist())"
   ]
  },
  {
   "cell_type": "code",
   "execution_count": null,
   "metadata": {
    "collapsed": false
   },
   "outputs": [],
   "source": [
    "s = ''\n",
    "for ite in df['User ID'].unique().tolist():\n",
    "    s += str(ite) + ','\n",
    "s = s[:-1]\n",
    "print s"
   ]
  },
  {
   "cell_type": "code",
   "execution_count": 49,
   "metadata": {
    "collapsed": false
   },
   "outputs": [],
   "source": [
    "exp_df = pd.read_csv('243393_exp.csv', header=None)"
   ]
  },
  {
   "cell_type": "code",
   "execution_count": null,
   "metadata": {
    "collapsed": false
   },
   "outputs": [],
   "source": [
    "s = ''\n",
    "for ite in exp_df[1].tolist():\n",
    "    s += str(ite) + ','\n",
    "s = s[:-1]\n",
    "print s "
   ]
  },
  {
   "cell_type": "code",
   "execution_count": null,
   "metadata": {
    "collapsed": false
   },
   "outputs": [],
   "source": [
    "pred_df = pd.read_csv('../cfrnet/results/single_2-2_wass_VS0_20161121_233654-423/y_pred.csv', header=None, names=['factual', 'counterfactual'])\n",
    "\n",
    "reset_cfr_df = cfr_df.reset_index()\n",
    "\n",
    "pred_df['student_id'] = reset_cfr_df['user_id']\n",
    "pred_df['condition'] = reset_cfr_df['condition']\n",
    "pred_df['yf'] = reset_cfr_df['yf']\n",
    "\n",
    "pred_df.head()"
   ]
  },
  {
   "cell_type": "code",
   "execution_count": null,
   "metadata": {
    "collapsed": false
   },
   "outputs": [],
   "source": [
    "pred_df['treatment_effect'] = np.where(pred_df['condition']==1, pred_df['factual']-pred_df['counterfactual'], \\\n",
    "                                       pred_df['counterfactual']-pred_df['factual'])\n",
    "\n",
    "np.mean(pred_df['treatment_effect'])"
   ]
  },
  {
   "cell_type": "code",
   "execution_count": null,
   "metadata": {
    "collapsed": false
   },
   "outputs": [],
   "source": [
    "pred_df.head()"
   ]
  }
 ],
 "metadata": {
  "kernelspec": {
   "display_name": "Python 2",
   "language": "python",
   "name": "python2"
  },
  "language_info": {
   "codemirror_mode": {
    "name": "ipython",
    "version": 2
   },
   "file_extension": ".py",
   "mimetype": "text/x-python",
   "name": "python",
   "nbconvert_exporter": "python",
   "pygments_lexer": "ipython2",
   "version": "2.7.12"
  }
 },
 "nbformat": 4,
 "nbformat_minor": 1
}
