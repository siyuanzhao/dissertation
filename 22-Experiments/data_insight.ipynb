{
 "cells": [
  {
   "cell_type": "code",
   "execution_count": 1,
   "metadata": {
    "collapsed": true
   },
   "outputs": [],
   "source": [
    "import pandas as pd\n",
    "from scipy import stats"
   ]
  },
  {
   "cell_type": "code",
   "execution_count": 2,
   "metadata": {
    "collapsed": false
   },
   "outputs": [
    {
     "data": {
      "text/html": [
       "<div>\n",
       "<style scoped>\n",
       "    .dataframe tbody tr th:only-of-type {\n",
       "        vertical-align: middle;\n",
       "    }\n",
       "\n",
       "    .dataframe tbody tr th {\n",
       "        vertical-align: top;\n",
       "    }\n",
       "\n",
       "    .dataframe thead th {\n",
       "        text-align: right;\n",
       "    }\n",
       "</style>\n",
       "<table border=\"1\" class=\"dataframe\">\n",
       "  <thead>\n",
       "    <tr style=\"text-align: right;\">\n",
       "      <th></th>\n",
       "      <th>problem_set</th>\n",
       "      <th>problem_set_name</th>\n",
       "      <th>User ID</th>\n",
       "      <th>condition</th>\n",
       "      <th>ExperiencedCondition</th>\n",
       "      <th>Saw Video</th>\n",
       "      <th>Class ID</th>\n",
       "      <th>Class Section ID</th>\n",
       "      <th>Class Grade</th>\n",
       "      <th>Teacher ID</th>\n",
       "      <th>...</th>\n",
       "      <th>Z-Scored Mastery Speed</th>\n",
       "      <th>Prior Homework Assigned</th>\n",
       "      <th>Prior Homework Count</th>\n",
       "      <th>Prior Homework Completion Count</th>\n",
       "      <th>Prior Homework Percent Completion</th>\n",
       "      <th>Prior Class Homework Percent Completion</th>\n",
       "      <th>Z-Scored HW Mastery Speed</th>\n",
       "      <th>complete</th>\n",
       "      <th>log(count)</th>\n",
       "      <th>problem_count</th>\n",
       "    </tr>\n",
       "  </thead>\n",
       "  <tbody>\n",
       "    <tr>\n",
       "      <th>0</th>\n",
       "      <td>226210</td>\n",
       "      <td>Multiplying Mixed Numbers 5.NF.B.4a EX</td>\n",
       "      <td>172777</td>\n",
       "      <td>E</td>\n",
       "      <td>False</td>\n",
       "      <td>NaN</td>\n",
       "      <td>31189</td>\n",
       "      <td>NaN</td>\n",
       "      <td>\"8\"</td>\n",
       "      <td>42999</td>\n",
       "      <td>...</td>\n",
       "      <td>NaN</td>\n",
       "      <td>NaN</td>\n",
       "      <td>NaN</td>\n",
       "      <td>NaN</td>\n",
       "      <td>NaN</td>\n",
       "      <td>NaN</td>\n",
       "      <td>NaN</td>\n",
       "      <td>1</td>\n",
       "      <td>0.602060</td>\n",
       "      <td>4</td>\n",
       "    </tr>\n",
       "    <tr>\n",
       "      <th>1</th>\n",
       "      <td>226210</td>\n",
       "      <td>Multiplying Mixed Numbers 5.NF.B.4a EX</td>\n",
       "      <td>175658</td>\n",
       "      <td>E</td>\n",
       "      <td>True</td>\n",
       "      <td>NaN</td>\n",
       "      <td>30642</td>\n",
       "      <td>54689.0</td>\n",
       "      <td>\"7\"</td>\n",
       "      <td>68444</td>\n",
       "      <td>...</td>\n",
       "      <td>0.0</td>\n",
       "      <td>NaN</td>\n",
       "      <td>NaN</td>\n",
       "      <td>NaN</td>\n",
       "      <td>NaN</td>\n",
       "      <td>NaN</td>\n",
       "      <td>NaN</td>\n",
       "      <td>0</td>\n",
       "      <td>NaN</td>\n",
       "      <td>22</td>\n",
       "    </tr>\n",
       "    <tr>\n",
       "      <th>2</th>\n",
       "      <td>226210</td>\n",
       "      <td>Multiplying Mixed Numbers 5.NF.B.4a EX</td>\n",
       "      <td>175669</td>\n",
       "      <td>E</td>\n",
       "      <td>True</td>\n",
       "      <td>NaN</td>\n",
       "      <td>29270</td>\n",
       "      <td>51191.0</td>\n",
       "      <td>\"6\"</td>\n",
       "      <td>59965</td>\n",
       "      <td>...</td>\n",
       "      <td>NaN</td>\n",
       "      <td>NaN</td>\n",
       "      <td>NaN</td>\n",
       "      <td>NaN</td>\n",
       "      <td>NaN</td>\n",
       "      <td>NaN</td>\n",
       "      <td>NaN</td>\n",
       "      <td>1</td>\n",
       "      <td>1.041393</td>\n",
       "      <td>11</td>\n",
       "    </tr>\n",
       "    <tr>\n",
       "      <th>3</th>\n",
       "      <td>226210</td>\n",
       "      <td>Multiplying Mixed Numbers 5.NF.B.4a EX</td>\n",
       "      <td>176151</td>\n",
       "      <td>E</td>\n",
       "      <td>True</td>\n",
       "      <td>NaN</td>\n",
       "      <td>29270</td>\n",
       "      <td>51191.0</td>\n",
       "      <td>\"6\"</td>\n",
       "      <td>59965</td>\n",
       "      <td>...</td>\n",
       "      <td>NaN</td>\n",
       "      <td>NaN</td>\n",
       "      <td>NaN</td>\n",
       "      <td>NaN</td>\n",
       "      <td>NaN</td>\n",
       "      <td>NaN</td>\n",
       "      <td>NaN</td>\n",
       "      <td>1</td>\n",
       "      <td>1.000000</td>\n",
       "      <td>10</td>\n",
       "    </tr>\n",
       "    <tr>\n",
       "      <th>4</th>\n",
       "      <td>226210</td>\n",
       "      <td>Multiplying Mixed Numbers 5.NF.B.4a EX</td>\n",
       "      <td>176165</td>\n",
       "      <td>E</td>\n",
       "      <td>True</td>\n",
       "      <td>NaN</td>\n",
       "      <td>29270</td>\n",
       "      <td>51191.0</td>\n",
       "      <td>\"6\"</td>\n",
       "      <td>59965</td>\n",
       "      <td>...</td>\n",
       "      <td>0.0</td>\n",
       "      <td>NaN</td>\n",
       "      <td>NaN</td>\n",
       "      <td>NaN</td>\n",
       "      <td>NaN</td>\n",
       "      <td>NaN</td>\n",
       "      <td>NaN</td>\n",
       "      <td>0</td>\n",
       "      <td>NaN</td>\n",
       "      <td>6</td>\n",
       "    </tr>\n",
       "  </tbody>\n",
       "</table>\n",
       "<p>5 rows × 33 columns</p>\n",
       "</div>"
      ],
      "text/plain": [
       "   problem_set                        problem_set_name  User ID condition  \\\n",
       "0       226210  Multiplying Mixed Numbers 5.NF.B.4a EX   172777         E   \n",
       "1       226210  Multiplying Mixed Numbers 5.NF.B.4a EX   175658         E   \n",
       "2       226210  Multiplying Mixed Numbers 5.NF.B.4a EX   175669         E   \n",
       "3       226210  Multiplying Mixed Numbers 5.NF.B.4a EX   176151         E   \n",
       "4       226210  Multiplying Mixed Numbers 5.NF.B.4a EX   176165         E   \n",
       "\n",
       "   ExperiencedCondition  Saw Video  Class ID  Class Section ID Class Grade  \\\n",
       "0                 False        NaN     31189               NaN         \"8\"   \n",
       "1                  True        NaN     30642           54689.0         \"7\"   \n",
       "2                  True        NaN     29270           51191.0         \"6\"   \n",
       "3                  True        NaN     29270           51191.0         \"6\"   \n",
       "4                  True        NaN     29270           51191.0         \"6\"   \n",
       "\n",
       "   Teacher ID      ...       Z-Scored Mastery Speed Prior Homework Assigned  \\\n",
       "0       42999      ...                          NaN                     NaN   \n",
       "1       68444      ...                          0.0                     NaN   \n",
       "2       59965      ...                          NaN                     NaN   \n",
       "3       59965      ...                          NaN                     NaN   \n",
       "4       59965      ...                          0.0                     NaN   \n",
       "\n",
       "   Prior Homework Count  Prior Homework Completion Count  \\\n",
       "0                   NaN                              NaN   \n",
       "1                   NaN                              NaN   \n",
       "2                   NaN                              NaN   \n",
       "3                   NaN                              NaN   \n",
       "4                   NaN                              NaN   \n",
       "\n",
       "   Prior Homework Percent Completion  Prior Class Homework Percent Completion  \\\n",
       "0                                NaN                                      NaN   \n",
       "1                                NaN                                      NaN   \n",
       "2                                NaN                                      NaN   \n",
       "3                                NaN                                      NaN   \n",
       "4                                NaN                                      NaN   \n",
       "\n",
       "   Z-Scored HW Mastery Speed  complete  log(count)  problem_count  \n",
       "0                        NaN         1    0.602060              4  \n",
       "1                        NaN         0         NaN             22  \n",
       "2                        NaN         1    1.041393             11  \n",
       "3                        NaN         1    1.000000             10  \n",
       "4                        NaN         0         NaN              6  \n",
       "\n",
       "[5 rows x 33 columns]"
      ]
     },
     "execution_count": 2,
     "metadata": {},
     "output_type": "execute_result"
    }
   ],
   "source": [
    "df = pd.read_csv('ThisOne.csv')\n",
    "df.head()"
   ]
  },
  {
   "cell_type": "code",
   "execution_count": 3,
   "metadata": {
    "collapsed": false
   },
   "outputs": [
    {
     "name": "stdout",
     "output_type": "stream",
     "text": [
      "The number of experiments with video: 9\n"
     ]
    }
   ],
   "source": [
    "video_ps = [250476, 256017, 256027, 259379, 263015, 263052, 263109, 263115, 293151]\n",
    "print \"The number of experiments with video: {}\".format(len(video_ps))"
   ]
  },
  {
   "cell_type": "code",
   "execution_count": 4,
   "metadata": {
    "collapsed": false
   },
   "outputs": [
    {
     "name": "stdout",
     "output_type": "stream",
     "text": [
      "The number of rows in this dataset 15121\n"
     ]
    }
   ],
   "source": [
    "print 'The number of rows in this dataset {}'.format(len(df))"
   ]
  },
  {
   "cell_type": "code",
   "execution_count": 5,
   "metadata": {
    "collapsed": false
   },
   "outputs": [
    {
     "name": "stdout",
     "output_type": "stream",
     "text": [
      "Total number of students in this dataset 8297\n"
     ]
    }
   ],
   "source": [
    "student_count = len(df['User ID'].unique())\n",
    "print 'Total number of students in this dataset {}'.format(student_count)"
   ]
  },
  {
   "cell_type": "code",
   "execution_count": 6,
   "metadata": {
    "collapsed": false
   },
   "outputs": [
    {
     "name": "stdout",
     "output_type": "stream",
     "text": [
      "The number of problem sets 22\n"
     ]
    }
   ],
   "source": [
    "ps_list = df['problem_set'].unique().tolist()\n",
    "print \"The number of problem sets {}\".format(len(ps_list))"
   ]
  },
  {
   "cell_type": "code",
   "execution_count": 8,
   "metadata": {
    "collapsed": false
   },
   "outputs": [
    {
     "name": "stdout",
     "output_type": "stream",
     "text": [
      "226210\n",
      "# in control 403 \t # in exp 372\n",
      "CR in control 0.640198511166 \t CR in exp 0.559139784946\n",
      "Ttest_indResult(statistic=2.3074477139128384, pvalue=0.021293212167334933)\n",
      "\n",
      "\n",
      "237447\n",
      "# in control 330 \t # in exp 365\n",
      "CR in control 0.984848484848 \t CR in exp 0.956164383562\n",
      "Ttest_indResult(statistic=2.210535236283758, pvalue=0.027393951521682374)\n",
      "\n",
      "\n",
      "241501\n",
      "# in control 138 \t # in exp 135\n",
      "CR in control 0.891304347826 \t CR in exp 0.866666666667\n",
      "Ttest_indResult(statistic=0.622498904359692, pvalue=0.5341372929316923)\n",
      "\n",
      "\n",
      "241622\n",
      "# in control 338 \t # in exp 289\n",
      "CR in control 0.878698224852 \t CR in exp 0.837370242215\n",
      "Ttest_indResult(statistic=1.4853230656027976, pvalue=0.13796246009390795)\n",
      "\n",
      "\n",
      "243393\n",
      "# in control 943 \t # in exp 921\n",
      "CR in control 0.699893955461 \t CR in exp 0.678610206298\n",
      "Ttest_indResult(statistic=0.9925391413643302, pvalue=0.3210635573224583)\n",
      "\n",
      "\n",
      "246482\n",
      "# in control 224 \t # in exp 233\n",
      "CR in control 0.732142857143 \t CR in exp 0.742489270386\n",
      "Ttest_indResult(statistic=-0.2507390161607181, pvalue=0.8021290796689684)\n",
      "\n",
      "\n",
      "246627\n",
      "# in control 281 \t # in exp 234\n",
      "CR in control 0.725978647687 \t CR in exp 0.692307692308\n",
      "Ttest_indResult(statistic=0.8379894961554609, pvalue=0.4024268564546394)\n",
      "\n",
      "\n",
      "246647\n",
      "# in control 265 \t # in exp 275\n",
      "CR in control 0.845283018868 \t CR in exp 0.843636363636\n",
      "Ttest_indResult(statistic=0.052681988092136936, pvalue=0.958004845595018)\n",
      "\n",
      "\n",
      "250476\n",
      "# in control 62 \t # in exp 74\n",
      "CR in control 0.903225806452 \t CR in exp 0.878378378378\n",
      "Ttest_indResult(statistic=0.45766361851751686, pvalue=0.6479353416344518)\n",
      "\n",
      "\n",
      "255116\n",
      "# in control 264 \t # in exp 281\n",
      "CR in control 0.806818181818 \t CR in exp 0.790035587189\n",
      "Ttest_indResult(statistic=0.4870437926813758, pvalue=0.6264238410992876)\n",
      "\n",
      "\n",
      "256017\n",
      "# in control 102 \t # in exp 103\n",
      "CR in control 0.901960784314 \t CR in exp 0.728155339806\n",
      "Ttest_indResult(statistic=3.2690437543323663, pvalue=0.0012674475190214663)\n",
      "\n",
      "\n",
      "256027\n",
      "# in control 72 \t # in exp 75\n",
      "CR in control 0.833333333333 \t CR in exp 0.826666666667\n",
      "Ttest_indResult(statistic=0.10682103706383717, pvalue=0.9150786093238743)\n",
      "\n",
      "\n",
      "259379\n",
      "# in control 145 \t # in exp 156\n",
      "CR in control 0.386206896552 \t CR in exp 0.5\n",
      "Ttest_indResult(statistic=-1.991352691115465, pvalue=0.04735178036156351)\n",
      "\n",
      "\n",
      "263015\n",
      "# in control 118 \t # in exp 101\n",
      "CR in control 0.813559322034 \t CR in exp 0.762376237624\n",
      "Ttest_indResult(statistic=0.9245058316730175, pvalue=0.35624993190777277)\n",
      "\n",
      "\n",
      "263052\n",
      "# in control 198 \t # in exp 184\n",
      "CR in control 0.641414141414 \t CR in exp 0.619565217391\n",
      "Ttest_indResult(statistic=0.4411196944246145, pvalue=0.6593772160563056)\n",
      "\n",
      "\n",
      "263057\n",
      "# in control 69 \t # in exp 60\n",
      "CR in control 0.913043478261 \t CR in exp 0.966666666667\n",
      "Ttest_indResult(statistic=-1.2574884151955206, pvalue=0.21088426767773233)\n",
      "\n",
      "\n",
      "263109\n",
      "# in control 129 \t # in exp 116\n",
      "CR in control 0.93023255814 \t CR in exp 0.913793103448\n",
      "Ttest_indResult(statistic=0.4786168460517592, pvalue=0.6326415846497055)\n",
      "\n",
      "\n",
      "263115\n",
      "# in control 141 \t # in exp 166\n",
      "CR in control 0.886524822695 \t CR in exp 0.849397590361\n",
      "Ttest_indResult(statistic=0.9512982432417539, pvalue=0.34220623141910766)\n",
      "\n",
      "\n",
      "293151\n",
      "# in control 151 \t # in exp 147\n",
      "CR in control 0.801324503311 \t CR in exp 0.863945578231\n",
      "Ttest_indResult(statistic=-1.4465462991973577, pvalue=0.14908212108376276)\n",
      "\n",
      "\n",
      "303899\n",
      "# in control 459 \t # in exp 469\n",
      "CR in control 0.882352941176 \t CR in exp 0.880597014925\n",
      "Ttest_indResult(statistic=0.08264814994055193, pvalue=0.934149175532228)\n",
      "\n",
      "\n",
      "377658\n",
      "# in control 145 \t # in exp 161\n",
      "CR in control 0.634482758621 \t CR in exp 0.583850931677\n",
      "Ttest_indResult(statistic=0.9040516745150193, pvalue=0.366683848239337)\n",
      "\n",
      "\n",
      "377938\n",
      "# in control 125 \t # in exp 114\n",
      "CR in control 0.704 \t CR in exp 0.728070175439\n",
      "Ttest_indResult(statistic=-0.4103576954560317, pvalue=0.6819143004925792)\n",
      "\n",
      "\n"
     ]
    }
   ],
   "source": [
    "# determine the condition\n",
    "for ps in ps_list:\n",
    "    sub_df = df[df['problem_set'] == ps]\n",
    "    if ps in video_ps:\n",
    "        control = sub_df[(sub_df['Saw Video'] == 1) & \\\n",
    "                           (sub_df['ExperiencedCondition'] == True)&(sub_df['condition']=='C')]\n",
    "        exp = sub_df[(sub_df['Saw Video'] == 1) & \\\n",
    "                           (sub_df['ExperiencedCondition'] == True)&(sub_df['condition']=='E')]\n",
    "    else:\n",
    "        control = sub_df[(sub_df['ExperiencedCondition'] == True) & (sub_df['condition']=='C')]\n",
    "        exp = sub_df[(sub_df['ExperiencedCondition'] == True) & (sub_df['condition']=='E')]\n",
    "    print ps\n",
    "    print '# in control {} \\t # in exp {}'.format(len(control), len(exp))\n",
    "    print 'CR in control {} \\t CR in exp {}'.format(control['complete'].sum()*1.0/len(control), exp['complete'].sum()*1.0/len(exp))\n",
    "    print stats.ttest_ind(control['complete'], exp['complete'])\n",
    "    print '\\n'"
   ]
  },
  {
   "cell_type": "code",
   "execution_count": 14,
   "metadata": {
    "collapsed": false
   },
   "outputs": [
    {
     "data": {
      "text/plain": [
       "303899    1917\n",
       "243393    1864\n",
       "293151    1330\n",
       "226210    1204\n",
       "263115     754\n",
       "263015     704\n",
       "237447     695\n",
       "241622     627\n",
       "255116     545\n",
       "246647     540\n",
       "263052     523\n",
       "246627     515\n",
       "259379     497\n",
       "246482     457\n",
       "377658     429\n",
       "263109     428\n",
       "377938     426\n",
       "256017     412\n",
       "250476     402\n",
       "241501     381\n",
       "256027     335\n",
       "263057     136\n",
       "Name: problem_set, dtype: int64"
      ]
     },
     "execution_count": 14,
     "metadata": {},
     "output_type": "execute_result"
    }
   ],
   "source": [
    "df['problem_set'].value_counts()"
   ]
  },
  {
   "cell_type": "code",
   "execution_count": 6,
   "metadata": {
    "collapsed": false
   },
   "outputs": [
    {
     "data": {
      "text/plain": [
       "Index([u'problem_set', u'problem_set_name', u'User ID', u'condition',\n",
       "       u'ExperiencedCondition', u'Saw Video', u'Class ID', u'Class Section ID',\n",
       "       u'Class Grade', u'Teacher ID', u'Guessed Gender', u'Birthyear',\n",
       "       u'school_id', u'District ID', u'State ID', u'Prior Problem Count',\n",
       "       u'Prior Correct Count', u'Prior Percent Correct',\n",
       "       u'Prior Assignments Assigned', u'Prior Assignment Count',\n",
       "       u'Prior Completion Count', u'Prior Percent Completion',\n",
       "       u'Prior Class Percent Completion', u'Z-Scored Mastery Speed',\n",
       "       u'Prior Homework Assigned', u'Prior Homework Count',\n",
       "       u'Prior Homework Completion Count',\n",
       "       u'Prior Homework Percent Completion',\n",
       "       u'Prior Class Homework Percent Completion',\n",
       "       u'Z-Scored HW Mastery Speed', u'complete', u'log(count)',\n",
       "       u'problem_count'],\n",
       "      dtype='object')"
      ]
     },
     "execution_count": 6,
     "metadata": {},
     "output_type": "execute_result"
    }
   ],
   "source": [
    "df.columns"
   ]
  },
  {
   "cell_type": "code",
   "execution_count": 6,
   "metadata": {
    "collapsed": false
   },
   "outputs": [],
   "source": [
    "cols = ['Prior Correct Count', 'Prior Completion Count', 'Prior Homework Completion Count']\n",
    "cols_zscore = map(lambda x: x+' zscore', cols)\n",
    "for idx, col in enumerate(cols):\n",
    "    df[cols_zscore[idx]] = (df[col] - df[col].mean())/df[col].std(ddof=0)"
   ]
  },
  {
   "cell_type": "code",
   "execution_count": 7,
   "metadata": {
    "collapsed": false
   },
   "outputs": [],
   "source": [
    "features_list = ['Prior Percent Correct', 'Prior Percent Completion', 'Z-Scored Mastery Speed', \n",
    "                 'Prior Homework Percent Completion', 'Z-Scored HW Mastery Speed'] + cols + ['complete']\n",
    "stu_df = df.groupby('User ID')[features_list].first()"
   ]
  },
  {
   "cell_type": "code",
   "execution_count": 23,
   "metadata": {
    "collapsed": true
   },
   "outputs": [],
   "source": [
    "ps_df = df.groupby('problem_set').mean()['complete']"
   ]
  },
  {
   "cell_type": "code",
   "execution_count": 25,
   "metadata": {
    "collapsed": false
   },
   "outputs": [
    {
     "data": {
      "text/plain": [
       "problem_set\n",
       "226210    0.647010\n",
       "237447    0.969784\n",
       "241501    0.871391\n",
       "241622    0.859649\n",
       "243393    0.689378\n",
       "246482    0.737418\n",
       "246627    0.710680\n",
       "246647    0.844444\n",
       "250476    0.898010\n",
       "255116    0.798165\n",
       "256017    0.820388\n",
       "256027    0.904478\n",
       "259379    0.404427\n",
       "263015    0.879261\n",
       "263052    0.623327\n",
       "263057    0.889706\n",
       "263109    0.915888\n",
       "263115    0.828912\n",
       "293151    0.869173\n",
       "303899    0.929056\n",
       "377658    0.708625\n",
       "377938    0.821596\n",
       "Name: complete, dtype: float64"
      ]
     },
     "execution_count": 25,
     "metadata": {},
     "output_type": "execute_result"
    }
   ],
   "source": [
    "ps_df.transpose()"
   ]
  },
  {
   "cell_type": "code",
   "execution_count": null,
   "metadata": {
    "collapsed": false
   },
   "outputs": [],
   "source": []
  },
  {
   "cell_type": "code",
   "execution_count": 16,
   "metadata": {
    "collapsed": false
   },
   "outputs": [
    {
     "data": {
      "text/plain": [
       "1    6468\n",
       "0    1829\n",
       "Name: complete, dtype: int64"
      ]
     },
     "execution_count": 16,
     "metadata": {},
     "output_type": "execute_result"
    }
   ],
   "source": [
    "stu_df['complete'].value_counts()"
   ]
  },
  {
   "cell_type": "code",
   "execution_count": 8,
   "metadata": {
    "collapsed": false
   },
   "outputs": [
    {
     "data": {
      "text/html": [
       "<div>\n",
       "<table border=\"1\" class=\"dataframe\">\n",
       "  <thead>\n",
       "    <tr style=\"text-align: right;\">\n",
       "      <th></th>\n",
       "      <th>Prior Percent Correct</th>\n",
       "      <th>Prior Percent Completion</th>\n",
       "      <th>Z-Scored Mastery Speed</th>\n",
       "      <th>Prior Homework Percent Completion</th>\n",
       "      <th>Z-Scored HW Mastery Speed</th>\n",
       "      <th>Prior Correct Count</th>\n",
       "      <th>Prior Completion Count</th>\n",
       "      <th>Prior Homework Completion Count</th>\n",
       "      <th>complete</th>\n",
       "    </tr>\n",
       "    <tr>\n",
       "      <th>User ID</th>\n",
       "      <th></th>\n",
       "      <th></th>\n",
       "      <th></th>\n",
       "      <th></th>\n",
       "      <th></th>\n",
       "      <th></th>\n",
       "      <th></th>\n",
       "      <th></th>\n",
       "      <th></th>\n",
       "    </tr>\n",
       "  </thead>\n",
       "  <tbody>\n",
       "    <tr>\n",
       "      <th>75064</th>\n",
       "      <td>0.725118</td>\n",
       "      <td>0.920000</td>\n",
       "      <td>0.123971</td>\n",
       "      <td>0.947368</td>\n",
       "      <td>0.114843</td>\n",
       "      <td>306.0</td>\n",
       "      <td>23.0</td>\n",
       "      <td>18.0</td>\n",
       "      <td>1</td>\n",
       "    </tr>\n",
       "    <tr>\n",
       "      <th>76247</th>\n",
       "      <td>0.605735</td>\n",
       "      <td>0.823529</td>\n",
       "      <td>0.258035</td>\n",
       "      <td>0.866667</td>\n",
       "      <td>0.036843</td>\n",
       "      <td>169.0</td>\n",
       "      <td>14.0</td>\n",
       "      <td>13.0</td>\n",
       "      <td>1</td>\n",
       "    </tr>\n",
       "    <tr>\n",
       "      <th>82250</th>\n",
       "      <td>0.715765</td>\n",
       "      <td>1.000000</td>\n",
       "      <td>-0.402450</td>\n",
       "      <td>1.000000</td>\n",
       "      <td>-0.484626</td>\n",
       "      <td>622.0</td>\n",
       "      <td>25.0</td>\n",
       "      <td>19.0</td>\n",
       "      <td>1</td>\n",
       "    </tr>\n",
       "    <tr>\n",
       "      <th>83935</th>\n",
       "      <td>0.689249</td>\n",
       "      <td>1.000000</td>\n",
       "      <td>-0.150268</td>\n",
       "      <td>1.000000</td>\n",
       "      <td>-0.188084</td>\n",
       "      <td>468.0</td>\n",
       "      <td>19.0</td>\n",
       "      <td>11.0</td>\n",
       "      <td>1</td>\n",
       "    </tr>\n",
       "    <tr>\n",
       "      <th>85945</th>\n",
       "      <td>0.689441</td>\n",
       "      <td>1.000000</td>\n",
       "      <td>-0.032390</td>\n",
       "      <td>1.000000</td>\n",
       "      <td>-0.006224</td>\n",
       "      <td>222.0</td>\n",
       "      <td>17.0</td>\n",
       "      <td>11.0</td>\n",
       "      <td>1</td>\n",
       "    </tr>\n",
       "  </tbody>\n",
       "</table>\n",
       "</div>"
      ],
      "text/plain": [
       "         Prior Percent Correct  Prior Percent Completion  \\\n",
       "User ID                                                    \n",
       "75064                 0.725118                  0.920000   \n",
       "76247                 0.605735                  0.823529   \n",
       "82250                 0.715765                  1.000000   \n",
       "83935                 0.689249                  1.000000   \n",
       "85945                 0.689441                  1.000000   \n",
       "\n",
       "         Z-Scored Mastery Speed  Prior Homework Percent Completion  \\\n",
       "User ID                                                              \n",
       "75064                  0.123971                           0.947368   \n",
       "76247                  0.258035                           0.866667   \n",
       "82250                 -0.402450                           1.000000   \n",
       "83935                 -0.150268                           1.000000   \n",
       "85945                 -0.032390                           1.000000   \n",
       "\n",
       "         Z-Scored HW Mastery Speed  Prior Correct Count  \\\n",
       "User ID                                                   \n",
       "75064                     0.114843                306.0   \n",
       "76247                     0.036843                169.0   \n",
       "82250                    -0.484626                622.0   \n",
       "83935                    -0.188084                468.0   \n",
       "85945                    -0.006224                222.0   \n",
       "\n",
       "         Prior Completion Count  Prior Homework Completion Count  complete  \n",
       "User ID                                                                     \n",
       "75064                      23.0                             18.0         1  \n",
       "76247                      14.0                             13.0         1  \n",
       "82250                      25.0                             19.0         1  \n",
       "83935                      19.0                             11.0         1  \n",
       "85945                      17.0                             11.0         1  "
      ]
     },
     "execution_count": 8,
     "metadata": {},
     "output_type": "execute_result"
    }
   ],
   "source": [
    "dropped_stu_df = stu_df.dropna(0)\n",
    "dropped_stu_df.head()"
   ]
  },
  {
   "cell_type": "code",
   "execution_count": 9,
   "metadata": {
    "collapsed": false
   },
   "outputs": [
    {
     "data": {
      "text/plain": [
       "(4323, 9)"
      ]
     },
     "execution_count": 9,
     "metadata": {},
     "output_type": "execute_result"
    }
   ],
   "source": [
    "dropped_stu_df.shape"
   ]
  },
  {
   "cell_type": "code",
   "execution_count": 10,
   "metadata": {
    "collapsed": true
   },
   "outputs": [],
   "source": [
    "features = ['Prior Percent Correct', 'Prior Percent Completion', 'Z-Scored Mastery Speed', \n",
    "                 'Prior Homework Percent Completion', 'Z-Scored HW Mastery Speed'] + cols\n",
    "x = dropped_stu_df[features]\n",
    "y = dropped_stu_df['complete']"
   ]
  },
  {
   "cell_type": "code",
   "execution_count": 15,
   "metadata": {
    "collapsed": false
   },
   "outputs": [
    {
     "data": {
      "text/plain": [
       "1    3647\n",
       "0     676\n",
       "Name: complete, dtype: int64"
      ]
     },
     "execution_count": 15,
     "metadata": {},
     "output_type": "execute_result"
    }
   ],
   "source": [
    "y.value_counts()"
   ]
  },
  {
   "cell_type": "code",
   "execution_count": 11,
   "metadata": {
    "collapsed": true
   },
   "outputs": [],
   "source": [
    "# That's an impressive list of imports.\n",
    "import numpy as np\n",
    "from numpy import linalg\n",
    "from numpy.linalg import norm\n",
    "from scipy.spatial.distance import squareform, pdist\n",
    "\n",
    "# We import sklearn.\n",
    "import sklearn\n",
    "from sklearn.manifold import TSNE\n",
    "from sklearn.datasets import load_digits\n",
    "from sklearn.preprocessing import scale\n",
    "\n",
    "# We'll hack a bit with the t-SNE code in sklearn 0.15.2.\n",
    "from sklearn.metrics.pairwise import pairwise_distances\n",
    "from sklearn.manifold.t_sne import (_joint_probabilities,\n",
    "                                    _kl_divergence)\n",
    "from sklearn.utils.extmath import _ravel\n",
    "# Random state.\n",
    "RS = 20150101\n",
    "\n",
    "# We'll use matplotlib for graphics.\n",
    "import matplotlib.pyplot as plt\n",
    "import matplotlib.patheffects as PathEffects\n",
    "import matplotlib\n",
    "%matplotlib inline\n",
    "\n",
    "# We import seaborn to make nice plots.\n",
    "import seaborn as sns\n",
    "sns.set_style('darkgrid')\n",
    "sns.set_palette('muted')\n",
    "sns.set_context(\"notebook\", font_scale=1.5,\n",
    "                rc={\"lines.linewidth\": 2.5})\n",
    "\n",
    "# We'll generate an animation with matplotlib and moviepy.\n",
    "from moviepy.video.io.bindings import mplfig_to_npimage\n",
    "import moviepy.editor as mpy"
   ]
  },
  {
   "cell_type": "code",
   "execution_count": 12,
   "metadata": {
    "collapsed": false
   },
   "outputs": [],
   "source": [
    "stu_proj = TSNE(random_state=RS).fit_transform(x)"
   ]
  },
  {
   "cell_type": "code",
   "execution_count": 13,
   "metadata": {
    "collapsed": true
   },
   "outputs": [],
   "source": [
    "def scatter(x, colors):\n",
    "    # We choose a color palette with seaborn.\n",
    "    palette = np.array(sns.color_palette(\"hls\", 10))\n",
    "    # We create a scatter plot.\n",
    "    f = plt.figure(figsize=(8, 8))\n",
    "    ax = plt.subplot(aspect='equal')\n",
    "    sc = ax.scatter(x[:,0], x[:,1], lw=0, s=40,\n",
    "                   c=palette[colors.astype(np.int)])\n",
    "    plt.xlim(-25, 25)\n",
    "    plt.ylim(-25, 25)\n",
    "    ax.axis('off')\n",
    "    ax.axis('tight')\n",
    "\n",
    "    return f, ax, sc"
   ]
  },
  {
   "cell_type": "code",
   "execution_count": 14,
   "metadata": {
    "collapsed": false
   },
   "outputs": [
    {
     "data": {
      "image/png": "[encoded data removed]",
      "text/plain": [
       "<matplotlib.figure.Figure at 0x7f7e41bf5b90>"
      ]
     },
     "metadata": {},
     "output_type": "display_data"
    }
   ],
   "source": [
    "scatter(stu_proj, y)\n",
    "plt.savefig('students_tsne-generated.png', dpi=120)"
   ]
  }
 ],
 "metadata": {
  "kernelspec": {
   "display_name": "Python 2",
   "language": "python",
   "name": "python2"
  },
  "language_info": {
   "codemirror_mode": {
    "name": "ipython",
    "version": 2
   },
   "file_extension": ".py",
   "mimetype": "text/x-python",
   "name": "python",
   "nbconvert_exporter": "python",
   "pygments_lexer": "ipython2",
   "version": "2.7.12"
  }
 },
 "nbformat": 4,
 "nbformat_minor": 1
}
