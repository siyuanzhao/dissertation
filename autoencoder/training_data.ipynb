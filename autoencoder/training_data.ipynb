{
 "cells": [
  {
   "cell_type": "code",
   "execution_count": 1,
   "metadata": {
    "collapsed": true
   },
   "outputs": [],
   "source": [
    "import numpy as np\n",
    "import pandas as pd"
   ]
  },
  {
   "cell_type": "code",
   "execution_count": 2,
   "metadata": {
    "collapsed": false
   },
   "outputs": [
    {
     "name": "stderr",
     "output_type": "stream",
     "text": [
      "/usr/local/lib/python2.7/site-packages/IPython/core/interactiveshell.py:2717: DtypeWarning: Columns (21,23,25) have mixed types. Specify dtype option on import or set low_memory=False.\n",
      "  interactivity=interactivity, compiler=compiler, result=result)\n"
     ]
    }
   ],
   "source": [
    "pl_df = pd.read_csv('this_one_problem_logs_seq.csv')"
   ]
  },
  {
   "cell_type": "code",
   "execution_count": 37,
   "metadata": {
    "collapsed": false
   },
   "outputs": [],
   "source": [
    "# read 9 experiments\n",
    "problem_set = 303899\n",
    "ps_df = pd.read_csv('../22-Experiments/'+str(problem_set)+'_exp.csv', header=None)"
   ]
  },
  {
   "cell_type": "code",
   "execution_count": 38,
   "metadata": {
    "collapsed": false
   },
   "outputs": [
    {
     "name": "stdout",
     "output_type": "stream",
     "text": [
      "928\n",
      "469\n",
      "459\n"
     ]
    }
   ],
   "source": [
    "print len(ps_df[1].unique())\n",
    "print len(ps_df[ps_df[2]==1])\n",
    "print len(ps_df[ps_df[2]==0])"
   ]
  },
  {
   "cell_type": "code",
   "execution_count": 39,
   "metadata": {
    "collapsed": true
   },
   "outputs": [],
   "source": [
    "train_df = pl_df[pl_df['user_id'].isin(ps_df[1].unique().tolist())].reset_index()"
   ]
  },
  {
   "cell_type": "code",
   "execution_count": 40,
   "metadata": {
    "collapsed": false
   },
   "outputs": [
    {
     "name": "stdout",
     "output_type": "stream",
     "text": [
      "928\n"
     ]
    }
   ],
   "source": [
    "print(len(train_df['user_id'].unique()))"
   ]
  },
  {
   "cell_type": "code",
   "execution_count": 41,
   "metadata": {
    "collapsed": false
   },
   "outputs": [],
   "source": [
    "# read ps_list\n",
    "ps_list = []\n",
    "with open('ps_list') as file:\n",
    "    for line in file:\n",
    "        line = line.strip()\n",
    "        ps_list.append(int(line))"
   ]
  },
  {
   "cell_type": "code",
   "execution_count": 42,
   "metadata": {
    "collapsed": false
   },
   "outputs": [],
   "source": [
    "encode_list = []\n",
    "for index, row in train_df.iterrows():\n",
    "    encode = np.zeros(len(ps_list)+1)\n",
    "    try:\n",
    "        idx = ps_list.index(row['sequence_id'])\n",
    "        encode[idx] = 1\n",
    "    except ValueError:\n",
    "        encode[len(ps_list)] = 1\n",
    "\n",
    "    encode_list.append(encode)\n",
    "encode_array = np.stack(encode_list, axis=0)"
   ]
  },
  {
   "cell_type": "code",
   "execution_count": 43,
   "metadata": {
    "collapsed": false
   },
   "outputs": [
    {
     "data": {
      "text/plain": [
       "False"
      ]
     },
     "execution_count": 43,
     "metadata": {},
     "output_type": "execute_result"
    }
   ],
   "source": [
    "final_df = pd.DataFrame(encode_array, columns=ps_list+['-'])\n",
    "# u'correct , u'bottom_hint, u'hint_count, u'attempt_count, u'first_response_time\n",
    "final_df['correct'] = train_df['correct']\n",
    "final_df['bottom_hint'] = train_df['bottom_hint']\n",
    "final_df['hint_count'] = train_df['hint_count']\n",
    "final_df['attempt_count'] = train_df['attempt_count']\n",
    "final_df['first_response_time'] = train_df['first_response_time']\n",
    "\n",
    "norm = lambda x: (x - x.min()) / (x.max() - x.min())\n",
    "final_df.insert(len(final_df.columns), 'NofFRT', train_df.groupby('sequence_id')['first_response_time'].transform(norm))\n",
    "del final_df['first_response_time']\n",
    "\n",
    "final_df['user_id'] = train_df['user_id']\n",
    "final_df['id'] = train_df['id']\n",
    "final_df['NofFRT'].fillna(0.5, inplace=True)\n",
    "final_df.isnull().values.any()"
   ]
  },
  {
   "cell_type": "code",
   "execution_count": 44,
   "metadata": {
    "collapsed": false
   },
   "outputs": [],
   "source": [
    "final_df.to_csv(str(problem_set)+'_train_data.csv', index=False)"
   ]
  }
 ],
 "metadata": {
  "kernelspec": {
   "display_name": "Python 2",
   "language": "python",
   "name": "python2"
  },
  "language_info": {
   "codemirror_mode": {
    "name": "ipython",
    "version": 2
   },
   "file_extension": ".py",
   "mimetype": "text/x-python",
   "name": "python",
   "nbconvert_exporter": "python",
   "pygments_lexer": "ipython2",
   "version": "2.7.12"
  }
 },
 "nbformat": 4,
 "nbformat_minor": 2
}
