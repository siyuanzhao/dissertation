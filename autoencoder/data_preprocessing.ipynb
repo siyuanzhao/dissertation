{
 "cells": [
  {
   "cell_type": "code",
   "execution_count": 1,
   "metadata": {
    "collapsed": true
   },
   "outputs": [],
   "source": [
    "import pandas as pd\n",
    "\n",
    "import random\n",
    "import numpy as np"
   ]
  },
  {
   "cell_type": "code",
   "execution_count": 2,
   "metadata": {
    "collapsed": false
   },
   "outputs": [
    {
     "name": "stderr",
     "output_type": "stream",
     "text": [
      "/usr/local/lib/python2.7/site-packages/IPython/core/interactiveshell.py:2717: DtypeWarning: Columns (21) have mixed types. Specify dtype option on import or set low_memory=False.\n",
      "  interactivity=interactivity, compiler=compiler, result=result)\n"
     ]
    }
   ],
   "source": [
    "pl_df = pd.read_csv('2016_problem_logs_seq.csv')"
   ]
  },
  {
   "cell_type": "code",
   "execution_count": 3,
   "metadata": {
    "collapsed": false
   },
   "outputs": [
    {
     "data": {
      "text/plain": [
       "10937556"
      ]
     },
     "execution_count": 3,
     "metadata": {},
     "output_type": "execute_result"
    }
   ],
   "source": [
    "len(pl_df)"
   ]
  },
  {
   "cell_type": "code",
   "execution_count": 4,
   "metadata": {
    "collapsed": false
   },
   "outputs": [
    {
     "data": {
      "text/plain": [
       "111534"
      ]
     },
     "execution_count": 4,
     "metadata": {},
     "output_type": "execute_result"
    }
   ],
   "source": [
    "len(pl_df['sequence_id'].unique())"
   ]
  },
  {
   "cell_type": "code",
   "execution_count": 5,
   "metadata": {
    "collapsed": false
   },
   "outputs": [],
   "source": [
    "sublist = random.sample(pl_df['user_id'].unique(), 10000)"
   ]
  },
  {
   "cell_type": "code",
   "execution_count": 6,
   "metadata": {
    "collapsed": false
   },
   "outputs": [
    {
     "data": {
      "text/plain": [
       "10000"
      ]
     },
     "execution_count": 6,
     "metadata": {},
     "output_type": "execute_result"
    }
   ],
   "source": [
    "len(sublist)"
   ]
  },
  {
   "cell_type": "code",
   "execution_count": 7,
   "metadata": {
    "collapsed": false
   },
   "outputs": [],
   "source": [
    "sub_df = pd.DataFrame(pl_df[(pl_df['user_id'].isin(sublist))])"
   ]
  },
  {
   "cell_type": "code",
   "execution_count": 8,
   "metadata": {
    "collapsed": false
   },
   "outputs": [
    {
     "data": {
      "text/plain": [
       "2117241"
      ]
     },
     "execution_count": 8,
     "metadata": {},
     "output_type": "execute_result"
    }
   ],
   "source": [
    "len(sub_df)"
   ]
  },
  {
   "cell_type": "code",
   "execution_count": 9,
   "metadata": {
    "collapsed": false
   },
   "outputs": [
    {
     "data": {
      "text/plain": [
       "32384"
      ]
     },
     "execution_count": 9,
     "metadata": {},
     "output_type": "execute_result"
    }
   ],
   "source": [
    "len(sub_df['sequence_id'].unique())"
   ]
  },
  {
   "cell_type": "code",
   "execution_count": 17,
   "metadata": {
    "collapsed": false
   },
   "outputs": [
    {
     "data": {
      "text/plain": [
       "694"
      ]
     },
     "execution_count": 17,
     "metadata": {},
     "output_type": "execute_result"
    }
   ],
   "source": [
    "sub_counts = pd.value_counts(sub_df['sequence_id'])\n",
    "\n",
    "len(sub_counts[sub_counts > 500])"
   ]
  },
  {
   "cell_type": "code",
   "execution_count": 19,
   "metadata": {
    "collapsed": false
   },
   "outputs": [
    {
     "data": {
      "text/plain": [
       "964"
      ]
     },
     "execution_count": 19,
     "metadata": {},
     "output_type": "execute_result"
    }
   ],
   "source": [
    "len(sub_counts[sub_counts > 400])"
   ]
  },
  {
   "cell_type": "code",
   "execution_count": 20,
   "metadata": {
    "collapsed": false
   },
   "outputs": [
    {
     "name": "stderr",
     "output_type": "stream",
     "text": [
      "/usr/local/lib/python2.7/site-packages/ipykernel/__main__.py:2: SettingWithCopyWarning: \n",
      "A value is trying to be set on a copy of a slice from a DataFrame\n",
      "\n",
      "See the caveats in the documentation: http://pandas.pydata.org/pandas-docs/stable/indexing.html#indexing-view-versus-copy\n",
      "  from ipykernel import kernelapp as app\n"
     ]
    }
   ],
   "source": [
    "mask = sub_df['sequence_id'].isin(sub_counts[sub_counts > 400].index)\n",
    "sub_df['sequence_id'][~mask] = \"-\""
   ]
  },
  {
   "cell_type": "code",
   "execution_count": 21,
   "metadata": {
    "collapsed": true
   },
   "outputs": [],
   "source": [
    "new_df = pd.DataFrame()\n",
    "new_df = pd.get_dummies(sub_df['sequence_id'])\n",
    "# u'correct , u'bottom_hint, u'hint_count, u'attempt_count, u'first_response_time\n",
    "new_df['correct'] = sub_df['correct']\n",
    "new_df['bottom_hint'] = sub_df['bottom_hint']\n",
    "new_df['hint_count'] = sub_df['hint_count']\n",
    "new_df['attempt_count'] = sub_df['attempt_count']\n",
    "new_df['first_response_time'] = sub_df['first_response_time']\n",
    "\n",
    "norm = lambda x: (x - x.min()) / (x.max() - x.min())\n",
    "new_df.insert(len(new_df.columns), 'NofFRT', sub_df.groupby('sequence_id')['first_response_time'].transform(norm))\n",
    "del new_df['first_response_time']\n",
    "\n",
    "new_df['user_id'] = sub_df['user_id']\n",
    "new_df['id'] = sub_df['id']"
   ]
  },
  {
   "cell_type": "code",
   "execution_count": 13,
   "metadata": {
    "collapsed": false
   },
   "outputs": [
    {
     "data": {
      "text/plain": [
       "False"
      ]
     },
     "execution_count": 13,
     "metadata": {},
     "output_type": "execute_result"
    }
   ],
   "source": [
    "new_df.isnull().values.any()"
   ]
  },
  {
   "cell_type": "code",
   "execution_count": 14,
   "metadata": {
    "collapsed": false
   },
   "outputs": [
    {
     "data": {
      "text/html": [
       "<div>\n",
       "<table border=\"1\" class=\"dataframe\">\n",
       "  <thead>\n",
       "    <tr style=\"text-align: right;\">\n",
       "      <th></th>\n",
       "      <th>2246</th>\n",
       "      <th>2285</th>\n",
       "      <th>2427</th>\n",
       "      <th>2629</th>\n",
       "      <th>2635</th>\n",
       "      <th>2646</th>\n",
       "      <th>2650</th>\n",
       "      <th>2654</th>\n",
       "      <th>4460</th>\n",
       "      <th>5110</th>\n",
       "      <th>...</th>\n",
       "      <th>694733</th>\n",
       "      <th>694834</th>\n",
       "      <th>-</th>\n",
       "      <th>correct</th>\n",
       "      <th>bottom_hint</th>\n",
       "      <th>hint_count</th>\n",
       "      <th>attempt_count</th>\n",
       "      <th>NofFRT</th>\n",
       "      <th>user_id</th>\n",
       "      <th>id</th>\n",
       "    </tr>\n",
       "  </thead>\n",
       "  <tbody>\n",
       "    <tr>\n",
       "      <th>10937548</th>\n",
       "      <td>0</td>\n",
       "      <td>0</td>\n",
       "      <td>0</td>\n",
       "      <td>0</td>\n",
       "      <td>0</td>\n",
       "      <td>0</td>\n",
       "      <td>0</td>\n",
       "      <td>0</td>\n",
       "      <td>0</td>\n",
       "      <td>0</td>\n",
       "      <td>...</td>\n",
       "      <td>0</td>\n",
       "      <td>0</td>\n",
       "      <td>0</td>\n",
       "      <td>0.0</td>\n",
       "      <td>0</td>\n",
       "      <td>0</td>\n",
       "      <td>1</td>\n",
       "      <td>0.175123</td>\n",
       "      <td>389248</td>\n",
       "      <td>183605745</td>\n",
       "    </tr>\n",
       "    <tr>\n",
       "      <th>10937549</th>\n",
       "      <td>0</td>\n",
       "      <td>0</td>\n",
       "      <td>0</td>\n",
       "      <td>0</td>\n",
       "      <td>0</td>\n",
       "      <td>0</td>\n",
       "      <td>0</td>\n",
       "      <td>0</td>\n",
       "      <td>0</td>\n",
       "      <td>0</td>\n",
       "      <td>...</td>\n",
       "      <td>0</td>\n",
       "      <td>0</td>\n",
       "      <td>0</td>\n",
       "      <td>0.0</td>\n",
       "      <td>0</td>\n",
       "      <td>0</td>\n",
       "      <td>1</td>\n",
       "      <td>0.088535</td>\n",
       "      <td>389248</td>\n",
       "      <td>183606062</td>\n",
       "    </tr>\n",
       "    <tr>\n",
       "      <th>10937550</th>\n",
       "      <td>0</td>\n",
       "      <td>0</td>\n",
       "      <td>0</td>\n",
       "      <td>0</td>\n",
       "      <td>0</td>\n",
       "      <td>0</td>\n",
       "      <td>0</td>\n",
       "      <td>0</td>\n",
       "      <td>0</td>\n",
       "      <td>0</td>\n",
       "      <td>...</td>\n",
       "      <td>0</td>\n",
       "      <td>0</td>\n",
       "      <td>0</td>\n",
       "      <td>0.0</td>\n",
       "      <td>0</td>\n",
       "      <td>0</td>\n",
       "      <td>1</td>\n",
       "      <td>0.351222</td>\n",
       "      <td>389248</td>\n",
       "      <td>183606092</td>\n",
       "    </tr>\n",
       "    <tr>\n",
       "      <th>10937551</th>\n",
       "      <td>0</td>\n",
       "      <td>0</td>\n",
       "      <td>0</td>\n",
       "      <td>0</td>\n",
       "      <td>0</td>\n",
       "      <td>0</td>\n",
       "      <td>0</td>\n",
       "      <td>0</td>\n",
       "      <td>0</td>\n",
       "      <td>0</td>\n",
       "      <td>...</td>\n",
       "      <td>0</td>\n",
       "      <td>0</td>\n",
       "      <td>0</td>\n",
       "      <td>0.0</td>\n",
       "      <td>0</td>\n",
       "      <td>0</td>\n",
       "      <td>1</td>\n",
       "      <td>0.125295</td>\n",
       "      <td>389248</td>\n",
       "      <td>183606223</td>\n",
       "    </tr>\n",
       "    <tr>\n",
       "      <th>10937552</th>\n",
       "      <td>0</td>\n",
       "      <td>0</td>\n",
       "      <td>0</td>\n",
       "      <td>0</td>\n",
       "      <td>0</td>\n",
       "      <td>0</td>\n",
       "      <td>0</td>\n",
       "      <td>0</td>\n",
       "      <td>0</td>\n",
       "      <td>0</td>\n",
       "      <td>...</td>\n",
       "      <td>0</td>\n",
       "      <td>0</td>\n",
       "      <td>0</td>\n",
       "      <td>0.0</td>\n",
       "      <td>0</td>\n",
       "      <td>0</td>\n",
       "      <td>1</td>\n",
       "      <td>0.558448</td>\n",
       "      <td>389248</td>\n",
       "      <td>183606280</td>\n",
       "    </tr>\n",
       "  </tbody>\n",
       "</table>\n",
       "<p>5 rows × 2463 columns</p>\n",
       "</div>"
      ],
      "text/plain": [
       "          2246  2285  2427  2629  2635  2646  2650  2654  4460  5110  \\\n",
       "10937548     0     0     0     0     0     0     0     0     0     0   \n",
       "10937549     0     0     0     0     0     0     0     0     0     0   \n",
       "10937550     0     0     0     0     0     0     0     0     0     0   \n",
       "10937551     0     0     0     0     0     0     0     0     0     0   \n",
       "10937552     0     0     0     0     0     0     0     0     0     0   \n",
       "\n",
       "            ...      694733  694834  -  correct  bottom_hint  hint_count  \\\n",
       "10937548    ...           0       0  0      0.0            0           0   \n",
       "10937549    ...           0       0  0      0.0            0           0   \n",
       "10937550    ...           0       0  0      0.0            0           0   \n",
       "10937551    ...           0       0  0      0.0            0           0   \n",
       "10937552    ...           0       0  0      0.0            0           0   \n",
       "\n",
       "          attempt_count    NofFRT  user_id         id  \n",
       "10937548              1  0.175123   389248  183605745  \n",
       "10937549              1  0.088535   389248  183606062  \n",
       "10937550              1  0.351222   389248  183606092  \n",
       "10937551              1  0.125295   389248  183606223  \n",
       "10937552              1  0.558448   389248  183606280  \n",
       "\n",
       "[5 rows x 2463 columns]"
      ]
     },
     "execution_count": 14,
     "metadata": {},
     "output_type": "execute_result"
    }
   ],
   "source": [
    "new_df.tail()"
   ]
  },
  {
   "cell_type": "code",
   "execution_count": 24,
   "metadata": {
    "collapsed": false
   },
   "outputs": [],
   "source": [
    "with open('ps_list', 'w') as file:\n",
    "    for ite in new_df.columns[:963].tolist():\n",
    "        file.write(str(ite) + \"\\n\")"
   ]
  },
  {
   "cell_type": "code",
   "execution_count": 23,
   "metadata": {
    "collapsed": true
   },
   "outputs": [],
   "source": [
    "new_df.to_csv('pl_train_data.csv', index=False)"
   ]
  },
  {
   "cell_type": "code",
   "execution_count": null,
   "metadata": {
    "collapsed": false
   },
   "outputs": [],
   "source": [
    "len(pl_df.groupby('user_id').filter(lambda x: len(x) > 100))"
   ]
  },
  {
   "cell_type": "code",
   "execution_count": null,
   "metadata": {
    "collapsed": true
   },
   "outputs": [],
   "source": [
    "\n",
    "mask = pl_df['sequence_id'].isin(counts[counts > 500].index)\n",
    "pl_df['sequence_id'][~mask] = \"-\"\n",
    "\n",
    "new_df = pd.DataFrame()\n",
    "new_df = pd.get_dummies(pl_df['sequence_id'])\n",
    "# u'correct , u'bottom_hint, u'hint_count, u'attempt_count, u'first_response_time\n",
    "new_df['correct'] = pl_df['correct']\n",
    "new_df['bottom_hint'] = pl_df['bottom_hint']\n",
    "new_df['hint_count'] = pl_df['hint_count']\n",
    "new_df['attempt_count'] = pl_df['attempt_count']\n",
    "new_df['first_response_time'] = pl_df['first_response_time']\n",
    "new_df['user_id'] = pl_df['user_id']\n",
    "new_df['id'] = pl_df['id']\n",
    "\n",
    "new_df['bottom_hint'].fillna(0, inplace=True)\n",
    "norm = lambda x: (x - x.min()) / (x.max() - x.min())\n",
    "new_df.insert(len(new_df.columns), 'NofFRT', pl_df.groupby('sequence_id')['first_response_time'].transform(norm))\n",
    "del new_df['first_response_time']\n",
    "\n",
    "new_df['correct'].fillna(0, inplace=True)\n",
    "new_df['NofFRT'].fillna(1, inplace=True)\n",
    "new_df['hint_count'].fillna(1, inplace=True)\n",
    "new_df.to_csv('../LSTM-autoencoder/train_data.csv', index=False)"
   ]
  },
  {
   "cell_type": "code",
   "execution_count": 23,
   "metadata": {
    "collapsed": true
   },
   "outputs": [],
   "source": [
    "# convert training data\n",
    "train_df = pd.read_csv('22_problem_logs_seq.csv')"
   ]
  },
  {
   "cell_type": "code",
   "execution_count": 24,
   "metadata": {
    "collapsed": false
   },
   "outputs": [
    {
     "data": {
      "text/html": [
       "<div>\n",
       "<table border=\"1\" class=\"dataframe\">\n",
       "  <thead>\n",
       "    <tr style=\"text-align: right;\">\n",
       "      <th></th>\n",
       "      <th>id</th>\n",
       "      <th>assignment_id</th>\n",
       "      <th>user_id</th>\n",
       "      <th>assistment_id</th>\n",
       "      <th>problem_id</th>\n",
       "      <th>original</th>\n",
       "      <th>correct</th>\n",
       "      <th>answer_id</th>\n",
       "      <th>answer_text</th>\n",
       "      <th>first_action</th>\n",
       "      <th>...</th>\n",
       "      <th>actions</th>\n",
       "      <th>tutor_strategy_id</th>\n",
       "      <th>tutor_mode</th>\n",
       "      <th>assignment_type</th>\n",
       "      <th>teacher_comment</th>\n",
       "      <th>network_state</th>\n",
       "      <th>path_info</th>\n",
       "      <th>discrete_score</th>\n",
       "      <th>updated_at</th>\n",
       "      <th>sequence_id</th>\n",
       "    </tr>\n",
       "  </thead>\n",
       "  <tbody>\n",
       "    <tr>\n",
       "      <th>0</th>\n",
       "      <td>83251979</td>\n",
       "      <td>390779</td>\n",
       "      <td>131019</td>\n",
       "      <td>97389</td>\n",
       "      <td>186155</td>\n",
       "      <td>1</td>\n",
       "      <td>1.0</td>\n",
       "      <td>NaN</td>\n",
       "      <td>64</td>\n",
       "      <td>0.0</td>\n",
       "      <td>...</td>\n",
       "      <td>--- \\n- - start\\n  - 1317738211496\\n- - answer...</td>\n",
       "      <td>136294.0</td>\n",
       "      <td>tutor</td>\n",
       "      <td>ClassAssignment</td>\n",
       "      <td>NaN</td>\n",
       "      <td>NaN</td>\n",
       "      <td>NaN</td>\n",
       "      <td>NaN</td>\n",
       "      <td>NaN</td>\n",
       "      <td>11833</td>\n",
       "    </tr>\n",
       "    <tr>\n",
       "      <th>1</th>\n",
       "      <td>83252617</td>\n",
       "      <td>390779</td>\n",
       "      <td>131019</td>\n",
       "      <td>97411</td>\n",
       "      <td>186221</td>\n",
       "      <td>1</td>\n",
       "      <td>1.0</td>\n",
       "      <td>NaN</td>\n",
       "      <td>65</td>\n",
       "      <td>0.0</td>\n",
       "      <td>...</td>\n",
       "      <td>--- \\n- - start\\n  - 1317738254825\\n- - answer...</td>\n",
       "      <td>136338.0</td>\n",
       "      <td>tutor</td>\n",
       "      <td>ClassAssignment</td>\n",
       "      <td>NaN</td>\n",
       "      <td>NaN</td>\n",
       "      <td>NaN</td>\n",
       "      <td>NaN</td>\n",
       "      <td>NaN</td>\n",
       "      <td>11833</td>\n",
       "    </tr>\n",
       "    <tr>\n",
       "      <th>2</th>\n",
       "      <td>83253196</td>\n",
       "      <td>390779</td>\n",
       "      <td>131019</td>\n",
       "      <td>97495</td>\n",
       "      <td>186473</td>\n",
       "      <td>1</td>\n",
       "      <td>1.0</td>\n",
       "      <td>NaN</td>\n",
       "      <td>452</td>\n",
       "      <td>0.0</td>\n",
       "      <td>...</td>\n",
       "      <td>--- \\n- - start\\n  - 1317738290513\\n- - answer...</td>\n",
       "      <td>136506.0</td>\n",
       "      <td>tutor</td>\n",
       "      <td>ClassAssignment</td>\n",
       "      <td>NaN</td>\n",
       "      <td>NaN</td>\n",
       "      <td>NaN</td>\n",
       "      <td>NaN</td>\n",
       "      <td>NaN</td>\n",
       "      <td>11833</td>\n",
       "    </tr>\n",
       "    <tr>\n",
       "      <th>3</th>\n",
       "      <td>83253881</td>\n",
       "      <td>390782</td>\n",
       "      <td>131019</td>\n",
       "      <td>32139</td>\n",
       "      <td>49282</td>\n",
       "      <td>1</td>\n",
       "      <td>0.0</td>\n",
       "      <td>NaN</td>\n",
       "      <td>145</td>\n",
       "      <td>0.0</td>\n",
       "      <td>...</td>\n",
       "      <td>--- \\n- - start\\n  - 1317738340042\\n- - answer...</td>\n",
       "      <td>23057.0</td>\n",
       "      <td>tutor</td>\n",
       "      <td>ClassAssignment</td>\n",
       "      <td>NaN</td>\n",
       "      <td>NaN</td>\n",
       "      <td>NaN</td>\n",
       "      <td>NaN</td>\n",
       "      <td>NaN</td>\n",
       "      <td>5924</td>\n",
       "    </tr>\n",
       "    <tr>\n",
       "      <th>4</th>\n",
       "      <td>83255489</td>\n",
       "      <td>390782</td>\n",
       "      <td>131019</td>\n",
       "      <td>32120</td>\n",
       "      <td>49263</td>\n",
       "      <td>1</td>\n",
       "      <td>1.0</td>\n",
       "      <td>NaN</td>\n",
       "      <td>199</td>\n",
       "      <td>0.0</td>\n",
       "      <td>...</td>\n",
       "      <td>--- \\n- - start\\n  - 1317738468101\\n- - answer...</td>\n",
       "      <td>23038.0</td>\n",
       "      <td>tutor</td>\n",
       "      <td>ClassAssignment</td>\n",
       "      <td>NaN</td>\n",
       "      <td>NaN</td>\n",
       "      <td>NaN</td>\n",
       "      <td>NaN</td>\n",
       "      <td>NaN</td>\n",
       "      <td>5924</td>\n",
       "    </tr>\n",
       "  </tbody>\n",
       "</table>\n",
       "<p>5 rows × 27 columns</p>\n",
       "</div>"
      ],
      "text/plain": [
       "         id  assignment_id  user_id  assistment_id  problem_id  original  \\\n",
       "0  83251979         390779   131019          97389      186155         1   \n",
       "1  83252617         390779   131019          97411      186221         1   \n",
       "2  83253196         390779   131019          97495      186473         1   \n",
       "3  83253881         390782   131019          32139       49282         1   \n",
       "4  83255489         390782   131019          32120       49263         1   \n",
       "\n",
       "   correct  answer_id answer_text  first_action     ...      \\\n",
       "0      1.0        NaN          64           0.0     ...       \n",
       "1      1.0        NaN          65           0.0     ...       \n",
       "2      1.0        NaN         452           0.0     ...       \n",
       "3      0.0        NaN         145           0.0     ...       \n",
       "4      1.0        NaN         199           0.0     ...       \n",
       "\n",
       "                                             actions  tutor_strategy_id  \\\n",
       "0  --- \\n- - start\\n  - 1317738211496\\n- - answer...           136294.0   \n",
       "1  --- \\n- - start\\n  - 1317738254825\\n- - answer...           136338.0   \n",
       "2  --- \\n- - start\\n  - 1317738290513\\n- - answer...           136506.0   \n",
       "3  --- \\n- - start\\n  - 1317738340042\\n- - answer...            23057.0   \n",
       "4  --- \\n- - start\\n  - 1317738468101\\n- - answer...            23038.0   \n",
       "\n",
       "   tutor_mode  assignment_type teacher_comment  network_state  path_info  \\\n",
       "0       tutor  ClassAssignment             NaN            NaN        NaN   \n",
       "1       tutor  ClassAssignment             NaN            NaN        NaN   \n",
       "2       tutor  ClassAssignment             NaN            NaN        NaN   \n",
       "3       tutor  ClassAssignment             NaN            NaN        NaN   \n",
       "4       tutor  ClassAssignment             NaN            NaN        NaN   \n",
       "\n",
       "  discrete_score  updated_at sequence_id  \n",
       "0            NaN         NaN       11833  \n",
       "1            NaN         NaN       11833  \n",
       "2            NaN         NaN       11833  \n",
       "3            NaN         NaN        5924  \n",
       "4            NaN         NaN        5924  \n",
       "\n",
       "[5 rows x 27 columns]"
      ]
     },
     "execution_count": 24,
     "metadata": {},
     "output_type": "execute_result"
    }
   ],
   "source": [
    "train_df.head()"
   ]
  },
  {
   "cell_type": "code",
   "execution_count": 25,
   "metadata": {
    "collapsed": true
   },
   "outputs": [],
   "source": [
    "# read ps_list\n",
    "ps_list = []\n",
    "with open('ps_list') as file:\n",
    "    for line in file:\n",
    "        ps_list.append(int(line))"
   ]
  },
  {
   "cell_type": "code",
   "execution_count": 41,
   "metadata": {
    "collapsed": false
   },
   "outputs": [
    {
     "data": {
      "text/plain": [
       "1032"
      ]
     },
     "execution_count": 41,
     "metadata": {},
     "output_type": "execute_result"
    }
   ],
   "source": [
    "len(ps_list)"
   ]
  },
  {
   "cell_type": "code",
   "execution_count": 42,
   "metadata": {
    "collapsed": false
   },
   "outputs": [],
   "source": [
    "encode_list = []\n",
    "for index, row in train_df.iterrows():\n",
    "    encode = np.zeros(len(ps_list)+1)\n",
    "    try:\n",
    "        idx = ps_list.index(row['sequence_id'])\n",
    "        encode[idx] = 1\n",
    "    except ValueError:\n",
    "        encode[len(ps_list)] = 1\n",
    "\n",
    "    encode_list.append(encode)\n",
    "encode_array = np.stack(encode_list, axis=0)"
   ]
  },
  {
   "cell_type": "code",
   "execution_count": 43,
   "metadata": {
    "collapsed": false
   },
   "outputs": [
    {
     "data": {
      "text/plain": [
       "(390470, 1033)"
      ]
     },
     "execution_count": 43,
     "metadata": {},
     "output_type": "execute_result"
    }
   ],
   "source": [
    "encode_array.shape"
   ]
  },
  {
   "cell_type": "code",
   "execution_count": 44,
   "metadata": {
    "collapsed": false
   },
   "outputs": [],
   "source": [
    "final_df = pd.DataFrame(encode_array, columns=ps_list+['-'])"
   ]
  },
  {
   "cell_type": "code",
   "execution_count": 48,
   "metadata": {
    "collapsed": false
   },
   "outputs": [
    {
     "data": {
      "text/html": [
       "<div>\n",
       "<table border=\"1\" class=\"dataframe\">\n",
       "  <thead>\n",
       "    <tr style=\"text-align: right;\">\n",
       "      <th></th>\n",
       "      <th>2246</th>\n",
       "      <th>2285</th>\n",
       "      <th>2427</th>\n",
       "      <th>2646</th>\n",
       "      <th>2650</th>\n",
       "      <th>5110</th>\n",
       "      <th>5331</th>\n",
       "      <th>5339</th>\n",
       "      <th>5355</th>\n",
       "      <th>5582</th>\n",
       "      <th>...</th>\n",
       "      <th>694614</th>\n",
       "      <th>694733</th>\n",
       "      <th>-</th>\n",
       "      <th>correct</th>\n",
       "      <th>bottom_hint</th>\n",
       "      <th>hint_count</th>\n",
       "      <th>attempt_count</th>\n",
       "      <th>NofFRT</th>\n",
       "      <th>user_id</th>\n",
       "      <th>id</th>\n",
       "    </tr>\n",
       "  </thead>\n",
       "  <tbody>\n",
       "    <tr>\n",
       "      <th>390465</th>\n",
       "      <td>0.0</td>\n",
       "      <td>0.0</td>\n",
       "      <td>0.0</td>\n",
       "      <td>0.0</td>\n",
       "      <td>0.0</td>\n",
       "      <td>0.0</td>\n",
       "      <td>0.0</td>\n",
       "      <td>0.0</td>\n",
       "      <td>0.0</td>\n",
       "      <td>0.0</td>\n",
       "      <td>...</td>\n",
       "      <td>0.0</td>\n",
       "      <td>0.0</td>\n",
       "      <td>1.0</td>\n",
       "      <td>1.000000</td>\n",
       "      <td>0.0</td>\n",
       "      <td>0.0</td>\n",
       "      <td>1</td>\n",
       "      <td>0.000117</td>\n",
       "      <td>346048</td>\n",
       "      <td>182210277</td>\n",
       "    </tr>\n",
       "    <tr>\n",
       "      <th>390466</th>\n",
       "      <td>0.0</td>\n",
       "      <td>0.0</td>\n",
       "      <td>0.0</td>\n",
       "      <td>0.0</td>\n",
       "      <td>0.0</td>\n",
       "      <td>0.0</td>\n",
       "      <td>0.0</td>\n",
       "      <td>0.0</td>\n",
       "      <td>0.0</td>\n",
       "      <td>0.0</td>\n",
       "      <td>...</td>\n",
       "      <td>0.0</td>\n",
       "      <td>0.0</td>\n",
       "      <td>1.0</td>\n",
       "      <td>1.000000</td>\n",
       "      <td>0.0</td>\n",
       "      <td>0.0</td>\n",
       "      <td>1</td>\n",
       "      <td>0.000188</td>\n",
       "      <td>346048</td>\n",
       "      <td>182210286</td>\n",
       "    </tr>\n",
       "    <tr>\n",
       "      <th>390467</th>\n",
       "      <td>0.0</td>\n",
       "      <td>0.0</td>\n",
       "      <td>0.0</td>\n",
       "      <td>0.0</td>\n",
       "      <td>0.0</td>\n",
       "      <td>0.0</td>\n",
       "      <td>0.0</td>\n",
       "      <td>0.0</td>\n",
       "      <td>0.0</td>\n",
       "      <td>0.0</td>\n",
       "      <td>...</td>\n",
       "      <td>0.0</td>\n",
       "      <td>0.0</td>\n",
       "      <td>1.0</td>\n",
       "      <td>0.333333</td>\n",
       "      <td>0.0</td>\n",
       "      <td>0.0</td>\n",
       "      <td>3</td>\n",
       "      <td>0.000084</td>\n",
       "      <td>346048</td>\n",
       "      <td>182210291</td>\n",
       "    </tr>\n",
       "    <tr>\n",
       "      <th>390468</th>\n",
       "      <td>0.0</td>\n",
       "      <td>0.0</td>\n",
       "      <td>0.0</td>\n",
       "      <td>0.0</td>\n",
       "      <td>0.0</td>\n",
       "      <td>0.0</td>\n",
       "      <td>0.0</td>\n",
       "      <td>0.0</td>\n",
       "      <td>0.0</td>\n",
       "      <td>0.0</td>\n",
       "      <td>...</td>\n",
       "      <td>0.0</td>\n",
       "      <td>0.0</td>\n",
       "      <td>1.0</td>\n",
       "      <td>1.000000</td>\n",
       "      <td>0.0</td>\n",
       "      <td>0.0</td>\n",
       "      <td>1</td>\n",
       "      <td>0.000142</td>\n",
       "      <td>346048</td>\n",
       "      <td>182210328</td>\n",
       "    </tr>\n",
       "    <tr>\n",
       "      <th>390469</th>\n",
       "      <td>0.0</td>\n",
       "      <td>0.0</td>\n",
       "      <td>0.0</td>\n",
       "      <td>0.0</td>\n",
       "      <td>0.0</td>\n",
       "      <td>0.0</td>\n",
       "      <td>0.0</td>\n",
       "      <td>0.0</td>\n",
       "      <td>0.0</td>\n",
       "      <td>0.0</td>\n",
       "      <td>...</td>\n",
       "      <td>0.0</td>\n",
       "      <td>0.0</td>\n",
       "      <td>1.0</td>\n",
       "      <td>1.000000</td>\n",
       "      <td>0.0</td>\n",
       "      <td>0.0</td>\n",
       "      <td>1</td>\n",
       "      <td>0.000024</td>\n",
       "      <td>346048</td>\n",
       "      <td>182210338</td>\n",
       "    </tr>\n",
       "  </tbody>\n",
       "</table>\n",
       "<p>5 rows × 1040 columns</p>\n",
       "</div>"
      ],
      "text/plain": [
       "        2246  2285  2427  2646  2650  5110  5331  5339  5355  5582    ...      \\\n",
       "390465   0.0   0.0   0.0   0.0   0.0   0.0   0.0   0.0   0.0   0.0    ...       \n",
       "390466   0.0   0.0   0.0   0.0   0.0   0.0   0.0   0.0   0.0   0.0    ...       \n",
       "390467   0.0   0.0   0.0   0.0   0.0   0.0   0.0   0.0   0.0   0.0    ...       \n",
       "390468   0.0   0.0   0.0   0.0   0.0   0.0   0.0   0.0   0.0   0.0    ...       \n",
       "390469   0.0   0.0   0.0   0.0   0.0   0.0   0.0   0.0   0.0   0.0    ...       \n",
       "\n",
       "        694614  694733    -   correct  bottom_hint  hint_count  attempt_count  \\\n",
       "390465     0.0     0.0  1.0  1.000000          0.0         0.0              1   \n",
       "390466     0.0     0.0  1.0  1.000000          0.0         0.0              1   \n",
       "390467     0.0     0.0  1.0  0.333333          0.0         0.0              3   \n",
       "390468     0.0     0.0  1.0  1.000000          0.0         0.0              1   \n",
       "390469     0.0     0.0  1.0  1.000000          0.0         0.0              1   \n",
       "\n",
       "          NofFRT  user_id         id  \n",
       "390465  0.000117   346048  182210277  \n",
       "390466  0.000188   346048  182210286  \n",
       "390467  0.000084   346048  182210291  \n",
       "390468  0.000142   346048  182210328  \n",
       "390469  0.000024   346048  182210338  \n",
       "\n",
       "[5 rows x 1040 columns]"
      ]
     },
     "execution_count": 48,
     "metadata": {},
     "output_type": "execute_result"
    }
   ],
   "source": [
    "final_df.tail()"
   ]
  },
  {
   "cell_type": "code",
   "execution_count": 47,
   "metadata": {
    "collapsed": true
   },
   "outputs": [],
   "source": [
    "# u'correct , u'bottom_hint, u'hint_count, u'attempt_count, u'first_response_time\n",
    "final_df['correct'] = train_df['correct']\n",
    "final_df['bottom_hint'] = train_df['bottom_hint']\n",
    "final_df['hint_count'] = train_df['hint_count']\n",
    "final_df['attempt_count'] = train_df['attempt_count']\n",
    "final_df['first_response_time'] = train_df['first_response_time']\n",
    "\n",
    "norm = lambda x: (x - x.min()) / (x.max() - x.min())\n",
    "final_df.insert(len(final_df.columns), 'NofFRT', train_df.groupby('sequence_id')['first_response_time'].transform(norm))\n",
    "del final_df['first_response_time']\n",
    "\n",
    "final_df['user_id'] = train_df['user_id']\n",
    "final_df['id'] = train_df['id']"
   ]
  },
  {
   "cell_type": "code",
   "execution_count": 56,
   "metadata": {
    "collapsed": false
   },
   "outputs": [
    {
     "data": {
      "text/plain": [
       "False"
      ]
     },
     "execution_count": 56,
     "metadata": {},
     "output_type": "execute_result"
    }
   ],
   "source": [
    "final_df['correct'].fillna(0, inplace=True)\n",
    "final_df['NofFRT'].fillna(0.5, inplace=True)\n",
    "final_df['hint_count'].fillna(1, inplace=True)\n",
    "final_df['bottom_hint'].fillna(0, inplace=True)\n",
    "final_df.isnull().values.any()"
   ]
  },
  {
   "cell_type": "code",
   "execution_count": 57,
   "metadata": {
    "collapsed": true
   },
   "outputs": [],
   "source": [
    "final_df.to_csv('22_train_data.csv', index=False)"
   ]
  }
 ],
 "metadata": {
  "kernelspec": {
   "display_name": "Python 2",
   "language": "python",
   "name": "python2"
  },
  "language_info": {
   "codemirror_mode": {
    "name": "ipython",
    "version": 2
   },
   "file_extension": ".py",
   "mimetype": "text/x-python",
   "name": "python",
   "nbconvert_exporter": "python",
   "pygments_lexer": "ipython2",
   "version": "2.7.12"
  }
 },
 "nbformat": 4,
 "nbformat_minor": 2
}
